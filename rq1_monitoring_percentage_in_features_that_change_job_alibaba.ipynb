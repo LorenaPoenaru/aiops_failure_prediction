{
 "cells": [
  {
   "cell_type": "code",
   "execution_count": 7,
   "id": "d7740061",
   "metadata": {},
   "outputs": [],
   "source": [
    "import pandas as pd\n",
    "from sklearn import metrics, preprocessing\n",
    "import numpy as np\n",
    "from sklearn.preprocessing import StandardScaler\n",
    "from scipy import stats\n",
    "from tqdm import tqdm\n",
    "from utilities import obtain_period_data, obtain_metrics\n"
   ]
  },
  {
   "cell_type": "code",
   "execution_count": 8,
   "id": "280f7187",
   "metadata": {},
   "outputs": [],
   "source": [
    "def obtain_intervals(dataset):\n",
    "    '''\n",
    "    Generate interval terminals, so that samples in each interval have:\n",
    "        interval_i = (timestamp >= terminal_i) and (timestamp < terminal_{i+1})\n",
    "\n",
    "    Args:\n",
    "        dataset (chr): Assuming only Backblaze (b) and Google (g) datasets exists\n",
    "    '''\n",
    "    if dataset == 'g':\n",
    "        # time unit in Google: millisecond, tracing time: 29 days\n",
    "        start_time = 604046279\n",
    "        unit_period = 24 * 60 * 60 * 1000 * 1000  # unit period: one day\n",
    "        end_time = start_time + 28*unit_period\n",
    "    elif dataset == 'b':\n",
    "        # time unit in Backblaze: month, tracing time: one year (12 months)\n",
    "        start_time = 1\n",
    "        unit_period = 1  # unit period: one month\n",
    "        end_time = start_time + 12*unit_period\n",
    "\n",
    "    # add one unit for the open-end of range function\n",
    "    terminals = [i for i in range(start_time, end_time+unit_period, unit_period)]\n",
    "\n",
    "    return terminals"
   ]
  },
  {
   "cell_type": "code",
   "execution_count": 9,
   "id": "585e19b3",
   "metadata": {},
   "outputs": [],
   "source": [
    "def obtain_natural_chunks(features, labels, terminals):\n",
    "    feature_list = []\n",
    "    label_list = []\n",
    "    for i in range(len(terminals) - 1):\n",
    "        idx = np.logical_and(features[:, 0] >= terminals[i], features[:, 0] < terminals[i + 1])\n",
    "        feature_list.append(features[idx][:, 1:])\n",
    "        label_list.append(labels[idx])\n",
    "    return feature_list, label_list\n"
   ]
  },
  {
   "cell_type": "code",
   "execution_count": 10,
   "id": "4ff69510",
   "metadata": {},
   "outputs": [],
   "source": [
    "DATASET_PATH = '../../../Documents/phd_related/data_sets_concept_drift/AIOps_failure_prediction/alibaba_job_data.csv'\n",
    "interval = 'd'"
   ]
  },
  {
   "cell_type": "code",
   "execution_count": 11,
   "id": "38129cfc",
   "metadata": {},
   "outputs": [
    {
     "data": {
      "text/html": [
       "<div>\n",
       "<style scoped>\n",
       "    .dataframe tbody tr th:only-of-type {\n",
       "        vertical-align: middle;\n",
       "    }\n",
       "\n",
       "    .dataframe tbody tr th {\n",
       "        vertical-align: top;\n",
       "    }\n",
       "\n",
       "    .dataframe thead th {\n",
       "        text-align: right;\n",
       "    }\n",
       "</style>\n",
       "<table border=\"1\" class=\"dataframe\">\n",
       "  <thead>\n",
       "    <tr style=\"text-align: right;\">\n",
       "      <th></th>\n",
       "      <th>job_name</th>\n",
       "      <th>start_time</th>\n",
       "      <th>end_time</th>\n",
       "      <th>status</th>\n",
       "      <th>user</th>\n",
       "      <th>task_name</th>\n",
       "      <th>inst_num</th>\n",
       "      <th>plan_cpu</th>\n",
       "      <th>plan_mem</th>\n",
       "      <th>plan_gpu</th>\n",
       "      <th>cpu_usage</th>\n",
       "      <th>gpu_wrk_util</th>\n",
       "      <th>avg_mem</th>\n",
       "      <th>max_mem</th>\n",
       "      <th>avg_gpu_wrk_mem</th>\n",
       "      <th>max_gpu_wrk_mem</th>\n",
       "    </tr>\n",
       "  </thead>\n",
       "  <tbody>\n",
       "    <tr>\n",
       "      <th>0</th>\n",
       "      <td>31fe7a4e1565891f332f2b33</td>\n",
       "      <td>494319.0</td>\n",
       "      <td>NaN</td>\n",
       "      <td>Failed</td>\n",
       "      <td>74238accb90b</td>\n",
       "      <td>1</td>\n",
       "      <td>1.0</td>\n",
       "      <td>600.0</td>\n",
       "      <td>29.296875</td>\n",
       "      <td>25.0</td>\n",
       "      <td>0.000000</td>\n",
       "      <td>0.000000</td>\n",
       "      <td>0.000000</td>\n",
       "      <td>0.000000</td>\n",
       "      <td>0.000000</td>\n",
       "      <td>0.000000</td>\n",
       "    </tr>\n",
       "    <tr>\n",
       "      <th>1</th>\n",
       "      <td>6be512ebc1890951ef8fe9a3</td>\n",
       "      <td>494326.0</td>\n",
       "      <td>NaN</td>\n",
       "      <td>Failed</td>\n",
       "      <td>74238accb90b</td>\n",
       "      <td>1</td>\n",
       "      <td>1.0</td>\n",
       "      <td>600.0</td>\n",
       "      <td>29.296875</td>\n",
       "      <td>25.0</td>\n",
       "      <td>0.000000</td>\n",
       "      <td>0.000000</td>\n",
       "      <td>0.000000</td>\n",
       "      <td>0.000000</td>\n",
       "      <td>0.000000</td>\n",
       "      <td>0.000000</td>\n",
       "    </tr>\n",
       "    <tr>\n",
       "      <th>2</th>\n",
       "      <td>418cf3def0eaa3389c8c743f</td>\n",
       "      <td>516002.0</td>\n",
       "      <td>NaN</td>\n",
       "      <td>Failed</td>\n",
       "      <td>74238accb90b</td>\n",
       "      <td>1</td>\n",
       "      <td>1.0</td>\n",
       "      <td>600.0</td>\n",
       "      <td>29.296875</td>\n",
       "      <td>25.0</td>\n",
       "      <td>0.000000</td>\n",
       "      <td>0.000000</td>\n",
       "      <td>0.000000</td>\n",
       "      <td>0.000000</td>\n",
       "      <td>0.000000</td>\n",
       "      <td>0.000000</td>\n",
       "    </tr>\n",
       "    <tr>\n",
       "      <th>3</th>\n",
       "      <td>6ad04e6d3dd2c35e3a0c3e5f</td>\n",
       "      <td>516023.0</td>\n",
       "      <td>NaN</td>\n",
       "      <td>Failed</td>\n",
       "      <td>74238accb90b</td>\n",
       "      <td>1</td>\n",
       "      <td>1.0</td>\n",
       "      <td>600.0</td>\n",
       "      <td>29.296875</td>\n",
       "      <td>25.0</td>\n",
       "      <td>0.000000</td>\n",
       "      <td>0.000000</td>\n",
       "      <td>0.000000</td>\n",
       "      <td>0.000000</td>\n",
       "      <td>0.000000</td>\n",
       "      <td>0.000000</td>\n",
       "    </tr>\n",
       "    <tr>\n",
       "      <th>4</th>\n",
       "      <td>193e6fdd5cb271f54d85f739</td>\n",
       "      <td>531744.0</td>\n",
       "      <td>1136554.0</td>\n",
       "      <td>Failed</td>\n",
       "      <td>74238accb90b</td>\n",
       "      <td>2</td>\n",
       "      <td>2.0</td>\n",
       "      <td>1200.0</td>\n",
       "      <td>58.593750</td>\n",
       "      <td>5.0</td>\n",
       "      <td>0.000000</td>\n",
       "      <td>0.000000</td>\n",
       "      <td>0.000000</td>\n",
       "      <td>0.000000</td>\n",
       "      <td>0.000000</td>\n",
       "      <td>0.000000</td>\n",
       "    </tr>\n",
       "    <tr>\n",
       "      <th>...</th>\n",
       "      <td>...</td>\n",
       "      <td>...</td>\n",
       "      <td>...</td>\n",
       "      <td>...</td>\n",
       "      <td>...</td>\n",
       "      <td>...</td>\n",
       "      <td>...</td>\n",
       "      <td>...</td>\n",
       "      <td>...</td>\n",
       "      <td>...</td>\n",
       "      <td>...</td>\n",
       "      <td>...</td>\n",
       "      <td>...</td>\n",
       "      <td>...</td>\n",
       "      <td>...</td>\n",
       "      <td>...</td>\n",
       "    </tr>\n",
       "    <tr>\n",
       "      <th>701367</th>\n",
       "      <td>ee183237255c4377b9637594</td>\n",
       "      <td>6450685.0</td>\n",
       "      <td>NaN</td>\n",
       "      <td>Failed</td>\n",
       "      <td>d4d51aca8806</td>\n",
       "      <td>1</td>\n",
       "      <td>10.0</td>\n",
       "      <td>50.0</td>\n",
       "      <td>29.296875</td>\n",
       "      <td>100.0</td>\n",
       "      <td>19.241379</td>\n",
       "      <td>5.166667</td>\n",
       "      <td>0.553563</td>\n",
       "      <td>1.958984</td>\n",
       "      <td>0.232641</td>\n",
       "      <td>0.768555</td>\n",
       "    </tr>\n",
       "    <tr>\n",
       "      <th>701368</th>\n",
       "      <td>1df4ef827ff8fb19211ad760</td>\n",
       "      <td>6450729.0</td>\n",
       "      <td>6451098.0</td>\n",
       "      <td>Terminated</td>\n",
       "      <td>c4cbaac9966d</td>\n",
       "      <td>1</td>\n",
       "      <td>1.0</td>\n",
       "      <td>1000.0</td>\n",
       "      <td>19.550781</td>\n",
       "      <td>50.0</td>\n",
       "      <td>0.000000</td>\n",
       "      <td>0.000000</td>\n",
       "      <td>0.000000</td>\n",
       "      <td>0.000000</td>\n",
       "      <td>0.000000</td>\n",
       "      <td>0.000000</td>\n",
       "    </tr>\n",
       "    <tr>\n",
       "      <th>701369</th>\n",
       "      <td>4113ec499c025e364a97b440</td>\n",
       "      <td>6450736.0</td>\n",
       "      <td>NaN</td>\n",
       "      <td>Failed</td>\n",
       "      <td>d4d51aca8806</td>\n",
       "      <td>1</td>\n",
       "      <td>10.0</td>\n",
       "      <td>50.0</td>\n",
       "      <td>29.296875</td>\n",
       "      <td>100.0</td>\n",
       "      <td>18.534050</td>\n",
       "      <td>3.215488</td>\n",
       "      <td>0.597005</td>\n",
       "      <td>2.086914</td>\n",
       "      <td>0.304398</td>\n",
       "      <td>1.254883</td>\n",
       "    </tr>\n",
       "    <tr>\n",
       "      <th>701370</th>\n",
       "      <td>c1577ac376105aabc2390246</td>\n",
       "      <td>6450758.0</td>\n",
       "      <td>NaN</td>\n",
       "      <td>Failed</td>\n",
       "      <td>d4d51aca8806</td>\n",
       "      <td>1</td>\n",
       "      <td>10.0</td>\n",
       "      <td>50.0</td>\n",
       "      <td>29.296875</td>\n",
       "      <td>100.0</td>\n",
       "      <td>0.000000</td>\n",
       "      <td>0.000000</td>\n",
       "      <td>0.000000</td>\n",
       "      <td>0.000000</td>\n",
       "      <td>0.000000</td>\n",
       "      <td>0.000000</td>\n",
       "    </tr>\n",
       "    <tr>\n",
       "      <th>701371</th>\n",
       "      <td>4f5f75a5431def4520a0110c</td>\n",
       "      <td>6450789.0</td>\n",
       "      <td>NaN</td>\n",
       "      <td>Failed</td>\n",
       "      <td>d4d51aca8806</td>\n",
       "      <td>1</td>\n",
       "      <td>10.0</td>\n",
       "      <td>50.0</td>\n",
       "      <td>29.296875</td>\n",
       "      <td>100.0</td>\n",
       "      <td>21.029234</td>\n",
       "      <td>5.423822</td>\n",
       "      <td>0.626482</td>\n",
       "      <td>2.058594</td>\n",
       "      <td>0.266893</td>\n",
       "      <td>1.252930</td>\n",
       "    </tr>\n",
       "  </tbody>\n",
       "</table>\n",
       "<p>701372 rows × 16 columns</p>\n",
       "</div>"
      ],
      "text/plain": [
       "                        job_name  start_time   end_time      status  \\\n",
       "0       31fe7a4e1565891f332f2b33    494319.0        NaN      Failed   \n",
       "1       6be512ebc1890951ef8fe9a3    494326.0        NaN      Failed   \n",
       "2       418cf3def0eaa3389c8c743f    516002.0        NaN      Failed   \n",
       "3       6ad04e6d3dd2c35e3a0c3e5f    516023.0        NaN      Failed   \n",
       "4       193e6fdd5cb271f54d85f739    531744.0  1136554.0      Failed   \n",
       "...                          ...         ...        ...         ...   \n",
       "701367  ee183237255c4377b9637594   6450685.0        NaN      Failed   \n",
       "701368  1df4ef827ff8fb19211ad760   6450729.0  6451098.0  Terminated   \n",
       "701369  4113ec499c025e364a97b440   6450736.0        NaN      Failed   \n",
       "701370  c1577ac376105aabc2390246   6450758.0        NaN      Failed   \n",
       "701371  4f5f75a5431def4520a0110c   6450789.0        NaN      Failed   \n",
       "\n",
       "                user  task_name  inst_num  plan_cpu   plan_mem  plan_gpu  \\\n",
       "0       74238accb90b          1       1.0     600.0  29.296875      25.0   \n",
       "1       74238accb90b          1       1.0     600.0  29.296875      25.0   \n",
       "2       74238accb90b          1       1.0     600.0  29.296875      25.0   \n",
       "3       74238accb90b          1       1.0     600.0  29.296875      25.0   \n",
       "4       74238accb90b          2       2.0    1200.0  58.593750       5.0   \n",
       "...              ...        ...       ...       ...        ...       ...   \n",
       "701367  d4d51aca8806          1      10.0      50.0  29.296875     100.0   \n",
       "701368  c4cbaac9966d          1       1.0    1000.0  19.550781      50.0   \n",
       "701369  d4d51aca8806          1      10.0      50.0  29.296875     100.0   \n",
       "701370  d4d51aca8806          1      10.0      50.0  29.296875     100.0   \n",
       "701371  d4d51aca8806          1      10.0      50.0  29.296875     100.0   \n",
       "\n",
       "        cpu_usage  gpu_wrk_util   avg_mem   max_mem  avg_gpu_wrk_mem  \\\n",
       "0        0.000000      0.000000  0.000000  0.000000         0.000000   \n",
       "1        0.000000      0.000000  0.000000  0.000000         0.000000   \n",
       "2        0.000000      0.000000  0.000000  0.000000         0.000000   \n",
       "3        0.000000      0.000000  0.000000  0.000000         0.000000   \n",
       "4        0.000000      0.000000  0.000000  0.000000         0.000000   \n",
       "...           ...           ...       ...       ...              ...   \n",
       "701367  19.241379      5.166667  0.553563  1.958984         0.232641   \n",
       "701368   0.000000      0.000000  0.000000  0.000000         0.000000   \n",
       "701369  18.534050      3.215488  0.597005  2.086914         0.304398   \n",
       "701370   0.000000      0.000000  0.000000  0.000000         0.000000   \n",
       "701371  21.029234      5.423822  0.626482  2.058594         0.266893   \n",
       "\n",
       "        max_gpu_wrk_mem  \n",
       "0              0.000000  \n",
       "1              0.000000  \n",
       "2              0.000000  \n",
       "3              0.000000  \n",
       "4              0.000000  \n",
       "...                 ...  \n",
       "701367         0.768555  \n",
       "701368         0.000000  \n",
       "701369         1.254883  \n",
       "701370         0.000000  \n",
       "701371         1.252930  \n",
       "\n",
       "[701372 rows x 16 columns]"
      ]
     },
     "execution_count": 11,
     "metadata": {},
     "output_type": "execute_result"
    }
   ],
   "source": [
    "alibaba_data = pd.read_csv(DATASET_PATH)\n",
    "alibaba_data = alibaba_data.loc[:, ~alibaba_data.columns.str.contains('^Unnamed')]\n",
    "alibaba_data"
   ]
  },
  {
   "cell_type": "code",
   "execution_count": 12,
   "id": "1a24032c",
   "metadata": {},
   "outputs": [
    {
     "name": "stdout",
     "output_type": "stream",
     "text": [
      "Loading data from ./../../../Documents/phd_related/data_sets_concept_drift/AIOps_failure_prediction/alibaba_job_data.csv\n",
      "Load complete\n",
      "Preprocessing features\n",
      "Preprocessing complete\n",
      "\n"
     ]
    }
   ],
   "source": [
    "feature_list, label_list = obtain_period_data('a')"
   ]
  },
  {
   "cell_type": "code",
   "execution_count": 13,
   "id": "9a2c98b0",
   "metadata": {},
   "outputs": [
    {
     "data": {
      "text/plain": [
       "12"
      ]
     },
     "execution_count": 13,
     "metadata": {},
     "output_type": "execute_result"
    }
   ],
   "source": [
    "len(feature_list[0][0])"
   ]
  },
  {
   "cell_type": "markdown",
   "id": "70ca33f6",
   "metadata": {},
   "source": [
    "# Data Preprocessing"
   ]
  },
  {
   "cell_type": "code",
   "execution_count": 14,
   "id": "1d12e59b",
   "metadata": {},
   "outputs": [
    {
     "data": {
      "text/html": [
       "<div>\n",
       "<style scoped>\n",
       "    .dataframe tbody tr th:only-of-type {\n",
       "        vertical-align: middle;\n",
       "    }\n",
       "\n",
       "    .dataframe tbody tr th {\n",
       "        vertical-align: top;\n",
       "    }\n",
       "\n",
       "    .dataframe thead th {\n",
       "        text-align: right;\n",
       "    }\n",
       "</style>\n",
       "<table border=\"1\" class=\"dataframe\">\n",
       "  <thead>\n",
       "    <tr style=\"text-align: right;\">\n",
       "      <th></th>\n",
       "      <th>X</th>\n",
       "      <th>Sig</th>\n",
       "      <th>Y</th>\n",
       "      <th>W</th>\n",
       "      <th>Dataset</th>\n",
       "      <th>Model</th>\n",
       "    </tr>\n",
       "  </thead>\n",
       "  <tbody>\n",
       "    <tr>\n",
       "      <th>0</th>\n",
       "      <td>2</td>\n",
       "      <td>Non-Drift</td>\n",
       "      <td>0.016279</td>\n",
       "      <td>W1_2</td>\n",
       "      <td>Alibaba</td>\n",
       "      <td>Random Forests Alibaba Job Data</td>\n",
       "    </tr>\n",
       "    <tr>\n",
       "      <th>1</th>\n",
       "      <td>3</td>\n",
       "      <td>Drift</td>\n",
       "      <td>0.177957</td>\n",
       "      <td>W2_3</td>\n",
       "      <td>Alibaba</td>\n",
       "      <td>Random Forests Alibaba Job Data</td>\n",
       "    </tr>\n",
       "    <tr>\n",
       "      <th>2</th>\n",
       "      <td>4</td>\n",
       "      <td>Drift</td>\n",
       "      <td>0.152879</td>\n",
       "      <td>W3_4</td>\n",
       "      <td>Alibaba</td>\n",
       "      <td>Random Forests Alibaba Job Data</td>\n",
       "    </tr>\n",
       "    <tr>\n",
       "      <th>3</th>\n",
       "      <td>5</td>\n",
       "      <td>Drift</td>\n",
       "      <td>1.584986</td>\n",
       "      <td>W4_5</td>\n",
       "      <td>Alibaba</td>\n",
       "      <td>Random Forests Alibaba Job Data</td>\n",
       "    </tr>\n",
       "    <tr>\n",
       "      <th>4</th>\n",
       "      <td>6</td>\n",
       "      <td>Drift</td>\n",
       "      <td>0.054189</td>\n",
       "      <td>W5_6</td>\n",
       "      <td>Alibaba</td>\n",
       "      <td>Random Forests Alibaba Job Data</td>\n",
       "    </tr>\n",
       "    <tr>\n",
       "      <th>5</th>\n",
       "      <td>7</td>\n",
       "      <td>Drift</td>\n",
       "      <td>0.491319</td>\n",
       "      <td>W6_7</td>\n",
       "      <td>Alibaba</td>\n",
       "      <td>Random Forests Alibaba Job Data</td>\n",
       "    </tr>\n",
       "    <tr>\n",
       "      <th>6</th>\n",
       "      <td>8</td>\n",
       "      <td>Drift</td>\n",
       "      <td>0.160296</td>\n",
       "      <td>W7_8</td>\n",
       "      <td>Alibaba</td>\n",
       "      <td>Random Forests Alibaba Job Data</td>\n",
       "    </tr>\n",
       "  </tbody>\n",
       "</table>\n",
       "</div>"
      ],
      "text/plain": [
       "   X        Sig         Y     W  Dataset                            Model\n",
       "0  2  Non-Drift  0.016279  W1_2  Alibaba  Random Forests Alibaba Job Data\n",
       "1  3      Drift  0.177957  W2_3  Alibaba  Random Forests Alibaba Job Data\n",
       "2  4      Drift  0.152879  W3_4  Alibaba  Random Forests Alibaba Job Data\n",
       "3  5      Drift  1.584986  W4_5  Alibaba  Random Forests Alibaba Job Data\n",
       "4  6      Drift  0.054189  W5_6  Alibaba  Random Forests Alibaba Job Data\n",
       "5  7      Drift  0.491319  W6_7  Alibaba  Random Forests Alibaba Job Data\n",
       "6  8      Drift  0.160296  W7_8  Alibaba  Random Forests Alibaba Job Data"
      ]
     },
     "execution_count": 14,
     "metadata": {},
     "output_type": "execute_result"
    }
   ],
   "source": [
    "df_concept_drift = pd.read_csv('../../../Documents/phd_related/alibaba/results/results_r/rf_concept_drift_localization_job_alibaba_r_avg_plot.csv')\n",
    "df_concept_drift = df_concept_drift.loc[:, ~df_concept_drift.columns.str.contains('^Unnamed')]\n",
    "df_concept_drift"
   ]
  },
  {
   "cell_type": "code",
   "execution_count": null,
   "id": "f8cc85fe",
   "metadata": {},
   "outputs": [],
   "source": []
  },
  {
   "cell_type": "code",
   "execution_count": 15,
   "id": "ef3bc9ab",
   "metadata": {},
   "outputs": [],
   "source": [
    "features_job_failure = ['user', 'task_name', 'inst_num', 'plan_cpu', 'plan_mem', 'plan_gpu', \n",
    "        'cpu_usage', 'gpu_wrk_util', 'avg_mem', 'max_mem', 'avg_gpu_wrk_mem', 'max_gpu_wrk_mem']"
   ]
  },
  {
   "cell_type": "code",
   "execution_count": 16,
   "id": "43404459",
   "metadata": {},
   "outputs": [
    {
     "data": {
      "text/plain": [
       "12"
      ]
     },
     "execution_count": 16,
     "metadata": {},
     "output_type": "execute_result"
    }
   ],
   "source": [
    "len(features_job_failure)"
   ]
  },
  {
   "cell_type": "code",
   "execution_count": 17,
   "id": "c08c7694",
   "metadata": {},
   "outputs": [],
   "source": [
    "scaler = StandardScaler()\n",
    "stat_test = stats.kstest"
   ]
  },
  {
   "cell_type": "markdown",
   "id": "29ad33ca",
   "metadata": {},
   "source": [
    "# Monitoring the No of Features that Change in Each Period"
   ]
  },
  {
   "cell_type": "code",
   "execution_count": 18,
   "id": "74e1c622",
   "metadata": {
    "scrolled": true
   },
   "outputs": [
    {
     "name": "stderr",
     "output_type": "stream",
     "text": [
      "  0%|          | 0/12 [00:00<?, ?it/s]\n",
      "  0%|          | 0/7 [00:00<?, ?it/s]\u001b[A\n",
      " 14%|█▍        | 1/7 [00:00<00:00,  8.01it/s]\u001b[A\n",
      " 29%|██▊       | 2/7 [00:00<00:00,  7.00it/s]\u001b[A\n",
      " 43%|████▎     | 3/7 [00:00<00:00,  6.98it/s]\u001b[A\n",
      " 57%|█████▋    | 4/7 [00:00<00:00,  6.55it/s]\u001b[A\n",
      " 71%|███████▏  | 5/7 [00:00<00:00,  6.46it/s]\u001b[A\n",
      " 86%|████████▌ | 6/7 [00:00<00:00,  6.54it/s]\u001b[A\n",
      "100%|██████████| 7/7 [00:01<00:00,  6.26it/s]\u001b[A\n",
      "  8%|▊         | 1/12 [00:01<00:12,  1.12s/it]\n",
      "  0%|          | 0/7 [00:00<?, ?it/s]\u001b[A\n",
      " 14%|█▍        | 1/7 [00:00<00:00,  9.69it/s]\u001b[A\n",
      " 29%|██▊       | 2/7 [00:00<00:00,  7.54it/s]\u001b[A\n",
      " 43%|████▎     | 3/7 [00:00<00:00,  8.44it/s]\u001b[A\n",
      " 57%|█████▋    | 4/7 [00:00<00:00,  7.70it/s]\u001b[A\n",
      " 71%|███████▏  | 5/7 [00:00<00:00,  6.89it/s]\u001b[A\n",
      " 86%|████████▌ | 6/7 [00:00<00:00,  6.74it/s]\u001b[A\n",
      "100%|██████████| 7/7 [00:01<00:00,  6.79it/s]\u001b[A\n",
      " 17%|█▋        | 2/12 [00:02<00:10,  1.07s/it]\n",
      "  0%|          | 0/7 [00:00<?, ?it/s]\u001b[A\n",
      " 29%|██▊       | 2/7 [00:00<00:00,  8.87it/s]\u001b[A\n",
      " 43%|████▎     | 3/7 [00:00<00:00,  8.28it/s]\u001b[A\n",
      " 57%|█████▋    | 4/7 [00:00<00:00,  7.74it/s]\u001b[A\n",
      " 71%|███████▏  | 5/7 [00:00<00:00,  7.25it/s]\u001b[A\n",
      " 86%|████████▌ | 6/7 [00:00<00:00,  7.13it/s]\u001b[A\n",
      "100%|██████████| 7/7 [00:00<00:00,  7.06it/s]\u001b[A\n",
      " 25%|██▌       | 3/12 [00:03<00:09,  1.04s/it]\n",
      "  0%|          | 0/7 [00:00<?, ?it/s]\u001b[A\n",
      " 29%|██▊       | 2/7 [00:00<00:00,  8.72it/s]\u001b[A\n",
      " 43%|████▎     | 3/7 [00:00<00:00,  7.86it/s]\u001b[A\n",
      " 57%|█████▋    | 4/7 [00:00<00:00,  8.02it/s]\u001b[A\n",
      " 71%|███████▏  | 5/7 [00:00<00:00,  7.82it/s]\u001b[A\n",
      " 86%|████████▌ | 6/7 [00:00<00:00,  7.36it/s]\u001b[A\n",
      "100%|██████████| 7/7 [00:00<00:00,  7.52it/s]\u001b[A\n",
      " 33%|███▎      | 4/12 [00:04<00:07,  1.00it/s]\n",
      "  0%|          | 0/7 [00:00<?, ?it/s]\u001b[A\n",
      " 29%|██▊       | 2/7 [00:00<00:00,  9.33it/s]\u001b[A\n",
      " 43%|████▎     | 3/7 [00:00<00:00,  8.32it/s]\u001b[A\n",
      " 57%|█████▋    | 4/7 [00:00<00:00,  7.86it/s]\u001b[A\n",
      " 71%|███████▏  | 5/7 [00:00<00:00,  7.12it/s]\u001b[A\n",
      " 86%|████████▌ | 6/7 [00:00<00:00,  7.08it/s]\u001b[A\n",
      "100%|██████████| 7/7 [00:00<00:00,  7.06it/s]\u001b[A\n",
      " 42%|████▏     | 5/12 [00:05<00:06,  1.00it/s]\n",
      "  0%|          | 0/7 [00:00<?, ?it/s]\u001b[A\n",
      " 29%|██▊       | 2/7 [00:00<00:00,  9.20it/s]\u001b[A\n",
      " 57%|█████▋    | 4/7 [00:00<00:00,  9.88it/s]\u001b[A\n",
      " 71%|███████▏  | 5/7 [00:00<00:00,  9.26it/s]\u001b[A\n",
      " 86%|████████▌ | 6/7 [00:00<00:00,  8.54it/s]\u001b[A\n",
      "100%|██████████| 7/7 [00:00<00:00,  8.19it/s]\u001b[A\n",
      " 50%|█████     | 6/12 [00:05<00:05,  1.05it/s]\n",
      "  0%|          | 0/7 [00:00<?, ?it/s]\u001b[A\n",
      " 29%|██▊       | 2/7 [00:00<00:00, 10.82it/s]\u001b[A\n",
      " 57%|█████▋    | 4/7 [00:00<00:00, 10.62it/s]\u001b[A\n",
      " 86%|████████▌ | 6/7 [00:00<00:00,  9.02it/s]\u001b[A\n",
      "100%|██████████| 7/7 [00:00<00:00,  8.99it/s]\u001b[A\n",
      " 58%|█████▊    | 7/12 [00:06<00:04,  1.12it/s]\n",
      "  0%|          | 0/7 [00:00<?, ?it/s]\u001b[A\n",
      " 29%|██▊       | 2/7 [00:00<00:00, 10.76it/s]\u001b[A\n",
      " 57%|█████▋    | 4/7 [00:00<00:00, 10.61it/s]\u001b[A\n",
      " 86%|████████▌ | 6/7 [00:00<00:00,  9.84it/s]\u001b[A\n",
      "100%|██████████| 7/7 [00:00<00:00,  9.48it/s]\u001b[A\n",
      " 67%|██████▋   | 8/12 [00:07<00:03,  1.18it/s]\n",
      "  0%|          | 0/7 [00:00<?, ?it/s]\u001b[A\n",
      " 29%|██▊       | 2/7 [00:00<00:00, 11.05it/s]\u001b[A\n",
      " 57%|█████▋    | 4/7 [00:00<00:00, 10.60it/s]\u001b[A\n",
      " 86%|████████▌ | 6/7 [00:00<00:00,  8.96it/s]\u001b[A\n",
      "100%|██████████| 7/7 [00:00<00:00,  8.97it/s]\u001b[A\n",
      " 75%|███████▌  | 9/12 [00:08<00:02,  1.21it/s]\n",
      "  0%|          | 0/7 [00:00<?, ?it/s]\u001b[A\n",
      " 29%|██▊       | 2/7 [00:00<00:00, 10.85it/s]\u001b[A\n",
      " 57%|█████▋    | 4/7 [00:00<00:00, 10.57it/s]\u001b[A\n",
      " 86%|████████▌ | 6/7 [00:00<00:00,  9.08it/s]\u001b[A\n",
      "100%|██████████| 7/7 [00:00<00:00,  9.12it/s]\u001b[A\n",
      " 83%|████████▎ | 10/12 [00:09<00:01,  1.24it/s]\n",
      "  0%|          | 0/7 [00:00<?, ?it/s]\u001b[A\n",
      " 29%|██▊       | 2/7 [00:00<00:00, 12.69it/s]\u001b[A\n",
      " 57%|█████▋    | 4/7 [00:00<00:00, 12.53it/s]\u001b[A\n",
      "100%|██████████| 7/7 [00:00<00:00, 10.44it/s]\u001b[A\n",
      " 92%|█████████▏| 11/12 [00:09<00:00,  1.30it/s]\n",
      "  0%|          | 0/7 [00:00<?, ?it/s]\u001b[A\n",
      " 29%|██▊       | 2/7 [00:00<00:00, 10.76it/s]\u001b[A\n",
      " 57%|█████▋    | 4/7 [00:00<00:00, 10.75it/s]\u001b[A\n",
      " 86%|████████▌ | 6/7 [00:00<00:00,  9.80it/s]\u001b[A\n",
      "100%|██████████| 7/7 [00:00<00:00,  9.49it/s]\u001b[A\n",
      "100%|██████████| 12/12 [00:10<00:00,  1.15it/s]\n"
     ]
    }
   ],
   "source": [
    "no_times_changes_in_each_feature = []\n",
    "\n",
    "drift_times_changes_in_each_feature = []\n",
    "\n",
    "non_drift_times_changes_in_each_feature = []\n",
    "\n",
    "for feature in tqdm(features_job_failure):\n",
    "    \n",
    "    no_times_changes = 0\n",
    "    \n",
    "    no_times_drift_changes = 0\n",
    "    \n",
    "    no_times_non_drift_changes = 0\n",
    "    \n",
    "    for period in tqdm(range(0, len(feature_list)-1)):\n",
    "        \n",
    "        # extract features train and test\n",
    "        training_features = scaler.fit_transform(feature_list[period])\n",
    "        testing_features = scaler.transform(feature_list[period+1])\n",
    "        \n",
    "        # convert numpy array to Pandas Dataframe\n",
    "        df_train_features = pd.DataFrame(training_features, columns = features_job_failure)\n",
    "        df_test_features = pd.DataFrame(testing_features, columns = features_job_failure)\n",
    "        \n",
    "        v, p = stat_test(df_train_features[feature], df_test_features[feature])\n",
    "        if(p<0.05):\n",
    "            no_times_changes = no_times_changes + 1\n",
    "            \n",
    "            if(df_concept_drift['Sig'][period]=='Drift'):\n",
    "                no_times_drift_changes = no_times_drift_changes + 1\n",
    "            \n",
    "            if(df_concept_drift['Sig'][period]=='Non-Drift'):\n",
    "                no_times_non_drift_changes = no_times_non_drift_changes + 1\n",
    "            \n",
    "    no_times_changes_in_each_feature.append(no_times_changes)\n",
    "    \n",
    "    drift_times_changes_in_each_feature.append(no_times_drift_changes)\n",
    "    \n",
    "    non_drift_times_changes_in_each_feature.append(no_times_non_drift_changes)"
   ]
  },
  {
   "cell_type": "code",
   "execution_count": 19,
   "id": "b8d535cd",
   "metadata": {},
   "outputs": [
    {
     "data": {
      "text/plain": [
       "6"
      ]
     },
     "execution_count": 19,
     "metadata": {},
     "output_type": "execute_result"
    }
   ],
   "source": [
    "period"
   ]
  },
  {
   "cell_type": "code",
   "execution_count": 20,
   "id": "e88336f0",
   "metadata": {},
   "outputs": [],
   "source": [
    "weeks = ['W1_2', 'W2_3', 'W3_4', 'W4_5', 'W5_6', 'W6_7', 'W7_8']"
   ]
  },
  {
   "cell_type": "code",
   "execution_count": 21,
   "id": "dad1957b",
   "metadata": {},
   "outputs": [
    {
     "data": {
      "text/plain": [
       "12"
      ]
     },
     "execution_count": 21,
     "metadata": {},
     "output_type": "execute_result"
    }
   ],
   "source": [
    "len(no_times_changes_in_each_feature)"
   ]
  },
  {
   "cell_type": "code",
   "execution_count": 22,
   "id": "7dfdf190",
   "metadata": {},
   "outputs": [
    {
     "data": {
      "text/plain": [
       "[7, 6, 7, 7, 7, 6, 2, 1, 2, 2, 1, 1]"
      ]
     },
     "execution_count": 22,
     "metadata": {},
     "output_type": "execute_result"
    }
   ],
   "source": [
    "no_times_changes_in_each_feature"
   ]
  },
  {
   "cell_type": "code",
   "execution_count": 23,
   "id": "7439b122",
   "metadata": {},
   "outputs": [
    {
     "name": "stdout",
     "output_type": "stream",
     "text": [
      "[1.0, 0.8571428571428571, 1.0, 1.0, 1.0, 0.8571428571428571, 0.2857142857142857, 0.14285714285714285, 0.2857142857142857, 0.2857142857142857, 0.14285714285714285, 0.14285714285714285]\n"
     ]
    }
   ],
   "source": [
    "print([i/len(df_concept_drift) for i in no_times_changes_in_each_feature])"
   ]
  },
  {
   "cell_type": "code",
   "execution_count": 24,
   "id": "20da108a",
   "metadata": {},
   "outputs": [
    {
     "data": {
      "text/plain": [
       "[6, 5, 6, 6, 6, 5, 2, 1, 2, 2, 1, 1]"
      ]
     },
     "execution_count": 24,
     "metadata": {},
     "output_type": "execute_result"
    }
   ],
   "source": [
    "drift_times_changes_in_each_feature"
   ]
  },
  {
   "cell_type": "code",
   "execution_count": 25,
   "id": "33abb18a",
   "metadata": {},
   "outputs": [
    {
     "name": "stdout",
     "output_type": "stream",
     "text": [
      "[1.0, 0.8333333333333334, 1.0, 1.0, 1.0, 0.8333333333333334, 0.3333333333333333, 0.16666666666666666, 0.3333333333333333, 0.3333333333333333, 0.16666666666666666, 0.16666666666666666]\n"
     ]
    }
   ],
   "source": [
    "print([i/len(df_concept_drift[df_concept_drift.Sig == 'Drift']) for i in drift_times_changes_in_each_feature])"
   ]
  },
  {
   "cell_type": "code",
   "execution_count": 26,
   "id": "45faeb2d",
   "metadata": {},
   "outputs": [
    {
     "data": {
      "text/plain": [
       "[1, 1, 1, 1, 1, 1, 0, 0, 0, 0, 0, 0]"
      ]
     },
     "execution_count": 26,
     "metadata": {},
     "output_type": "execute_result"
    }
   ],
   "source": [
    "non_drift_times_changes_in_each_feature"
   ]
  },
  {
   "cell_type": "code",
   "execution_count": 27,
   "id": "21d84835",
   "metadata": {},
   "outputs": [
    {
     "name": "stdout",
     "output_type": "stream",
     "text": [
      "[1.0, 1.0, 1.0, 1.0, 1.0, 1.0, 0.0, 0.0, 0.0, 0.0, 0.0, 0.0]\n"
     ]
    }
   ],
   "source": [
    "print([i/len(df_concept_drift[df_concept_drift.Sig == 'Non-Drift']) for i in non_drift_times_changes_in_each_feature])"
   ]
  },
  {
   "cell_type": "code",
   "execution_count": null,
   "id": "e7e705b9",
   "metadata": {},
   "outputs": [],
   "source": []
  },
  {
   "cell_type": "code",
   "execution_count": 68,
   "id": "106c23f0",
   "metadata": {},
   "outputs": [
    {
     "data": {
      "text/plain": [
       "'max_gpu_wrk_mem'"
      ]
     },
     "execution_count": 68,
     "metadata": {},
     "output_type": "execute_result"
    }
   ],
   "source": [
    "features_job_failure[11]"
   ]
  },
  {
   "cell_type": "code",
   "execution_count": 69,
   "id": "19ee65fc",
   "metadata": {},
   "outputs": [
    {
     "name": "stdout",
     "output_type": "stream",
     "text": [
      "0.16666666666666666\n"
     ]
    }
   ],
   "source": [
    "print([i/len(df_concept_drift[df_concept_drift.Sig == 'Drift']) for i in drift_times_changes_in_each_feature][11])"
   ]
  },
  {
   "cell_type": "code",
   "execution_count": 70,
   "id": "c505062b",
   "metadata": {},
   "outputs": [
    {
     "name": "stdout",
     "output_type": "stream",
     "text": [
      "0.0\n"
     ]
    }
   ],
   "source": [
    "print([i/len(df_concept_drift[df_concept_drift.Sig == 'Non-Drift']) for i in non_drift_times_changes_in_each_feature][11])"
   ]
  },
  {
   "cell_type": "code",
   "execution_count": null,
   "id": "6c1b860e",
   "metadata": {},
   "outputs": [],
   "source": []
  },
  {
   "cell_type": "code",
   "execution_count": null,
   "id": "cf70c0a4",
   "metadata": {},
   "outputs": [],
   "source": []
  }
 ],
 "metadata": {
  "kernelspec": {
   "display_name": "Python 3 (ipykernel)",
   "language": "python",
   "name": "python3"
  },
  "language_info": {
   "codemirror_mode": {
    "name": "ipython",
    "version": 3
   },
   "file_extension": ".py",
   "mimetype": "text/x-python",
   "name": "python",
   "nbconvert_exporter": "python",
   "pygments_lexer": "ipython3",
   "version": "3.11.1"
  }
 },
 "nbformat": 4,
 "nbformat_minor": 5
}
