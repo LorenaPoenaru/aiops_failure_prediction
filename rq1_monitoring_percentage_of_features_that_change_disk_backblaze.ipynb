{
 "cells": [
  {
   "cell_type": "code",
   "execution_count": 1,
   "id": "d7740061",
   "metadata": {},
   "outputs": [],
   "source": [
    "import pandas as pd\n",
    "from sklearn import metrics, preprocessing\n",
    "import numpy as np\n",
    "from sklearn.preprocessing import StandardScaler\n",
    "from scipy import stats\n",
    "from tqdm import tqdm\n"
   ]
  },
  {
   "cell_type": "code",
   "execution_count": 2,
   "id": "280f7187",
   "metadata": {},
   "outputs": [],
   "source": [
    "def obtain_intervals(dataset):\n",
    "    '''\n",
    "    Generate interval terminals, so that samples in each interval have:\n",
    "        interval_i = (timestamp >= terminal_i) and (timestamp < terminal_{i+1})\n",
    "\n",
    "    Args:\n",
    "        dataset (chr): Assuming only Backblaze (b) and Google (g) datasets exists\n",
    "    '''\n",
    "    if dataset == 'g':\n",
    "        # time unit in Google: millisecond, tracing time: 29 days\n",
    "        start_time = 604046279\n",
    "        unit_period = 24 * 60 * 60 * 1000 * 1000  # unit period: one day\n",
    "        end_time = start_time + 28*unit_period\n",
    "    elif dataset == 'b':\n",
    "        # time unit in Backblaze: month, tracing time: one year (12 months)\n",
    "        start_time = 1\n",
    "        unit_period = 1  # unit period: one month\n",
    "        end_time = start_time + 12*unit_period\n",
    "\n",
    "    # add one unit for the open-end of range function\n",
    "    terminals = [i for i in range(start_time, end_time+unit_period, unit_period)]\n",
    "    return terminals"
   ]
  },
  {
   "cell_type": "code",
   "execution_count": 3,
   "id": "585e19b3",
   "metadata": {},
   "outputs": [],
   "source": [
    "def obtain_natural_chunks(features, labels, terminals):\n",
    "    feature_list = []\n",
    "    label_list = []\n",
    "    for i in range(len(terminals) - 1):\n",
    "        idx = np.logical_and(features[:, 0] >= terminals[i], features[:, 0] < terminals[i + 1])\n",
    "        feature_list.append(features[idx][:, 1:])\n",
    "        label_list.append(labels[idx])\n",
    "    return feature_list, label_list\n"
   ]
  },
  {
   "cell_type": "code",
   "execution_count": 4,
   "id": "ff51221a",
   "metadata": {},
   "outputs": [],
   "source": [
    "def features_labels_preprocessing(DATASET_PATH, dataset):\n",
    "    \n",
    "    if(dataset=='b'):\n",
    "        \n",
    "        print('Data Reading and Preprocessing')\n",
    "        \n",
    "        # set data paths and columns names\n",
    "        features_disk_failure = ['smart_1_raw', 'smart_4_raw', 'smart_5_raw', 'smart_7_raw', 'smart_9_raw', 'smart_12_raw', 'smart_187_raw', 'smart_193_raw', 'smart_194_raw', 'smart_197_raw', 'smart_199_raw', \n",
    "                         'smart_4_raw_diff', 'smart_5_raw_diff', 'smart_9_raw_diff', 'smart_12_raw_diff', 'smart_187_raw_diff', 'smart_193_raw_diff', 'smart_197_raw_diff', 'smart_199_raw_diff']\n",
    "        columns = ['serial_number', 'date'] + features_disk_failure + ['label']\n",
    "        \n",
    "        # read dataset\n",
    "        df = pd.read_csv(DATASET_PATH, header=None, dtype = 'str').iloc[1:,1:]\n",
    "        df.columns = columns\n",
    "        \n",
    "        # ignore serial number\n",
    "        df = df[df.columns[1:]]\n",
    "        \n",
    "        for feature in features_disk_failure:\n",
    "            df[feature] = df[feature].astype(float)\n",
    "\n",
    "\n",
    "        d = {'True': True, 'False': False}\n",
    "        df['label'] = df['label'].map(d)\n",
    "\n",
    "        df['label'].unique()\n",
    "\n",
    "        # transform date to date time\n",
    "        df['date'] = pd.to_datetime(df['date'], format='%Y-%m-%d')\n",
    "        # divide on weeks\n",
    "        df['date'] = pd.Series(pd.DatetimeIndex(df['date']).day_of_year)\n",
    "        \n",
    "        print('Features and Labels Computing')\n",
    "        \n",
    "        # features and labels extraction and computation\n",
    "        features = df[df.columns[:-1]].to_numpy()\n",
    "        labels = df[df.columns[-1]].to_numpy()\n",
    "        feature_list, label_list = obtain_natural_chunks(features, labels, obtain_intervals('b'))\n",
    "        \n",
    "    elif(dataset=='g'):\n",
    "        \n",
    "        print('Data Reading and Preprocessing')\n",
    "        \n",
    "        # set data paths and columns names\n",
    "        features_job_failure = ['User ID', 'Job Name', 'Scheduling Class',\n",
    "                   'Num Tasks', 'Priority', 'Diff Machine', 'CPU Requested', 'Mem Requested', 'Disk Requested',\n",
    "                   'Avg CPU', 'Avg Mem', 'Avg Disk', 'Std CPU', 'Std Mem', 'Std Disk']\n",
    "        columns_initial = ['Job ID', 'Status', 'Start Time', 'End Time'] + features_job_failure\n",
    "        \n",
    "        # read dataset\n",
    "        df = pd.read_csv(DATASET_PATH, header=None)\n",
    "        df.columns = columns_initial\n",
    "        df = df.tail(-1)\n",
    "        # ignore Job ID\n",
    "        df = df.drop(['Job ID'], axis = 1)\n",
    "        columns = features_job_failure\n",
    "\n",
    "        include_end_time = False\n",
    "        \n",
    "        print('Features and Labels Preprocessing')\n",
    "        \n",
    "        # features and labels preprocessing\n",
    "        features = df[(['Start Time']+ features_job_failure)].to_numpy()\n",
    "        labels = (df['Status']==3).to_numpy()\n",
    "\n",
    "        # FEATURES PREPROCESSING\n",
    "        offset = (1 if include_end_time else 0)\n",
    "\n",
    "        # ENCODE USER ID\n",
    "        le = preprocessing.LabelEncoder()\n",
    "        features[:, 1+offset] = le.fit_transform(features[:, 1+offset])\n",
    "\n",
    "        # ENCODE JOB NAME\n",
    "        le = preprocessing.LabelEncoder()\n",
    "        features[:, 2+offset] = le.fit_transform(features[:, 2+offset])\n",
    "\n",
    "        features = features.astype(float)\n",
    "        \n",
    "        print('Features and Labels Computing')\n",
    "        \n",
    "        # features and labels extraction and computation\n",
    "        feature_list, label_list = obtain_natural_chunks(features, labels, obtain_intervals('g'))\n",
    "        \n",
    "    else:\n",
    "        print('Incorrect Dataset')\n",
    "    \n",
    "    return feature_list, label_list"
   ]
  },
  {
   "cell_type": "code",
   "execution_count": null,
   "id": "f3de458b",
   "metadata": {},
   "outputs": [],
   "source": []
  },
  {
   "cell_type": "code",
   "execution_count": null,
   "id": "ff6882d5",
   "metadata": {},
   "outputs": [],
   "source": []
  },
  {
   "cell_type": "code",
   "execution_count": 5,
   "id": "4ff69510",
   "metadata": {},
   "outputs": [],
   "source": [
    "DATASET_PATH = '../../../Documents/phd_related/AIOps_disk_failure_prediction/raw_data_2015_2017/disk_2015_complete.csv'\n",
    "interval = 'm'"
   ]
  },
  {
   "cell_type": "code",
   "execution_count": 6,
   "id": "351af2fd",
   "metadata": {},
   "outputs": [
    {
     "name": "stdout",
     "output_type": "stream",
     "text": [
      "Data Reading and Preprocessing\n",
      "Features and Labels Computing\n"
     ]
    }
   ],
   "source": [
    "feature_list, label_list = features_labels_preprocessing(DATASET_PATH, 'b')"
   ]
  },
  {
   "cell_type": "code",
   "execution_count": 7,
   "id": "fa856319",
   "metadata": {},
   "outputs": [
    {
     "data": {
      "text/plain": [
       "12"
      ]
     },
     "execution_count": 7,
     "metadata": {},
     "output_type": "execute_result"
    }
   ],
   "source": [
    "len(feature_list)"
   ]
  },
  {
   "cell_type": "markdown",
   "id": "70ca33f6",
   "metadata": {},
   "source": [
    "# Data Preprocessing"
   ]
  },
  {
   "cell_type": "code",
   "execution_count": 8,
   "id": "1d12e59b",
   "metadata": {},
   "outputs": [
    {
     "data": {
      "text/html": [
       "<div>\n",
       "<style scoped>\n",
       "    .dataframe tbody tr th:only-of-type {\n",
       "        vertical-align: middle;\n",
       "    }\n",
       "\n",
       "    .dataframe tbody tr th {\n",
       "        vertical-align: top;\n",
       "    }\n",
       "\n",
       "    .dataframe thead th {\n",
       "        text-align: right;\n",
       "    }\n",
       "</style>\n",
       "<table border=\"1\" class=\"dataframe\">\n",
       "  <thead>\n",
       "    <tr style=\"text-align: right;\">\n",
       "      <th></th>\n",
       "      <th>X</th>\n",
       "      <th>Sig</th>\n",
       "      <th>Y</th>\n",
       "      <th>M</th>\n",
       "      <th>Dataset</th>\n",
       "      <th>Model</th>\n",
       "    </tr>\n",
       "  </thead>\n",
       "  <tbody>\n",
       "    <tr>\n",
       "      <th>0</th>\n",
       "      <td>2</td>\n",
       "      <td>Drift</td>\n",
       "      <td>0.443412</td>\n",
       "      <td>M1_2</td>\n",
       "      <td>Backblaze Disk Data</td>\n",
       "      <td>Random Forests Backblaze Disk Data</td>\n",
       "    </tr>\n",
       "    <tr>\n",
       "      <th>1</th>\n",
       "      <td>3</td>\n",
       "      <td>Drift</td>\n",
       "      <td>0.512604</td>\n",
       "      <td>M2_3</td>\n",
       "      <td>Backblaze Disk Data</td>\n",
       "      <td>Random Forests Backblaze Disk Data</td>\n",
       "    </tr>\n",
       "    <tr>\n",
       "      <th>2</th>\n",
       "      <td>4</td>\n",
       "      <td>Non-Drift</td>\n",
       "      <td>0.396403</td>\n",
       "      <td>M3_4</td>\n",
       "      <td>Backblaze Disk Data</td>\n",
       "      <td>Random Forests Backblaze Disk Data</td>\n",
       "    </tr>\n",
       "    <tr>\n",
       "      <th>3</th>\n",
       "      <td>5</td>\n",
       "      <td>Non-Drift</td>\n",
       "      <td>0.280091</td>\n",
       "      <td>M4_5</td>\n",
       "      <td>Backblaze Disk Data</td>\n",
       "      <td>Random Forests Backblaze Disk Data</td>\n",
       "    </tr>\n",
       "    <tr>\n",
       "      <th>4</th>\n",
       "      <td>6</td>\n",
       "      <td>Non-Drift</td>\n",
       "      <td>0.191991</td>\n",
       "      <td>M5_6</td>\n",
       "      <td>Backblaze Disk Data</td>\n",
       "      <td>Random Forests Backblaze Disk Data</td>\n",
       "    </tr>\n",
       "    <tr>\n",
       "      <th>5</th>\n",
       "      <td>7</td>\n",
       "      <td>Non-Drift</td>\n",
       "      <td>0.219476</td>\n",
       "      <td>M6_7</td>\n",
       "      <td>Backblaze Disk Data</td>\n",
       "      <td>Random Forests Backblaze Disk Data</td>\n",
       "    </tr>\n",
       "    <tr>\n",
       "      <th>6</th>\n",
       "      <td>8</td>\n",
       "      <td>Drift</td>\n",
       "      <td>0.536009</td>\n",
       "      <td>M7_8</td>\n",
       "      <td>Backblaze Disk Data</td>\n",
       "      <td>Random Forests Backblaze Disk Data</td>\n",
       "    </tr>\n",
       "    <tr>\n",
       "      <th>7</th>\n",
       "      <td>9</td>\n",
       "      <td>Drift</td>\n",
       "      <td>0.460164</td>\n",
       "      <td>M8_9</td>\n",
       "      <td>Backblaze Disk Data</td>\n",
       "      <td>Random Forests Backblaze Disk Data</td>\n",
       "    </tr>\n",
       "    <tr>\n",
       "      <th>8</th>\n",
       "      <td>10</td>\n",
       "      <td>Non-Drift</td>\n",
       "      <td>0.314639</td>\n",
       "      <td>M9_10</td>\n",
       "      <td>Backblaze Disk Data</td>\n",
       "      <td>Random Forests Backblaze Disk Data</td>\n",
       "    </tr>\n",
       "    <tr>\n",
       "      <th>9</th>\n",
       "      <td>11</td>\n",
       "      <td>Non-Drift</td>\n",
       "      <td>0.212075</td>\n",
       "      <td>M10_11</td>\n",
       "      <td>Backblaze Disk Data</td>\n",
       "      <td>Random Forests Backblaze Disk Data</td>\n",
       "    </tr>\n",
       "    <tr>\n",
       "      <th>10</th>\n",
       "      <td>12</td>\n",
       "      <td>Non-Drift</td>\n",
       "      <td>0.336761</td>\n",
       "      <td>M11_12</td>\n",
       "      <td>Backblaze Disk Data</td>\n",
       "      <td>Random Forests Backblaze Disk Data</td>\n",
       "    </tr>\n",
       "  </tbody>\n",
       "</table>\n",
       "</div>"
      ],
      "text/plain": [
       "     X        Sig         Y       M              Dataset  \\\n",
       "0    2      Drift  0.443412    M1_2  Backblaze Disk Data   \n",
       "1    3      Drift  0.512604    M2_3  Backblaze Disk Data   \n",
       "2    4  Non-Drift  0.396403    M3_4  Backblaze Disk Data   \n",
       "3    5  Non-Drift  0.280091    M4_5  Backblaze Disk Data   \n",
       "4    6  Non-Drift  0.191991    M5_6  Backblaze Disk Data   \n",
       "5    7  Non-Drift  0.219476    M6_7  Backblaze Disk Data   \n",
       "6    8      Drift  0.536009    M7_8  Backblaze Disk Data   \n",
       "7    9      Drift  0.460164    M8_9  Backblaze Disk Data   \n",
       "8   10  Non-Drift  0.314639   M9_10  Backblaze Disk Data   \n",
       "9   11  Non-Drift  0.212075  M10_11  Backblaze Disk Data   \n",
       "10  12  Non-Drift  0.336761  M11_12  Backblaze Disk Data   \n",
       "\n",
       "                                 Model  \n",
       "0   Random Forests Backblaze Disk Data  \n",
       "1   Random Forests Backblaze Disk Data  \n",
       "2   Random Forests Backblaze Disk Data  \n",
       "3   Random Forests Backblaze Disk Data  \n",
       "4   Random Forests Backblaze Disk Data  \n",
       "5   Random Forests Backblaze Disk Data  \n",
       "6   Random Forests Backblaze Disk Data  \n",
       "7   Random Forests Backblaze Disk Data  \n",
       "8   Random Forests Backblaze Disk Data  \n",
       "9   Random Forests Backblaze Disk Data  \n",
       "10  Random Forests Backblaze Disk Data  "
      ]
     },
     "execution_count": 8,
     "metadata": {},
     "output_type": "execute_result"
    }
   ],
   "source": [
    "df_concept_drift = pd.read_csv('../../../Documents/phd_related/alibaba/results/results_r/rf_concept_drift_localization_backblaze_2015_r_avg_plot.csv')\n",
    "df_concept_drift = df_concept_drift.loc[:, ~df_concept_drift.columns.str.contains('^Unnamed')]\n",
    "df_concept_drift"
   ]
  },
  {
   "cell_type": "code",
   "execution_count": 9,
   "id": "4a59bbbe",
   "metadata": {},
   "outputs": [
    {
     "data": {
      "text/plain": [
       "11"
      ]
     },
     "execution_count": 9,
     "metadata": {},
     "output_type": "execute_result"
    }
   ],
   "source": [
    "len(df_concept_drift)"
   ]
  },
  {
   "cell_type": "code",
   "execution_count": 10,
   "id": "c08c7694",
   "metadata": {},
   "outputs": [],
   "source": [
    "scaler = StandardScaler()\n",
    "stat_test = stats.kstest"
   ]
  },
  {
   "cell_type": "markdown",
   "id": "29ad33ca",
   "metadata": {},
   "source": [
    "# Monitoring Changes in Each Feature"
   ]
  },
  {
   "cell_type": "code",
   "execution_count": 11,
   "id": "11d1df98",
   "metadata": {},
   "outputs": [],
   "source": [
    "features_disk_failure = ['smart_1_raw', 'smart_4_raw', 'smart_5_raw', 'smart_7_raw', 'smart_9_raw', 'smart_12_raw', 'smart_187_raw', 'smart_193_raw', 'smart_194_raw', 'smart_197_raw', 'smart_199_raw', \n",
    "                         'smart_4_raw_diff', 'smart_5_raw_diff', 'smart_9_raw_diff', 'smart_12_raw_diff', 'smart_187_raw_diff', 'smart_193_raw_diff', 'smart_197_raw_diff', 'smart_199_raw_diff']"
   ]
  },
  {
   "cell_type": "code",
   "execution_count": 12,
   "id": "f6f51500",
   "metadata": {
    "scrolled": true
   },
   "outputs": [
    {
     "name": "stderr",
     "output_type": "stream",
     "text": [
      "  0%|          | 0/19 [00:00<?, ?it/s]\n",
      "  0%|          | 0/11 [00:00<?, ?it/s]\u001b[A\n",
      " 36%|███▋      | 4/11 [00:00<00:00, 38.68it/s]\u001b[A\n",
      "100%|██████████| 11/11 [00:00<00:00, 51.40it/s]\u001b[A\n",
      "  5%|▌         | 1/19 [00:00<00:03,  4.61it/s]\n",
      "  0%|          | 0/11 [00:00<?, ?it/s]\u001b[A\n",
      "100%|██████████| 11/11 [00:00<00:00, 68.62it/s][A\n",
      " 11%|█         | 2/19 [00:00<00:03,  5.38it/s]\n",
      "  0%|          | 0/11 [00:00<?, ?it/s]\u001b[A\n",
      "100%|██████████| 11/11 [00:00<00:00, 61.93it/s][A\n",
      " 16%|█▌        | 3/19 [00:00<00:02,  5.45it/s]\n",
      "  0%|          | 0/11 [00:00<?, ?it/s]\u001b[A\n",
      "100%|██████████| 11/11 [00:00<00:00, 67.66it/s][A\n",
      " 21%|██        | 4/19 [00:00<00:02,  5.65it/s]\n",
      "  0%|          | 0/11 [00:00<?, ?it/s]\u001b[A\n",
      " 36%|███▋      | 4/11 [00:00<00:00, 39.41it/s]\u001b[A\n",
      "100%|██████████| 11/11 [00:00<00:00, 39.82it/s][A\n",
      " 26%|██▋       | 5/19 [00:01<00:03,  4.64it/s]\n",
      "  0%|          | 0/11 [00:00<?, ?it/s]\u001b[A\n",
      " 36%|███▋      | 4/11 [00:00<00:00, 39.23it/s]\u001b[A\n",
      "100%|██████████| 11/11 [00:00<00:00, 53.29it/s]\u001b[A\n",
      " 32%|███▏      | 6/19 [00:01<00:02,  4.68it/s]\n",
      "  0%|          | 0/11 [00:00<?, ?it/s]\u001b[A\n",
      " 45%|████▌     | 5/11 [00:00<00:00, 45.21it/s]\u001b[A\n",
      "100%|██████████| 11/11 [00:00<00:00, 44.68it/s]\u001b[A\n",
      " 37%|███▋      | 7/19 [00:01<00:02,  4.43it/s]\n",
      "  0%|          | 0/11 [00:00<?, ?it/s]\u001b[A\n",
      "100%|██████████| 11/11 [00:00<00:00, 59.27it/s][A\n",
      " 42%|████▏     | 8/19 [00:01<00:02,  4.66it/s]\n",
      "  0%|          | 0/11 [00:00<?, ?it/s]\u001b[A\n",
      "100%|██████████| 11/11 [00:00<00:00, 70.59it/s][A\n",
      " 47%|████▋     | 9/19 [00:01<00:01,  5.07it/s]\n",
      "  0%|          | 0/11 [00:00<?, ?it/s]\u001b[A\n",
      "100%|██████████| 11/11 [00:00<00:00, 56.07it/s][A\n",
      " 53%|█████▎    | 10/19 [00:02<00:01,  5.05it/s]\n",
      "  0%|          | 0/11 [00:00<?, ?it/s]\u001b[A\n",
      " 36%|███▋      | 4/11 [00:00<00:00, 39.90it/s]\u001b[A\n",
      "100%|██████████| 11/11 [00:00<00:00, 40.38it/s][A\n",
      " 58%|█████▊    | 11/19 [00:02<00:01,  4.50it/s]\n",
      "  0%|          | 0/11 [00:00<?, ?it/s]\u001b[A\n",
      "100%|██████████| 11/11 [00:00<00:00, 74.31it/s][A\n",
      " 63%|██████▎   | 12/19 [00:02<00:01,  4.98it/s]\n",
      "  0%|          | 0/11 [00:00<?, ?it/s]\u001b[A\n",
      "100%|██████████| 11/11 [00:00<00:00, 51.71it/s][A\n",
      " 68%|██████▊   | 13/19 [00:02<00:01,  4.87it/s]\n",
      "  0%|          | 0/11 [00:00<?, ?it/s]\u001b[A\n",
      "100%|██████████| 11/11 [00:00<00:00, 56.59it/s][A\n",
      " 74%|███████▎  | 14/19 [00:02<00:01,  4.93it/s]\n",
      "  0%|          | 0/11 [00:00<?, ?it/s]\u001b[A\n",
      "100%|██████████| 11/11 [00:00<00:00, 72.96it/s][A\n",
      " 79%|███████▉  | 15/19 [00:03<00:00,  5.31it/s]\n",
      "  0%|          | 0/11 [00:00<?, ?it/s]\u001b[A\n",
      "100%|██████████| 11/11 [00:00<00:00, 59.47it/s][A\n",
      " 84%|████████▍ | 16/19 [00:03<00:00,  5.31it/s]\n",
      "  0%|          | 0/11 [00:00<?, ?it/s]\u001b[A\n",
      "100%|██████████| 11/11 [00:00<00:00, 67.19it/s][A\n",
      " 89%|████████▉ | 17/19 [00:03<00:00,  5.50it/s]\n",
      "  0%|          | 0/11 [00:00<?, ?it/s]\u001b[A\n",
      "100%|██████████| 11/11 [00:00<00:00, 50.77it/s][A\n",
      " 95%|█████████▍| 18/19 [00:03<00:00,  5.17it/s]\n",
      "  0%|          | 0/11 [00:00<?, ?it/s]\u001b[A\n",
      " 36%|███▋      | 4/11 [00:00<00:00, 34.05it/s]\u001b[A\n",
      "100%|██████████| 11/11 [00:00<00:00, 40.07it/s][A\n",
      "100%|██████████| 19/19 [00:03<00:00,  4.90it/s]\n"
     ]
    }
   ],
   "source": [
    "no_times_changes_in_each_feature = []\n",
    "\n",
    "drift_times_changes_in_each_feature = []\n",
    "\n",
    "non_drift_times_changes_in_each_feature = []\n",
    "\n",
    "for feature in tqdm(features_disk_failure):\n",
    "    \n",
    "    no_times_changes = 0\n",
    "    \n",
    "    no_times_drift_changes = 0\n",
    "    \n",
    "    no_times_non_drift_changes = 0\n",
    "    \n",
    "    for period in tqdm(range(0, len(feature_list)-1)):\n",
    "        \n",
    "        # extract features train and test\n",
    "        training_features = scaler.fit_transform(feature_list[period])\n",
    "        testing_features = scaler.transform(feature_list[period+1])\n",
    "        \n",
    "        # convert numpy array to Pandas Dataframe\n",
    "        df_train_features = pd.DataFrame(training_features, columns = features_disk_failure)\n",
    "        df_test_features = pd.DataFrame(testing_features, columns = features_disk_failure)\n",
    "        \n",
    "        v, p = stat_test(df_train_features[feature], df_test_features[feature])\n",
    "        if(p<0.05):\n",
    "            no_times_changes = no_times_changes + 1\n",
    "            \n",
    "            if(df_concept_drift['Sig'][period]=='Drift'):\n",
    "                no_times_drift_changes = no_times_drift_changes + 1\n",
    "            \n",
    "            if(df_concept_drift['Sig'][period]=='Non-Drift'):\n",
    "                no_times_non_drift_changes = no_times_non_drift_changes + 1\n",
    "            \n",
    "    no_times_changes_in_each_feature.append(no_times_changes)\n",
    "    \n",
    "    drift_times_changes_in_each_feature.append(no_times_drift_changes)\n",
    "    \n",
    "    non_drift_times_changes_in_each_feature.append(no_times_non_drift_changes)"
   ]
  },
  {
   "cell_type": "code",
   "execution_count": 13,
   "id": "316fd9d8",
   "metadata": {},
   "outputs": [
    {
     "data": {
      "text/plain": [
       "19"
      ]
     },
     "execution_count": 13,
     "metadata": {},
     "output_type": "execute_result"
    }
   ],
   "source": [
    "len(no_times_changes_in_each_feature)"
   ]
  },
  {
   "cell_type": "code",
   "execution_count": 14,
   "id": "31e5e296",
   "metadata": {},
   "outputs": [
    {
     "data": {
      "text/plain": [
       "[0, 0, 0, 0, 11, 0, 0, 0, 1, 0, 0, 0, 0, 6, 0, 0, 4, 0, 0]"
      ]
     },
     "execution_count": 14,
     "metadata": {},
     "output_type": "execute_result"
    }
   ],
   "source": [
    "no_times_changes_in_each_feature"
   ]
  },
  {
   "cell_type": "code",
   "execution_count": 15,
   "id": "f556428a",
   "metadata": {},
   "outputs": [
    {
     "name": "stdout",
     "output_type": "stream",
     "text": [
      "[0.0, 0.0, 0.0, 0.0, 1.0, 0.0, 0.0, 0.0, 0.09090909090909091, 0.0, 0.0, 0.0, 0.0, 0.5454545454545454, 0.0, 0.0, 0.36363636363636365, 0.0, 0.0]\n"
     ]
    }
   ],
   "source": [
    "print([i/len(df_concept_drift) for i in no_times_changes_in_each_feature])"
   ]
  },
  {
   "cell_type": "code",
   "execution_count": 16,
   "id": "305dfacf",
   "metadata": {},
   "outputs": [
    {
     "data": {
      "text/plain": [
       "[0, 0, 0, 0, 4, 0, 0, 0, 0, 0, 0, 0, 0, 1, 0, 0, 2, 0, 0]"
      ]
     },
     "execution_count": 16,
     "metadata": {},
     "output_type": "execute_result"
    }
   ],
   "source": [
    "drift_times_changes_in_each_feature"
   ]
  },
  {
   "cell_type": "code",
   "execution_count": 17,
   "id": "7c5a3adf",
   "metadata": {},
   "outputs": [
    {
     "name": "stdout",
     "output_type": "stream",
     "text": [
      "[0.0, 0.0, 0.0, 0.0, 1.0, 0.0, 0.0, 0.0, 0.0, 0.0, 0.0, 0.0, 0.0, 0.25, 0.0, 0.0, 0.5, 0.0, 0.0]\n"
     ]
    }
   ],
   "source": [
    "print([i/len(df_concept_drift[df_concept_drift.Sig == 'Drift']) for i in drift_times_changes_in_each_feature])"
   ]
  },
  {
   "cell_type": "code",
   "execution_count": 30,
   "id": "53a20e65",
   "metadata": {},
   "outputs": [
    {
     "name": "stdout",
     "output_type": "stream",
     "text": [
      "1.0\n"
     ]
    }
   ],
   "source": [
    "print([i/len(df_concept_drift[df_concept_drift.Sig == 'Drift']) for i in drift_times_changes_in_each_feature][4])"
   ]
  },
  {
   "cell_type": "code",
   "execution_count": 31,
   "id": "18f755ab",
   "metadata": {},
   "outputs": [
    {
     "data": {
      "text/plain": [
       "[0, 0, 0, 0, 7, 0, 0, 0, 1, 0, 0, 0, 0, 5, 0, 0, 2, 0, 0]"
      ]
     },
     "execution_count": 31,
     "metadata": {},
     "output_type": "execute_result"
    }
   ],
   "source": [
    "non_drift_times_changes_in_each_feature"
   ]
  },
  {
   "cell_type": "code",
   "execution_count": 32,
   "id": "5a49734a",
   "metadata": {},
   "outputs": [
    {
     "name": "stdout",
     "output_type": "stream",
     "text": [
      "[0.0, 0.0, 0.0, 0.0, 1.0, 0.0, 0.0, 0.0, 0.14285714285714285, 0.0, 0.0, 0.0, 0.0, 0.7142857142857143, 0.0, 0.0, 0.2857142857142857, 0.0, 0.0]\n"
     ]
    }
   ],
   "source": [
    "print([i/len(df_concept_drift[df_concept_drift.Sig == 'Non-Drift']) for i in non_drift_times_changes_in_each_feature])"
   ]
  },
  {
   "cell_type": "code",
   "execution_count": 33,
   "id": "9d0193c3",
   "metadata": {},
   "outputs": [
    {
     "name": "stdout",
     "output_type": "stream",
     "text": [
      "1.0\n"
     ]
    }
   ],
   "source": [
    "print([i/len(df_concept_drift[df_concept_drift.Sig == 'Non-Drift']) for i in non_drift_times_changes_in_each_feature][4])"
   ]
  },
  {
   "cell_type": "code",
   "execution_count": null,
   "id": "41e55dc9",
   "metadata": {},
   "outputs": [],
   "source": []
  },
  {
   "cell_type": "code",
   "execution_count": null,
   "id": "0247d790",
   "metadata": {},
   "outputs": [],
   "source": []
  },
  {
   "cell_type": "code",
   "execution_count": 78,
   "id": "f56c9033",
   "metadata": {},
   "outputs": [
    {
     "data": {
      "text/plain": [
       "'smart_199_raw_diff'"
      ]
     },
     "execution_count": 78,
     "metadata": {},
     "output_type": "execute_result"
    }
   ],
   "source": [
    "features_disk_failure[18]"
   ]
  },
  {
   "cell_type": "code",
   "execution_count": 75,
   "id": "5500f9ca",
   "metadata": {},
   "outputs": [
    {
     "name": "stdout",
     "output_type": "stream",
     "text": [
      "0.0\n"
     ]
    }
   ],
   "source": [
    "print([i/len(df_concept_drift[df_concept_drift.Sig == 'Drift']) for i in drift_times_changes_in_each_feature][18])"
   ]
  },
  {
   "cell_type": "code",
   "execution_count": 76,
   "id": "2612425d",
   "metadata": {},
   "outputs": [
    {
     "name": "stdout",
     "output_type": "stream",
     "text": [
      "0.0\n"
     ]
    }
   ],
   "source": [
    "print([i/len(df_concept_drift[df_concept_drift.Sig == 'Non-Drift']) for i in non_drift_times_changes_in_each_feature][18])"
   ]
  },
  {
   "cell_type": "code",
   "execution_count": null,
   "id": "2b6c64c7",
   "metadata": {},
   "outputs": [],
   "source": []
  },
  {
   "cell_type": "code",
   "execution_count": null,
   "id": "15075d14",
   "metadata": {},
   "outputs": [],
   "source": []
  },
  {
   "cell_type": "code",
   "execution_count": null,
   "id": "3f72252c",
   "metadata": {},
   "outputs": [],
   "source": []
  },
  {
   "cell_type": "code",
   "execution_count": 21,
   "id": "e4cca6d6",
   "metadata": {},
   "outputs": [
    {
     "data": {
      "text/plain": [
       "['smart_1_raw',\n",
       " 'smart_4_raw',\n",
       " 'smart_5_raw',\n",
       " 'smart_7_raw',\n",
       " 'smart_9_raw',\n",
       " 'smart_12_raw',\n",
       " 'smart_187_raw',\n",
       " 'smart_193_raw',\n",
       " 'smart_194_raw',\n",
       " 'smart_197_raw',\n",
       " 'smart_199_raw',\n",
       " 'smart_4_raw_diff',\n",
       " 'smart_5_raw_diff',\n",
       " 'smart_9_raw_diff',\n",
       " 'smart_12_raw_diff',\n",
       " 'smart_187_raw_diff',\n",
       " 'smart_193_raw_diff',\n",
       " 'smart_197_raw_diff',\n",
       " 'smart_199_raw_diff']"
      ]
     },
     "execution_count": 21,
     "metadata": {},
     "output_type": "execute_result"
    }
   ],
   "source": [
    "features_disk_failure"
   ]
  },
  {
   "cell_type": "code",
   "execution_count": null,
   "id": "c25a531f",
   "metadata": {},
   "outputs": [],
   "source": []
  },
  {
   "cell_type": "code",
   "execution_count": null,
   "id": "372d866b",
   "metadata": {},
   "outputs": [],
   "source": []
  },
  {
   "cell_type": "code",
   "execution_count": 22,
   "id": "377cad37",
   "metadata": {},
   "outputs": [],
   "source": [
    "months = ['M1_2', 'M2_3', 'M3_4', 'M4_5', 'M5_6', 'M6_7', 'M7_8', 'M8_9', 'M9_10', 'M10_11', 'M11_12']\n"
   ]
  },
  {
   "cell_type": "code",
   "execution_count": null,
   "id": "d6b5a128",
   "metadata": {},
   "outputs": [],
   "source": []
  },
  {
   "cell_type": "code",
   "execution_count": null,
   "id": "21100d09",
   "metadata": {},
   "outputs": [],
   "source": []
  },
  {
   "cell_type": "code",
   "execution_count": null,
   "id": "06d04389",
   "metadata": {},
   "outputs": [],
   "source": []
  },
  {
   "cell_type": "code",
   "execution_count": null,
   "id": "ddca6e82",
   "metadata": {},
   "outputs": [],
   "source": []
  },
  {
   "cell_type": "code",
   "execution_count": null,
   "id": "f58c7e14",
   "metadata": {},
   "outputs": [],
   "source": []
  },
  {
   "cell_type": "code",
   "execution_count": null,
   "id": "ee7680f9",
   "metadata": {},
   "outputs": [],
   "source": []
  },
  {
   "cell_type": "code",
   "execution_count": null,
   "id": "ec8b62e3",
   "metadata": {},
   "outputs": [],
   "source": [
    "len(months)"
   ]
  },
  {
   "cell_type": "code",
   "execution_count": null,
   "id": "014eafe0",
   "metadata": {},
   "outputs": [],
   "source": [
    "drift_grount_truth = list(df_concept_drift.Sig)"
   ]
  },
  {
   "cell_type": "code",
   "execution_count": null,
   "id": "37cff78b",
   "metadata": {
    "scrolled": true
   },
   "outputs": [],
   "source": [
    "df_results_monitoring_all_individual_features = pd.DataFrame()\n",
    "df_results_monitoring_all_individual_features['Period'] = months\n",
    "df_results_monitoring_all_individual_features['Drift Ground Truth'] = drift_grount_truth\n",
    "df_results_monitoring_all_individual_features['No Changed Features Per Period'] = no_changed_features_per_period\n",
    "df_results_monitoring_all_individual_features['Percentage Changed Features Per Period'] = perc_changed_features_per_period\n",
    "df_results_monitoring_all_individual_features"
   ]
  },
  {
   "cell_type": "code",
   "execution_count": null,
   "id": "557f553f",
   "metadata": {},
   "outputs": [],
   "source": [
    "df_results_monitoring_all_individual_features.to_csv('df_percentage_of_changed_features_disk_backblaze.csv')"
   ]
  },
  {
   "cell_type": "code",
   "execution_count": null,
   "id": "9ce3ef2d",
   "metadata": {},
   "outputs": [],
   "source": []
  },
  {
   "cell_type": "markdown",
   "id": "0d727dd6",
   "metadata": {},
   "source": [
    "Correlation Calculation"
   ]
  },
  {
   "cell_type": "markdown",
   "id": "f9a620d9",
   "metadata": {},
   "source": [
    "TODO!!!!"
   ]
  },
  {
   "cell_type": "code",
   "execution_count": null,
   "id": "bc14450a",
   "metadata": {},
   "outputs": [],
   "source": []
  },
  {
   "cell_type": "code",
   "execution_count": null,
   "id": "9842c1c9",
   "metadata": {},
   "outputs": [],
   "source": []
  }
 ],
 "metadata": {
  "kernelspec": {
   "display_name": "Python 3 (ipykernel)",
   "language": "python",
   "name": "python3"
  },
  "language_info": {
   "codemirror_mode": {
    "name": "ipython",
    "version": 3
   },
   "file_extension": ".py",
   "mimetype": "text/x-python",
   "name": "python",
   "nbconvert_exporter": "python",
   "pygments_lexer": "ipython3",
   "version": "3.11.1"
  }
 },
 "nbformat": 4,
 "nbformat_minor": 5
}
