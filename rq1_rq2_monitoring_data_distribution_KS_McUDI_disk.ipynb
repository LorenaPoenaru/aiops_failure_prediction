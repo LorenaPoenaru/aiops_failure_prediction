{
 "cells": [
  {
   "cell_type": "code",
   "execution_count": 1,
   "id": "7671f409",
   "metadata": {},
   "outputs": [],
   "source": [
    "from datetime import date, datetime, timedelta\n",
    "import pandas as pd\n",
    "\n",
    "import numpy as np\n",
    "import math\n",
    "from sklearn.preprocessing import StandardScaler\n",
    "from sklearn.utils import resample\n",
    "from sklearn import metrics, preprocessing\n",
    "from sklearn.model_selection import KFold\n",
    "\n",
    "\n",
    "from scipy import stats\n",
    "import seaborn as sns\n",
    "\n",
    "import os\n",
    "from tqdm import tqdm\n",
    "\n",
    "import matplotlib.pyplot as plt\n",
    "\n",
    "from sklearn.metrics import roc_auc_score"
   ]
  },
  {
   "cell_type": "code",
   "execution_count": 2,
   "id": "98b286c5",
   "metadata": {},
   "outputs": [],
   "source": [
    "import warnings\n",
    "warnings.filterwarnings('ignore')"
   ]
  },
  {
   "cell_type": "code",
   "execution_count": 3,
   "id": "184016d1",
   "metadata": {},
   "outputs": [],
   "source": [
    "def obtain_natural_chunks(features, labels, terminals):\n",
    "    feature_list = []\n",
    "    label_list = []\n",
    "    for i in range(len(terminals) - 1):\n",
    "        idx = np.logical_and(features[:, 0] >= terminals[i], features[:, 0] < terminals[i + 1])\n",
    "        feature_list.append(features[idx][:, 1:])\n",
    "        label_list.append(labels[idx])\n",
    "    return feature_list, label_list\n"
   ]
  },
  {
   "cell_type": "code",
   "execution_count": 4,
   "id": "01936166",
   "metadata": {},
   "outputs": [],
   "source": [
    "def obtain_intervals(dataset):\n",
    "    '''\n",
    "    Generate interval terminals, so that samples in each interval have:\n",
    "        interval_i = (timestamp >= terminal_i) and (timestamp < terminal_{i+1})\n",
    "\n",
    "    Args:\n",
    "        dataset (chr): Assuming only Backblaze (b) and Google (g) datasets exists\n",
    "    '''\n",
    "    if dataset == 'g':\n",
    "        # time unit in Google: millisecond, tracing time: 29 days\n",
    "        start_time = 604046279\n",
    "        unit_period = 24 * 60 * 60 * 1000 * 1000  # unit period: one day\n",
    "        end_time = start_time + 28*unit_period\n",
    "    elif dataset == 'b':\n",
    "        # time unit in Backblaze: week, tracing time: one year (50 weeks)\n",
    "        start_time = 1\n",
    "        unit_period = 7  # unit period: one week (7 days)\n",
    "        end_time = start_time + 50*unit_period\n",
    "    # original 1 month\n",
    "    '''\n",
    "    elif dataset == 'b':\n",
    "        # time unit in Backblaze: month, tracing time: one year (12 months)\n",
    "        start_time = 1\n",
    "        unit_period = 1  # unit period: one month\n",
    "        end_time = start_time + 12*unit_period\n",
    "    '''\n",
    "    \n",
    "    \n",
    "    # add one unit for the open-end of range function\n",
    "    terminals = [i for i in range(start_time, end_time+unit_period, unit_period)]\n",
    "\n",
    "    return terminals"
   ]
  },
  {
   "cell_type": "code",
   "execution_count": null,
   "id": "511a0b8f",
   "metadata": {},
   "outputs": [],
   "source": []
  },
  {
   "cell_type": "code",
   "execution_count": null,
   "id": "4c968853",
   "metadata": {},
   "outputs": [],
   "source": []
  },
  {
   "cell_type": "markdown",
   "id": "e9bb0d47",
   "metadata": {},
   "source": [
    "# Reading Data"
   ]
  },
  {
   "cell_type": "code",
   "execution_count": 5,
   "id": "03e42b42",
   "metadata": {},
   "outputs": [],
   "source": [
    "DATASET_PATH = '../../Documents/phd_related/data_sets_concept_drift/AIOps_failure_prediction/disk_failure_2015.csv'\n",
    "interval = 'm'"
   ]
  },
  {
   "cell_type": "code",
   "execution_count": 6,
   "id": "1c4cd92c",
   "metadata": {},
   "outputs": [],
   "source": [
    "features_disk_failure = ['smart_1_raw', 'smart_4_raw', 'smart_5_raw', 'smart_7_raw', 'smart_9_raw', 'smart_12_raw', 'smart_187_raw', 'smart_193_raw', 'smart_194_raw', 'smart_197_raw', 'smart_199_raw', \n",
    "                         'smart_4_raw_diff', 'smart_5_raw_diff', 'smart_9_raw_diff', 'smart_12_raw_diff', 'smart_187_raw_diff', 'smart_193_raw_diff', 'smart_197_raw_diff', 'smart_199_raw_diff']\n",
    "columns = ['serial_number', 'date'] + features_disk_failure + ['label']"
   ]
  },
  {
   "cell_type": "code",
   "execution_count": 7,
   "id": "963d5266",
   "metadata": {},
   "outputs": [
    {
     "data": {
      "text/plain": [
       "19"
      ]
     },
     "execution_count": 7,
     "metadata": {},
     "output_type": "execute_result"
    }
   ],
   "source": [
    "len(features_disk_failure)"
   ]
  },
  {
   "cell_type": "code",
   "execution_count": 8,
   "id": "b0e37bcd",
   "metadata": {},
   "outputs": [],
   "source": [
    "df = pd.read_csv(DATASET_PATH, header=None)\n",
    "# put columns names\n",
    "df.columns = columns\n",
    "# ignore serial number\n",
    "df = df[df.columns[1:]]"
   ]
  },
  {
   "cell_type": "code",
   "execution_count": 9,
   "id": "15fc382a",
   "metadata": {},
   "outputs": [],
   "source": [
    "# transform date to date time\n",
    "df['date'] = pd.to_datetime(df['date'], format='%Y-%m-%d')"
   ]
  },
  {
   "cell_type": "code",
   "execution_count": 10,
   "id": "87c2db13",
   "metadata": {},
   "outputs": [],
   "source": [
    "# divide on days of year\n",
    "\n",
    "# original implementation\n",
    "#df['date'] = pd.Series(pd.DatetimeIndex(df['date']).month)\n",
    "\n",
    "# divide on weeks\n",
    "df['date'] = pd.Series(pd.DatetimeIndex(df['date']).day_of_year)"
   ]
  },
  {
   "cell_type": "code",
   "execution_count": 11,
   "id": "4551b441",
   "metadata": {},
   "outputs": [],
   "source": [
    "features = df[df.columns[:-1]].to_numpy()\n",
    "labels = df[df.columns[-1]].to_numpy()"
   ]
  },
  {
   "cell_type": "markdown",
   "id": "197a140c",
   "metadata": {},
   "source": [
    "# Data Preprocessing"
   ]
  },
  {
   "cell_type": "code",
   "execution_count": 12,
   "id": "45defc68",
   "metadata": {},
   "outputs": [],
   "source": [
    "# DIVIDE FEATURES INTO WEEKS \n",
    "\n",
    "feature_list, label_list = obtain_natural_chunks(features, labels, obtain_intervals('b'))"
   ]
  },
  {
   "cell_type": "code",
   "execution_count": 13,
   "id": "d3c3ef4f",
   "metadata": {},
   "outputs": [
    {
     "data": {
      "text/plain": [
       "50"
      ]
     },
     "execution_count": 13,
     "metadata": {},
     "output_type": "execute_result"
    }
   ],
   "source": [
    "len(feature_list)"
   ]
  },
  {
   "cell_type": "markdown",
   "id": "38757191",
   "metadata": {},
   "source": [
    "# Drift Detection Accuracy Important Features Only"
   ]
  },
  {
   "cell_type": "code",
   "execution_count": 14,
   "id": "a925ae41",
   "metadata": {},
   "outputs": [],
   "source": [
    "data_path_drift_localization = '../../Documents/phd_related/AIOps_disk_failure_prediction/feature_importance/rf_concept_drift_localization_disk_week_2015_r_'\n",
    "random_seeds = ['1234', '4887', '597', '1959', '413', '44', '2969', '4971', '4913', '9591']"
   ]
  },
  {
   "cell_type": "code",
   "execution_count": 15,
   "id": "953ac271",
   "metadata": {
    "scrolled": true
   },
   "outputs": [
    {
     "name": "stderr",
     "output_type": "stream",
     "text": [
      "  0%|          | 0/10 [00:00<?, ?it/s]\n",
      "  0%|          | 0/49 [00:00<?, ?it/s]\u001b[A"
     ]
    },
    {
     "name": "stdout",
     "output_type": "stream",
     "text": [
      "LEN SORTED 6\n"
     ]
    },
    {
     "name": "stderr",
     "output_type": "stream",
     "text": [
      "\n",
      "  2%|▏         | 1/49 [00:02<01:40,  2.10s/it]\u001b[A"
     ]
    },
    {
     "name": "stdout",
     "output_type": "stream",
     "text": [
      "LEN SORTED 7\n"
     ]
    },
    {
     "name": "stderr",
     "output_type": "stream",
     "text": [
      "\n",
      "  4%|▍         | 2/49 [00:04<01:47,  2.28s/it]\u001b[A"
     ]
    },
    {
     "name": "stdout",
     "output_type": "stream",
     "text": [
      "LEN SORTED 7\n"
     ]
    },
    {
     "name": "stderr",
     "output_type": "stream",
     "text": [
      "\n",
      "  6%|▌         | 3/49 [00:06<01:46,  2.31s/it]\u001b[A"
     ]
    },
    {
     "name": "stdout",
     "output_type": "stream",
     "text": [
      "LEN SORTED 7\n"
     ]
    },
    {
     "name": "stderr",
     "output_type": "stream",
     "text": [
      "\n",
      "  8%|▊         | 4/49 [00:09<01:49,  2.43s/it]\u001b[A"
     ]
    },
    {
     "name": "stdout",
     "output_type": "stream",
     "text": [
      "LEN SORTED 8\n"
     ]
    },
    {
     "name": "stderr",
     "output_type": "stream",
     "text": [
      "\n",
      " 10%|█         | 5/49 [00:12<01:51,  2.54s/it]\u001b[A"
     ]
    },
    {
     "name": "stdout",
     "output_type": "stream",
     "text": [
      "LEN SORTED 7\n"
     ]
    },
    {
     "name": "stderr",
     "output_type": "stream",
     "text": [
      "\n",
      " 12%|█▏        | 6/49 [00:14<01:48,  2.51s/it]\u001b[A"
     ]
    },
    {
     "name": "stdout",
     "output_type": "stream",
     "text": [
      "LEN SORTED 7\n"
     ]
    },
    {
     "name": "stderr",
     "output_type": "stream",
     "text": [
      "\n",
      " 14%|█▍        | 7/49 [00:17<01:49,  2.61s/it]\u001b[A"
     ]
    },
    {
     "name": "stdout",
     "output_type": "stream",
     "text": [
      "LEN SORTED 6\n"
     ]
    },
    {
     "name": "stderr",
     "output_type": "stream",
     "text": [
      "\n",
      " 16%|█▋        | 8/49 [00:19<01:43,  2.53s/it]\u001b[A"
     ]
    },
    {
     "name": "stdout",
     "output_type": "stream",
     "text": [
      "LEN SORTED 5\n"
     ]
    },
    {
     "name": "stderr",
     "output_type": "stream",
     "text": [
      "\n",
      " 18%|█▊        | 9/49 [00:21<01:35,  2.39s/it]\u001b[A"
     ]
    },
    {
     "name": "stdout",
     "output_type": "stream",
     "text": [
      "LEN SORTED 6\n"
     ]
    },
    {
     "name": "stderr",
     "output_type": "stream",
     "text": [
      "\n",
      " 20%|██        | 10/49 [00:24<01:35,  2.44s/it]\u001b[A"
     ]
    },
    {
     "name": "stdout",
     "output_type": "stream",
     "text": [
      "LEN SORTED 9\n"
     ]
    },
    {
     "name": "stderr",
     "output_type": "stream",
     "text": [
      "\n",
      " 22%|██▏       | 11/49 [00:28<01:46,  2.79s/it]\u001b[A"
     ]
    },
    {
     "name": "stdout",
     "output_type": "stream",
     "text": [
      "LEN SORTED 5\n"
     ]
    },
    {
     "name": "stderr",
     "output_type": "stream",
     "text": [
      "\n",
      " 24%|██▍       | 12/49 [00:29<01:33,  2.52s/it]\u001b[A"
     ]
    },
    {
     "name": "stdout",
     "output_type": "stream",
     "text": [
      "LEN SORTED 7\n"
     ]
    },
    {
     "name": "stderr",
     "output_type": "stream",
     "text": [
      "\n",
      " 27%|██▋       | 13/49 [00:32<01:32,  2.58s/it]\u001b[A"
     ]
    },
    {
     "name": "stdout",
     "output_type": "stream",
     "text": [
      "LEN SORTED 8\n"
     ]
    },
    {
     "name": "stderr",
     "output_type": "stream",
     "text": [
      "\n",
      " 29%|██▊       | 14/49 [00:35<01:36,  2.76s/it]\u001b[A"
     ]
    },
    {
     "name": "stdout",
     "output_type": "stream",
     "text": [
      "LEN SORTED 6\n"
     ]
    },
    {
     "name": "stderr",
     "output_type": "stream",
     "text": [
      "\n",
      " 31%|███       | 15/49 [00:38<01:29,  2.64s/it]\u001b[A"
     ]
    },
    {
     "name": "stdout",
     "output_type": "stream",
     "text": [
      "LEN SORTED 7\n"
     ]
    },
    {
     "name": "stderr",
     "output_type": "stream",
     "text": [
      "\n",
      " 33%|███▎      | 16/49 [00:41<01:32,  2.82s/it]\u001b[A"
     ]
    },
    {
     "name": "stdout",
     "output_type": "stream",
     "text": [
      "LEN SORTED 6\n"
     ]
    },
    {
     "name": "stderr",
     "output_type": "stream",
     "text": [
      "\n",
      " 35%|███▍      | 17/49 [00:44<01:30,  2.84s/it]\u001b[A"
     ]
    },
    {
     "name": "stdout",
     "output_type": "stream",
     "text": [
      "LEN SORTED 5\n"
     ]
    },
    {
     "name": "stderr",
     "output_type": "stream",
     "text": [
      "\n",
      " 37%|███▋      | 18/49 [00:46<01:23,  2.68s/it]\u001b[A"
     ]
    },
    {
     "name": "stdout",
     "output_type": "stream",
     "text": [
      "LEN SORTED 8\n"
     ]
    },
    {
     "name": "stderr",
     "output_type": "stream",
     "text": [
      "\n",
      " 39%|███▉      | 19/49 [00:50<01:27,  2.93s/it]\u001b[A"
     ]
    },
    {
     "name": "stdout",
     "output_type": "stream",
     "text": [
      "LEN SORTED 5\n"
     ]
    },
    {
     "name": "stderr",
     "output_type": "stream",
     "text": [
      "\n",
      " 41%|████      | 20/49 [00:52<01:18,  2.72s/it]\u001b[A"
     ]
    },
    {
     "name": "stdout",
     "output_type": "stream",
     "text": [
      "LEN SORTED 7\n"
     ]
    },
    {
     "name": "stderr",
     "output_type": "stream",
     "text": [
      "\n",
      " 43%|████▎     | 21/49 [00:55<01:20,  2.88s/it]\u001b[A"
     ]
    },
    {
     "name": "stdout",
     "output_type": "stream",
     "text": [
      "LEN SORTED 9\n"
     ]
    },
    {
     "name": "stderr",
     "output_type": "stream",
     "text": [
      "\n",
      " 45%|████▍     | 22/49 [00:59<01:28,  3.27s/it]\u001b[A"
     ]
    },
    {
     "name": "stdout",
     "output_type": "stream",
     "text": [
      "LEN SORTED 7\n"
     ]
    },
    {
     "name": "stderr",
     "output_type": "stream",
     "text": [
      "\n",
      " 47%|████▋     | 23/49 [01:03<01:25,  3.28s/it]\u001b[A"
     ]
    },
    {
     "name": "stdout",
     "output_type": "stream",
     "text": [
      "LEN SORTED 7\n"
     ]
    },
    {
     "name": "stderr",
     "output_type": "stream",
     "text": [
      "\n",
      " 49%|████▉     | 24/49 [01:06<01:23,  3.33s/it]\u001b[A"
     ]
    },
    {
     "name": "stdout",
     "output_type": "stream",
     "text": [
      "LEN SORTED 7\n"
     ]
    },
    {
     "name": "stderr",
     "output_type": "stream",
     "text": [
      "\n",
      " 51%|█████     | 25/49 [01:09<01:20,  3.34s/it]\u001b[A"
     ]
    },
    {
     "name": "stdout",
     "output_type": "stream",
     "text": [
      "LEN SORTED 5\n"
     ]
    },
    {
     "name": "stderr",
     "output_type": "stream",
     "text": [
      "\n",
      " 53%|█████▎    | 26/49 [01:12<01:10,  3.05s/it]\u001b[A"
     ]
    },
    {
     "name": "stdout",
     "output_type": "stream",
     "text": [
      "LEN SORTED 6\n"
     ]
    },
    {
     "name": "stderr",
     "output_type": "stream",
     "text": [
      "\n",
      " 55%|█████▌    | 27/49 [01:15<01:05,  2.98s/it]\u001b[A"
     ]
    },
    {
     "name": "stdout",
     "output_type": "stream",
     "text": [
      "LEN SORTED 4\n"
     ]
    },
    {
     "name": "stderr",
     "output_type": "stream",
     "text": [
      "\n",
      " 57%|█████▋    | 28/49 [01:16<00:55,  2.65s/it]\u001b[A"
     ]
    },
    {
     "name": "stdout",
     "output_type": "stream",
     "text": [
      "LEN SORTED 7\n"
     ]
    },
    {
     "name": "stderr",
     "output_type": "stream",
     "text": [
      "\n",
      " 59%|█████▉    | 29/49 [01:20<00:59,  2.96s/it]\u001b[A"
     ]
    },
    {
     "name": "stdout",
     "output_type": "stream",
     "text": [
      "LEN SORTED 8\n"
     ]
    },
    {
     "name": "stderr",
     "output_type": "stream",
     "text": [
      "\n",
      " 61%|██████    | 30/49 [01:24<01:02,  3.27s/it]\u001b[A"
     ]
    },
    {
     "name": "stdout",
     "output_type": "stream",
     "text": [
      "LEN SORTED 7\n"
     ]
    },
    {
     "name": "stderr",
     "output_type": "stream",
     "text": [
      "\n",
      " 63%|██████▎   | 31/49 [01:28<01:00,  3.35s/it]\u001b[A"
     ]
    },
    {
     "name": "stdout",
     "output_type": "stream",
     "text": [
      "LEN SORTED 7\n"
     ]
    },
    {
     "name": "stderr",
     "output_type": "stream",
     "text": [
      "\n",
      " 65%|██████▌   | 32/49 [01:31<00:57,  3.40s/it]\u001b[A"
     ]
    },
    {
     "name": "stdout",
     "output_type": "stream",
     "text": [
      "LEN SORTED 6\n"
     ]
    },
    {
     "name": "stderr",
     "output_type": "stream",
     "text": [
      "\n",
      " 67%|██████▋   | 33/49 [01:34<00:52,  3.30s/it]\u001b[A"
     ]
    },
    {
     "name": "stdout",
     "output_type": "stream",
     "text": [
      "LEN SORTED 7\n"
     ]
    },
    {
     "name": "stderr",
     "output_type": "stream",
     "text": [
      "\n",
      " 69%|██████▉   | 34/49 [01:38<00:50,  3.40s/it]\u001b[A"
     ]
    },
    {
     "name": "stdout",
     "output_type": "stream",
     "text": [
      "LEN SORTED 6\n"
     ]
    },
    {
     "name": "stderr",
     "output_type": "stream",
     "text": [
      "\n",
      " 71%|███████▏  | 35/49 [01:41<00:46,  3.30s/it]\u001b[A"
     ]
    },
    {
     "name": "stdout",
     "output_type": "stream",
     "text": [
      "LEN SORTED 6\n"
     ]
    },
    {
     "name": "stderr",
     "output_type": "stream",
     "text": [
      "\n",
      " 73%|███████▎  | 36/49 [01:44<00:42,  3.24s/it]\u001b[A"
     ]
    },
    {
     "name": "stdout",
     "output_type": "stream",
     "text": [
      "LEN SORTED 3\n"
     ]
    },
    {
     "name": "stderr",
     "output_type": "stream",
     "text": [
      "\n",
      " 76%|███████▌  | 37/49 [01:46<00:33,  2.78s/it]\u001b[A"
     ]
    },
    {
     "name": "stdout",
     "output_type": "stream",
     "text": [
      "LEN SORTED 5\n"
     ]
    },
    {
     "name": "stderr",
     "output_type": "stream",
     "text": [
      "\n",
      " 78%|███████▊  | 38/49 [01:48<00:30,  2.73s/it]\u001b[A"
     ]
    },
    {
     "name": "stdout",
     "output_type": "stream",
     "text": [
      "LEN SORTED 7\n"
     ]
    },
    {
     "name": "stderr",
     "output_type": "stream",
     "text": [
      "\n",
      " 80%|███████▉  | 39/49 [01:52<00:30,  3.03s/it]\u001b[A"
     ]
    },
    {
     "name": "stdout",
     "output_type": "stream",
     "text": [
      "LEN SORTED 7\n"
     ]
    },
    {
     "name": "stderr",
     "output_type": "stream",
     "text": [
      "\n",
      " 82%|████████▏ | 40/49 [01:56<00:29,  3.25s/it]\u001b[A"
     ]
    },
    {
     "name": "stdout",
     "output_type": "stream",
     "text": [
      "LEN SORTED 6\n"
     ]
    },
    {
     "name": "stderr",
     "output_type": "stream",
     "text": [
      "\n",
      " 84%|████████▎ | 41/49 [01:59<00:26,  3.26s/it]\u001b[A"
     ]
    },
    {
     "name": "stdout",
     "output_type": "stream",
     "text": [
      "LEN SORTED 8\n"
     ]
    },
    {
     "name": "stderr",
     "output_type": "stream",
     "text": [
      "\n",
      " 86%|████████▌ | 42/49 [02:03<00:23,  3.37s/it]\u001b[A"
     ]
    },
    {
     "name": "stdout",
     "output_type": "stream",
     "text": [
      "LEN SORTED 7\n"
     ]
    },
    {
     "name": "stderr",
     "output_type": "stream",
     "text": [
      "\n",
      " 88%|████████▊ | 43/49 [02:05<00:17,  2.98s/it]\u001b[A"
     ]
    },
    {
     "name": "stdout",
     "output_type": "stream",
     "text": [
      "LEN SORTED 5\n"
     ]
    },
    {
     "name": "stderr",
     "output_type": "stream",
     "text": [
      "\n",
      " 90%|████████▉ | 44/49 [02:07<00:14,  2.81s/it]\u001b[A"
     ]
    },
    {
     "name": "stdout",
     "output_type": "stream",
     "text": [
      "LEN SORTED 5\n"
     ]
    },
    {
     "name": "stderr",
     "output_type": "stream",
     "text": [
      "\n",
      " 92%|█████████▏| 45/49 [02:10<00:11,  2.87s/it]\u001b[A"
     ]
    },
    {
     "name": "stdout",
     "output_type": "stream",
     "text": [
      "LEN SORTED 7\n"
     ]
    },
    {
     "name": "stderr",
     "output_type": "stream",
     "text": [
      "\n",
      " 94%|█████████▍| 46/49 [02:15<00:09,  3.27s/it]\u001b[A"
     ]
    },
    {
     "name": "stdout",
     "output_type": "stream",
     "text": [
      "LEN SORTED 7\n"
     ]
    },
    {
     "name": "stderr",
     "output_type": "stream",
     "text": [
      "\n",
      " 96%|█████████▌| 47/49 [02:19<00:07,  3.57s/it]\u001b[A"
     ]
    },
    {
     "name": "stdout",
     "output_type": "stream",
     "text": [
      "LEN SORTED 8\n"
     ]
    },
    {
     "name": "stderr",
     "output_type": "stream",
     "text": [
      "\n",
      " 98%|█████████▊| 48/49 [02:24<00:04,  4.02s/it]\u001b[A"
     ]
    },
    {
     "name": "stdout",
     "output_type": "stream",
     "text": [
      "LEN SORTED 6\n"
     ]
    },
    {
     "name": "stderr",
     "output_type": "stream",
     "text": [
      "\n",
      "100%|██████████| 49/49 [02:28<00:00,  3.02s/it]\u001b[A\n",
      "\n",
      "100%|██████████| 49/49 [00:00<00:00, 330951.52it/s]\n",
      " 10%|█         | 1/10 [02:28<22:13, 148.18s/it]\n",
      "  0%|          | 0/49 [00:00<?, ?it/s]\u001b[A"
     ]
    },
    {
     "name": "stdout",
     "output_type": "stream",
     "text": [
      "LEN SORTED 5\n"
     ]
    },
    {
     "name": "stderr",
     "output_type": "stream",
     "text": [
      "\n",
      "  2%|▏         | 1/49 [00:01<01:22,  1.71s/it]\u001b[A"
     ]
    },
    {
     "name": "stdout",
     "output_type": "stream",
     "text": [
      "LEN SORTED 7\n"
     ]
    },
    {
     "name": "stderr",
     "output_type": "stream",
     "text": [
      "\n",
      "  4%|▍         | 2/49 [00:04<01:36,  2.06s/it]\u001b[A"
     ]
    },
    {
     "name": "stdout",
     "output_type": "stream",
     "text": [
      "LEN SORTED 7\n"
     ]
    },
    {
     "name": "stderr",
     "output_type": "stream",
     "text": [
      "\n",
      "  6%|▌         | 3/49 [00:06<01:38,  2.14s/it]\u001b[A"
     ]
    },
    {
     "name": "stdout",
     "output_type": "stream",
     "text": [
      "LEN SORTED 7\n"
     ]
    },
    {
     "name": "stderr",
     "output_type": "stream",
     "text": [
      "\n",
      "  8%|▊         | 4/49 [00:08<01:39,  2.21s/it]\u001b[A"
     ]
    },
    {
     "name": "stdout",
     "output_type": "stream",
     "text": [
      "LEN SORTED 7\n"
     ]
    },
    {
     "name": "stderr",
     "output_type": "stream",
     "text": [
      "\n",
      " 10%|█         | 5/49 [00:10<01:39,  2.26s/it]\u001b[A"
     ]
    },
    {
     "name": "stdout",
     "output_type": "stream",
     "text": [
      "LEN SORTED 7\n"
     ]
    },
    {
     "name": "stderr",
     "output_type": "stream",
     "text": [
      "\n",
      " 12%|█▏        | 6/49 [00:13<01:39,  2.31s/it]\u001b[A"
     ]
    },
    {
     "name": "stdout",
     "output_type": "stream",
     "text": [
      "LEN SORTED 6\n"
     ]
    },
    {
     "name": "stderr",
     "output_type": "stream",
     "text": [
      "\n",
      " 14%|█▍        | 7/49 [00:15<01:35,  2.28s/it]\u001b[A"
     ]
    },
    {
     "name": "stdout",
     "output_type": "stream",
     "text": [
      "LEN SORTED 5\n"
     ]
    },
    {
     "name": "stderr",
     "output_type": "stream",
     "text": [
      "\n",
      " 16%|█▋        | 8/49 [00:17<01:28,  2.16s/it]\u001b[A"
     ]
    },
    {
     "name": "stdout",
     "output_type": "stream",
     "text": [
      "LEN SORTED 6\n"
     ]
    },
    {
     "name": "stderr",
     "output_type": "stream",
     "text": [
      "\n",
      " 18%|█▊        | 9/49 [00:19<01:26,  2.16s/it]\u001b[A"
     ]
    },
    {
     "name": "stdout",
     "output_type": "stream",
     "text": [
      "LEN SORTED 6\n"
     ]
    },
    {
     "name": "stderr",
     "output_type": "stream",
     "text": [
      "\n",
      " 20%|██        | 10/49 [00:22<01:28,  2.27s/it]\u001b[A"
     ]
    },
    {
     "name": "stdout",
     "output_type": "stream",
     "text": [
      "LEN SORTED 8\n"
     ]
    },
    {
     "name": "stderr",
     "output_type": "stream",
     "text": [
      "\n",
      " 22%|██▏       | 11/49 [00:25<01:35,  2.51s/it]\u001b[A"
     ]
    },
    {
     "name": "stdout",
     "output_type": "stream",
     "text": [
      "LEN SORTED 5\n"
     ]
    },
    {
     "name": "stderr",
     "output_type": "stream",
     "text": [
      "\n",
      " 24%|██▍       | 12/49 [00:27<01:27,  2.36s/it]\u001b[A"
     ]
    },
    {
     "name": "stdout",
     "output_type": "stream",
     "text": [
      "LEN SORTED 7\n"
     ]
    },
    {
     "name": "stderr",
     "output_type": "stream",
     "text": [
      "\n",
      " 27%|██▋       | 13/49 [00:29<01:27,  2.44s/it]\u001b[A"
     ]
    },
    {
     "name": "stdout",
     "output_type": "stream",
     "text": [
      "LEN SORTED 7\n"
     ]
    },
    {
     "name": "stderr",
     "output_type": "stream",
     "text": [
      "\n",
      " 29%|██▊       | 14/49 [00:32<01:27,  2.49s/it]\u001b[A"
     ]
    },
    {
     "name": "stdout",
     "output_type": "stream",
     "text": [
      "LEN SORTED 7\n"
     ]
    },
    {
     "name": "stderr",
     "output_type": "stream",
     "text": [
      "\n",
      " 31%|███       | 15/49 [00:35<01:26,  2.53s/it]\u001b[A"
     ]
    },
    {
     "name": "stdout",
     "output_type": "stream",
     "text": [
      "LEN SORTED 7\n"
     ]
    },
    {
     "name": "stderr",
     "output_type": "stream",
     "text": [
      "\n",
      " 33%|███▎      | 16/49 [00:37<01:26,  2.62s/it]\u001b[A"
     ]
    },
    {
     "name": "stdout",
     "output_type": "stream",
     "text": [
      "LEN SORTED 6\n"
     ]
    },
    {
     "name": "stderr",
     "output_type": "stream",
     "text": [
      "\n",
      " 35%|███▍      | 17/49 [00:40<01:22,  2.59s/it]\u001b[A"
     ]
    },
    {
     "name": "stdout",
     "output_type": "stream",
     "text": [
      "LEN SORTED 5\n"
     ]
    },
    {
     "name": "stderr",
     "output_type": "stream",
     "text": [
      "\n",
      " 37%|███▋      | 18/49 [00:42<01:15,  2.45s/it]\u001b[A"
     ]
    },
    {
     "name": "stdout",
     "output_type": "stream",
     "text": [
      "LEN SORTED 8\n"
     ]
    },
    {
     "name": "stderr",
     "output_type": "stream",
     "text": [
      "\n",
      " 39%|███▉      | 19/49 [00:46<01:23,  2.78s/it]\u001b[A"
     ]
    },
    {
     "name": "stdout",
     "output_type": "stream",
     "text": [
      "LEN SORTED 5\n"
     ]
    },
    {
     "name": "stderr",
     "output_type": "stream",
     "text": [
      "\n",
      " 41%|████      | 20/49 [00:48<01:15,  2.60s/it]\u001b[A"
     ]
    },
    {
     "name": "stdout",
     "output_type": "stream",
     "text": [
      "LEN SORTED 7\n"
     ]
    },
    {
     "name": "stderr",
     "output_type": "stream",
     "text": [
      "\n",
      " 43%|████▎     | 21/49 [00:51<01:15,  2.71s/it]\u001b[A"
     ]
    },
    {
     "name": "stdout",
     "output_type": "stream",
     "text": [
      "LEN SORTED 9\n"
     ]
    },
    {
     "name": "stderr",
     "output_type": "stream",
     "text": [
      "\n",
      " 45%|████▍     | 22/49 [00:55<01:23,  3.11s/it]\u001b[A"
     ]
    },
    {
     "name": "stdout",
     "output_type": "stream",
     "text": [
      "LEN SORTED 7\n"
     ]
    },
    {
     "name": "stderr",
     "output_type": "stream",
     "text": [
      "\n",
      " 47%|████▋     | 23/49 [00:58<01:22,  3.16s/it]\u001b[A"
     ]
    },
    {
     "name": "stdout",
     "output_type": "stream",
     "text": [
      "LEN SORTED 7\n"
     ]
    },
    {
     "name": "stderr",
     "output_type": "stream",
     "text": [
      "\n",
      " 49%|████▉     | 24/49 [01:01<01:19,  3.19s/it]\u001b[A"
     ]
    },
    {
     "name": "stdout",
     "output_type": "stream",
     "text": [
      "LEN SORTED 7\n"
     ]
    },
    {
     "name": "stderr",
     "output_type": "stream",
     "text": [
      "\n",
      " 51%|█████     | 25/49 [01:05<01:17,  3.22s/it]\u001b[A"
     ]
    },
    {
     "name": "stdout",
     "output_type": "stream",
     "text": [
      "LEN SORTED 6\n"
     ]
    },
    {
     "name": "stderr",
     "output_type": "stream",
     "text": [
      "\n",
      " 53%|█████▎    | 26/49 [01:07<01:11,  3.11s/it]\u001b[A"
     ]
    },
    {
     "name": "stdout",
     "output_type": "stream",
     "text": [
      "LEN SORTED 5\n"
     ]
    },
    {
     "name": "stderr",
     "output_type": "stream",
     "text": [
      "\n",
      " 55%|█████▌    | 27/49 [01:10<01:03,  2.91s/it]\u001b[A"
     ]
    },
    {
     "name": "stdout",
     "output_type": "stream",
     "text": [
      "LEN SORTED 4\n"
     ]
    },
    {
     "name": "stderr",
     "output_type": "stream",
     "text": [
      "\n",
      " 57%|█████▋    | 28/49 [01:12<00:54,  2.62s/it]\u001b[A"
     ]
    },
    {
     "name": "stdout",
     "output_type": "stream",
     "text": [
      "LEN SORTED 7\n"
     ]
    },
    {
     "name": "stderr",
     "output_type": "stream",
     "text": [
      "\n",
      " 59%|█████▉    | 29/49 [01:16<01:00,  3.04s/it]\u001b[A"
     ]
    },
    {
     "name": "stdout",
     "output_type": "stream",
     "text": [
      "LEN SORTED 7\n"
     ]
    },
    {
     "name": "stderr",
     "output_type": "stream",
     "text": [
      "\n",
      " 61%|██████    | 30/49 [01:19<01:00,  3.17s/it]\u001b[A"
     ]
    },
    {
     "name": "stdout",
     "output_type": "stream",
     "text": [
      "LEN SORTED 7\n"
     ]
    },
    {
     "name": "stderr",
     "output_type": "stream",
     "text": [
      "\n",
      " 63%|██████▎   | 31/49 [01:23<00:59,  3.30s/it]\u001b[A"
     ]
    },
    {
     "name": "stdout",
     "output_type": "stream",
     "text": [
      "LEN SORTED 7\n"
     ]
    },
    {
     "name": "stderr",
     "output_type": "stream",
     "text": [
      "\n",
      " 65%|██████▌   | 32/49 [01:27<00:58,  3.42s/it]\u001b[A"
     ]
    },
    {
     "name": "stdout",
     "output_type": "stream",
     "text": [
      "LEN SORTED 6\n"
     ]
    },
    {
     "name": "stderr",
     "output_type": "stream",
     "text": [
      "\n",
      " 67%|██████▋   | 33/49 [01:30<00:52,  3.30s/it]\u001b[A"
     ]
    },
    {
     "name": "stdout",
     "output_type": "stream",
     "text": [
      "LEN SORTED 7\n"
     ]
    },
    {
     "name": "stderr",
     "output_type": "stream",
     "text": [
      "\n",
      " 69%|██████▉   | 34/49 [01:33<00:50,  3.35s/it]\u001b[A"
     ]
    },
    {
     "name": "stdout",
     "output_type": "stream",
     "text": [
      "LEN SORTED 6\n"
     ]
    },
    {
     "name": "stderr",
     "output_type": "stream",
     "text": [
      "\n",
      " 71%|███████▏  | 35/49 [01:36<00:46,  3.29s/it]\u001b[A"
     ]
    },
    {
     "name": "stdout",
     "output_type": "stream",
     "text": [
      "LEN SORTED 4\n"
     ]
    },
    {
     "name": "stderr",
     "output_type": "stream",
     "text": [
      "\n",
      " 73%|███████▎  | 36/49 [01:38<00:38,  2.93s/it]\u001b[A"
     ]
    },
    {
     "name": "stdout",
     "output_type": "stream",
     "text": [
      "LEN SORTED 4\n"
     ]
    },
    {
     "name": "stderr",
     "output_type": "stream",
     "text": [
      "\n",
      " 76%|███████▌  | 37/49 [01:41<00:32,  2.70s/it]\u001b[A"
     ]
    },
    {
     "name": "stdout",
     "output_type": "stream",
     "text": [
      "LEN SORTED 5\n"
     ]
    },
    {
     "name": "stderr",
     "output_type": "stream",
     "text": [
      "\n",
      " 78%|███████▊  | 38/49 [01:43<00:29,  2.67s/it]\u001b[A"
     ]
    },
    {
     "name": "stdout",
     "output_type": "stream",
     "text": [
      "LEN SORTED 6\n"
     ]
    },
    {
     "name": "stderr",
     "output_type": "stream",
     "text": [
      "\n",
      " 80%|███████▉  | 39/49 [01:46<00:28,  2.81s/it]\u001b[A"
     ]
    },
    {
     "name": "stdout",
     "output_type": "stream",
     "text": [
      "LEN SORTED 7\n"
     ]
    },
    {
     "name": "stderr",
     "output_type": "stream",
     "text": [
      "\n",
      " 82%|████████▏ | 40/49 [01:50<00:27,  3.09s/it]\u001b[A"
     ]
    },
    {
     "name": "stdout",
     "output_type": "stream",
     "text": [
      "LEN SORTED 6\n"
     ]
    },
    {
     "name": "stderr",
     "output_type": "stream",
     "text": [
      "\n",
      " 84%|████████▎ | 41/49 [01:53<00:25,  3.13s/it]\u001b[A"
     ]
    },
    {
     "name": "stdout",
     "output_type": "stream",
     "text": [
      "LEN SORTED 8\n"
     ]
    },
    {
     "name": "stderr",
     "output_type": "stream",
     "text": [
      "\n",
      " 86%|████████▌ | 42/49 [01:57<00:22,  3.23s/it]\u001b[A"
     ]
    },
    {
     "name": "stdout",
     "output_type": "stream",
     "text": [
      "LEN SORTED 5\n"
     ]
    },
    {
     "name": "stderr",
     "output_type": "stream",
     "text": [
      "\n",
      " 88%|████████▊ | 43/49 [01:58<00:16,  2.72s/it]\u001b[A"
     ]
    },
    {
     "name": "stdout",
     "output_type": "stream",
     "text": [
      "LEN SORTED 6\n"
     ]
    },
    {
     "name": "stderr",
     "output_type": "stream",
     "text": [
      "\n",
      " 90%|████████▉ | 44/49 [02:01<00:13,  2.65s/it]\u001b[A"
     ]
    },
    {
     "name": "stdout",
     "output_type": "stream",
     "text": [
      "LEN SORTED 5\n"
     ]
    },
    {
     "name": "stderr",
     "output_type": "stream",
     "text": [
      "\n",
      " 92%|█████████▏| 45/49 [02:04<00:11,  2.77s/it]\u001b[A"
     ]
    },
    {
     "name": "stdout",
     "output_type": "stream",
     "text": [
      "LEN SORTED 6\n"
     ]
    },
    {
     "name": "stderr",
     "output_type": "stream",
     "text": [
      "\n",
      " 94%|█████████▍| 46/49 [02:07<00:09,  3.02s/it]\u001b[A"
     ]
    },
    {
     "name": "stdout",
     "output_type": "stream",
     "text": [
      "LEN SORTED 7\n"
     ]
    },
    {
     "name": "stderr",
     "output_type": "stream",
     "text": [
      "\n",
      " 96%|█████████▌| 47/49 [02:12<00:06,  3.41s/it]\u001b[A"
     ]
    },
    {
     "name": "stdout",
     "output_type": "stream",
     "text": [
      "LEN SORTED 7\n"
     ]
    },
    {
     "name": "stderr",
     "output_type": "stream",
     "text": [
      "\n",
      " 98%|█████████▊| 48/49 [02:16<00:03,  3.67s/it]\u001b[A"
     ]
    },
    {
     "name": "stdout",
     "output_type": "stream",
     "text": [
      "LEN SORTED 6\n"
     ]
    },
    {
     "name": "stderr",
     "output_type": "stream",
     "text": [
      "\n",
      "100%|██████████| 49/49 [02:20<00:00,  2.87s/it]\u001b[A\n",
      "\n",
      "100%|██████████| 49/49 [00:00<00:00, 552475.53it/s]\n",
      " 20%|██        | 2/10 [04:48<19:08, 143.62s/it]\n",
      "  0%|          | 0/49 [00:00<?, ?it/s]\u001b[A"
     ]
    },
    {
     "name": "stdout",
     "output_type": "stream",
     "text": [
      "LEN SORTED 5\n"
     ]
    },
    {
     "name": "stderr",
     "output_type": "stream",
     "text": [
      "\n",
      "  2%|▏         | 1/49 [00:01<01:24,  1.77s/it]\u001b[A"
     ]
    },
    {
     "name": "stdout",
     "output_type": "stream",
     "text": [
      "LEN SORTED 8\n"
     ]
    },
    {
     "name": "stderr",
     "output_type": "stream",
     "text": [
      "\n",
      "  4%|▍         | 2/49 [00:04<01:47,  2.29s/it]\u001b[A"
     ]
    },
    {
     "name": "stdout",
     "output_type": "stream",
     "text": [
      "LEN SORTED 7\n"
     ]
    },
    {
     "name": "stderr",
     "output_type": "stream",
     "text": [
      "\n",
      "  6%|▌         | 3/49 [00:07<01:56,  2.53s/it]\u001b[A"
     ]
    },
    {
     "name": "stdout",
     "output_type": "stream",
     "text": [
      "LEN SORTED 8\n"
     ]
    },
    {
     "name": "stderr",
     "output_type": "stream",
     "text": [
      "\n",
      "  8%|▊         | 4/49 [00:09<01:56,  2.60s/it]\u001b[A"
     ]
    },
    {
     "name": "stdout",
     "output_type": "stream",
     "text": [
      "LEN SORTED 8\n"
     ]
    },
    {
     "name": "stderr",
     "output_type": "stream",
     "text": [
      "\n",
      " 10%|█         | 5/49 [00:12<01:56,  2.64s/it]\u001b[A"
     ]
    },
    {
     "name": "stdout",
     "output_type": "stream",
     "text": [
      "LEN SORTED 9\n"
     ]
    },
    {
     "name": "stderr",
     "output_type": "stream",
     "text": [
      "\n",
      " 12%|█▏        | 6/49 [00:15<02:01,  2.82s/it]\u001b[A"
     ]
    },
    {
     "name": "stdout",
     "output_type": "stream",
     "text": [
      "LEN SORTED 7\n"
     ]
    },
    {
     "name": "stderr",
     "output_type": "stream",
     "text": [
      "\n",
      " 14%|█▍        | 7/49 [00:18<01:57,  2.79s/it]\u001b[A"
     ]
    },
    {
     "name": "stdout",
     "output_type": "stream",
     "text": [
      "LEN SORTED 6\n"
     ]
    },
    {
     "name": "stderr",
     "output_type": "stream",
     "text": [
      "\n",
      " 16%|█▋        | 8/49 [00:20<01:47,  2.61s/it]\u001b[A"
     ]
    },
    {
     "name": "stdout",
     "output_type": "stream",
     "text": [
      "LEN SORTED 7\n"
     ]
    },
    {
     "name": "stderr",
     "output_type": "stream",
     "text": [
      "\n",
      " 18%|█▊        | 9/49 [00:23<01:44,  2.62s/it]\u001b[A"
     ]
    },
    {
     "name": "stdout",
     "output_type": "stream",
     "text": [
      "LEN SORTED 6\n"
     ]
    },
    {
     "name": "stderr",
     "output_type": "stream",
     "text": [
      "\n",
      " 20%|██        | 10/49 [00:25<01:40,  2.58s/it]\u001b[A"
     ]
    },
    {
     "name": "stdout",
     "output_type": "stream",
     "text": [
      "LEN SORTED 9\n"
     ]
    },
    {
     "name": "stderr",
     "output_type": "stream",
     "text": [
      "\n",
      " 22%|██▏       | 11/49 [00:29<01:53,  2.98s/it]\u001b[A"
     ]
    },
    {
     "name": "stdout",
     "output_type": "stream",
     "text": [
      "LEN SORTED 5\n"
     ]
    },
    {
     "name": "stderr",
     "output_type": "stream",
     "text": [
      "\n",
      " 24%|██▍       | 12/49 [00:31<01:40,  2.73s/it]\u001b[A"
     ]
    },
    {
     "name": "stdout",
     "output_type": "stream",
     "text": [
      "LEN SORTED 7\n"
     ]
    },
    {
     "name": "stderr",
     "output_type": "stream",
     "text": [
      "\n",
      " 27%|██▋       | 13/49 [00:34<01:37,  2.71s/it]\u001b[A"
     ]
    },
    {
     "name": "stdout",
     "output_type": "stream",
     "text": [
      "LEN SORTED 8\n"
     ]
    },
    {
     "name": "stderr",
     "output_type": "stream",
     "text": [
      "\n",
      " 29%|██▊       | 14/49 [00:37<01:37,  2.79s/it]\u001b[A"
     ]
    },
    {
     "name": "stdout",
     "output_type": "stream",
     "text": [
      "LEN SORTED 6\n"
     ]
    },
    {
     "name": "stderr",
     "output_type": "stream",
     "text": [
      "\n",
      " 31%|███       | 15/49 [00:39<01:29,  2.62s/it]\u001b[A"
     ]
    },
    {
     "name": "stdout",
     "output_type": "stream",
     "text": [
      "LEN SORTED 7\n"
     ]
    },
    {
     "name": "stderr",
     "output_type": "stream",
     "text": [
      "\n",
      " 33%|███▎      | 16/49 [00:42<01:28,  2.67s/it]\u001b[A"
     ]
    },
    {
     "name": "stdout",
     "output_type": "stream",
     "text": [
      "LEN SORTED 6\n"
     ]
    },
    {
     "name": "stderr",
     "output_type": "stream",
     "text": [
      "\n",
      " 35%|███▍      | 17/49 [00:45<01:23,  2.61s/it]\u001b[A"
     ]
    },
    {
     "name": "stdout",
     "output_type": "stream",
     "text": [
      "LEN SORTED 5\n"
     ]
    },
    {
     "name": "stderr",
     "output_type": "stream",
     "text": [
      "\n",
      " 37%|███▋      | 18/49 [00:47<01:16,  2.46s/it]\u001b[A"
     ]
    },
    {
     "name": "stdout",
     "output_type": "stream",
     "text": [
      "LEN SORTED 8\n"
     ]
    },
    {
     "name": "stderr",
     "output_type": "stream",
     "text": [
      "\n",
      " 39%|███▉      | 19/49 [00:50<01:22,  2.76s/it]\u001b[A"
     ]
    },
    {
     "name": "stdout",
     "output_type": "stream",
     "text": [
      "LEN SORTED 5\n"
     ]
    },
    {
     "name": "stderr",
     "output_type": "stream",
     "text": [
      "\n",
      " 41%|████      | 20/49 [00:53<01:16,  2.65s/it]\u001b[A"
     ]
    },
    {
     "name": "stdout",
     "output_type": "stream",
     "text": [
      "LEN SORTED 7\n"
     ]
    },
    {
     "name": "stderr",
     "output_type": "stream",
     "text": [
      "\n",
      " 43%|████▎     | 21/49 [00:56<01:18,  2.79s/it]\u001b[A"
     ]
    },
    {
     "name": "stdout",
     "output_type": "stream",
     "text": [
      "LEN SORTED 9\n"
     ]
    },
    {
     "name": "stderr",
     "output_type": "stream",
     "text": [
      "\n",
      " 45%|████▍     | 22/49 [01:00<01:23,  3.11s/it]\u001b[A"
     ]
    },
    {
     "name": "stdout",
     "output_type": "stream",
     "text": [
      "LEN SORTED 7\n"
     ]
    },
    {
     "name": "stderr",
     "output_type": "stream",
     "text": [
      "\n",
      " 47%|████▋     | 23/49 [01:03<01:21,  3.12s/it]\u001b[A"
     ]
    },
    {
     "name": "stdout",
     "output_type": "stream",
     "text": [
      "LEN SORTED 7\n"
     ]
    },
    {
     "name": "stderr",
     "output_type": "stream",
     "text": [
      "\n",
      " 49%|████▉     | 24/49 [01:06<01:18,  3.14s/it]\u001b[A"
     ]
    },
    {
     "name": "stdout",
     "output_type": "stream",
     "text": [
      "LEN SORTED 6\n"
     ]
    },
    {
     "name": "stderr",
     "output_type": "stream",
     "text": [
      "\n",
      " 51%|█████     | 25/49 [01:09<01:13,  3.07s/it]\u001b[A"
     ]
    },
    {
     "name": "stdout",
     "output_type": "stream",
     "text": [
      "LEN SORTED 6\n"
     ]
    },
    {
     "name": "stderr",
     "output_type": "stream",
     "text": [
      "\n",
      " 53%|█████▎    | 26/49 [01:12<01:09,  3.02s/it]\u001b[A"
     ]
    },
    {
     "name": "stdout",
     "output_type": "stream",
     "text": [
      "LEN SORTED 6\n"
     ]
    },
    {
     "name": "stderr",
     "output_type": "stream",
     "text": [
      "\n",
      " 55%|█████▌    | 27/49 [01:14<01:04,  2.95s/it]\u001b[A"
     ]
    },
    {
     "name": "stdout",
     "output_type": "stream",
     "text": [
      "LEN SORTED 4\n"
     ]
    },
    {
     "name": "stderr",
     "output_type": "stream",
     "text": [
      "\n",
      " 57%|█████▋    | 28/49 [01:16<00:55,  2.62s/it]\u001b[A"
     ]
    },
    {
     "name": "stdout",
     "output_type": "stream",
     "text": [
      "LEN SORTED 6\n"
     ]
    },
    {
     "name": "stderr",
     "output_type": "stream",
     "text": [
      "\n",
      " 59%|█████▉    | 29/49 [01:19<00:53,  2.68s/it]\u001b[A"
     ]
    },
    {
     "name": "stdout",
     "output_type": "stream",
     "text": [
      "LEN SORTED 7\n"
     ]
    },
    {
     "name": "stderr",
     "output_type": "stream",
     "text": [
      "\n",
      " 61%|██████    | 30/49 [01:22<00:54,  2.89s/it]\u001b[A"
     ]
    },
    {
     "name": "stdout",
     "output_type": "stream",
     "text": [
      "LEN SORTED 7\n"
     ]
    },
    {
     "name": "stderr",
     "output_type": "stream",
     "text": [
      "\n",
      " 63%|██████▎   | 31/49 [01:26<00:54,  3.05s/it]\u001b[A"
     ]
    },
    {
     "name": "stdout",
     "output_type": "stream",
     "text": [
      "LEN SORTED 7\n"
     ]
    },
    {
     "name": "stderr",
     "output_type": "stream",
     "text": [
      "\n",
      " 65%|██████▌   | 32/49 [01:31<00:59,  3.53s/it]\u001b[A"
     ]
    },
    {
     "name": "stdout",
     "output_type": "stream",
     "text": [
      "LEN SORTED 6\n"
     ]
    },
    {
     "name": "stderr",
     "output_type": "stream",
     "text": [
      "\n",
      " 67%|██████▋   | 33/49 [01:34<00:54,  3.38s/it]\u001b[A"
     ]
    },
    {
     "name": "stdout",
     "output_type": "stream",
     "text": [
      "LEN SORTED 7\n"
     ]
    },
    {
     "name": "stderr",
     "output_type": "stream",
     "text": [
      "\n",
      " 69%|██████▉   | 34/49 [01:37<00:51,  3.45s/it]\u001b[A"
     ]
    },
    {
     "name": "stdout",
     "output_type": "stream",
     "text": [
      "LEN SORTED 5\n"
     ]
    },
    {
     "name": "stderr",
     "output_type": "stream",
     "text": [
      "\n",
      " 71%|███████▏  | 35/49 [01:40<00:45,  3.23s/it]\u001b[A"
     ]
    },
    {
     "name": "stdout",
     "output_type": "stream",
     "text": [
      "LEN SORTED 6\n"
     ]
    },
    {
     "name": "stderr",
     "output_type": "stream",
     "text": [
      "\n",
      " 73%|███████▎  | 36/49 [01:43<00:41,  3.21s/it]\u001b[A"
     ]
    },
    {
     "name": "stdout",
     "output_type": "stream",
     "text": [
      "LEN SORTED 2\n"
     ]
    },
    {
     "name": "stderr",
     "output_type": "stream",
     "text": [
      "\n",
      " 76%|███████▌  | 37/49 [01:44<00:31,  2.62s/it]\u001b[A"
     ]
    },
    {
     "name": "stdout",
     "output_type": "stream",
     "text": [
      "LEN SORTED 5\n"
     ]
    },
    {
     "name": "stderr",
     "output_type": "stream",
     "text": [
      "\n",
      " 78%|███████▊  | 38/49 [01:47<00:29,  2.65s/it]\u001b[A"
     ]
    },
    {
     "name": "stdout",
     "output_type": "stream",
     "text": [
      "LEN SORTED 7\n"
     ]
    },
    {
     "name": "stderr",
     "output_type": "stream",
     "text": [
      "\n",
      " 80%|███████▉  | 39/49 [01:51<00:29,  2.94s/it]\u001b[A"
     ]
    },
    {
     "name": "stdout",
     "output_type": "stream",
     "text": [
      "LEN SORTED 7\n"
     ]
    },
    {
     "name": "stderr",
     "output_type": "stream",
     "text": [
      "\n",
      " 82%|████████▏ | 40/49 [01:54<00:28,  3.17s/it]\u001b[A"
     ]
    },
    {
     "name": "stdout",
     "output_type": "stream",
     "text": [
      "LEN SORTED 6\n"
     ]
    },
    {
     "name": "stderr",
     "output_type": "stream",
     "text": [
      "\n",
      " 84%|████████▎ | 41/49 [01:58<00:25,  3.18s/it]\u001b[A"
     ]
    },
    {
     "name": "stdout",
     "output_type": "stream",
     "text": [
      "LEN SORTED 8\n"
     ]
    },
    {
     "name": "stderr",
     "output_type": "stream",
     "text": [
      "\n",
      " 86%|████████▌ | 42/49 [02:01<00:22,  3.28s/it]\u001b[A"
     ]
    },
    {
     "name": "stdout",
     "output_type": "stream",
     "text": [
      "LEN SORTED 6\n"
     ]
    },
    {
     "name": "stderr",
     "output_type": "stream",
     "text": [
      "\n",
      " 88%|████████▊ | 43/49 [02:03<00:17,  2.85s/it]\u001b[A"
     ]
    },
    {
     "name": "stdout",
     "output_type": "stream",
     "text": [
      "LEN SORTED 7\n"
     ]
    },
    {
     "name": "stderr",
     "output_type": "stream",
     "text": [
      "\n",
      " 90%|████████▉ | 44/49 [02:06<00:14,  2.88s/it]\u001b[A"
     ]
    },
    {
     "name": "stdout",
     "output_type": "stream",
     "text": [
      "LEN SORTED 4\n"
     ]
    },
    {
     "name": "stderr",
     "output_type": "stream",
     "text": [
      "\n",
      " 92%|█████████▏| 45/49 [02:08<00:11,  2.76s/it]\u001b[A"
     ]
    },
    {
     "name": "stdout",
     "output_type": "stream",
     "text": [
      "LEN SORTED 6\n"
     ]
    },
    {
     "name": "stderr",
     "output_type": "stream",
     "text": [
      "\n",
      " 94%|█████████▍| 46/49 [02:12<00:09,  3.01s/it]\u001b[A"
     ]
    },
    {
     "name": "stdout",
     "output_type": "stream",
     "text": [
      "LEN SORTED 6\n"
     ]
    },
    {
     "name": "stderr",
     "output_type": "stream",
     "text": [
      "\n",
      " 96%|█████████▌| 47/49 [02:16<00:06,  3.23s/it]\u001b[A"
     ]
    },
    {
     "name": "stdout",
     "output_type": "stream",
     "text": [
      "LEN SORTED 7\n"
     ]
    },
    {
     "name": "stderr",
     "output_type": "stream",
     "text": [
      "\n",
      " 98%|█████████▊| 48/49 [02:20<00:03,  3.64s/it]\u001b[A"
     ]
    },
    {
     "name": "stdout",
     "output_type": "stream",
     "text": [
      "LEN SORTED 7\n"
     ]
    },
    {
     "name": "stderr",
     "output_type": "stream",
     "text": [
      "\n",
      "100%|██████████| 49/49 [02:25<00:00,  2.97s/it]\u001b[A\n",
      "\n",
      "100%|██████████| 49/49 [00:00<00:00, 457730.28it/s]\n",
      " 30%|███       | 3/10 [07:14<16:51, 144.50s/it]\n",
      "  0%|          | 0/49 [00:00<?, ?it/s]\u001b[A"
     ]
    },
    {
     "name": "stdout",
     "output_type": "stream",
     "text": [
      "LEN SORTED 5\n"
     ]
    },
    {
     "name": "stderr",
     "output_type": "stream",
     "text": [
      "\n",
      "  2%|▏         | 1/49 [00:01<01:25,  1.79s/it]\u001b[A"
     ]
    },
    {
     "name": "stdout",
     "output_type": "stream",
     "text": [
      "LEN SORTED 7\n"
     ]
    },
    {
     "name": "stderr",
     "output_type": "stream",
     "text": [
      "\n",
      "  4%|▍         | 2/49 [00:04<01:42,  2.17s/it]\u001b[A"
     ]
    },
    {
     "name": "stdout",
     "output_type": "stream",
     "text": [
      "LEN SORTED 7\n"
     ]
    },
    {
     "name": "stderr",
     "output_type": "stream",
     "text": [
      "\n",
      "  6%|▌         | 3/49 [00:06<01:42,  2.23s/it]\u001b[A"
     ]
    },
    {
     "name": "stdout",
     "output_type": "stream",
     "text": [
      "LEN SORTED 7\n"
     ]
    },
    {
     "name": "stderr",
     "output_type": "stream",
     "text": [
      "\n",
      "  8%|▊         | 4/49 [00:08<01:43,  2.31s/it]\u001b[A"
     ]
    },
    {
     "name": "stdout",
     "output_type": "stream",
     "text": [
      "LEN SORTED 7\n"
     ]
    },
    {
     "name": "stderr",
     "output_type": "stream",
     "text": [
      "\n",
      " 10%|█         | 5/49 [00:11<01:43,  2.36s/it]\u001b[A"
     ]
    },
    {
     "name": "stdout",
     "output_type": "stream",
     "text": [
      "LEN SORTED 8\n"
     ]
    },
    {
     "name": "stderr",
     "output_type": "stream",
     "text": [
      "\n",
      " 12%|█▏        | 6/49 [00:14<01:49,  2.54s/it]\u001b[A"
     ]
    },
    {
     "name": "stdout",
     "output_type": "stream",
     "text": [
      "LEN SORTED 8\n"
     ]
    },
    {
     "name": "stderr",
     "output_type": "stream",
     "text": [
      "\n",
      " 14%|█▍        | 7/49 [00:17<01:55,  2.75s/it]\u001b[A"
     ]
    },
    {
     "name": "stdout",
     "output_type": "stream",
     "text": [
      "LEN SORTED 5\n"
     ]
    },
    {
     "name": "stderr",
     "output_type": "stream",
     "text": [
      "\n",
      " 16%|█▋        | 8/49 [00:19<01:44,  2.56s/it]\u001b[A"
     ]
    },
    {
     "name": "stdout",
     "output_type": "stream",
     "text": [
      "LEN SORTED 5\n"
     ]
    },
    {
     "name": "stderr",
     "output_type": "stream",
     "text": [
      "\n",
      " 18%|█▊        | 9/49 [00:21<01:36,  2.40s/it]\u001b[A"
     ]
    },
    {
     "name": "stdout",
     "output_type": "stream",
     "text": [
      "LEN SORTED 6\n"
     ]
    },
    {
     "name": "stderr",
     "output_type": "stream",
     "text": [
      "\n",
      " 20%|██        | 10/49 [00:23<01:31,  2.34s/it]\u001b[A"
     ]
    },
    {
     "name": "stdout",
     "output_type": "stream",
     "text": [
      "LEN SORTED 9\n"
     ]
    },
    {
     "name": "stderr",
     "output_type": "stream",
     "text": [
      "\n",
      " 22%|██▏       | 11/49 [00:27<01:40,  2.63s/it]\u001b[A"
     ]
    },
    {
     "name": "stdout",
     "output_type": "stream",
     "text": [
      "LEN SORTED 5\n"
     ]
    },
    {
     "name": "stderr",
     "output_type": "stream",
     "text": [
      "\n",
      " 24%|██▍       | 12/49 [00:29<01:28,  2.40s/it]\u001b[A"
     ]
    },
    {
     "name": "stdout",
     "output_type": "stream",
     "text": [
      "LEN SORTED 7\n"
     ]
    },
    {
     "name": "stderr",
     "output_type": "stream",
     "text": [
      "\n",
      " 27%|██▋       | 13/49 [00:31<01:27,  2.44s/it]\u001b[A"
     ]
    },
    {
     "name": "stdout",
     "output_type": "stream",
     "text": [
      "LEN SORTED 7\n"
     ]
    },
    {
     "name": "stderr",
     "output_type": "stream",
     "text": [
      "\n",
      " 29%|██▊       | 14/49 [00:34<01:26,  2.47s/it]\u001b[A"
     ]
    },
    {
     "name": "stdout",
     "output_type": "stream",
     "text": [
      "LEN SORTED 6\n"
     ]
    },
    {
     "name": "stderr",
     "output_type": "stream",
     "text": [
      "\n",
      " 31%|███       | 15/49 [00:36<01:21,  2.41s/it]\u001b[A"
     ]
    },
    {
     "name": "stdout",
     "output_type": "stream",
     "text": [
      "LEN SORTED 7\n"
     ]
    },
    {
     "name": "stderr",
     "output_type": "stream",
     "text": [
      "\n",
      " 33%|███▎      | 16/49 [00:39<01:23,  2.55s/it]\u001b[A"
     ]
    },
    {
     "name": "stdout",
     "output_type": "stream",
     "text": [
      "LEN SORTED 5\n"
     ]
    },
    {
     "name": "stderr",
     "output_type": "stream",
     "text": [
      "\n",
      " 35%|███▍      | 17/49 [00:41<01:18,  2.46s/it]\u001b[A"
     ]
    },
    {
     "name": "stdout",
     "output_type": "stream",
     "text": [
      "LEN SORTED 5\n"
     ]
    },
    {
     "name": "stderr",
     "output_type": "stream",
     "text": [
      "\n",
      " 37%|███▋      | 18/49 [00:43<01:13,  2.38s/it]\u001b[A"
     ]
    },
    {
     "name": "stdout",
     "output_type": "stream",
     "text": [
      "LEN SORTED 7\n"
     ]
    },
    {
     "name": "stderr",
     "output_type": "stream",
     "text": [
      "\n",
      " 39%|███▉      | 19/49 [00:47<01:23,  2.77s/it]\u001b[A"
     ]
    },
    {
     "name": "stdout",
     "output_type": "stream",
     "text": [
      "LEN SORTED 6\n"
     ]
    },
    {
     "name": "stderr",
     "output_type": "stream",
     "text": [
      "\n",
      " 41%|████      | 20/49 [00:50<01:19,  2.73s/it]\u001b[A"
     ]
    },
    {
     "name": "stdout",
     "output_type": "stream",
     "text": [
      "LEN SORTED 7\n"
     ]
    },
    {
     "name": "stderr",
     "output_type": "stream",
     "text": [
      "\n",
      " 43%|████▎     | 21/49 [00:53<01:20,  2.88s/it]\u001b[A"
     ]
    },
    {
     "name": "stdout",
     "output_type": "stream",
     "text": [
      "LEN SORTED 8\n"
     ]
    },
    {
     "name": "stderr",
     "output_type": "stream",
     "text": [
      "\n",
      " 45%|████▍     | 22/49 [00:56<01:22,  3.07s/it]\u001b[A"
     ]
    },
    {
     "name": "stdout",
     "output_type": "stream",
     "text": [
      "LEN SORTED 7\n"
     ]
    },
    {
     "name": "stderr",
     "output_type": "stream",
     "text": [
      "\n",
      " 47%|████▋     | 23/49 [00:59<01:20,  3.11s/it]\u001b[A"
     ]
    },
    {
     "name": "stdout",
     "output_type": "stream",
     "text": [
      "LEN SORTED 7\n"
     ]
    },
    {
     "name": "stderr",
     "output_type": "stream",
     "text": [
      "\n",
      " 49%|████▉     | 24/49 [01:03<01:18,  3.13s/it]\u001b[A"
     ]
    },
    {
     "name": "stdout",
     "output_type": "stream",
     "text": [
      "LEN SORTED 7\n"
     ]
    },
    {
     "name": "stderr",
     "output_type": "stream",
     "text": [
      "\n",
      " 51%|█████     | 25/49 [01:06<01:15,  3.13s/it]\u001b[A"
     ]
    },
    {
     "name": "stdout",
     "output_type": "stream",
     "text": [
      "LEN SORTED 6\n"
     ]
    },
    {
     "name": "stderr",
     "output_type": "stream",
     "text": [
      "\n",
      " 53%|█████▎    | 26/49 [01:09<01:09,  3.01s/it]\u001b[A"
     ]
    },
    {
     "name": "stdout",
     "output_type": "stream",
     "text": [
      "LEN SORTED 6\n"
     ]
    },
    {
     "name": "stderr",
     "output_type": "stream",
     "text": [
      "\n",
      " 55%|█████▌    | 27/49 [01:11<01:04,  2.92s/it]\u001b[A"
     ]
    },
    {
     "name": "stdout",
     "output_type": "stream",
     "text": [
      "LEN SORTED 4\n"
     ]
    },
    {
     "name": "stderr",
     "output_type": "stream",
     "text": [
      "\n",
      " 57%|█████▋    | 28/49 [01:13<00:54,  2.61s/it]\u001b[A"
     ]
    },
    {
     "name": "stdout",
     "output_type": "stream",
     "text": [
      "LEN SORTED 7\n"
     ]
    },
    {
     "name": "stderr",
     "output_type": "stream",
     "text": [
      "\n",
      " 59%|█████▉    | 29/49 [01:16<00:56,  2.81s/it]\u001b[A"
     ]
    },
    {
     "name": "stdout",
     "output_type": "stream",
     "text": [
      "LEN SORTED 7\n"
     ]
    },
    {
     "name": "stderr",
     "output_type": "stream",
     "text": [
      "\n",
      " 61%|██████    | 30/49 [01:20<00:58,  3.08s/it]\u001b[A"
     ]
    },
    {
     "name": "stdout",
     "output_type": "stream",
     "text": [
      "LEN SORTED 7\n"
     ]
    },
    {
     "name": "stderr",
     "output_type": "stream",
     "text": [
      "\n",
      " 63%|██████▎   | 31/49 [01:24<00:58,  3.26s/it]\u001b[A"
     ]
    },
    {
     "name": "stdout",
     "output_type": "stream",
     "text": [
      "LEN SORTED 7\n"
     ]
    },
    {
     "name": "stderr",
     "output_type": "stream",
     "text": [
      "\n",
      " 65%|██████▌   | 32/49 [01:27<00:57,  3.40s/it]\u001b[A"
     ]
    },
    {
     "name": "stdout",
     "output_type": "stream",
     "text": [
      "LEN SORTED 6\n"
     ]
    },
    {
     "name": "stderr",
     "output_type": "stream",
     "text": [
      "\n",
      " 67%|██████▋   | 33/49 [01:31<00:52,  3.29s/it]\u001b[A"
     ]
    },
    {
     "name": "stdout",
     "output_type": "stream",
     "text": [
      "LEN SORTED 7\n"
     ]
    },
    {
     "name": "stderr",
     "output_type": "stream",
     "text": [
      "\n",
      " 69%|██████▉   | 34/49 [01:34<00:52,  3.48s/it]\u001b[A"
     ]
    },
    {
     "name": "stdout",
     "output_type": "stream",
     "text": [
      "LEN SORTED 5\n"
     ]
    },
    {
     "name": "stderr",
     "output_type": "stream",
     "text": [
      "\n",
      " 71%|███████▏  | 35/49 [01:37<00:45,  3.26s/it]\u001b[A"
     ]
    },
    {
     "name": "stdout",
     "output_type": "stream",
     "text": [
      "LEN SORTED 5\n"
     ]
    },
    {
     "name": "stderr",
     "output_type": "stream",
     "text": [
      "\n",
      " 73%|███████▎  | 36/49 [01:40<00:40,  3.14s/it]\u001b[A"
     ]
    },
    {
     "name": "stdout",
     "output_type": "stream",
     "text": [
      "LEN SORTED 2\n"
     ]
    },
    {
     "name": "stderr",
     "output_type": "stream",
     "text": [
      "\n",
      " 76%|███████▌  | 37/49 [01:41<00:30,  2.57s/it]\u001b[A"
     ]
    },
    {
     "name": "stdout",
     "output_type": "stream",
     "text": [
      "LEN SORTED 5\n"
     ]
    },
    {
     "name": "stderr",
     "output_type": "stream",
     "text": [
      "\n",
      " 78%|███████▊  | 38/49 [01:44<00:28,  2.63s/it]\u001b[A"
     ]
    },
    {
     "name": "stdout",
     "output_type": "stream",
     "text": [
      "LEN SORTED 7\n"
     ]
    },
    {
     "name": "stderr",
     "output_type": "stream",
     "text": [
      "\n",
      " 80%|███████▉  | 39/49 [01:48<00:29,  2.95s/it]\u001b[A"
     ]
    },
    {
     "name": "stdout",
     "output_type": "stream",
     "text": [
      "LEN SORTED 7\n"
     ]
    },
    {
     "name": "stderr",
     "output_type": "stream",
     "text": [
      "\n",
      " 82%|████████▏ | 40/49 [01:51<00:28,  3.18s/it]\u001b[A"
     ]
    },
    {
     "name": "stdout",
     "output_type": "stream",
     "text": [
      "LEN SORTED 5\n"
     ]
    },
    {
     "name": "stderr",
     "output_type": "stream",
     "text": [
      "\n",
      " 84%|████████▎ | 41/49 [01:54<00:24,  3.06s/it]\u001b[A"
     ]
    },
    {
     "name": "stdout",
     "output_type": "stream",
     "text": [
      "LEN SORTED 8\n"
     ]
    },
    {
     "name": "stderr",
     "output_type": "stream",
     "text": [
      "\n",
      " 86%|████████▌ | 42/49 [01:58<00:22,  3.16s/it]\u001b[A"
     ]
    },
    {
     "name": "stdout",
     "output_type": "stream",
     "text": [
      "LEN SORTED 7\n"
     ]
    },
    {
     "name": "stderr",
     "output_type": "stream",
     "text": [
      "\n",
      " 88%|████████▊ | 43/49 [02:00<00:17,  2.96s/it]\u001b[A"
     ]
    },
    {
     "name": "stdout",
     "output_type": "stream",
     "text": [
      "LEN SORTED 6\n"
     ]
    },
    {
     "name": "stderr",
     "output_type": "stream",
     "text": [
      "\n",
      " 90%|████████▉ | 44/49 [02:03<00:14,  2.83s/it]\u001b[A"
     ]
    },
    {
     "name": "stdout",
     "output_type": "stream",
     "text": [
      "LEN SORTED 5\n"
     ]
    },
    {
     "name": "stderr",
     "output_type": "stream",
     "text": [
      "\n",
      " 92%|█████████▏| 45/49 [02:06<00:11,  3.00s/it]\u001b[A"
     ]
    },
    {
     "name": "stdout",
     "output_type": "stream",
     "text": [
      "LEN SORTED 7\n"
     ]
    },
    {
     "name": "stderr",
     "output_type": "stream",
     "text": [
      "\n",
      " 94%|█████████▍| 46/49 [02:11<00:10,  3.62s/it]\u001b[A"
     ]
    },
    {
     "name": "stdout",
     "output_type": "stream",
     "text": [
      "LEN SORTED 7\n"
     ]
    },
    {
     "name": "stderr",
     "output_type": "stream",
     "text": [
      "\n",
      " 96%|█████████▌| 47/49 [02:16<00:08,  4.02s/it]\u001b[A"
     ]
    },
    {
     "name": "stdout",
     "output_type": "stream",
     "text": [
      "LEN SORTED 7\n"
     ]
    },
    {
     "name": "stderr",
     "output_type": "stream",
     "text": [
      "\n",
      " 98%|█████████▊| 48/49 [02:21<00:04,  4.15s/it]\u001b[A"
     ]
    },
    {
     "name": "stdout",
     "output_type": "stream",
     "text": [
      "LEN SORTED 6\n"
     ]
    },
    {
     "name": "stderr",
     "output_type": "stream",
     "text": [
      "\n",
      "100%|██████████| 49/49 [02:25<00:00,  2.96s/it]\u001b[A\n",
      "\n",
      "100%|██████████| 49/49 [00:00<00:00, 583866.18it/s]\n",
      " 40%|████      | 4/10 [09:39<14:28, 144.78s/it]\n",
      "  0%|          | 0/49 [00:00<?, ?it/s]\u001b[A"
     ]
    },
    {
     "name": "stdout",
     "output_type": "stream",
     "text": [
      "LEN SORTED 5\n"
     ]
    },
    {
     "name": "stderr",
     "output_type": "stream",
     "text": [
      "\n",
      "  2%|▏         | 1/49 [00:01<01:24,  1.76s/it]\u001b[A"
     ]
    },
    {
     "name": "stdout",
     "output_type": "stream",
     "text": [
      "LEN SORTED 8\n"
     ]
    },
    {
     "name": "stderr",
     "output_type": "stream",
     "text": [
      "\n",
      "  4%|▍         | 2/49 [00:04<01:49,  2.34s/it]\u001b[A"
     ]
    },
    {
     "name": "stdout",
     "output_type": "stream",
     "text": [
      "LEN SORTED 7\n"
     ]
    },
    {
     "name": "stderr",
     "output_type": "stream",
     "text": [
      "\n",
      "  6%|▌         | 3/49 [00:06<01:46,  2.32s/it]\u001b[A"
     ]
    },
    {
     "name": "stdout",
     "output_type": "stream",
     "text": [
      "LEN SORTED 7\n"
     ]
    },
    {
     "name": "stderr",
     "output_type": "stream",
     "text": [
      "\n",
      "  8%|▊         | 4/49 [00:09<01:45,  2.35s/it]\u001b[A"
     ]
    },
    {
     "name": "stdout",
     "output_type": "stream",
     "text": [
      "LEN SORTED 7\n"
     ]
    },
    {
     "name": "stderr",
     "output_type": "stream",
     "text": [
      "\n",
      " 10%|█         | 5/49 [00:11<01:44,  2.38s/it]\u001b[A"
     ]
    },
    {
     "name": "stdout",
     "output_type": "stream",
     "text": [
      "LEN SORTED 7\n"
     ]
    },
    {
     "name": "stderr",
     "output_type": "stream",
     "text": [
      "\n",
      " 12%|█▏        | 6/49 [00:14<01:42,  2.39s/it]\u001b[A"
     ]
    },
    {
     "name": "stdout",
     "output_type": "stream",
     "text": [
      "LEN SORTED 8\n"
     ]
    },
    {
     "name": "stderr",
     "output_type": "stream",
     "text": [
      "\n",
      " 14%|█▍        | 7/49 [00:16<01:47,  2.56s/it]\u001b[A"
     ]
    },
    {
     "name": "stdout",
     "output_type": "stream",
     "text": [
      "LEN SORTED 5\n"
     ]
    },
    {
     "name": "stderr",
     "output_type": "stream",
     "text": [
      "\n",
      " 16%|█▋        | 8/49 [00:18<01:37,  2.37s/it]\u001b[A"
     ]
    },
    {
     "name": "stdout",
     "output_type": "stream",
     "text": [
      "LEN SORTED 6\n"
     ]
    },
    {
     "name": "stderr",
     "output_type": "stream",
     "text": [
      "\n",
      " 18%|█▊        | 9/49 [00:21<01:31,  2.30s/it]\u001b[A"
     ]
    },
    {
     "name": "stdout",
     "output_type": "stream",
     "text": [
      "LEN SORTED 5\n"
     ]
    },
    {
     "name": "stderr",
     "output_type": "stream",
     "text": [
      "\n",
      " 20%|██        | 10/49 [00:22<01:24,  2.17s/it]\u001b[A"
     ]
    },
    {
     "name": "stdout",
     "output_type": "stream",
     "text": [
      "LEN SORTED 9\n"
     ]
    },
    {
     "name": "stderr",
     "output_type": "stream",
     "text": [
      "\n",
      " 22%|██▏       | 11/49 [00:26<01:36,  2.54s/it]\u001b[A"
     ]
    },
    {
     "name": "stdout",
     "output_type": "stream",
     "text": [
      "LEN SORTED 5\n"
     ]
    },
    {
     "name": "stderr",
     "output_type": "stream",
     "text": [
      "\n",
      " 24%|██▍       | 12/49 [00:28<01:28,  2.39s/it]\u001b[A"
     ]
    },
    {
     "name": "stdout",
     "output_type": "stream",
     "text": [
      "LEN SORTED 7\n"
     ]
    },
    {
     "name": "stderr",
     "output_type": "stream",
     "text": [
      "\n",
      " 27%|██▋       | 13/49 [00:31<01:29,  2.48s/it]\u001b[A"
     ]
    },
    {
     "name": "stdout",
     "output_type": "stream",
     "text": [
      "LEN SORTED 8\n"
     ]
    },
    {
     "name": "stderr",
     "output_type": "stream",
     "text": [
      "\n",
      " 29%|██▊       | 14/49 [00:34<01:32,  2.64s/it]\u001b[A"
     ]
    },
    {
     "name": "stdout",
     "output_type": "stream",
     "text": [
      "LEN SORTED 7\n"
     ]
    },
    {
     "name": "stderr",
     "output_type": "stream",
     "text": [
      "\n",
      " 31%|███       | 15/49 [00:38<01:48,  3.21s/it]\u001b[A"
     ]
    },
    {
     "name": "stdout",
     "output_type": "stream",
     "text": [
      "LEN SORTED 7\n"
     ]
    },
    {
     "name": "stderr",
     "output_type": "stream",
     "text": [
      "\n",
      " 33%|███▎      | 16/49 [00:42<01:48,  3.28s/it]\u001b[A"
     ]
    },
    {
     "name": "stdout",
     "output_type": "stream",
     "text": [
      "LEN SORTED 5\n"
     ]
    },
    {
     "name": "stderr",
     "output_type": "stream",
     "text": [
      "\n",
      " 35%|███▍      | 17/49 [00:44<01:40,  3.13s/it]\u001b[A"
     ]
    },
    {
     "name": "stdout",
     "output_type": "stream",
     "text": [
      "LEN SORTED 5\n"
     ]
    },
    {
     "name": "stderr",
     "output_type": "stream",
     "text": [
      "\n",
      " 37%|███▋      | 18/49 [00:47<01:28,  2.86s/it]\u001b[A"
     ]
    },
    {
     "name": "stdout",
     "output_type": "stream",
     "text": [
      "LEN SORTED 8\n"
     ]
    },
    {
     "name": "stderr",
     "output_type": "stream",
     "text": [
      "\n",
      " 39%|███▉      | 19/49 [00:51<01:35,  3.19s/it]\u001b[A"
     ]
    },
    {
     "name": "stdout",
     "output_type": "stream",
     "text": [
      "LEN SORTED 7\n"
     ]
    },
    {
     "name": "stderr",
     "output_type": "stream",
     "text": [
      "\n",
      " 41%|████      | 20/49 [00:54<01:35,  3.29s/it]\u001b[A"
     ]
    },
    {
     "name": "stdout",
     "output_type": "stream",
     "text": [
      "LEN SORTED 8\n"
     ]
    },
    {
     "name": "stderr",
     "output_type": "stream",
     "text": [
      "\n",
      " 43%|████▎     | 21/49 [00:58<01:37,  3.47s/it]\u001b[A"
     ]
    },
    {
     "name": "stdout",
     "output_type": "stream",
     "text": [
      "LEN SORTED 7\n"
     ]
    },
    {
     "name": "stderr",
     "output_type": "stream",
     "text": [
      "\n",
      " 45%|████▍     | 22/49 [01:02<01:36,  3.56s/it]\u001b[A"
     ]
    },
    {
     "name": "stdout",
     "output_type": "stream",
     "text": [
      "LEN SORTED 7\n"
     ]
    },
    {
     "name": "stderr",
     "output_type": "stream",
     "text": [
      "\n",
      " 47%|████▋     | 23/49 [01:05<01:29,  3.42s/it]\u001b[A"
     ]
    },
    {
     "name": "stdout",
     "output_type": "stream",
     "text": [
      "LEN SORTED 7\n"
     ]
    },
    {
     "name": "stderr",
     "output_type": "stream",
     "text": [
      "\n",
      " 49%|████▉     | 24/49 [01:08<01:23,  3.34s/it]\u001b[A"
     ]
    },
    {
     "name": "stdout",
     "output_type": "stream",
     "text": [
      "LEN SORTED 6\n"
     ]
    },
    {
     "name": "stderr",
     "output_type": "stream",
     "text": [
      "\n",
      " 51%|█████     | 25/49 [01:11<01:18,  3.26s/it]\u001b[A"
     ]
    },
    {
     "name": "stdout",
     "output_type": "stream",
     "text": [
      "LEN SORTED 7\n"
     ]
    },
    {
     "name": "stderr",
     "output_type": "stream",
     "text": [
      "\n",
      " 53%|█████▎    | 26/49 [01:14<01:15,  3.28s/it]\u001b[A"
     ]
    },
    {
     "name": "stdout",
     "output_type": "stream",
     "text": [
      "LEN SORTED 6\n"
     ]
    },
    {
     "name": "stderr",
     "output_type": "stream",
     "text": [
      "\n",
      " 55%|█████▌    | 27/49 [01:17<01:11,  3.24s/it]\u001b[A"
     ]
    },
    {
     "name": "stdout",
     "output_type": "stream",
     "text": [
      "LEN SORTED 4\n"
     ]
    },
    {
     "name": "stderr",
     "output_type": "stream",
     "text": [
      "\n",
      " 57%|█████▋    | 28/49 [01:19<01:00,  2.87s/it]\u001b[A"
     ]
    },
    {
     "name": "stdout",
     "output_type": "stream",
     "text": [
      "LEN SORTED 7\n"
     ]
    },
    {
     "name": "stderr",
     "output_type": "stream",
     "text": [
      "\n",
      " 59%|█████▉    | 29/49 [01:23<01:02,  3.11s/it]\u001b[A"
     ]
    },
    {
     "name": "stdout",
     "output_type": "stream",
     "text": [
      "LEN SORTED 7\n"
     ]
    },
    {
     "name": "stderr",
     "output_type": "stream",
     "text": [
      "\n",
      " 61%|██████    | 30/49 [01:27<01:02,  3.31s/it]\u001b[A"
     ]
    },
    {
     "name": "stdout",
     "output_type": "stream",
     "text": [
      "LEN SORTED 7\n"
     ]
    },
    {
     "name": "stderr",
     "output_type": "stream",
     "text": [
      "\n",
      " 63%|██████▎   | 31/49 [01:31<01:04,  3.57s/it]\u001b[A"
     ]
    },
    {
     "name": "stdout",
     "output_type": "stream",
     "text": [
      "LEN SORTED 7\n"
     ]
    },
    {
     "name": "stderr",
     "output_type": "stream",
     "text": [
      "\n",
      " 65%|██████▌   | 32/49 [01:35<01:01,  3.64s/it]\u001b[A"
     ]
    },
    {
     "name": "stdout",
     "output_type": "stream",
     "text": [
      "LEN SORTED 7\n"
     ]
    },
    {
     "name": "stderr",
     "output_type": "stream",
     "text": [
      "\n",
      " 67%|██████▋   | 33/49 [01:39<00:58,  3.63s/it]\u001b[A"
     ]
    },
    {
     "name": "stdout",
     "output_type": "stream",
     "text": [
      "LEN SORTED 6\n"
     ]
    },
    {
     "name": "stderr",
     "output_type": "stream",
     "text": [
      "\n",
      " 69%|██████▉   | 34/49 [01:42<00:53,  3.57s/it]\u001b[A"
     ]
    },
    {
     "name": "stdout",
     "output_type": "stream",
     "text": [
      "LEN SORTED 6\n"
     ]
    },
    {
     "name": "stderr",
     "output_type": "stream",
     "text": [
      "\n",
      " 71%|███████▏  | 35/49 [01:45<00:49,  3.51s/it]\u001b[A"
     ]
    },
    {
     "name": "stdout",
     "output_type": "stream",
     "text": [
      "LEN SORTED 6\n"
     ]
    },
    {
     "name": "stderr",
     "output_type": "stream",
     "text": [
      "\n",
      " 73%|███████▎  | 36/49 [01:49<00:45,  3.48s/it]\u001b[A"
     ]
    },
    {
     "name": "stdout",
     "output_type": "stream",
     "text": [
      "LEN SORTED 2\n"
     ]
    },
    {
     "name": "stderr",
     "output_type": "stream",
     "text": [
      "\n",
      " 76%|███████▌  | 37/49 [01:50<00:33,  2.82s/it]\u001b[A"
     ]
    },
    {
     "name": "stdout",
     "output_type": "stream",
     "text": [
      "LEN SORTED 6\n"
     ]
    },
    {
     "name": "stderr",
     "output_type": "stream",
     "text": [
      "\n",
      " 78%|███████▊  | 38/49 [01:53<00:32,  2.95s/it]\u001b[A"
     ]
    },
    {
     "name": "stdout",
     "output_type": "stream",
     "text": [
      "LEN SORTED 7\n"
     ]
    },
    {
     "name": "stderr",
     "output_type": "stream",
     "text": [
      "\n",
      " 80%|███████▉  | 39/49 [01:57<00:31,  3.20s/it]\u001b[A"
     ]
    },
    {
     "name": "stdout",
     "output_type": "stream",
     "text": [
      "LEN SORTED 7\n"
     ]
    },
    {
     "name": "stderr",
     "output_type": "stream",
     "text": [
      "\n",
      " 82%|████████▏ | 40/49 [02:01<00:30,  3.40s/it]\u001b[A"
     ]
    },
    {
     "name": "stdout",
     "output_type": "stream",
     "text": [
      "LEN SORTED 6\n"
     ]
    },
    {
     "name": "stderr",
     "output_type": "stream",
     "text": [
      "\n",
      " 84%|████████▎ | 41/49 [02:04<00:27,  3.40s/it]\u001b[A"
     ]
    },
    {
     "name": "stdout",
     "output_type": "stream",
     "text": [
      "LEN SORTED 8\n"
     ]
    },
    {
     "name": "stderr",
     "output_type": "stream",
     "text": [
      "\n",
      " 86%|████████▌ | 42/49 [02:08<00:24,  3.45s/it]\u001b[A"
     ]
    },
    {
     "name": "stdout",
     "output_type": "stream",
     "text": [
      "LEN SORTED 6\n"
     ]
    },
    {
     "name": "stderr",
     "output_type": "stream",
     "text": [
      "\n",
      " 88%|████████▊ | 43/49 [02:10<00:17,  2.99s/it]\u001b[A"
     ]
    },
    {
     "name": "stdout",
     "output_type": "stream",
     "text": [
      "LEN SORTED 5\n"
     ]
    },
    {
     "name": "stderr",
     "output_type": "stream",
     "text": [
      "\n",
      " 90%|████████▉ | 44/49 [02:12<00:13,  2.77s/it]\u001b[A"
     ]
    },
    {
     "name": "stdout",
     "output_type": "stream",
     "text": [
      "LEN SORTED 6\n"
     ]
    },
    {
     "name": "stderr",
     "output_type": "stream",
     "text": [
      "\n",
      " 92%|█████████▏| 45/49 [02:16<00:12,  3.07s/it]\u001b[A"
     ]
    },
    {
     "name": "stdout",
     "output_type": "stream",
     "text": [
      "LEN SORTED 5\n"
     ]
    },
    {
     "name": "stderr",
     "output_type": "stream",
     "text": [
      "\n",
      " 94%|█████████▍| 46/49 [02:19<00:09,  3.14s/it]\u001b[A"
     ]
    },
    {
     "name": "stdout",
     "output_type": "stream",
     "text": [
      "LEN SORTED 7\n"
     ]
    },
    {
     "name": "stderr",
     "output_type": "stream",
     "text": [
      "\n",
      " 96%|█████████▌| 47/49 [02:24<00:07,  3.59s/it]\u001b[A"
     ]
    },
    {
     "name": "stdout",
     "output_type": "stream",
     "text": [
      "LEN SORTED 8\n"
     ]
    },
    {
     "name": "stderr",
     "output_type": "stream",
     "text": [
      "\n",
      " 98%|█████████▊| 48/49 [02:29<00:04,  4.11s/it]\u001b[A"
     ]
    },
    {
     "name": "stdout",
     "output_type": "stream",
     "text": [
      "LEN SORTED 6\n"
     ]
    },
    {
     "name": "stderr",
     "output_type": "stream",
     "text": [
      "\n",
      "100%|██████████| 49/49 [02:33<00:00,  3.13s/it]\u001b[A\n",
      "\n",
      "100%|██████████| 49/49 [00:00<00:00, 619038.84it/s]\n",
      " 50%|█████     | 5/10 [12:14<12:21, 148.34s/it]\n",
      "  0%|          | 0/49 [00:00<?, ?it/s]\u001b[A"
     ]
    },
    {
     "name": "stdout",
     "output_type": "stream",
     "text": [
      "LEN SORTED 5\n"
     ]
    },
    {
     "name": "stderr",
     "output_type": "stream",
     "text": [
      "\n",
      "  2%|▏         | 1/49 [00:01<01:23,  1.74s/it]\u001b[A"
     ]
    },
    {
     "name": "stdout",
     "output_type": "stream",
     "text": [
      "LEN SORTED 7\n"
     ]
    },
    {
     "name": "stderr",
     "output_type": "stream",
     "text": [
      "\n",
      "  4%|▍         | 2/49 [00:04<01:40,  2.13s/it]\u001b[A"
     ]
    },
    {
     "name": "stdout",
     "output_type": "stream",
     "text": [
      "LEN SORTED 7\n"
     ]
    },
    {
     "name": "stderr",
     "output_type": "stream",
     "text": [
      "\n",
      "  6%|▌         | 3/49 [00:06<01:43,  2.25s/it]\u001b[A"
     ]
    },
    {
     "name": "stdout",
     "output_type": "stream",
     "text": [
      "LEN SORTED 7\n"
     ]
    },
    {
     "name": "stderr",
     "output_type": "stream",
     "text": [
      "\n",
      "  8%|▊         | 4/49 [00:08<01:44,  2.32s/it]\u001b[A"
     ]
    },
    {
     "name": "stdout",
     "output_type": "stream",
     "text": [
      "LEN SORTED 7\n"
     ]
    },
    {
     "name": "stderr",
     "output_type": "stream",
     "text": [
      "\n",
      " 10%|█         | 5/49 [00:11<01:43,  2.36s/it]\u001b[A"
     ]
    },
    {
     "name": "stdout",
     "output_type": "stream",
     "text": [
      "LEN SORTED 7\n"
     ]
    },
    {
     "name": "stderr",
     "output_type": "stream",
     "text": [
      "\n",
      " 12%|█▏        | 6/49 [00:13<01:43,  2.41s/it]\u001b[A"
     ]
    },
    {
     "name": "stdout",
     "output_type": "stream",
     "text": [
      "LEN SORTED 7\n"
     ]
    },
    {
     "name": "stderr",
     "output_type": "stream",
     "text": [
      "\n",
      " 14%|█▍        | 7/49 [00:16<01:43,  2.47s/it]\u001b[A"
     ]
    },
    {
     "name": "stdout",
     "output_type": "stream",
     "text": [
      "LEN SORTED 5\n"
     ]
    },
    {
     "name": "stderr",
     "output_type": "stream",
     "text": [
      "\n",
      " 16%|█▋        | 8/49 [00:18<01:34,  2.31s/it]\u001b[A"
     ]
    },
    {
     "name": "stdout",
     "output_type": "stream",
     "text": [
      "LEN SORTED 6\n"
     ]
    },
    {
     "name": "stderr",
     "output_type": "stream",
     "text": [
      "\n",
      " 18%|█▊        | 9/49 [00:20<01:31,  2.28s/it]\u001b[A"
     ]
    },
    {
     "name": "stdout",
     "output_type": "stream",
     "text": [
      "LEN SORTED 6\n"
     ]
    },
    {
     "name": "stderr",
     "output_type": "stream",
     "text": [
      "\n",
      " 20%|██        | 10/49 [00:23<01:29,  2.30s/it]\u001b[A"
     ]
    },
    {
     "name": "stdout",
     "output_type": "stream",
     "text": [
      "LEN SORTED 9\n"
     ]
    },
    {
     "name": "stderr",
     "output_type": "stream",
     "text": [
      "\n",
      " 22%|██▏       | 11/49 [00:26<01:40,  2.63s/it]\u001b[A"
     ]
    },
    {
     "name": "stdout",
     "output_type": "stream",
     "text": [
      "LEN SORTED 5\n"
     ]
    },
    {
     "name": "stderr",
     "output_type": "stream",
     "text": [
      "\n",
      " 24%|██▍       | 12/49 [00:28<01:29,  2.43s/it]\u001b[A"
     ]
    },
    {
     "name": "stdout",
     "output_type": "stream",
     "text": [
      "LEN SORTED 6\n"
     ]
    },
    {
     "name": "stderr",
     "output_type": "stream",
     "text": [
      "\n",
      " 27%|██▋       | 13/49 [00:30<01:26,  2.39s/it]\u001b[A"
     ]
    },
    {
     "name": "stdout",
     "output_type": "stream",
     "text": [
      "LEN SORTED 7\n"
     ]
    },
    {
     "name": "stderr",
     "output_type": "stream",
     "text": [
      "\n",
      " 29%|██▊       | 14/49 [00:33<01:27,  2.49s/it]\u001b[A"
     ]
    },
    {
     "name": "stdout",
     "output_type": "stream",
     "text": [
      "LEN SORTED 7\n"
     ]
    },
    {
     "name": "stderr",
     "output_type": "stream",
     "text": [
      "\n",
      " 31%|███       | 15/49 [00:36<01:26,  2.56s/it]\u001b[A"
     ]
    },
    {
     "name": "stdout",
     "output_type": "stream",
     "text": [
      "LEN SORTED 7\n"
     ]
    },
    {
     "name": "stderr",
     "output_type": "stream",
     "text": [
      "\n",
      " 33%|███▎      | 16/49 [00:39<01:30,  2.74s/it]\u001b[A"
     ]
    },
    {
     "name": "stdout",
     "output_type": "stream",
     "text": [
      "LEN SORTED 5\n"
     ]
    },
    {
     "name": "stderr",
     "output_type": "stream",
     "text": [
      "\n",
      " 35%|███▍      | 17/49 [00:41<01:23,  2.60s/it]\u001b[A"
     ]
    },
    {
     "name": "stdout",
     "output_type": "stream",
     "text": [
      "LEN SORTED 5\n"
     ]
    },
    {
     "name": "stderr",
     "output_type": "stream",
     "text": [
      "\n",
      " 37%|███▋      | 18/49 [00:43<01:18,  2.53s/it]\u001b[A"
     ]
    },
    {
     "name": "stdout",
     "output_type": "stream",
     "text": [
      "LEN SORTED 8\n"
     ]
    },
    {
     "name": "stderr",
     "output_type": "stream",
     "text": [
      "\n",
      " 39%|███▉      | 19/49 [00:47<01:29,  2.99s/it]\u001b[A"
     ]
    },
    {
     "name": "stdout",
     "output_type": "stream",
     "text": [
      "LEN SORTED 7\n"
     ]
    },
    {
     "name": "stderr",
     "output_type": "stream",
     "text": [
      "\n",
      " 41%|████      | 20/49 [00:51<01:30,  3.11s/it]\u001b[A"
     ]
    },
    {
     "name": "stdout",
     "output_type": "stream",
     "text": [
      "LEN SORTED 8\n"
     ]
    },
    {
     "name": "stderr",
     "output_type": "stream",
     "text": [
      "\n",
      " 43%|████▎     | 21/49 [00:55<01:38,  3.51s/it]\u001b[A"
     ]
    },
    {
     "name": "stdout",
     "output_type": "stream",
     "text": [
      "LEN SORTED 7\n"
     ]
    },
    {
     "name": "stderr",
     "output_type": "stream",
     "text": [
      "\n",
      " 45%|████▍     | 22/49 [00:58<01:30,  3.37s/it]\u001b[A"
     ]
    },
    {
     "name": "stdout",
     "output_type": "stream",
     "text": [
      "LEN SORTED 7\n"
     ]
    },
    {
     "name": "stderr",
     "output_type": "stream",
     "text": [
      "\n",
      " 47%|████▋     | 23/49 [01:01<01:25,  3.28s/it]\u001b[A"
     ]
    },
    {
     "name": "stdout",
     "output_type": "stream",
     "text": [
      "LEN SORTED 7\n"
     ]
    },
    {
     "name": "stderr",
     "output_type": "stream",
     "text": [
      "\n",
      " 49%|████▉     | 24/49 [01:04<01:20,  3.21s/it]\u001b[A"
     ]
    },
    {
     "name": "stdout",
     "output_type": "stream",
     "text": [
      "LEN SORTED 5\n"
     ]
    },
    {
     "name": "stderr",
     "output_type": "stream",
     "text": [
      "\n",
      " 51%|█████     | 25/49 [01:07<01:10,  2.92s/it]\u001b[A"
     ]
    },
    {
     "name": "stdout",
     "output_type": "stream",
     "text": [
      "LEN SORTED 6\n"
     ]
    },
    {
     "name": "stderr",
     "output_type": "stream",
     "text": [
      "\n",
      " 53%|█████▎    | 26/49 [01:09<01:04,  2.82s/it]\u001b[A"
     ]
    },
    {
     "name": "stdout",
     "output_type": "stream",
     "text": [
      "LEN SORTED 6\n"
     ]
    },
    {
     "name": "stderr",
     "output_type": "stream",
     "text": [
      "\n",
      " 55%|█████▌    | 27/49 [01:12<01:00,  2.75s/it]\u001b[A"
     ]
    },
    {
     "name": "stdout",
     "output_type": "stream",
     "text": [
      "LEN SORTED 4\n"
     ]
    },
    {
     "name": "stderr",
     "output_type": "stream",
     "text": [
      "\n",
      " 57%|█████▋    | 28/49 [01:14<00:53,  2.53s/it]\u001b[A"
     ]
    },
    {
     "name": "stdout",
     "output_type": "stream",
     "text": [
      "LEN SORTED 7\n"
     ]
    },
    {
     "name": "stderr",
     "output_type": "stream",
     "text": [
      "\n",
      " 59%|█████▉    | 29/49 [01:17<00:54,  2.74s/it]\u001b[A"
     ]
    },
    {
     "name": "stdout",
     "output_type": "stream",
     "text": [
      "LEN SORTED 7\n"
     ]
    },
    {
     "name": "stderr",
     "output_type": "stream",
     "text": [
      "\n",
      " 61%|██████    | 30/49 [01:20<00:54,  2.88s/it]\u001b[A"
     ]
    },
    {
     "name": "stdout",
     "output_type": "stream",
     "text": [
      "LEN SORTED 7\n"
     ]
    },
    {
     "name": "stderr",
     "output_type": "stream",
     "text": [
      "\n",
      " 63%|██████▎   | 31/49 [01:24<00:55,  3.07s/it]\u001b[A"
     ]
    },
    {
     "name": "stdout",
     "output_type": "stream",
     "text": [
      "LEN SORTED 7\n"
     ]
    },
    {
     "name": "stderr",
     "output_type": "stream",
     "text": [
      "\n",
      " 65%|██████▌   | 32/49 [01:27<00:53,  3.18s/it]\u001b[A"
     ]
    },
    {
     "name": "stdout",
     "output_type": "stream",
     "text": [
      "LEN SORTED 5\n"
     ]
    },
    {
     "name": "stderr",
     "output_type": "stream",
     "text": [
      "\n",
      " 67%|██████▋   | 33/49 [01:30<00:47,  2.98s/it]\u001b[A"
     ]
    },
    {
     "name": "stdout",
     "output_type": "stream",
     "text": [
      "LEN SORTED 6\n"
     ]
    },
    {
     "name": "stderr",
     "output_type": "stream",
     "text": [
      "\n",
      " 69%|██████▉   | 34/49 [01:33<00:44,  2.98s/it]\u001b[A"
     ]
    },
    {
     "name": "stdout",
     "output_type": "stream",
     "text": [
      "LEN SORTED 5\n"
     ]
    },
    {
     "name": "stderr",
     "output_type": "stream",
     "text": [
      "\n",
      " 71%|███████▏  | 35/49 [01:35<00:39,  2.84s/it]\u001b[A"
     ]
    },
    {
     "name": "stdout",
     "output_type": "stream",
     "text": [
      "LEN SORTED 5\n"
     ]
    },
    {
     "name": "stderr",
     "output_type": "stream",
     "text": [
      "\n",
      " 73%|███████▎  | 36/49 [01:38<00:35,  2.76s/it]\u001b[A"
     ]
    },
    {
     "name": "stdout",
     "output_type": "stream",
     "text": [
      "LEN SORTED 2\n"
     ]
    },
    {
     "name": "stderr",
     "output_type": "stream",
     "text": [
      "\n",
      " 76%|███████▌  | 37/49 [01:39<00:27,  2.29s/it]\u001b[A"
     ]
    },
    {
     "name": "stdout",
     "output_type": "stream",
     "text": [
      "LEN SORTED 5\n"
     ]
    },
    {
     "name": "stderr",
     "output_type": "stream",
     "text": [
      "\n",
      " 78%|███████▊  | 38/49 [01:42<00:26,  2.39s/it]\u001b[A"
     ]
    },
    {
     "name": "stdout",
     "output_type": "stream",
     "text": [
      "LEN SORTED 7\n"
     ]
    },
    {
     "name": "stderr",
     "output_type": "stream",
     "text": [
      "\n",
      " 80%|███████▉  | 39/49 [01:45<00:27,  2.79s/it]\u001b[A"
     ]
    },
    {
     "name": "stdout",
     "output_type": "stream",
     "text": [
      "LEN SORTED 7\n"
     ]
    },
    {
     "name": "stderr",
     "output_type": "stream",
     "text": [
      "\n",
      " 82%|████████▏ | 40/49 [01:49<00:27,  3.05s/it]\u001b[A"
     ]
    },
    {
     "name": "stdout",
     "output_type": "stream",
     "text": [
      "LEN SORTED 5\n"
     ]
    },
    {
     "name": "stderr",
     "output_type": "stream",
     "text": [
      "\n",
      " 84%|████████▎ | 41/49 [01:52<00:23,  2.95s/it]\u001b[A"
     ]
    },
    {
     "name": "stdout",
     "output_type": "stream",
     "text": [
      "LEN SORTED 8\n"
     ]
    },
    {
     "name": "stderr",
     "output_type": "stream",
     "text": [
      "\n",
      " 86%|████████▌ | 42/49 [01:55<00:21,  3.10s/it]\u001b[A"
     ]
    },
    {
     "name": "stdout",
     "output_type": "stream",
     "text": [
      "LEN SORTED 6\n"
     ]
    },
    {
     "name": "stderr",
     "output_type": "stream",
     "text": [
      "\n",
      " 88%|████████▊ | 43/49 [01:57<00:16,  2.74s/it]\u001b[A"
     ]
    },
    {
     "name": "stdout",
     "output_type": "stream",
     "text": [
      "LEN SORTED 5\n"
     ]
    },
    {
     "name": "stderr",
     "output_type": "stream",
     "text": [
      "\n",
      " 90%|████████▉ | 44/49 [01:59<00:12,  2.56s/it]\u001b[A"
     ]
    },
    {
     "name": "stdout",
     "output_type": "stream",
     "text": [
      "LEN SORTED 5\n"
     ]
    },
    {
     "name": "stderr",
     "output_type": "stream",
     "text": [
      "\n",
      " 92%|█████████▏| 45/49 [02:02<00:10,  2.66s/it]\u001b[A"
     ]
    },
    {
     "name": "stdout",
     "output_type": "stream",
     "text": [
      "LEN SORTED 6\n"
     ]
    },
    {
     "name": "stderr",
     "output_type": "stream",
     "text": [
      "\n",
      " 94%|█████████▍| 46/49 [02:06<00:08,  2.94s/it]\u001b[A"
     ]
    },
    {
     "name": "stdout",
     "output_type": "stream",
     "text": [
      "LEN SORTED 7\n"
     ]
    },
    {
     "name": "stderr",
     "output_type": "stream",
     "text": [
      "\n",
      " 96%|█████████▌| 47/49 [02:10<00:06,  3.35s/it]\u001b[A"
     ]
    },
    {
     "name": "stdout",
     "output_type": "stream",
     "text": [
      "LEN SORTED 7\n"
     ]
    },
    {
     "name": "stderr",
     "output_type": "stream",
     "text": [
      "\n",
      " 98%|█████████▊| 48/49 [02:14<00:03,  3.62s/it]\u001b[A"
     ]
    },
    {
     "name": "stdout",
     "output_type": "stream",
     "text": [
      "LEN SORTED 7\n"
     ]
    },
    {
     "name": "stderr",
     "output_type": "stream",
     "text": [
      "\n",
      "100%|██████████| 49/49 [02:19<00:00,  2.84s/it]\u001b[A\n",
      "\n",
      "100%|██████████| 49/49 [00:00<00:00, 569309.96it/s]\n",
      " 60%|██████    | 6/10 [14:33<09:40, 145.23s/it]\n",
      "  0%|          | 0/49 [00:00<?, ?it/s]\u001b[A"
     ]
    },
    {
     "name": "stdout",
     "output_type": "stream",
     "text": [
      "LEN SORTED 6\n"
     ]
    },
    {
     "name": "stderr",
     "output_type": "stream",
     "text": [
      "\n",
      "  2%|▏         | 1/49 [00:01<01:33,  1.95s/it]\u001b[A"
     ]
    },
    {
     "name": "stdout",
     "output_type": "stream",
     "text": [
      "LEN SORTED 7\n"
     ]
    },
    {
     "name": "stderr",
     "output_type": "stream",
     "text": [
      "\n",
      "  4%|▍         | 2/49 [00:04<01:39,  2.11s/it]\u001b[A"
     ]
    },
    {
     "name": "stdout",
     "output_type": "stream",
     "text": [
      "LEN SORTED 7\n"
     ]
    },
    {
     "name": "stderr",
     "output_type": "stream",
     "text": [
      "\n",
      "  6%|▌         | 3/49 [00:06<01:40,  2.18s/it]\u001b[A"
     ]
    },
    {
     "name": "stdout",
     "output_type": "stream",
     "text": [
      "LEN SORTED 7\n"
     ]
    },
    {
     "name": "stderr",
     "output_type": "stream",
     "text": [
      "\n",
      "  8%|▊         | 4/49 [00:08<01:39,  2.22s/it]\u001b[A"
     ]
    },
    {
     "name": "stdout",
     "output_type": "stream",
     "text": [
      "LEN SORTED 7\n"
     ]
    },
    {
     "name": "stderr",
     "output_type": "stream",
     "text": [
      "\n",
      " 10%|█         | 5/49 [00:11<01:39,  2.26s/it]\u001b[A"
     ]
    },
    {
     "name": "stdout",
     "output_type": "stream",
     "text": [
      "LEN SORTED 7\n"
     ]
    },
    {
     "name": "stderr",
     "output_type": "stream",
     "text": [
      "\n",
      " 12%|█▏        | 6/49 [00:13<01:37,  2.28s/it]\u001b[A"
     ]
    },
    {
     "name": "stdout",
     "output_type": "stream",
     "text": [
      "LEN SORTED 7\n"
     ]
    },
    {
     "name": "stderr",
     "output_type": "stream",
     "text": [
      "\n",
      " 14%|█▍        | 7/49 [00:15<01:37,  2.33s/it]\u001b[A"
     ]
    },
    {
     "name": "stdout",
     "output_type": "stream",
     "text": [
      "LEN SORTED 6\n"
     ]
    },
    {
     "name": "stderr",
     "output_type": "stream",
     "text": [
      "\n",
      " 16%|█▋        | 8/49 [00:17<01:32,  2.26s/it]\u001b[A"
     ]
    },
    {
     "name": "stdout",
     "output_type": "stream",
     "text": [
      "LEN SORTED 6\n"
     ]
    },
    {
     "name": "stderr",
     "output_type": "stream",
     "text": [
      "\n",
      " 18%|█▊        | 9/49 [00:20<01:28,  2.22s/it]\u001b[A"
     ]
    },
    {
     "name": "stdout",
     "output_type": "stream",
     "text": [
      "LEN SORTED 6\n"
     ]
    },
    {
     "name": "stderr",
     "output_type": "stream",
     "text": [
      "\n",
      " 20%|██        | 10/49 [00:22<01:27,  2.24s/it]\u001b[A"
     ]
    },
    {
     "name": "stdout",
     "output_type": "stream",
     "text": [
      "LEN SORTED 8\n"
     ]
    },
    {
     "name": "stderr",
     "output_type": "stream",
     "text": [
      "\n",
      " 22%|██▏       | 11/49 [00:25<01:31,  2.42s/it]\u001b[A"
     ]
    },
    {
     "name": "stdout",
     "output_type": "stream",
     "text": [
      "LEN SORTED 5\n"
     ]
    },
    {
     "name": "stderr",
     "output_type": "stream",
     "text": [
      "\n",
      " 24%|██▍       | 12/49 [00:26<01:22,  2.24s/it]\u001b[A"
     ]
    },
    {
     "name": "stdout",
     "output_type": "stream",
     "text": [
      "LEN SORTED 7\n"
     ]
    },
    {
     "name": "stderr",
     "output_type": "stream",
     "text": [
      "\n",
      " 27%|██▋       | 13/49 [00:29<01:22,  2.30s/it]\u001b[A"
     ]
    },
    {
     "name": "stdout",
     "output_type": "stream",
     "text": [
      "LEN SORTED 7\n"
     ]
    },
    {
     "name": "stderr",
     "output_type": "stream",
     "text": [
      "\n",
      " 29%|██▊       | 14/49 [00:31<01:22,  2.37s/it]\u001b[A"
     ]
    },
    {
     "name": "stdout",
     "output_type": "stream",
     "text": [
      "LEN SORTED 7\n"
     ]
    },
    {
     "name": "stderr",
     "output_type": "stream",
     "text": [
      "\n",
      " 31%|███       | 15/49 [00:34<01:22,  2.43s/it]\u001b[A"
     ]
    },
    {
     "name": "stdout",
     "output_type": "stream",
     "text": [
      "LEN SORTED 7\n"
     ]
    },
    {
     "name": "stderr",
     "output_type": "stream",
     "text": [
      "\n",
      " 33%|███▎      | 16/49 [00:37<01:23,  2.53s/it]\u001b[A"
     ]
    },
    {
     "name": "stdout",
     "output_type": "stream",
     "text": [
      "LEN SORTED 5\n"
     ]
    },
    {
     "name": "stderr",
     "output_type": "stream",
     "text": [
      "\n",
      " 35%|███▍      | 17/49 [00:39<01:17,  2.41s/it]\u001b[A"
     ]
    },
    {
     "name": "stdout",
     "output_type": "stream",
     "text": [
      "LEN SORTED 5\n"
     ]
    },
    {
     "name": "stderr",
     "output_type": "stream",
     "text": [
      "\n",
      " 37%|███▋      | 18/49 [00:41<01:11,  2.31s/it]\u001b[A"
     ]
    },
    {
     "name": "stdout",
     "output_type": "stream",
     "text": [
      "LEN SORTED 7\n"
     ]
    },
    {
     "name": "stderr",
     "output_type": "stream",
     "text": [
      "\n",
      " 39%|███▉      | 19/49 [00:44<01:14,  2.47s/it]\u001b[A"
     ]
    },
    {
     "name": "stdout",
     "output_type": "stream",
     "text": [
      "LEN SORTED 5\n"
     ]
    },
    {
     "name": "stderr",
     "output_type": "stream",
     "text": [
      "\n",
      " 41%|████      | 20/49 [00:46<01:08,  2.35s/it]\u001b[A"
     ]
    },
    {
     "name": "stdout",
     "output_type": "stream",
     "text": [
      "LEN SORTED 7\n"
     ]
    },
    {
     "name": "stderr",
     "output_type": "stream",
     "text": [
      "\n",
      " 43%|████▎     | 21/49 [00:49<01:10,  2.52s/it]\u001b[A"
     ]
    },
    {
     "name": "stdout",
     "output_type": "stream",
     "text": [
      "LEN SORTED 9\n"
     ]
    },
    {
     "name": "stderr",
     "output_type": "stream",
     "text": [
      "\n",
      " 45%|████▍     | 22/49 [00:53<01:18,  2.89s/it]\u001b[A"
     ]
    },
    {
     "name": "stdout",
     "output_type": "stream",
     "text": [
      "LEN SORTED 7\n"
     ]
    },
    {
     "name": "stderr",
     "output_type": "stream",
     "text": [
      "\n",
      " 47%|████▋     | 23/49 [00:56<01:16,  2.94s/it]\u001b[A"
     ]
    },
    {
     "name": "stdout",
     "output_type": "stream",
     "text": [
      "LEN SORTED 7\n"
     ]
    },
    {
     "name": "stderr",
     "output_type": "stream",
     "text": [
      "\n",
      " 49%|████▉     | 24/49 [00:59<01:15,  3.00s/it]\u001b[A"
     ]
    },
    {
     "name": "stdout",
     "output_type": "stream",
     "text": [
      "LEN SORTED 6\n"
     ]
    },
    {
     "name": "stderr",
     "output_type": "stream",
     "text": [
      "\n",
      " 51%|█████     | 25/49 [01:02<01:11,  2.98s/it]\u001b[A"
     ]
    },
    {
     "name": "stdout",
     "output_type": "stream",
     "text": [
      "LEN SORTED 6\n"
     ]
    },
    {
     "name": "stderr",
     "output_type": "stream",
     "text": [
      "\n",
      " 53%|█████▎    | 26/49 [01:05<01:07,  2.94s/it]\u001b[A"
     ]
    },
    {
     "name": "stdout",
     "output_type": "stream",
     "text": [
      "LEN SORTED 6\n"
     ]
    },
    {
     "name": "stderr",
     "output_type": "stream",
     "text": [
      "\n",
      " 55%|█████▌    | 27/49 [01:07<01:03,  2.88s/it]\u001b[A"
     ]
    },
    {
     "name": "stdout",
     "output_type": "stream",
     "text": [
      "LEN SORTED 4\n"
     ]
    },
    {
     "name": "stderr",
     "output_type": "stream",
     "text": [
      "\n",
      " 57%|█████▋    | 28/49 [01:09<00:53,  2.57s/it]\u001b[A"
     ]
    },
    {
     "name": "stdout",
     "output_type": "stream",
     "text": [
      "LEN SORTED 7\n"
     ]
    },
    {
     "name": "stderr",
     "output_type": "stream",
     "text": [
      "\n",
      " 59%|█████▉    | 29/49 [01:12<00:55,  2.77s/it]\u001b[A"
     ]
    },
    {
     "name": "stdout",
     "output_type": "stream",
     "text": [
      "LEN SORTED 6\n"
     ]
    },
    {
     "name": "stderr",
     "output_type": "stream",
     "text": [
      "\n",
      " 61%|██████    | 30/49 [01:15<00:52,  2.78s/it]\u001b[A"
     ]
    },
    {
     "name": "stdout",
     "output_type": "stream",
     "text": [
      "LEN SORTED 7\n"
     ]
    },
    {
     "name": "stderr",
     "output_type": "stream",
     "text": [
      "\n",
      " 63%|██████▎   | 31/49 [01:18<00:52,  2.94s/it]\u001b[A"
     ]
    },
    {
     "name": "stdout",
     "output_type": "stream",
     "text": [
      "LEN SORTED 7\n"
     ]
    },
    {
     "name": "stderr",
     "output_type": "stream",
     "text": [
      "\n",
      " 65%|██████▌   | 32/49 [01:22<00:51,  3.05s/it]\u001b[A"
     ]
    },
    {
     "name": "stdout",
     "output_type": "stream",
     "text": [
      "LEN SORTED 7\n"
     ]
    },
    {
     "name": "stderr",
     "output_type": "stream",
     "text": [
      "\n",
      " 67%|██████▋   | 33/49 [01:25<00:49,  3.11s/it]\u001b[A"
     ]
    },
    {
     "name": "stdout",
     "output_type": "stream",
     "text": [
      "LEN SORTED 7\n"
     ]
    },
    {
     "name": "stderr",
     "output_type": "stream",
     "text": [
      "\n",
      " 69%|██████▉   | 34/49 [01:28<00:47,  3.18s/it]\u001b[A"
     ]
    },
    {
     "name": "stdout",
     "output_type": "stream",
     "text": [
      "LEN SORTED 5\n"
     ]
    },
    {
     "name": "stderr",
     "output_type": "stream",
     "text": [
      "\n",
      " 71%|███████▏  | 35/49 [01:31<00:41,  2.97s/it]\u001b[A"
     ]
    },
    {
     "name": "stdout",
     "output_type": "stream",
     "text": [
      "LEN SORTED 6\n"
     ]
    },
    {
     "name": "stderr",
     "output_type": "stream",
     "text": [
      "\n",
      " 73%|███████▎  | 36/49 [01:34<00:38,  2.98s/it]\u001b[A"
     ]
    },
    {
     "name": "stdout",
     "output_type": "stream",
     "text": [
      "LEN SORTED 2\n"
     ]
    },
    {
     "name": "stderr",
     "output_type": "stream",
     "text": [
      "\n",
      " 76%|███████▌  | 37/49 [01:35<00:29,  2.45s/it]\u001b[A"
     ]
    },
    {
     "name": "stdout",
     "output_type": "stream",
     "text": [
      "LEN SORTED 5\n"
     ]
    },
    {
     "name": "stderr",
     "output_type": "stream",
     "text": [
      "\n",
      " 78%|███████▊  | 38/49 [01:38<00:27,  2.47s/it]\u001b[A"
     ]
    },
    {
     "name": "stdout",
     "output_type": "stream",
     "text": [
      "LEN SORTED 7\n"
     ]
    },
    {
     "name": "stderr",
     "output_type": "stream",
     "text": [
      "\n",
      " 80%|███████▉  | 39/49 [01:41<00:27,  2.79s/it]\u001b[A"
     ]
    },
    {
     "name": "stdout",
     "output_type": "stream",
     "text": [
      "LEN SORTED 7\n"
     ]
    },
    {
     "name": "stderr",
     "output_type": "stream",
     "text": [
      "\n",
      " 82%|████████▏ | 40/49 [01:45<00:27,  3.04s/it]\u001b[A"
     ]
    },
    {
     "name": "stdout",
     "output_type": "stream",
     "text": [
      "LEN SORTED 5\n"
     ]
    },
    {
     "name": "stderr",
     "output_type": "stream",
     "text": [
      "\n",
      " 84%|████████▎ | 41/49 [01:49<00:26,  3.29s/it]\u001b[A"
     ]
    },
    {
     "name": "stdout",
     "output_type": "stream",
     "text": [
      "LEN SORTED 8\n"
     ]
    },
    {
     "name": "stderr",
     "output_type": "stream",
     "text": [
      "\n",
      " 86%|████████▌ | 42/49 [01:52<00:23,  3.33s/it]\u001b[A"
     ]
    },
    {
     "name": "stdout",
     "output_type": "stream",
     "text": [
      "LEN SORTED 6\n"
     ]
    },
    {
     "name": "stderr",
     "output_type": "stream",
     "text": [
      "\n",
      " 88%|████████▊ | 43/49 [01:54<00:17,  2.87s/it]\u001b[A"
     ]
    },
    {
     "name": "stdout",
     "output_type": "stream",
     "text": [
      "LEN SORTED 5\n"
     ]
    },
    {
     "name": "stderr",
     "output_type": "stream",
     "text": [
      "\n",
      " 90%|████████▉ | 44/49 [01:56<00:13,  2.65s/it]\u001b[A"
     ]
    },
    {
     "name": "stdout",
     "output_type": "stream",
     "text": [
      "LEN SORTED 6\n"
     ]
    },
    {
     "name": "stderr",
     "output_type": "stream",
     "text": [
      "\n",
      " 92%|█████████▏| 45/49 [02:00<00:11,  2.98s/it]\u001b[A"
     ]
    },
    {
     "name": "stdout",
     "output_type": "stream",
     "text": [
      "LEN SORTED 6\n"
     ]
    },
    {
     "name": "stderr",
     "output_type": "stream",
     "text": [
      "\n",
      " 94%|█████████▍| 46/49 [02:04<00:09,  3.22s/it]\u001b[A"
     ]
    },
    {
     "name": "stdout",
     "output_type": "stream",
     "text": [
      "LEN SORTED 7\n"
     ]
    },
    {
     "name": "stderr",
     "output_type": "stream",
     "text": [
      "\n",
      " 96%|█████████▌| 47/49 [02:08<00:07,  3.62s/it]\u001b[A"
     ]
    },
    {
     "name": "stdout",
     "output_type": "stream",
     "text": [
      "LEN SORTED 8\n"
     ]
    },
    {
     "name": "stderr",
     "output_type": "stream",
     "text": [
      "\n",
      " 98%|█████████▊| 48/49 [02:14<00:04,  4.20s/it]\u001b[A"
     ]
    },
    {
     "name": "stdout",
     "output_type": "stream",
     "text": [
      "LEN SORTED 6\n"
     ]
    },
    {
     "name": "stderr",
     "output_type": "stream",
     "text": [
      "\n",
      "100%|██████████| 49/49 [02:17<00:00,  2.82s/it]\u001b[A\n",
      "\n",
      "100%|██████████| 49/49 [00:00<00:00, 404568.69it/s]\n",
      " 70%|███████   | 7/10 [16:51<07:08, 142.87s/it]\n",
      "  0%|          | 0/49 [00:00<?, ?it/s]\u001b[A"
     ]
    },
    {
     "name": "stdout",
     "output_type": "stream",
     "text": [
      "LEN SORTED 5\n"
     ]
    },
    {
     "name": "stderr",
     "output_type": "stream",
     "text": [
      "\n",
      "  2%|▏         | 1/49 [00:01<01:28,  1.84s/it]\u001b[A"
     ]
    },
    {
     "name": "stdout",
     "output_type": "stream",
     "text": [
      "LEN SORTED 8\n"
     ]
    },
    {
     "name": "stderr",
     "output_type": "stream",
     "text": [
      "\n",
      "  4%|▍         | 2/49 [00:04<01:47,  2.28s/it]\u001b[A"
     ]
    },
    {
     "name": "stdout",
     "output_type": "stream",
     "text": [
      "LEN SORTED 7\n"
     ]
    },
    {
     "name": "stderr",
     "output_type": "stream",
     "text": [
      "\n",
      "  6%|▌         | 3/49 [00:06<01:43,  2.24s/it]\u001b[A"
     ]
    },
    {
     "name": "stdout",
     "output_type": "stream",
     "text": [
      "LEN SORTED 8\n"
     ]
    },
    {
     "name": "stderr",
     "output_type": "stream",
     "text": [
      "\n",
      "  8%|▊         | 4/49 [00:09<01:51,  2.47s/it]\u001b[A"
     ]
    },
    {
     "name": "stdout",
     "output_type": "stream",
     "text": [
      "LEN SORTED 7\n"
     ]
    },
    {
     "name": "stderr",
     "output_type": "stream",
     "text": [
      "\n",
      " 10%|█         | 5/49 [00:11<01:46,  2.42s/it]\u001b[A"
     ]
    },
    {
     "name": "stdout",
     "output_type": "stream",
     "text": [
      "LEN SORTED 7\n"
     ]
    },
    {
     "name": "stderr",
     "output_type": "stream",
     "text": [
      "\n",
      " 12%|█▏        | 6/49 [00:14<01:43,  2.42s/it]\u001b[A"
     ]
    },
    {
     "name": "stdout",
     "output_type": "stream",
     "text": [
      "LEN SORTED 7\n"
     ]
    },
    {
     "name": "stderr",
     "output_type": "stream",
     "text": [
      "\n",
      " 14%|█▍        | 7/49 [00:17<01:50,  2.62s/it]\u001b[A"
     ]
    },
    {
     "name": "stdout",
     "output_type": "stream",
     "text": [
      "LEN SORTED 5\n"
     ]
    },
    {
     "name": "stderr",
     "output_type": "stream",
     "text": [
      "\n",
      " 16%|█▋        | 8/49 [00:19<01:42,  2.51s/it]\u001b[A"
     ]
    },
    {
     "name": "stdout",
     "output_type": "stream",
     "text": [
      "LEN SORTED 6\n"
     ]
    },
    {
     "name": "stderr",
     "output_type": "stream",
     "text": [
      "\n",
      " 18%|█▊        | 9/49 [00:21<01:37,  2.45s/it]\u001b[A"
     ]
    },
    {
     "name": "stdout",
     "output_type": "stream",
     "text": [
      "LEN SORTED 7\n"
     ]
    },
    {
     "name": "stderr",
     "output_type": "stream",
     "text": [
      "\n",
      " 20%|██        | 10/49 [00:24<01:38,  2.53s/it]\u001b[A"
     ]
    },
    {
     "name": "stdout",
     "output_type": "stream",
     "text": [
      "LEN SORTED 8\n"
     ]
    },
    {
     "name": "stderr",
     "output_type": "stream",
     "text": [
      "\n",
      " 22%|██▏       | 11/49 [00:27<01:44,  2.74s/it]\u001b[A"
     ]
    },
    {
     "name": "stdout",
     "output_type": "stream",
     "text": [
      "LEN SORTED 5\n"
     ]
    },
    {
     "name": "stderr",
     "output_type": "stream",
     "text": [
      "\n",
      " 24%|██▍       | 12/49 [00:29<01:33,  2.53s/it]\u001b[A"
     ]
    },
    {
     "name": "stdout",
     "output_type": "stream",
     "text": [
      "LEN SORTED 7\n"
     ]
    },
    {
     "name": "stderr",
     "output_type": "stream",
     "text": [
      "\n",
      " 27%|██▋       | 13/49 [00:32<01:32,  2.58s/it]\u001b[A"
     ]
    },
    {
     "name": "stdout",
     "output_type": "stream",
     "text": [
      "LEN SORTED 8\n"
     ]
    },
    {
     "name": "stderr",
     "output_type": "stream",
     "text": [
      "\n",
      " 29%|██▊       | 14/49 [00:35<01:35,  2.74s/it]\u001b[A"
     ]
    },
    {
     "name": "stdout",
     "output_type": "stream",
     "text": [
      "LEN SORTED 7\n"
     ]
    },
    {
     "name": "stderr",
     "output_type": "stream",
     "text": [
      "\n",
      " 31%|███       | 15/49 [00:38<01:33,  2.76s/it]\u001b[A"
     ]
    },
    {
     "name": "stdout",
     "output_type": "stream",
     "text": [
      "LEN SORTED 7\n"
     ]
    },
    {
     "name": "stderr",
     "output_type": "stream",
     "text": [
      "\n",
      " 33%|███▎      | 16/49 [00:41<01:31,  2.79s/it]\u001b[A"
     ]
    },
    {
     "name": "stdout",
     "output_type": "stream",
     "text": [
      "LEN SORTED 6\n"
     ]
    },
    {
     "name": "stderr",
     "output_type": "stream",
     "text": [
      "\n",
      " 35%|███▍      | 17/49 [00:43<01:28,  2.76s/it]\u001b[A"
     ]
    },
    {
     "name": "stdout",
     "output_type": "stream",
     "text": [
      "LEN SORTED 5\n"
     ]
    },
    {
     "name": "stderr",
     "output_type": "stream",
     "text": [
      "\n",
      " 37%|███▋      | 18/49 [00:46<01:22,  2.67s/it]\u001b[A"
     ]
    },
    {
     "name": "stdout",
     "output_type": "stream",
     "text": [
      "LEN SORTED 7\n"
     ]
    },
    {
     "name": "stderr",
     "output_type": "stream",
     "text": [
      "\n",
      " 39%|███▉      | 19/49 [00:49<01:25,  2.85s/it]\u001b[A"
     ]
    },
    {
     "name": "stdout",
     "output_type": "stream",
     "text": [
      "LEN SORTED 6\n"
     ]
    },
    {
     "name": "stderr",
     "output_type": "stream",
     "text": [
      "\n",
      " 41%|████      | 20/49 [00:52<01:21,  2.81s/it]\u001b[A"
     ]
    },
    {
     "name": "stdout",
     "output_type": "stream",
     "text": [
      "LEN SORTED 8\n"
     ]
    },
    {
     "name": "stderr",
     "output_type": "stream",
     "text": [
      "\n",
      " 43%|████▎     | 21/49 [00:56<01:29,  3.19s/it]\u001b[A"
     ]
    },
    {
     "name": "stdout",
     "output_type": "stream",
     "text": [
      "LEN SORTED 8\n"
     ]
    },
    {
     "name": "stderr",
     "output_type": "stream",
     "text": [
      "\n",
      " 45%|████▍     | 22/49 [01:00<01:34,  3.50s/it]\u001b[A"
     ]
    },
    {
     "name": "stdout",
     "output_type": "stream",
     "text": [
      "LEN SORTED 7\n"
     ]
    },
    {
     "name": "stderr",
     "output_type": "stream",
     "text": [
      "\n",
      " 47%|████▋     | 23/49 [01:04<01:30,  3.47s/it]\u001b[A"
     ]
    },
    {
     "name": "stdout",
     "output_type": "stream",
     "text": [
      "LEN SORTED 7\n"
     ]
    },
    {
     "name": "stderr",
     "output_type": "stream",
     "text": [
      "\n",
      " 49%|████▉     | 24/49 [01:07<01:28,  3.55s/it]\u001b[A"
     ]
    },
    {
     "name": "stdout",
     "output_type": "stream",
     "text": [
      "LEN SORTED 7\n"
     ]
    },
    {
     "name": "stderr",
     "output_type": "stream",
     "text": [
      "\n",
      " 51%|█████     | 25/49 [01:11<01:27,  3.63s/it]\u001b[A"
     ]
    },
    {
     "name": "stdout",
     "output_type": "stream",
     "text": [
      "LEN SORTED 7\n"
     ]
    },
    {
     "name": "stderr",
     "output_type": "stream",
     "text": [
      "\n",
      " 53%|█████▎    | 26/49 [01:15<01:23,  3.64s/it]\u001b[A"
     ]
    },
    {
     "name": "stdout",
     "output_type": "stream",
     "text": [
      "LEN SORTED 5\n"
     ]
    },
    {
     "name": "stderr",
     "output_type": "stream",
     "text": [
      "\n",
      " 55%|█████▌    | 27/49 [01:17<01:11,  3.25s/it]\u001b[A"
     ]
    },
    {
     "name": "stdout",
     "output_type": "stream",
     "text": [
      "LEN SORTED 4\n"
     ]
    },
    {
     "name": "stderr",
     "output_type": "stream",
     "text": [
      "\n",
      " 57%|█████▋    | 28/49 [01:19<00:59,  2.85s/it]\u001b[A"
     ]
    },
    {
     "name": "stdout",
     "output_type": "stream",
     "text": [
      "LEN SORTED 7\n"
     ]
    },
    {
     "name": "stderr",
     "output_type": "stream",
     "text": [
      "\n",
      " 59%|█████▉    | 29/49 [01:22<00:59,  2.96s/it]\u001b[A"
     ]
    },
    {
     "name": "stdout",
     "output_type": "stream",
     "text": [
      "LEN SORTED 7\n"
     ]
    },
    {
     "name": "stderr",
     "output_type": "stream",
     "text": [
      "\n",
      " 61%|██████    | 30/49 [01:26<00:57,  3.04s/it]\u001b[A"
     ]
    },
    {
     "name": "stdout",
     "output_type": "stream",
     "text": [
      "LEN SORTED 7\n"
     ]
    },
    {
     "name": "stderr",
     "output_type": "stream",
     "text": [
      "\n",
      " 63%|██████▎   | 31/49 [01:29<00:57,  3.22s/it]\u001b[A"
     ]
    },
    {
     "name": "stdout",
     "output_type": "stream",
     "text": [
      "LEN SORTED 7\n"
     ]
    },
    {
     "name": "stderr",
     "output_type": "stream",
     "text": [
      "\n",
      " 65%|██████▌   | 32/49 [01:33<00:58,  3.45s/it]\u001b[A"
     ]
    },
    {
     "name": "stdout",
     "output_type": "stream",
     "text": [
      "LEN SORTED 7\n"
     ]
    },
    {
     "name": "stderr",
     "output_type": "stream",
     "text": [
      "\n",
      " 67%|██████▋   | 33/49 [01:37<00:55,  3.49s/it]\u001b[A"
     ]
    },
    {
     "name": "stdout",
     "output_type": "stream",
     "text": [
      "LEN SORTED 7\n"
     ]
    },
    {
     "name": "stderr",
     "output_type": "stream",
     "text": [
      "\n",
      " 69%|██████▉   | 34/49 [01:40<00:52,  3.49s/it]\u001b[A"
     ]
    },
    {
     "name": "stdout",
     "output_type": "stream",
     "text": [
      "LEN SORTED 5\n"
     ]
    },
    {
     "name": "stderr",
     "output_type": "stream",
     "text": [
      "\n",
      " 71%|███████▏  | 35/49 [01:43<00:44,  3.20s/it]\u001b[A"
     ]
    },
    {
     "name": "stdout",
     "output_type": "stream",
     "text": [
      "LEN SORTED 6\n"
     ]
    },
    {
     "name": "stderr",
     "output_type": "stream",
     "text": [
      "\n",
      " 73%|███████▎  | 36/49 [01:46<00:41,  3.17s/it]\u001b[A"
     ]
    },
    {
     "name": "stdout",
     "output_type": "stream",
     "text": [
      "LEN SORTED 4\n"
     ]
    },
    {
     "name": "stderr",
     "output_type": "stream",
     "text": [
      "\n",
      " 76%|███████▌  | 37/49 [01:48<00:34,  2.87s/it]\u001b[A"
     ]
    },
    {
     "name": "stdout",
     "output_type": "stream",
     "text": [
      "LEN SORTED 6\n"
     ]
    },
    {
     "name": "stderr",
     "output_type": "stream",
     "text": [
      "\n",
      " 78%|███████▊  | 38/49 [01:51<00:32,  2.95s/it]\u001b[A"
     ]
    },
    {
     "name": "stdout",
     "output_type": "stream",
     "text": [
      "LEN SORTED 7\n"
     ]
    },
    {
     "name": "stderr",
     "output_type": "stream",
     "text": [
      "\n",
      " 80%|███████▉  | 39/49 [01:55<00:32,  3.23s/it]\u001b[A"
     ]
    },
    {
     "name": "stdout",
     "output_type": "stream",
     "text": [
      "LEN SORTED 7\n"
     ]
    },
    {
     "name": "stderr",
     "output_type": "stream",
     "text": [
      "\n",
      " 82%|████████▏ | 40/49 [01:59<00:30,  3.37s/it]\u001b[A"
     ]
    },
    {
     "name": "stdout",
     "output_type": "stream",
     "text": [
      "LEN SORTED 7\n"
     ]
    },
    {
     "name": "stderr",
     "output_type": "stream",
     "text": [
      "\n",
      " 84%|████████▎ | 41/49 [02:03<00:28,  3.53s/it]\u001b[A"
     ]
    },
    {
     "name": "stdout",
     "output_type": "stream",
     "text": [
      "LEN SORTED 8\n"
     ]
    },
    {
     "name": "stderr",
     "output_type": "stream",
     "text": [
      "\n",
      " 86%|████████▌ | 42/49 [02:06<00:24,  3.50s/it]\u001b[A"
     ]
    },
    {
     "name": "stdout",
     "output_type": "stream",
     "text": [
      "LEN SORTED 6\n"
     ]
    },
    {
     "name": "stderr",
     "output_type": "stream",
     "text": [
      "\n",
      " 88%|████████▊ | 43/49 [02:08<00:18,  3.02s/it]\u001b[A"
     ]
    },
    {
     "name": "stdout",
     "output_type": "stream",
     "text": [
      "LEN SORTED 6\n"
     ]
    },
    {
     "name": "stderr",
     "output_type": "stream",
     "text": [
      "\n",
      " 90%|████████▉ | 44/49 [02:11<00:14,  2.89s/it]\u001b[A"
     ]
    },
    {
     "name": "stdout",
     "output_type": "stream",
     "text": [
      "LEN SORTED 4\n"
     ]
    },
    {
     "name": "stderr",
     "output_type": "stream",
     "text": [
      "\n",
      " 92%|█████████▏| 45/49 [02:13<00:11,  2.77s/it]\u001b[A"
     ]
    },
    {
     "name": "stdout",
     "output_type": "stream",
     "text": [
      "LEN SORTED 7\n"
     ]
    },
    {
     "name": "stderr",
     "output_type": "stream",
     "text": [
      "\n",
      " 94%|█████████▍| 46/49 [02:17<00:09,  3.17s/it]\u001b[A"
     ]
    },
    {
     "name": "stdout",
     "output_type": "stream",
     "text": [
      "LEN SORTED 7\n"
     ]
    },
    {
     "name": "stderr",
     "output_type": "stream",
     "text": [
      "\n",
      " 96%|█████████▌| 47/49 [02:21<00:07,  3.52s/it]\u001b[A"
     ]
    },
    {
     "name": "stdout",
     "output_type": "stream",
     "text": [
      "LEN SORTED 7\n"
     ]
    },
    {
     "name": "stderr",
     "output_type": "stream",
     "text": [
      "\n",
      " 98%|█████████▊| 48/49 [02:27<00:04,  4.05s/it]\u001b[A"
     ]
    },
    {
     "name": "stdout",
     "output_type": "stream",
     "text": [
      "LEN SORTED 6\n"
     ]
    },
    {
     "name": "stderr",
     "output_type": "stream",
     "text": [
      "\n",
      "100%|██████████| 49/49 [02:31<00:00,  3.10s/it]\u001b[A\n",
      "\n",
      "100%|██████████| 49/49 [00:00<00:00, 577305.89it/s]\n",
      " 80%|████████  | 8/10 [19:23<04:51, 145.76s/it]\n",
      "  0%|          | 0/49 [00:00<?, ?it/s]\u001b[A"
     ]
    },
    {
     "name": "stdout",
     "output_type": "stream",
     "text": [
      "LEN SORTED 5\n"
     ]
    },
    {
     "name": "stderr",
     "output_type": "stream",
     "text": [
      "\n",
      "  2%|▏         | 1/49 [00:01<01:27,  1.81s/it]\u001b[A"
     ]
    },
    {
     "name": "stdout",
     "output_type": "stream",
     "text": [
      "LEN SORTED 7\n"
     ]
    },
    {
     "name": "stderr",
     "output_type": "stream",
     "text": [
      "\n",
      "  4%|▍         | 2/49 [00:04<01:43,  2.21s/it]\u001b[A"
     ]
    },
    {
     "name": "stdout",
     "output_type": "stream",
     "text": [
      "LEN SORTED 7\n"
     ]
    },
    {
     "name": "stderr",
     "output_type": "stream",
     "text": [
      "\n",
      "  6%|▌         | 3/49 [00:06<01:50,  2.40s/it]\u001b[A"
     ]
    },
    {
     "name": "stdout",
     "output_type": "stream",
     "text": [
      "LEN SORTED 7\n"
     ]
    },
    {
     "name": "stderr",
     "output_type": "stream",
     "text": [
      "\n",
      "  8%|▊         | 4/49 [00:09<01:49,  2.44s/it]\u001b[A"
     ]
    },
    {
     "name": "stdout",
     "output_type": "stream",
     "text": [
      "LEN SORTED 7\n"
     ]
    },
    {
     "name": "stderr",
     "output_type": "stream",
     "text": [
      "\n",
      " 10%|█         | 5/49 [00:12<01:55,  2.63s/it]\u001b[A"
     ]
    },
    {
     "name": "stdout",
     "output_type": "stream",
     "text": [
      "LEN SORTED 8\n"
     ]
    },
    {
     "name": "stderr",
     "output_type": "stream",
     "text": [
      "\n",
      " 12%|█▏        | 6/49 [00:15<01:56,  2.71s/it]\u001b[A"
     ]
    },
    {
     "name": "stdout",
     "output_type": "stream",
     "text": [
      "LEN SORTED 8\n"
     ]
    },
    {
     "name": "stderr",
     "output_type": "stream",
     "text": [
      "\n",
      " 14%|█▍        | 7/49 [00:18<02:02,  2.92s/it]\u001b[A"
     ]
    },
    {
     "name": "stdout",
     "output_type": "stream",
     "text": [
      "LEN SORTED 4\n"
     ]
    },
    {
     "name": "stderr",
     "output_type": "stream",
     "text": [
      "\n",
      " 16%|█▋        | 8/49 [00:20<01:42,  2.49s/it]\u001b[A"
     ]
    },
    {
     "name": "stdout",
     "output_type": "stream",
     "text": [
      "LEN SORTED 6\n"
     ]
    },
    {
     "name": "stderr",
     "output_type": "stream",
     "text": [
      "\n",
      " 18%|█▊        | 9/49 [00:22<01:36,  2.42s/it]\u001b[A"
     ]
    },
    {
     "name": "stdout",
     "output_type": "stream",
     "text": [
      "LEN SORTED 6\n"
     ]
    },
    {
     "name": "stderr",
     "output_type": "stream",
     "text": [
      "\n",
      " 20%|██        | 10/49 [00:24<01:33,  2.41s/it]\u001b[A"
     ]
    },
    {
     "name": "stdout",
     "output_type": "stream",
     "text": [
      "LEN SORTED 9\n"
     ]
    },
    {
     "name": "stderr",
     "output_type": "stream",
     "text": [
      "\n",
      " 22%|██▏       | 11/49 [00:28<01:42,  2.70s/it]\u001b[A"
     ]
    },
    {
     "name": "stdout",
     "output_type": "stream",
     "text": [
      "LEN SORTED 5\n"
     ]
    },
    {
     "name": "stderr",
     "output_type": "stream",
     "text": [
      "\n",
      " 24%|██▍       | 12/49 [00:30<01:32,  2.49s/it]\u001b[A"
     ]
    },
    {
     "name": "stdout",
     "output_type": "stream",
     "text": [
      "LEN SORTED 7\n"
     ]
    },
    {
     "name": "stderr",
     "output_type": "stream",
     "text": [
      "\n",
      " 27%|██▋       | 13/49 [00:32<01:31,  2.53s/it]\u001b[A"
     ]
    },
    {
     "name": "stdout",
     "output_type": "stream",
     "text": [
      "LEN SORTED 7\n"
     ]
    },
    {
     "name": "stderr",
     "output_type": "stream",
     "text": [
      "\n",
      " 29%|██▊       | 14/49 [00:35<01:30,  2.57s/it]\u001b[A"
     ]
    },
    {
     "name": "stdout",
     "output_type": "stream",
     "text": [
      "LEN SORTED 7\n"
     ]
    },
    {
     "name": "stderr",
     "output_type": "stream",
     "text": [
      "\n",
      " 31%|███       | 15/49 [00:38<01:29,  2.62s/it]\u001b[A"
     ]
    },
    {
     "name": "stdout",
     "output_type": "stream",
     "text": [
      "LEN SORTED 7\n"
     ]
    },
    {
     "name": "stderr",
     "output_type": "stream",
     "text": [
      "\n",
      " 33%|███▎      | 16/49 [00:41<01:28,  2.69s/it]\u001b[A"
     ]
    },
    {
     "name": "stdout",
     "output_type": "stream",
     "text": [
      "LEN SORTED 5\n"
     ]
    },
    {
     "name": "stderr",
     "output_type": "stream",
     "text": [
      "\n",
      " 35%|███▍      | 17/49 [00:43<01:20,  2.53s/it]\u001b[A"
     ]
    },
    {
     "name": "stdout",
     "output_type": "stream",
     "text": [
      "LEN SORTED 5\n"
     ]
    },
    {
     "name": "stderr",
     "output_type": "stream",
     "text": [
      "\n",
      " 37%|███▋      | 18/49 [00:45<01:14,  2.39s/it]\u001b[A"
     ]
    },
    {
     "name": "stdout",
     "output_type": "stream",
     "text": [
      "LEN SORTED 7\n"
     ]
    },
    {
     "name": "stderr",
     "output_type": "stream",
     "text": [
      "\n",
      " 39%|███▉      | 19/49 [00:48<01:16,  2.56s/it]\u001b[A"
     ]
    },
    {
     "name": "stdout",
     "output_type": "stream",
     "text": [
      "LEN SORTED 6\n"
     ]
    },
    {
     "name": "stderr",
     "output_type": "stream",
     "text": [
      "\n",
      " 41%|████      | 20/49 [00:50<01:13,  2.54s/it]\u001b[A"
     ]
    },
    {
     "name": "stdout",
     "output_type": "stream",
     "text": [
      "LEN SORTED 8\n"
     ]
    },
    {
     "name": "stderr",
     "output_type": "stream",
     "text": [
      "\n",
      " 43%|████▎     | 21/49 [00:54<01:18,  2.81s/it]\u001b[A"
     ]
    },
    {
     "name": "stdout",
     "output_type": "stream",
     "text": [
      "LEN SORTED 8\n"
     ]
    },
    {
     "name": "stderr",
     "output_type": "stream",
     "text": [
      "\n",
      " 45%|████▍     | 22/49 [00:57<01:20,  3.00s/it]\u001b[A"
     ]
    },
    {
     "name": "stdout",
     "output_type": "stream",
     "text": [
      "LEN SORTED 7\n"
     ]
    },
    {
     "name": "stderr",
     "output_type": "stream",
     "text": [
      "\n",
      " 47%|████▋     | 23/49 [01:00<01:18,  3.04s/it]\u001b[A"
     ]
    },
    {
     "name": "stdout",
     "output_type": "stream",
     "text": [
      "LEN SORTED 7\n"
     ]
    },
    {
     "name": "stderr",
     "output_type": "stream",
     "text": [
      "\n",
      " 49%|████▉     | 24/49 [01:03<01:17,  3.08s/it]\u001b[A"
     ]
    },
    {
     "name": "stdout",
     "output_type": "stream",
     "text": [
      "LEN SORTED 6\n"
     ]
    },
    {
     "name": "stderr",
     "output_type": "stream",
     "text": [
      "\n",
      " 51%|█████     | 25/49 [01:06<01:11,  2.97s/it]\u001b[A"
     ]
    },
    {
     "name": "stdout",
     "output_type": "stream",
     "text": [
      "LEN SORTED 7\n"
     ]
    },
    {
     "name": "stderr",
     "output_type": "stream",
     "text": [
      "\n",
      " 53%|█████▎    | 26/49 [01:09<01:09,  3.03s/it]\u001b[A"
     ]
    },
    {
     "name": "stdout",
     "output_type": "stream",
     "text": [
      "LEN SORTED 6\n"
     ]
    },
    {
     "name": "stderr",
     "output_type": "stream",
     "text": [
      "\n",
      " 55%|█████▌    | 27/49 [01:12<01:04,  2.92s/it]\u001b[A"
     ]
    },
    {
     "name": "stdout",
     "output_type": "stream",
     "text": [
      "LEN SORTED 5\n"
     ]
    },
    {
     "name": "stderr",
     "output_type": "stream",
     "text": [
      "\n",
      " 57%|█████▋    | 28/49 [01:16<01:08,  3.27s/it]\u001b[A"
     ]
    },
    {
     "name": "stdout",
     "output_type": "stream",
     "text": [
      "LEN SORTED 8\n"
     ]
    },
    {
     "name": "stderr",
     "output_type": "stream",
     "text": [
      "\n",
      " 59%|█████▉    | 29/49 [01:20<01:08,  3.41s/it]\u001b[A"
     ]
    },
    {
     "name": "stdout",
     "output_type": "stream",
     "text": [
      "LEN SORTED 7\n"
     ]
    },
    {
     "name": "stderr",
     "output_type": "stream",
     "text": [
      "\n",
      " 61%|██████    | 30/49 [01:23<01:03,  3.35s/it]\u001b[A"
     ]
    },
    {
     "name": "stdout",
     "output_type": "stream",
     "text": [
      "LEN SORTED 7\n"
     ]
    },
    {
     "name": "stderr",
     "output_type": "stream",
     "text": [
      "\n",
      " 63%|██████▎   | 31/49 [01:26<01:00,  3.36s/it]\u001b[A"
     ]
    },
    {
     "name": "stdout",
     "output_type": "stream",
     "text": [
      "LEN SORTED 7\n"
     ]
    },
    {
     "name": "stderr",
     "output_type": "stream",
     "text": [
      "\n",
      " 65%|██████▌   | 32/49 [01:30<00:57,  3.38s/it]\u001b[A"
     ]
    },
    {
     "name": "stdout",
     "output_type": "stream",
     "text": [
      "LEN SORTED 6\n"
     ]
    },
    {
     "name": "stderr",
     "output_type": "stream",
     "text": [
      "\n",
      " 67%|██████▋   | 33/49 [01:33<00:51,  3.23s/it]\u001b[A"
     ]
    },
    {
     "name": "stdout",
     "output_type": "stream",
     "text": [
      "LEN SORTED 7\n"
     ]
    },
    {
     "name": "stderr",
     "output_type": "stream",
     "text": [
      "\n",
      " 69%|██████▉   | 34/49 [01:36<00:49,  3.29s/it]\u001b[A"
     ]
    },
    {
     "name": "stdout",
     "output_type": "stream",
     "text": [
      "LEN SORTED 4\n"
     ]
    },
    {
     "name": "stderr",
     "output_type": "stream",
     "text": [
      "\n",
      " 71%|███████▏  | 35/49 [01:38<00:40,  2.91s/it]\u001b[A"
     ]
    },
    {
     "name": "stdout",
     "output_type": "stream",
     "text": [
      "LEN SORTED 5\n"
     ]
    },
    {
     "name": "stderr",
     "output_type": "stream",
     "text": [
      "\n",
      " 73%|███████▎  | 36/49 [01:41<00:36,  2.82s/it]\u001b[A"
     ]
    },
    {
     "name": "stdout",
     "output_type": "stream",
     "text": [
      "LEN SORTED 3\n"
     ]
    },
    {
     "name": "stderr",
     "output_type": "stream",
     "text": [
      "\n",
      " 76%|███████▌  | 37/49 [01:43<00:30,  2.50s/it]\u001b[A"
     ]
    },
    {
     "name": "stdout",
     "output_type": "stream",
     "text": [
      "LEN SORTED 6\n"
     ]
    },
    {
     "name": "stderr",
     "output_type": "stream",
     "text": [
      "\n",
      " 78%|███████▊  | 38/49 [01:46<00:29,  2.70s/it]\u001b[A"
     ]
    },
    {
     "name": "stdout",
     "output_type": "stream",
     "text": [
      "LEN SORTED 6\n"
     ]
    },
    {
     "name": "stderr",
     "output_type": "stream",
     "text": [
      "\n",
      " 80%|███████▉  | 39/49 [01:49<00:28,  2.84s/it]\u001b[A"
     ]
    },
    {
     "name": "stdout",
     "output_type": "stream",
     "text": [
      "LEN SORTED 7\n"
     ]
    },
    {
     "name": "stderr",
     "output_type": "stream",
     "text": [
      "\n",
      " 82%|████████▏ | 40/49 [01:53<00:28,  3.17s/it]\u001b[A"
     ]
    },
    {
     "name": "stdout",
     "output_type": "stream",
     "text": [
      "LEN SORTED 6\n"
     ]
    },
    {
     "name": "stderr",
     "output_type": "stream",
     "text": [
      "\n",
      " 84%|████████▎ | 41/49 [01:56<00:25,  3.21s/it]\u001b[A"
     ]
    },
    {
     "name": "stdout",
     "output_type": "stream",
     "text": [
      "LEN SORTED 8\n"
     ]
    },
    {
     "name": "stderr",
     "output_type": "stream",
     "text": [
      "\n",
      " 86%|████████▌ | 42/49 [02:00<00:22,  3.28s/it]\u001b[A"
     ]
    },
    {
     "name": "stdout",
     "output_type": "stream",
     "text": [
      "LEN SORTED 6\n"
     ]
    },
    {
     "name": "stderr",
     "output_type": "stream",
     "text": [
      "\n",
      " 88%|████████▊ | 43/49 [02:01<00:17,  2.85s/it]\u001b[A"
     ]
    },
    {
     "name": "stdout",
     "output_type": "stream",
     "text": [
      "LEN SORTED 5\n"
     ]
    },
    {
     "name": "stderr",
     "output_type": "stream",
     "text": [
      "\n",
      " 90%|████████▉ | 44/49 [02:04<00:13,  2.64s/it]\u001b[A"
     ]
    },
    {
     "name": "stdout",
     "output_type": "stream",
     "text": [
      "LEN SORTED 6\n"
     ]
    },
    {
     "name": "stderr",
     "output_type": "stream",
     "text": [
      "\n",
      " 92%|█████████▏| 45/49 [02:07<00:11,  2.91s/it]\u001b[A"
     ]
    },
    {
     "name": "stdout",
     "output_type": "stream",
     "text": [
      "LEN SORTED 7\n"
     ]
    },
    {
     "name": "stderr",
     "output_type": "stream",
     "text": [
      "\n",
      " 94%|█████████▍| 46/49 [02:11<00:09,  3.29s/it]\u001b[A"
     ]
    },
    {
     "name": "stdout",
     "output_type": "stream",
     "text": [
      "LEN SORTED 8\n"
     ]
    },
    {
     "name": "stderr",
     "output_type": "stream",
     "text": [
      "\n",
      " 96%|█████████▌| 47/49 [02:16<00:07,  3.76s/it]\u001b[A"
     ]
    },
    {
     "name": "stdout",
     "output_type": "stream",
     "text": [
      "LEN SORTED 8\n"
     ]
    },
    {
     "name": "stderr",
     "output_type": "stream",
     "text": [
      "\n",
      " 98%|█████████▊| 48/49 [02:21<00:04,  4.12s/it]\u001b[A"
     ]
    },
    {
     "name": "stdout",
     "output_type": "stream",
     "text": [
      "LEN SORTED 6\n"
     ]
    },
    {
     "name": "stderr",
     "output_type": "stream",
     "text": [
      "\n",
      "100%|██████████| 49/49 [02:25<00:00,  2.97s/it]\u001b[A\n",
      "\n",
      "100%|██████████| 49/49 [00:00<00:00, 602700.57it/s]\n",
      " 90%|█████████ | 9/10 [21:48<02:25, 145.65s/it]\n",
      "  0%|          | 0/49 [00:00<?, ?it/s]\u001b[A"
     ]
    },
    {
     "name": "stdout",
     "output_type": "stream",
     "text": [
      "LEN SORTED 6\n"
     ]
    },
    {
     "name": "stderr",
     "output_type": "stream",
     "text": [
      "\n",
      "  2%|▏         | 1/49 [00:01<01:33,  1.95s/it]\u001b[A"
     ]
    },
    {
     "name": "stdout",
     "output_type": "stream",
     "text": [
      "LEN SORTED 8\n"
     ]
    },
    {
     "name": "stderr",
     "output_type": "stream",
     "text": [
      "\n",
      "  4%|▍         | 2/49 [00:04<01:50,  2.34s/it]\u001b[A"
     ]
    },
    {
     "name": "stdout",
     "output_type": "stream",
     "text": [
      "LEN SORTED 6\n"
     ]
    },
    {
     "name": "stderr",
     "output_type": "stream",
     "text": [
      "\n",
      "  6%|▌         | 3/49 [00:06<01:43,  2.25s/it]\u001b[A"
     ]
    },
    {
     "name": "stdout",
     "output_type": "stream",
     "text": [
      "LEN SORTED 7\n"
     ]
    },
    {
     "name": "stderr",
     "output_type": "stream",
     "text": [
      "\n",
      "  8%|▊         | 4/49 [00:09<01:44,  2.33s/it]\u001b[A"
     ]
    },
    {
     "name": "stdout",
     "output_type": "stream",
     "text": [
      "LEN SORTED 7\n"
     ]
    },
    {
     "name": "stderr",
     "output_type": "stream",
     "text": [
      "\n",
      " 10%|█         | 5/49 [00:11<01:45,  2.39s/it]\u001b[A"
     ]
    },
    {
     "name": "stdout",
     "output_type": "stream",
     "text": [
      "LEN SORTED 7\n"
     ]
    },
    {
     "name": "stderr",
     "output_type": "stream",
     "text": [
      "\n",
      " 12%|█▏        | 6/49 [00:14<01:45,  2.46s/it]\u001b[A"
     ]
    },
    {
     "name": "stdout",
     "output_type": "stream",
     "text": [
      "LEN SORTED 8\n"
     ]
    },
    {
     "name": "stderr",
     "output_type": "stream",
     "text": [
      "\n",
      " 14%|█▍        | 7/49 [00:17<01:51,  2.66s/it]\u001b[A"
     ]
    },
    {
     "name": "stdout",
     "output_type": "stream",
     "text": [
      "LEN SORTED 6\n"
     ]
    },
    {
     "name": "stderr",
     "output_type": "stream",
     "text": [
      "\n",
      " 16%|█▋        | 8/49 [00:19<01:44,  2.55s/it]\u001b[A"
     ]
    },
    {
     "name": "stdout",
     "output_type": "stream",
     "text": [
      "LEN SORTED 5\n"
     ]
    },
    {
     "name": "stderr",
     "output_type": "stream",
     "text": [
      "\n",
      " 18%|█▊        | 9/49 [00:21<01:36,  2.42s/it]\u001b[A"
     ]
    },
    {
     "name": "stdout",
     "output_type": "stream",
     "text": [
      "LEN SORTED 6\n"
     ]
    },
    {
     "name": "stderr",
     "output_type": "stream",
     "text": [
      "\n",
      " 20%|██        | 10/49 [00:24<01:35,  2.45s/it]\u001b[A"
     ]
    },
    {
     "name": "stdout",
     "output_type": "stream",
     "text": [
      "LEN SORTED 8\n"
     ]
    },
    {
     "name": "stderr",
     "output_type": "stream",
     "text": [
      "\n",
      " 22%|██▏       | 11/49 [00:27<01:41,  2.67s/it]\u001b[A"
     ]
    },
    {
     "name": "stdout",
     "output_type": "stream",
     "text": [
      "LEN SORTED 5\n"
     ]
    },
    {
     "name": "stderr",
     "output_type": "stream",
     "text": [
      "\n",
      " 24%|██▍       | 12/49 [00:29<01:32,  2.50s/it]\u001b[A"
     ]
    },
    {
     "name": "stdout",
     "output_type": "stream",
     "text": [
      "LEN SORTED 7\n"
     ]
    },
    {
     "name": "stderr",
     "output_type": "stream",
     "text": [
      "\n",
      " 27%|██▋       | 13/49 [00:32<01:31,  2.53s/it]\u001b[A"
     ]
    },
    {
     "name": "stdout",
     "output_type": "stream",
     "text": [
      "LEN SORTED 6\n"
     ]
    },
    {
     "name": "stderr",
     "output_type": "stream",
     "text": [
      "\n",
      " 29%|██▊       | 14/49 [00:34<01:26,  2.49s/it]\u001b[A"
     ]
    },
    {
     "name": "stdout",
     "output_type": "stream",
     "text": [
      "LEN SORTED 7\n"
     ]
    },
    {
     "name": "stderr",
     "output_type": "stream",
     "text": [
      "\n",
      " 31%|███       | 15/49 [00:37<01:31,  2.68s/it]\u001b[A"
     ]
    },
    {
     "name": "stdout",
     "output_type": "stream",
     "text": [
      "LEN SORTED 7\n"
     ]
    },
    {
     "name": "stderr",
     "output_type": "stream",
     "text": [
      "\n",
      " 33%|███▎      | 16/49 [00:40<01:32,  2.81s/it]\u001b[A"
     ]
    },
    {
     "name": "stdout",
     "output_type": "stream",
     "text": [
      "LEN SORTED 7\n"
     ]
    },
    {
     "name": "stderr",
     "output_type": "stream",
     "text": [
      "\n",
      " 35%|███▍      | 17/49 [00:43<01:32,  2.90s/it]\u001b[A"
     ]
    },
    {
     "name": "stdout",
     "output_type": "stream",
     "text": [
      "LEN SORTED 5\n"
     ]
    },
    {
     "name": "stderr",
     "output_type": "stream",
     "text": [
      "\n",
      " 37%|███▋      | 18/49 [00:46<01:23,  2.69s/it]\u001b[A"
     ]
    },
    {
     "name": "stdout",
     "output_type": "stream",
     "text": [
      "LEN SORTED 7\n"
     ]
    },
    {
     "name": "stderr",
     "output_type": "stream",
     "text": [
      "\n",
      " 39%|███▉      | 19/49 [00:49<01:23,  2.78s/it]\u001b[A"
     ]
    },
    {
     "name": "stdout",
     "output_type": "stream",
     "text": [
      "LEN SORTED 6\n"
     ]
    },
    {
     "name": "stderr",
     "output_type": "stream",
     "text": [
      "\n",
      " 41%|████      | 20/49 [00:51<01:18,  2.71s/it]\u001b[A"
     ]
    },
    {
     "name": "stdout",
     "output_type": "stream",
     "text": [
      "LEN SORTED 7\n"
     ]
    },
    {
     "name": "stderr",
     "output_type": "stream",
     "text": [
      "\n",
      " 43%|████▎     | 21/49 [00:54<01:18,  2.81s/it]\u001b[A"
     ]
    },
    {
     "name": "stdout",
     "output_type": "stream",
     "text": [
      "LEN SORTED 9\n"
     ]
    },
    {
     "name": "stderr",
     "output_type": "stream",
     "text": [
      "\n",
      " 45%|████▍     | 22/49 [00:58<01:26,  3.19s/it]\u001b[A"
     ]
    },
    {
     "name": "stdout",
     "output_type": "stream",
     "text": [
      "LEN SORTED 7\n"
     ]
    },
    {
     "name": "stderr",
     "output_type": "stream",
     "text": [
      "\n",
      " 47%|████▋     | 23/49 [01:02<01:23,  3.23s/it]\u001b[A"
     ]
    },
    {
     "name": "stdout",
     "output_type": "stream",
     "text": [
      "LEN SORTED 7\n"
     ]
    },
    {
     "name": "stderr",
     "output_type": "stream",
     "text": [
      "\n",
      " 49%|████▉     | 24/49 [01:05<01:24,  3.38s/it]\u001b[A"
     ]
    },
    {
     "name": "stdout",
     "output_type": "stream",
     "text": [
      "LEN SORTED 7\n"
     ]
    },
    {
     "name": "stderr",
     "output_type": "stream",
     "text": [
      "\n",
      " 51%|█████     | 25/49 [01:09<01:22,  3.44s/it]\u001b[A"
     ]
    },
    {
     "name": "stdout",
     "output_type": "stream",
     "text": [
      "LEN SORTED 6\n"
     ]
    },
    {
     "name": "stderr",
     "output_type": "stream",
     "text": [
      "\n",
      " 53%|█████▎    | 26/49 [01:12<01:16,  3.31s/it]\u001b[A"
     ]
    },
    {
     "name": "stdout",
     "output_type": "stream",
     "text": [
      "LEN SORTED 6\n"
     ]
    },
    {
     "name": "stderr",
     "output_type": "stream",
     "text": [
      "\n",
      " 55%|█████▌    | 27/49 [01:15<01:09,  3.17s/it]\u001b[A"
     ]
    },
    {
     "name": "stdout",
     "output_type": "stream",
     "text": [
      "LEN SORTED 4\n"
     ]
    },
    {
     "name": "stderr",
     "output_type": "stream",
     "text": [
      "\n",
      " 57%|█████▋    | 28/49 [01:17<00:58,  2.80s/it]\u001b[A"
     ]
    },
    {
     "name": "stdout",
     "output_type": "stream",
     "text": [
      "LEN SORTED 7\n"
     ]
    },
    {
     "name": "stderr",
     "output_type": "stream",
     "text": [
      "\n",
      " 59%|█████▉    | 29/49 [01:20<00:59,  2.99s/it]\u001b[A"
     ]
    },
    {
     "name": "stdout",
     "output_type": "stream",
     "text": [
      "LEN SORTED 7\n"
     ]
    },
    {
     "name": "stderr",
     "output_type": "stream",
     "text": [
      "\n",
      " 61%|██████    | 30/49 [01:23<00:58,  3.09s/it]\u001b[A"
     ]
    },
    {
     "name": "stdout",
     "output_type": "stream",
     "text": [
      "LEN SORTED 7\n"
     ]
    },
    {
     "name": "stderr",
     "output_type": "stream",
     "text": [
      "\n",
      " 63%|██████▎   | 31/49 [01:27<00:57,  3.21s/it]\u001b[A"
     ]
    },
    {
     "name": "stdout",
     "output_type": "stream",
     "text": [
      "LEN SORTED 7\n"
     ]
    },
    {
     "name": "stderr",
     "output_type": "stream",
     "text": [
      "\n",
      " 65%|██████▌   | 32/49 [01:31<00:59,  3.47s/it]\u001b[A"
     ]
    },
    {
     "name": "stdout",
     "output_type": "stream",
     "text": [
      "LEN SORTED 7\n"
     ]
    },
    {
     "name": "stderr",
     "output_type": "stream",
     "text": [
      "\n",
      " 67%|██████▋   | 33/49 [01:35<01:00,  3.75s/it]\u001b[A"
     ]
    },
    {
     "name": "stdout",
     "output_type": "stream",
     "text": [
      "LEN SORTED 7\n"
     ]
    },
    {
     "name": "stderr",
     "output_type": "stream",
     "text": [
      "\n",
      " 69%|██████▉   | 34/49 [01:40<00:58,  3.89s/it]\u001b[A"
     ]
    },
    {
     "name": "stdout",
     "output_type": "stream",
     "text": [
      "LEN SORTED 6\n"
     ]
    },
    {
     "name": "stderr",
     "output_type": "stream",
     "text": [
      "\n",
      " 71%|███████▏  | 35/49 [01:43<00:54,  3.86s/it]\u001b[A"
     ]
    },
    {
     "name": "stdout",
     "output_type": "stream",
     "text": [
      "LEN SORTED 5\n"
     ]
    },
    {
     "name": "stderr",
     "output_type": "stream",
     "text": [
      "\n",
      " 73%|███████▎  | 36/49 [01:46<00:46,  3.59s/it]\u001b[A"
     ]
    },
    {
     "name": "stdout",
     "output_type": "stream",
     "text": [
      "LEN SORTED 2\n"
     ]
    },
    {
     "name": "stderr",
     "output_type": "stream",
     "text": [
      "\n",
      " 76%|███████▌  | 37/49 [01:48<00:35,  2.92s/it]\u001b[A"
     ]
    },
    {
     "name": "stdout",
     "output_type": "stream",
     "text": [
      "LEN SORTED 5\n"
     ]
    },
    {
     "name": "stderr",
     "output_type": "stream",
     "text": [
      "\n",
      " 78%|███████▊  | 38/49 [01:51<00:31,  2.91s/it]\u001b[A"
     ]
    },
    {
     "name": "stdout",
     "output_type": "stream",
     "text": [
      "LEN SORTED 7\n"
     ]
    },
    {
     "name": "stderr",
     "output_type": "stream",
     "text": [
      "\n",
      " 80%|███████▉  | 39/49 [01:55<00:33,  3.31s/it]\u001b[A"
     ]
    },
    {
     "name": "stdout",
     "output_type": "stream",
     "text": [
      "LEN SORTED 7\n"
     ]
    },
    {
     "name": "stderr",
     "output_type": "stream",
     "text": [
      "\n",
      " 82%|████████▏ | 40/49 [01:59<00:32,  3.61s/it]\u001b[A"
     ]
    },
    {
     "name": "stdout",
     "output_type": "stream",
     "text": [
      "LEN SORTED 8\n"
     ]
    },
    {
     "name": "stderr",
     "output_type": "stream",
     "text": [
      "\n",
      " 84%|████████▎ | 41/49 [02:04<00:31,  3.94s/it]\u001b[A"
     ]
    },
    {
     "name": "stdout",
     "output_type": "stream",
     "text": [
      "LEN SORTED 8\n"
     ]
    },
    {
     "name": "stderr",
     "output_type": "stream",
     "text": [
      "\n",
      " 86%|████████▌ | 42/49 [02:07<00:26,  3.80s/it]\u001b[A"
     ]
    },
    {
     "name": "stdout",
     "output_type": "stream",
     "text": [
      "LEN SORTED 7\n"
     ]
    },
    {
     "name": "stderr",
     "output_type": "stream",
     "text": [
      "\n",
      " 88%|████████▊ | 43/49 [02:09<00:19,  3.29s/it]\u001b[A"
     ]
    },
    {
     "name": "stdout",
     "output_type": "stream",
     "text": [
      "LEN SORTED 6\n"
     ]
    },
    {
     "name": "stderr",
     "output_type": "stream",
     "text": [
      "\n",
      " 90%|████████▉ | 44/49 [02:12<00:15,  3.08s/it]\u001b[A"
     ]
    },
    {
     "name": "stdout",
     "output_type": "stream",
     "text": [
      "LEN SORTED 7\n"
     ]
    },
    {
     "name": "stderr",
     "output_type": "stream",
     "text": [
      "\n",
      " 92%|█████████▏| 45/49 [02:16<00:13,  3.40s/it]\u001b[A"
     ]
    },
    {
     "name": "stdout",
     "output_type": "stream",
     "text": [
      "LEN SORTED 7\n"
     ]
    },
    {
     "name": "stderr",
     "output_type": "stream",
     "text": [
      "\n",
      " 94%|█████████▍| 46/49 [02:20<00:11,  3.68s/it]\u001b[A"
     ]
    },
    {
     "name": "stdout",
     "output_type": "stream",
     "text": [
      "LEN SORTED 7\n"
     ]
    },
    {
     "name": "stderr",
     "output_type": "stream",
     "text": [
      "\n",
      " 96%|█████████▌| 47/49 [02:25<00:08,  4.01s/it]\u001b[A"
     ]
    },
    {
     "name": "stdout",
     "output_type": "stream",
     "text": [
      "LEN SORTED 7\n"
     ]
    },
    {
     "name": "stderr",
     "output_type": "stream",
     "text": [
      "\n",
      " 98%|█████████▊| 48/49 [02:30<00:04,  4.19s/it]\u001b[A"
     ]
    },
    {
     "name": "stdout",
     "output_type": "stream",
     "text": [
      "LEN SORTED 5\n"
     ]
    },
    {
     "name": "stderr",
     "output_type": "stream",
     "text": [
      "\n",
      "100%|██████████| 49/49 [02:33<00:00,  3.14s/it]\u001b[A\n",
      "\n",
      "100%|██████████| 49/49 [00:00<00:00, 157006.03it/s]\n",
      "100%|██████████| 10/10 [24:22<00:00, 146.23s/it]\n"
     ]
    }
   ],
   "source": [
    "no_overall_correct_all = []\n",
    "no_drift_correct_all = []\n",
    "no_non_drift_correct_all = []\n",
    "random_seed_all = []\n",
    "\n",
    "important_features_count = 0\n",
    "count = 0\n",
    "\n",
    "for i in tqdm(range(1, 11)):\n",
    "    df_concept_drift = pd.read_csv(data_path_drift_localization + str(i) + '.csv')\n",
    "    df_concept_drift = df_concept_drift.loc[:, ~df_concept_drift.columns.str.contains('^Unnamed')]\n",
    "    #df_concept_drift = df_concept_drift.reset_index(drop = True)\n",
    "    drifts_true_disk = []\n",
    "    for k in range(0, len(df_concept_drift.Sig.values)):\n",
    "        if(df_concept_drift.Sig.values[k]==True):\n",
    "            drifts_true_disk.append(1)\n",
    "        else:\n",
    "            drifts_true_disk.append(0)\n",
    "\n",
    "    scaler = StandardScaler()\n",
    "    stat_test = stats.kstest\n",
    "\n",
    "    ede_ks_results_important_features = []\n",
    "\n",
    "    for period in tqdm(range(0, len(feature_list)-1)):\n",
    "    #for period in tqdm(range(1,2)):\n",
    "\n",
    "\n",
    "        #print('Before Scale Train', feature_list[period])\n",
    "        #print('Before Scale Test', feature_list[period+1])\n",
    "\n",
    "        # extract features train and test\n",
    "        training_features = scaler.fit_transform(feature_list[period])\n",
    "        testing_features = scaler.transform(feature_list[period+1])\n",
    "\n",
    "        # convert numpy array to Pandas Dataframe\n",
    "        df_train_features = pd.DataFrame(training_features, columns = features_disk_failure)\n",
    "        df_test_features = pd.DataFrame(testing_features, columns = features_disk_failure)\n",
    "\n",
    "        # Sort by Feature Importance\n",
    "\n",
    "        # Extract Ranks\n",
    "        feature_imp_array_string = np.array(((df_concept_drift.FI[period].replace('[','')).replace(']','')).replace('\\n', '').split(' '))\n",
    "        #print('feature_imp_array_string', feature_imp_array_string)\n",
    "\n",
    "        # convert to float\n",
    "        feature_imp_array = [float(i) for i in feature_imp_array_string if i != '' ]\n",
    "\n",
    "        # consider only the most important features (importance > mean(feature_importances))\n",
    "        # extract mean?? of feature importance\n",
    "        mean_importance = np.mean(feature_imp_array)\n",
    "\n",
    "        zipped_features = list(zip(feature_imp_array, features_disk_failure))\n",
    "\n",
    "\n",
    "        sorted_features_zip = sorted(zipped_features, key = lambda x: x[0], reverse = True)\n",
    "\n",
    "        sorted_important_features = [x for x in sorted_features_zip if x[0]>=mean_importance]\n",
    "\n",
    "        sorted_features = [i[1] for i in sorted_important_features]\n",
    "        print('LEN SORTED', len(sorted_features))\n",
    "        important_features_count = important_features_count + len(sorted_features)\n",
    "        count = count + 1\n",
    "\n",
    "        # Sort columns in df according to their importance\n",
    "        df_train_features_sorted = df_train_features[sorted_features]\n",
    "        df_test_features_sorted = df_test_features[sorted_features]\n",
    "\n",
    "\n",
    "        distribution_training = sns.distplot(np.array(df_train_features_sorted)).get_lines()[0].get_data()[1]\n",
    "        plt.close()\n",
    "        distribution_test = sns.distplot(np.array(df_test_features_sorted)).get_lines()[0].get_data()[1]\n",
    "        plt.close()\n",
    "\n",
    "        v, p = stat_test(distribution_training, distribution_test)\n",
    "        if(p<0.05):\n",
    "            ede_ks_results_important_features.append(1)\n",
    "        else:\n",
    "            ede_ks_results_important_features.append(0)\n",
    "    \n",
    "    \n",
    "    no_overall_correct = 0\n",
    "    no_drift_correct = 0\n",
    "    no_non_drift_correct = 0\n",
    "\n",
    "    for j in tqdm(range(0, len(ede_ks_results_important_features))):\n",
    "\n",
    "        if(ede_ks_results_important_features[j]==drifts_true_disk[j]):\n",
    "            no_overall_correct = no_overall_correct + 1\n",
    "\n",
    "        if(drifts_true_disk[j]==1):\n",
    "            if(ede_ks_results_important_features[j]==drifts_true_disk[j]):\n",
    "                no_drift_correct = no_drift_correct + 1\n",
    "\n",
    "        if(drifts_true_disk[j]==0):\n",
    "            if(ede_ks_results_important_features[j]==drifts_true_disk[j]):\n",
    "                no_non_drift_correct = no_non_drift_correct + 1\n",
    "\n",
    "    # Compute Metrics for all Random Seeds         \n",
    "    overall_correct_prediction_score = no_overall_correct/len(drifts_true_disk)\n",
    "    no_overall_correct_all.append(overall_correct_prediction_score)\n",
    "    \n",
    "    drift_correct_prediction_score = no_drift_correct/len(np.nonzero(drifts_true_disk)[0])\n",
    "    no_drift_correct_all.append(drift_correct_prediction_score)\n",
    "    \n",
    "    non_drift_correct_prediction_score = no_non_drift_correct/(len(drifts_true_disk) - len(np.nonzero(drifts_true_disk)[0]))\n",
    "    no_non_drift_correct_all.append(non_drift_correct_prediction_score)\n",
    "    \n",
    "    random_seed_all.append([random_seeds[i-1]]*len(feature_list))"
   ]
  },
  {
   "cell_type": "code",
   "execution_count": 19,
   "id": "21cf6de2",
   "metadata": {},
   "outputs": [
    {
     "data": {
      "text/plain": [
       "6.426530612244898"
      ]
     },
     "execution_count": 19,
     "metadata": {},
     "output_type": "execute_result"
    }
   ],
   "source": [
    "important_features_count/count"
   ]
  },
  {
   "cell_type": "code",
   "execution_count": null,
   "id": "01c1a90b",
   "metadata": {},
   "outputs": [],
   "source": []
  },
  {
   "cell_type": "markdown",
   "id": "54dadd2f",
   "metadata": {},
   "source": [
    "Avg accuracy of overall correct detected batches"
   ]
  },
  {
   "cell_type": "code",
   "execution_count": 16,
   "id": "babe6e56",
   "metadata": {},
   "outputs": [
    {
     "data": {
      "text/plain": [
       "0.6387755102040816"
      ]
     },
     "execution_count": 16,
     "metadata": {},
     "output_type": "execute_result"
    }
   ],
   "source": [
    "np.mean(no_overall_correct_all)"
   ]
  },
  {
   "cell_type": "markdown",
   "id": "189b0a16",
   "metadata": {},
   "source": [
    "Avg accuracy of correct detected drifts"
   ]
  },
  {
   "cell_type": "code",
   "execution_count": 17,
   "id": "c5140bfe",
   "metadata": {},
   "outputs": [
    {
     "data": {
      "text/plain": [
       "0.68972963092026"
      ]
     },
     "execution_count": 17,
     "metadata": {},
     "output_type": "execute_result"
    }
   ],
   "source": [
    "np.mean(no_drift_correct_all)"
   ]
  },
  {
   "cell_type": "markdown",
   "id": "b08509de",
   "metadata": {},
   "source": [
    "Avg accuracy of corrected detected non-drifts"
   ]
  },
  {
   "cell_type": "code",
   "execution_count": 18,
   "id": "01cbc234",
   "metadata": {},
   "outputs": [
    {
     "data": {
      "text/plain": [
       "0.44369241869241866"
      ]
     },
     "execution_count": 18,
     "metadata": {},
     "output_type": "execute_result"
    }
   ],
   "source": [
    "np.mean(no_non_drift_correct_all)"
   ]
  },
  {
   "cell_type": "markdown",
   "id": "c352f8bf",
   "metadata": {},
   "source": [
    "# Drift Detection Accuracy All Features"
   ]
  },
  {
   "cell_type": "code",
   "execution_count": 20,
   "id": "c3ac7178",
   "metadata": {
    "scrolled": true
   },
   "outputs": [
    {
     "name": "stderr",
     "output_type": "stream",
     "text": [
      "  0%|          | 0/10 [00:00<?, ?it/s]\n",
      "  0%|          | 0/49 [00:00<?, ?it/s]\u001b[A\n",
      "  2%|▏         | 1/49 [00:06<05:31,  6.91s/it]\u001b[A\n",
      "  4%|▍         | 2/49 [00:14<05:36,  7.15s/it]\u001b[A\n",
      "  6%|▌         | 3/49 [00:21<05:27,  7.13s/it]\u001b[A\n",
      "  8%|▊         | 4/49 [00:27<05:09,  6.87s/it]\u001b[A\n",
      " 10%|█         | 5/49 [00:34<05:02,  6.88s/it]\u001b[A\n",
      " 12%|█▏        | 6/49 [00:41<04:57,  6.93s/it]\u001b[A\n",
      " 14%|█▍        | 7/49 [00:49<04:58,  7.10s/it]\u001b[A\n",
      " 16%|█▋        | 8/49 [00:56<04:57,  7.25s/it]\u001b[A\n",
      " 18%|█▊        | 9/49 [01:04<04:53,  7.35s/it]\u001b[A\n",
      " 20%|██        | 10/49 [01:12<04:54,  7.56s/it]\u001b[A\n",
      " 22%|██▏       | 11/49 [01:20<04:52,  7.71s/it]\u001b[A\n",
      " 24%|██▍       | 12/49 [01:27<04:44,  7.68s/it]\u001b[A\n",
      " 27%|██▋       | 13/49 [01:35<04:34,  7.62s/it]\u001b[A\n",
      " 29%|██▊       | 14/49 [01:42<04:24,  7.55s/it]\u001b[A\n",
      " 31%|███       | 15/49 [01:50<04:17,  7.59s/it]\u001b[A\n",
      " 33%|███▎      | 16/49 [01:58<04:16,  7.79s/it]\u001b[A\n",
      " 35%|███▍      | 17/49 [02:08<04:22,  8.22s/it]\u001b[A\n",
      " 37%|███▋      | 18/49 [02:16<04:20,  8.39s/it]\u001b[A\n",
      " 39%|███▉      | 19/49 [02:25<04:13,  8.45s/it]\u001b[A\n",
      " 41%|████      | 20/49 [02:34<04:08,  8.57s/it]\u001b[A\n",
      " 43%|████▎     | 21/49 [02:43<04:03,  8.70s/it]\u001b[A\n",
      " 45%|████▍     | 22/49 [02:52<03:57,  8.79s/it]\u001b[A\n",
      " 47%|████▋     | 23/49 [03:01<03:52,  8.93s/it]\u001b[A\n",
      " 49%|████▉     | 24/49 [03:10<03:45,  9.00s/it]\u001b[A\n",
      " 51%|█████     | 25/49 [03:20<03:38,  9.12s/it]\u001b[A\n",
      " 53%|█████▎    | 26/49 [03:29<03:32,  9.25s/it]\u001b[A\n",
      " 55%|█████▌    | 27/49 [03:38<03:23,  9.25s/it]\u001b[A\n",
      " 57%|█████▋    | 28/49 [03:48<03:16,  9.36s/it]\u001b[A\n",
      " 59%|█████▉    | 29/49 [03:58<03:10,  9.52s/it]\u001b[A\n",
      " 61%|██████    | 30/49 [04:08<03:01,  9.57s/it]\u001b[A\n",
      " 63%|██████▎   | 31/49 [04:18<02:56,  9.79s/it]\u001b[A\n",
      " 65%|██████▌   | 32/49 [04:28<02:48,  9.90s/it]\u001b[A\n",
      " 67%|██████▋   | 33/49 [04:38<02:38,  9.92s/it]\u001b[A\n",
      " 69%|██████▉   | 34/49 [04:48<02:29,  9.97s/it]\u001b[A\n",
      " 71%|███████▏  | 35/49 [04:59<02:22, 10.16s/it]\u001b[A\n",
      " 73%|███████▎  | 36/49 [05:09<02:13, 10.28s/it]\u001b[A\n",
      " 76%|███████▌  | 37/49 [05:28<02:33, 12.76s/it]\u001b[A\n",
      " 78%|███████▊  | 38/49 [05:39<02:14, 12.24s/it]\u001b[A\n",
      " 80%|███████▉  | 39/49 [05:49<01:57, 11.76s/it]\u001b[A\n",
      " 82%|████████▏ | 40/49 [06:00<01:41, 11.31s/it]\u001b[A\n",
      " 84%|████████▎ | 41/49 [06:10<01:28, 11.03s/it]\u001b[A\n",
      " 86%|████████▌ | 42/49 [06:18<01:11, 10.14s/it]\u001b[A\n",
      " 88%|████████▊ | 43/49 [06:23<00:52,  8.69s/it]\u001b[A\n",
      " 90%|████████▉ | 44/49 [06:31<00:42,  8.42s/it]\u001b[A\n",
      " 92%|█████████▏| 45/49 [06:42<00:36,  9.07s/it]\u001b[A\n",
      " 94%|█████████▍| 46/49 [06:53<00:28,  9.57s/it]\u001b[A\n",
      " 96%|█████████▌| 47/49 [07:04<00:20, 10.00s/it]\u001b[A\n",
      " 98%|█████████▊| 48/49 [07:15<00:10, 10.36s/it]\u001b[A\n",
      "100%|██████████| 49/49 [07:27<00:00,  9.13s/it]\u001b[A\n",
      "\n",
      "100%|██████████| 49/49 [00:00<00:00, 382720.48it/s]\n",
      " 10%|█         | 1/10 [07:27<1:07:07, 447.52s/it]\n",
      "  0%|          | 0/49 [00:00<?, ?it/s]\u001b[A\n",
      "  2%|▏         | 1/49 [00:06<05:11,  6.50s/it]\u001b[A\n",
      "  4%|▍         | 2/49 [00:12<04:57,  6.32s/it]\u001b[A\n",
      "  6%|▌         | 3/49 [00:18<04:46,  6.23s/it]\u001b[A\n",
      "  8%|▊         | 4/49 [00:25<04:42,  6.28s/it]\u001b[A\n",
      " 10%|█         | 5/49 [00:31<04:32,  6.18s/it]\u001b[A\n",
      " 12%|█▏        | 6/49 [00:38<04:35,  6.42s/it]\u001b[A\n",
      " 14%|█▍        | 7/49 [00:45<04:50,  6.91s/it]\u001b[A\n",
      " 16%|█▋        | 8/49 [00:53<04:52,  7.14s/it]\u001b[A\n",
      " 18%|█▊        | 9/49 [01:01<04:58,  7.45s/it]\u001b[A\n",
      " 20%|██        | 10/49 [01:11<05:12,  8.01s/it]\u001b[A\n",
      " 22%|██▏       | 11/49 [01:18<05:03,  8.00s/it]\u001b[A\n",
      " 24%|██▍       | 12/49 [01:26<04:48,  7.79s/it]\u001b[A\n",
      " 27%|██▋       | 13/49 [01:33<04:34,  7.61s/it]\u001b[A\n",
      " 29%|██▊       | 14/49 [01:40<04:20,  7.45s/it]\u001b[A\n",
      " 31%|███       | 15/49 [01:49<04:23,  7.75s/it]\u001b[A\n",
      " 33%|███▎      | 16/49 [01:56<04:16,  7.76s/it]\u001b[A\n",
      " 35%|███▍      | 17/49 [02:04<04:11,  7.84s/it]\u001b[A\n",
      " 37%|███▋      | 18/49 [02:12<04:01,  7.79s/it]\u001b[A\n",
      " 39%|███▉      | 19/49 [02:20<03:57,  7.91s/it]\u001b[A\n",
      " 41%|████      | 20/49 [02:29<03:56,  8.16s/it]\u001b[A\n",
      " 43%|████▎     | 21/49 [02:37<03:48,  8.16s/it]\u001b[A\n",
      " 45%|████▍     | 22/49 [02:46<03:47,  8.42s/it]\u001b[A\n",
      " 47%|████▋     | 23/49 [02:56<03:53,  8.97s/it]\u001b[A\n",
      " 49%|████▉     | 24/49 [03:04<03:37,  8.69s/it]\u001b[A\n",
      " 51%|█████     | 25/49 [03:13<03:27,  8.67s/it]\u001b[A\n",
      " 53%|█████▎    | 26/49 [03:22<03:19,  8.69s/it]\u001b[A\n",
      " 55%|█████▌    | 27/49 [03:31<03:11,  8.71s/it]\u001b[A\n",
      " 57%|█████▋    | 28/49 [03:39<03:03,  8.73s/it]\u001b[A\n",
      " 59%|█████▉    | 29/49 [03:48<02:56,  8.83s/it]\u001b[A\n",
      " 61%|██████    | 30/49 [03:57<02:49,  8.90s/it]\u001b[A\n",
      " 63%|██████▎   | 31/49 [04:07<02:42,  9.05s/it]\u001b[A\n",
      " 65%|██████▌   | 32/49 [04:16<02:33,  9.02s/it]\u001b[A\n",
      " 67%|██████▋   | 33/49 [04:25<02:25,  9.10s/it]\u001b[A\n",
      " 69%|██████▉   | 34/49 [04:35<02:19,  9.30s/it]\u001b[A\n",
      " 71%|███████▏  | 35/49 [04:44<02:09,  9.27s/it]\u001b[A\n",
      " 73%|███████▎  | 36/49 [04:54<02:02,  9.42s/it]\u001b[A\n",
      " 76%|███████▌  | 37/49 [05:04<01:53,  9.50s/it]\u001b[A\n",
      " 78%|███████▊  | 38/49 [05:13<01:44,  9.49s/it]\u001b[A\n",
      " 80%|███████▉  | 39/49 [05:23<01:36,  9.65s/it]\u001b[A\n",
      " 82%|████████▏ | 40/49 [05:33<01:27,  9.72s/it]\u001b[A\n",
      " 84%|████████▎ | 41/49 [05:44<01:20, 10.10s/it]\u001b[A\n",
      " 86%|████████▌ | 42/49 [05:52<01:06,  9.45s/it]\u001b[A\n",
      " 88%|████████▊ | 43/49 [05:58<00:50,  8.37s/it]\u001b[A\n",
      " 90%|████████▉ | 44/49 [06:06<00:41,  8.32s/it]\u001b[A\n",
      " 92%|█████████▏| 45/49 [06:17<00:36,  9.24s/it]\u001b[A\n",
      " 94%|█████████▍| 46/49 [06:30<00:30, 10.19s/it]\u001b[A\n",
      " 96%|█████████▌| 47/49 [06:41<00:21, 10.56s/it]\u001b[A\n",
      " 98%|█████████▊| 48/49 [06:53<00:10, 10.98s/it]\u001b[A\n",
      "100%|██████████| 49/49 [07:06<00:00,  8.69s/it]\u001b[A\n",
      "\n",
      "100%|██████████| 49/49 [00:00<00:00, 556967.20it/s]\n",
      " 20%|██        | 2/10 [14:33<57:59, 434.90s/it]  \n",
      "  0%|          | 0/49 [00:00<?, ?it/s]\u001b[A\n",
      "  2%|▏         | 1/49 [00:05<04:47,  6.00s/it]\u001b[A\n",
      "  4%|▍         | 2/49 [00:11<04:39,  5.95s/it]\u001b[A\n",
      "  6%|▌         | 3/49 [00:18<04:43,  6.16s/it]\u001b[A\n",
      "  8%|▊         | 4/49 [00:25<04:49,  6.43s/it]\u001b[A\n",
      " 10%|█         | 5/49 [00:31<04:42,  6.42s/it]\u001b[A\n",
      " 12%|█▏        | 6/49 [00:38<04:44,  6.61s/it]\u001b[A\n",
      " 14%|█▍        | 7/49 [00:45<04:36,  6.58s/it]\u001b[A\n",
      " 16%|█▋        | 8/49 [00:51<04:31,  6.61s/it]\u001b[A\n",
      " 18%|█▊        | 9/49 [00:58<04:23,  6.59s/it]\u001b[A\n",
      " 20%|██        | 10/49 [01:05<04:20,  6.68s/it]\u001b[A\n",
      " 22%|██▏       | 11/49 [01:11<04:12,  6.64s/it]\u001b[A\n",
      " 24%|██▍       | 12/49 [01:18<04:05,  6.64s/it]\u001b[A\n",
      " 27%|██▋       | 13/49 [01:24<03:57,  6.59s/it]\u001b[A\n",
      " 29%|██▊       | 14/49 [01:31<03:51,  6.60s/it]\u001b[A\n",
      " 31%|███       | 15/49 [01:39<03:55,  6.93s/it]\u001b[A\n",
      " 33%|███▎      | 16/49 [01:46<03:56,  7.17s/it]\u001b[A\n",
      " 35%|███▍      | 17/49 [01:54<03:55,  7.36s/it]\u001b[A\n",
      " 37%|███▋      | 18/49 [02:03<03:57,  7.65s/it]\u001b[A\n",
      " 39%|███▉      | 19/49 [02:11<03:54,  7.82s/it]\u001b[A\n",
      " 41%|████      | 20/49 [02:19<03:48,  7.86s/it]\u001b[A\n",
      " 43%|████▎     | 21/49 [02:27<03:40,  7.89s/it]\u001b[A\n",
      " 45%|████▍     | 22/49 [02:35<03:35,  7.96s/it]\u001b[A\n",
      " 47%|████▋     | 23/49 [02:43<03:31,  8.14s/it]\u001b[A\n",
      " 49%|████▉     | 24/49 [02:52<03:29,  8.38s/it]\u001b[A\n",
      " 51%|█████     | 25/49 [03:01<03:25,  8.55s/it]\u001b[A\n",
      " 53%|█████▎    | 26/49 [03:10<03:16,  8.55s/it]\u001b[A\n",
      " 55%|█████▌    | 27/49 [03:18<03:06,  8.48s/it]\u001b[A\n",
      " 57%|█████▋    | 28/49 [03:27<02:59,  8.54s/it]\u001b[A\n",
      " 59%|█████▉    | 29/49 [03:35<02:51,  8.58s/it]\u001b[A\n",
      " 61%|██████    | 30/49 [03:44<02:43,  8.58s/it]\u001b[A\n",
      " 63%|██████▎   | 31/49 [03:53<02:35,  8.64s/it]\u001b[A\n",
      " 65%|██████▌   | 32/49 [04:02<02:27,  8.67s/it]\u001b[A\n",
      " 67%|██████▋   | 33/49 [04:10<02:18,  8.67s/it]\u001b[A\n",
      " 69%|██████▉   | 34/49 [04:20<02:13,  8.89s/it]\u001b[A\n",
      " 71%|███████▏  | 35/49 [04:29<02:06,  9.01s/it]\u001b[A\n",
      " 73%|███████▎  | 36/49 [04:38<01:58,  9.10s/it]\u001b[A\n",
      " 76%|███████▌  | 37/49 [04:47<01:49,  9.15s/it]\u001b[A\n",
      " 78%|███████▊  | 38/49 [04:57<01:40,  9.15s/it]\u001b[A\n",
      " 80%|███████▉  | 39/49 [05:06<01:31,  9.17s/it]\u001b[A\n",
      " 82%|████████▏ | 40/49 [05:15<01:23,  9.22s/it]\u001b[A\n",
      " 84%|████████▎ | 41/49 [05:25<01:14,  9.33s/it]\u001b[A\n",
      " 86%|████████▌ | 42/49 [05:33<01:02,  8.89s/it]\u001b[A\n",
      " 88%|████████▊ | 43/49 [05:38<00:46,  7.79s/it]\u001b[A\n",
      " 90%|████████▉ | 44/49 [05:46<00:39,  7.93s/it]\u001b[A\n",
      " 92%|█████████▏| 45/49 [05:57<00:35,  8.87s/it]\u001b[A\n",
      " 94%|█████████▍| 46/49 [06:09<00:28,  9.65s/it]\u001b[A\n",
      " 96%|█████████▌| 47/49 [06:20<00:20, 10.15s/it]\u001b[A\n",
      " 98%|█████████▊| 48/49 [06:31<00:10, 10.56s/it]\u001b[A\n",
      "100%|██████████| 49/49 [06:44<00:00,  8.25s/it]\u001b[A\n",
      "\n",
      "100%|██████████| 49/49 [00:00<00:00, 136106.55it/s]\n",
      " 30%|███       | 3/10 [21:17<49:06, 420.96s/it]\n",
      "  0%|          | 0/49 [00:00<?, ?it/s]\u001b[A\n",
      "  2%|▏         | 1/49 [00:05<04:47,  5.98s/it]\u001b[A\n",
      "  4%|▍         | 2/49 [00:11<04:35,  5.86s/it]\u001b[A\n",
      "  6%|▌         | 3/49 [00:17<04:30,  5.88s/it]\u001b[A\n",
      "  8%|▊         | 4/49 [00:23<04:24,  5.87s/it]\u001b[A\n",
      " 10%|█         | 5/49 [00:29<04:22,  5.97s/it]\u001b[A\n",
      " 12%|█▏        | 6/49 [00:35<04:19,  6.03s/it]\u001b[A\n",
      " 14%|█▍        | 7/49 [00:42<04:17,  6.14s/it]\u001b[A\n",
      " 16%|█▋        | 8/49 [00:48<04:13,  6.19s/it]\u001b[A\n",
      " 18%|█▊        | 9/49 [00:54<04:10,  6.26s/it]\u001b[A\n",
      " 20%|██        | 10/49 [01:02<04:25,  6.81s/it]\u001b[A\n",
      " 22%|██▏       | 11/49 [01:10<04:23,  6.94s/it]\u001b[A\n",
      " 24%|██▍       | 12/49 [01:17<04:25,  7.17s/it]\u001b[A\n",
      " 27%|██▋       | 13/49 [01:24<04:17,  7.15s/it]\u001b[A\n",
      " 29%|██▊       | 14/49 [01:31<04:05,  7.02s/it]\u001b[A\n",
      " 31%|███       | 15/49 [01:38<04:00,  7.07s/it]\u001b[A\n",
      " 33%|███▎      | 16/49 [01:46<03:59,  7.27s/it]\u001b[A\n",
      " 35%|███▍      | 17/49 [01:54<03:59,  7.50s/it]\u001b[A\n",
      " 37%|███▋      | 18/49 [02:02<03:57,  7.66s/it]\u001b[A\n",
      " 39%|███▉      | 19/49 [02:10<03:53,  7.80s/it]\u001b[A\n",
      " 41%|████      | 20/49 [02:18<03:48,  7.87s/it]\u001b[A\n",
      " 43%|████▎     | 21/49 [02:26<03:42,  7.94s/it]\u001b[A\n",
      " 45%|████▍     | 22/49 [02:34<03:33,  7.89s/it]\u001b[A\n",
      " 47%|████▋     | 23/49 [02:43<03:31,  8.14s/it]\u001b[A\n",
      " 49%|████▉     | 24/49 [02:52<03:28,  8.35s/it]\u001b[A\n",
      " 51%|█████     | 25/49 [03:00<03:19,  8.32s/it]\u001b[A\n",
      " 53%|█████▎    | 26/49 [03:08<03:08,  8.20s/it]\u001b[A\n",
      " 55%|█████▌    | 27/49 [03:16<02:59,  8.17s/it]\u001b[A\n",
      " 57%|█████▋    | 28/49 [03:24<02:52,  8.20s/it]\u001b[A\n",
      " 59%|█████▉    | 29/49 [03:33<02:46,  8.31s/it]\u001b[A\n",
      " 61%|██████    | 30/49 [03:42<02:42,  8.53s/it]\u001b[A\n",
      " 63%|██████▎   | 31/49 [03:51<02:36,  8.67s/it]\u001b[A\n",
      " 65%|██████▌   | 32/49 [04:00<02:27,  8.69s/it]\u001b[A\n",
      " 67%|██████▋   | 33/49 [04:08<02:19,  8.71s/it]\u001b[A\n",
      " 69%|██████▉   | 34/49 [04:17<02:12,  8.81s/it]\u001b[A\n",
      " 71%|███████▏  | 35/49 [04:27<02:04,  8.88s/it]\u001b[A\n",
      " 73%|███████▎  | 36/49 [04:36<01:58,  9.10s/it]\u001b[A\n",
      " 76%|███████▌  | 37/49 [04:46<01:51,  9.28s/it]\u001b[A\n",
      " 78%|███████▊  | 38/49 [04:55<01:42,  9.34s/it]\u001b[A\n",
      " 80%|███████▉  | 39/49 [05:05<01:34,  9.42s/it]\u001b[A\n",
      " 82%|████████▏ | 40/49 [05:15<01:25,  9.51s/it]\u001b[A\n",
      " 84%|████████▎ | 41/49 [05:25<01:18,  9.76s/it]\u001b[A\n",
      " 86%|████████▌ | 42/49 [05:33<01:05,  9.31s/it]\u001b[A\n",
      " 88%|████████▊ | 43/49 [05:39<00:49,  8.28s/it]\u001b[A\n",
      " 90%|████████▉ | 44/49 [05:47<00:41,  8.29s/it]\u001b[A\n",
      " 92%|█████████▏| 45/49 [05:58<00:36,  9.02s/it]\u001b[A\n",
      " 94%|█████████▍| 46/49 [06:10<00:29,  9.84s/it]\u001b[A\n",
      " 96%|█████████▌| 47/49 [06:22<00:20, 10.45s/it]\u001b[A\n",
      " 98%|█████████▊| 48/49 [06:34<00:10, 10.87s/it]\u001b[A\n",
      "100%|██████████| 49/49 [06:45<00:00,  8.28s/it]\u001b[A\n",
      "\n",
      "100%|██████████| 49/49 [00:00<00:00, 240375.32it/s]\n",
      " 40%|████      | 4/10 [28:03<41:30, 415.05s/it]\n",
      "  0%|          | 0/49 [00:00<?, ?it/s]\u001b[A\n",
      "  2%|▏         | 1/49 [00:05<04:46,  5.97s/it]\u001b[A\n",
      "  4%|▍         | 2/49 [00:11<04:41,  5.99s/it]\u001b[A\n",
      "  6%|▌         | 3/49 [00:19<05:17,  6.90s/it]\u001b[A\n",
      "  8%|▊         | 4/49 [00:26<05:01,  6.70s/it]\u001b[A\n",
      " 10%|█         | 5/49 [00:32<04:50,  6.60s/it]\u001b[A\n",
      " 12%|█▏        | 6/49 [00:39<04:43,  6.60s/it]\u001b[A\n",
      " 14%|█▍        | 7/49 [00:46<04:40,  6.68s/it]\u001b[A\n",
      " 16%|█▋        | 8/49 [00:53<04:35,  6.73s/it]\u001b[A\n",
      " 18%|█▊        | 9/49 [00:59<04:31,  6.79s/it]\u001b[A\n",
      " 20%|██        | 10/49 [01:07<04:32,  6.99s/it]\u001b[A\n",
      " 22%|██▏       | 11/49 [01:14<04:24,  6.96s/it]\u001b[A\n",
      " 24%|██▍       | 12/49 [01:21<04:17,  6.96s/it]\u001b[A\n",
      " 27%|██▋       | 13/49 [01:28<04:08,  6.90s/it]\u001b[A\n",
      " 29%|██▊       | 14/49 [01:34<03:59,  6.83s/it]\u001b[A\n",
      " 31%|███       | 15/49 [01:42<03:57,  6.99s/it]\u001b[A\n",
      " 33%|███▎      | 16/49 [01:49<03:58,  7.22s/it]\u001b[A\n",
      " 35%|███▍      | 17/49 [01:57<03:59,  7.49s/it]\u001b[A\n",
      " 37%|███▋      | 18/49 [02:05<03:56,  7.63s/it]\u001b[A\n",
      " 39%|███▉      | 19/49 [02:14<03:53,  7.78s/it]\u001b[A\n",
      " 41%|████      | 20/49 [02:21<03:45,  7.78s/it]\u001b[A\n",
      " 43%|████▎     | 21/49 [02:30<03:42,  7.94s/it]\u001b[A\n",
      " 45%|████▍     | 22/49 [02:38<03:38,  8.10s/it]\u001b[A\n",
      " 47%|████▋     | 23/49 [02:47<03:37,  8.36s/it]\u001b[A\n",
      " 49%|████▉     | 24/49 [02:56<03:31,  8.47s/it]\u001b[A\n",
      " 51%|█████     | 25/49 [03:06<03:33,  8.88s/it]\u001b[A\n",
      " 53%|█████▎    | 26/49 [03:15<03:25,  8.95s/it]\u001b[A\n",
      " 55%|█████▌    | 27/49 [03:23<03:14,  8.83s/it]\u001b[A\n",
      " 57%|█████▋    | 28/49 [03:32<03:03,  8.76s/it]\u001b[A\n",
      " 59%|█████▉    | 29/49 [03:40<02:54,  8.72s/it]\u001b[A\n",
      " 61%|██████    | 30/49 [03:50<02:49,  8.93s/it]\u001b[A\n",
      " 63%|██████▎   | 31/49 [03:59<02:41,  8.98s/it]\u001b[A\n",
      " 65%|██████▌   | 32/49 [04:09<02:38,  9.31s/it]\u001b[A\n",
      " 67%|██████▋   | 33/49 [04:18<02:29,  9.32s/it]\u001b[A\n",
      " 69%|██████▉   | 34/49 [04:28<02:20,  9.34s/it]\u001b[A\n",
      " 71%|███████▏  | 35/49 [04:38<02:13,  9.52s/it]\u001b[A\n",
      " 73%|███████▎  | 36/49 [04:48<02:06,  9.72s/it]\u001b[A\n",
      " 76%|███████▌  | 37/49 [04:58<01:56,  9.69s/it]\u001b[A\n",
      " 78%|███████▊  | 38/49 [05:07<01:46,  9.72s/it]\u001b[A\n",
      " 80%|███████▉  | 39/49 [05:17<01:37,  9.71s/it]\u001b[A\n",
      " 82%|████████▏ | 40/49 [05:27<01:27,  9.71s/it]\u001b[A\n",
      " 84%|████████▎ | 41/49 [05:37<01:18,  9.83s/it]\u001b[A\n",
      " 86%|████████▌ | 42/49 [05:46<01:08,  9.74s/it]\u001b[A\n",
      " 88%|████████▊ | 43/49 [05:53<00:52,  8.74s/it]\u001b[A\n",
      " 90%|████████▉ | 44/49 [06:01<00:42,  8.51s/it]\u001b[A\n",
      " 92%|█████████▏| 45/49 [06:12<00:36,  9.23s/it]\u001b[A\n",
      " 94%|█████████▍| 46/49 [06:23<00:29,  9.93s/it]\u001b[A\n",
      " 96%|█████████▌| 47/49 [06:36<00:21, 10.90s/it]\u001b[A\n",
      " 98%|█████████▊| 48/49 [06:48<00:11, 11.07s/it]\u001b[A\n",
      "100%|██████████| 49/49 [07:00<00:00,  8.57s/it]\u001b[A\n",
      "\n",
      "100%|██████████| 49/49 [00:00<00:00, 441031.97it/s]\n",
      " 50%|█████     | 5/10 [35:04<34:44, 416.91s/it]\n",
      "  0%|          | 0/49 [00:00<?, ?it/s]\u001b[A\n",
      "  2%|▏         | 1/49 [00:06<05:09,  6.46s/it]\u001b[A\n",
      "  4%|▍         | 2/49 [00:12<05:01,  6.41s/it]\u001b[A\n",
      "  6%|▌         | 3/49 [00:19<04:56,  6.45s/it]\u001b[A\n",
      "  8%|▊         | 4/49 [00:25<04:41,  6.25s/it]\u001b[A\n",
      " 10%|█         | 5/49 [00:31<04:33,  6.22s/it]\u001b[A\n",
      " 12%|█▏        | 6/49 [00:37<04:31,  6.32s/it]\u001b[A\n",
      " 14%|█▍        | 7/49 [00:47<05:11,  7.41s/it]\u001b[A\n",
      " 16%|█▋        | 8/49 [00:54<04:56,  7.22s/it]\u001b[A\n",
      " 18%|█▊        | 9/49 [01:01<04:45,  7.13s/it]\u001b[A\n",
      " 20%|██        | 10/49 [01:08<04:38,  7.15s/it]\u001b[A\n",
      " 22%|██▏       | 11/49 [01:15<04:32,  7.16s/it]\u001b[A\n",
      " 24%|██▍       | 12/49 [01:22<04:20,  7.03s/it]\u001b[A\n",
      " 27%|██▋       | 13/49 [01:29<04:09,  6.94s/it]\u001b[A\n",
      " 29%|██▊       | 14/49 [01:35<04:01,  6.90s/it]\u001b[A\n",
      " 31%|███       | 15/49 [01:43<03:56,  6.96s/it]\u001b[A\n",
      " 33%|███▎      | 16/49 [01:50<03:54,  7.11s/it]\u001b[A\n",
      " 35%|███▍      | 17/49 [01:58<03:58,  7.44s/it]\u001b[A\n",
      " 37%|███▋      | 18/49 [02:06<03:56,  7.63s/it]\u001b[A\n",
      " 39%|███▉      | 19/49 [02:14<03:52,  7.73s/it]\u001b[A\n",
      " 41%|████      | 20/49 [02:22<03:44,  7.76s/it]\u001b[A\n",
      " 43%|████▎     | 21/49 [02:30<03:40,  7.89s/it]\u001b[A\n",
      " 45%|████▍     | 22/49 [02:39<03:36,  8.03s/it]\u001b[A\n",
      " 47%|████▋     | 23/49 [02:48<03:36,  8.34s/it]\u001b[A\n",
      " 49%|████▉     | 24/49 [02:56<03:30,  8.43s/it]\u001b[A\n",
      " 51%|█████     | 25/49 [03:05<03:22,  8.46s/it]\u001b[A\n",
      " 53%|█████▎    | 26/49 [03:14<03:16,  8.55s/it]\u001b[A\n",
      " 55%|█████▌    | 27/49 [03:23<03:10,  8.65s/it]\u001b[A\n",
      " 57%|█████▋    | 28/49 [03:31<03:01,  8.67s/it]\u001b[A\n",
      " 59%|█████▉    | 29/49 [03:40<02:53,  8.67s/it]\u001b[A\n",
      " 61%|██████    | 30/49 [03:49<02:48,  8.84s/it]\u001b[A\n",
      " 63%|██████▎   | 31/49 [03:58<02:40,  8.90s/it]\u001b[A\n",
      " 65%|██████▌   | 32/49 [04:08<02:33,  9.05s/it]\u001b[A\n",
      " 67%|██████▋   | 33/49 [04:17<02:26,  9.17s/it]\u001b[A\n",
      " 69%|██████▉   | 34/49 [04:27<02:20,  9.35s/it]\u001b[A\n",
      " 71%|███████▏  | 35/49 [04:37<02:13,  9.52s/it]\u001b[A\n",
      " 73%|███████▎  | 36/49 [04:47<02:07,  9.80s/it]\u001b[A\n",
      " 76%|███████▌  | 37/49 [04:57<01:57,  9.79s/it]\u001b[A\n",
      " 78%|███████▊  | 38/49 [05:07<01:49,  9.95s/it]\u001b[A\n",
      " 80%|███████▉  | 39/49 [05:18<01:40, 10.05s/it]\u001b[A\n",
      " 82%|████████▏ | 40/49 [05:28<01:32, 10.25s/it]\u001b[A\n",
      " 84%|████████▎ | 41/49 [05:40<01:25, 10.74s/it]\u001b[A\n",
      " 86%|████████▌ | 42/49 [05:49<01:11, 10.23s/it]\u001b[A\n",
      " 88%|████████▊ | 43/49 [05:55<00:52,  8.79s/it]\u001b[A\n",
      " 90%|████████▉ | 44/49 [06:03<00:42,  8.57s/it]\u001b[A\n",
      " 92%|█████████▏| 45/49 [06:14<00:37,  9.44s/it]\u001b[A\n",
      " 94%|█████████▍| 46/49 [06:26<00:30, 10.14s/it]\u001b[A\n",
      " 96%|█████████▌| 47/49 [06:38<00:21, 10.61s/it]\u001b[A\n",
      " 98%|█████████▊| 48/49 [06:50<00:11, 11.03s/it]\u001b[A\n",
      "100%|██████████| 49/49 [07:02<00:00,  8.62s/it]\u001b[A\n",
      "\n",
      "100%|██████████| 49/49 [00:00<00:00, 525628.89it/s]\n",
      " 60%|██████    | 6/10 [42:06<27:55, 418.75s/it]\n",
      "  0%|          | 0/49 [00:00<?, ?it/s]\u001b[A\n",
      "  2%|▏         | 1/49 [00:05<04:33,  5.70s/it]\u001b[A\n",
      "  4%|▍         | 2/49 [00:11<04:28,  5.71s/it]\u001b[A\n",
      "  6%|▌         | 3/49 [00:17<04:29,  5.87s/it]\u001b[A\n",
      "  8%|▊         | 4/49 [00:23<04:22,  5.83s/it]\u001b[A\n",
      " 10%|█         | 5/49 [00:29<04:17,  5.85s/it]\u001b[A\n",
      " 12%|█▏        | 6/49 [00:35<04:17,  5.98s/it]\u001b[A\n",
      " 14%|█▍        | 7/49 [00:42<04:20,  6.21s/it]\u001b[A\n",
      " 16%|█▋        | 8/49 [00:48<04:17,  6.29s/it]\u001b[A\n",
      " 18%|█▊        | 9/49 [00:55<04:14,  6.36s/it]\u001b[A\n"
     ]
    },
    {
     "name": "stderr",
     "output_type": "stream",
     "text": [
      " 20%|██        | 10/49 [01:02<04:19,  6.65s/it]\u001b[A\n",
      " 22%|██▏       | 11/49 [01:08<04:10,  6.60s/it]\u001b[A\n",
      " 24%|██▍       | 12/49 [01:15<04:04,  6.60s/it]\u001b[A\n",
      " 27%|██▋       | 13/49 [01:22<03:57,  6.60s/it]\u001b[A\n",
      " 29%|██▊       | 14/49 [01:29<04:00,  6.88s/it]\u001b[A\n",
      " 31%|███       | 15/49 [01:36<03:56,  6.96s/it]\u001b[A\n",
      " 33%|███▎      | 16/49 [01:44<03:55,  7.13s/it]\u001b[A\n",
      " 35%|███▍      | 17/49 [01:52<03:55,  7.36s/it]\u001b[A\n",
      " 37%|███▋      | 18/49 [01:59<03:51,  7.48s/it]\u001b[A\n",
      " 39%|███▉      | 19/49 [02:07<03:47,  7.59s/it]\u001b[A\n",
      " 41%|████      | 20/49 [02:15<03:42,  7.66s/it]\u001b[A\n",
      " 43%|████▎     | 21/49 [02:23<03:38,  7.82s/it]\u001b[A\n",
      " 45%|████▍     | 22/49 [02:32<03:35,  7.98s/it]\u001b[A\n",
      " 47%|████▋     | 23/49 [02:41<03:36,  8.33s/it]\u001b[A\n",
      " 49%|████▉     | 24/49 [02:53<03:55,  9.41s/it]\u001b[A\n",
      " 51%|█████     | 25/49 [03:01<03:40,  9.18s/it]\u001b[A\n",
      " 53%|█████▎    | 26/49 [03:10<03:30,  9.15s/it]\u001b[A\n",
      " 55%|█████▌    | 27/49 [03:19<03:14,  8.85s/it]\u001b[A\n",
      " 57%|█████▋    | 28/49 [03:27<03:01,  8.67s/it]\u001b[A\n",
      " 59%|█████▉    | 29/49 [03:35<02:53,  8.69s/it]\u001b[A\n",
      " 61%|██████    | 30/49 [03:45<02:47,  8.81s/it]\u001b[A\n",
      " 63%|██████▎   | 31/49 [03:53<02:38,  8.80s/it]\u001b[A\n",
      " 65%|██████▌   | 32/49 [04:02<02:29,  8.82s/it]\u001b[A\n",
      " 67%|██████▋   | 33/49 [04:12<02:23,  8.99s/it]\u001b[A\n",
      " 69%|██████▉   | 34/49 [04:21<02:15,  9.01s/it]\u001b[A\n",
      " 71%|███████▏  | 35/49 [04:30<02:07,  9.07s/it]\u001b[A\n",
      " 73%|███████▎  | 36/49 [04:39<01:59,  9.16s/it]\u001b[A\n",
      " 76%|███████▌  | 37/49 [04:48<01:49,  9.15s/it]\u001b[A\n",
      " 78%|███████▊  | 38/49 [04:58<01:43,  9.37s/it]\u001b[A\n",
      " 80%|███████▉  | 39/49 [05:09<01:38,  9.87s/it]\u001b[A\n",
      " 82%|████████▏ | 40/49 [05:19<01:29,  9.96s/it]\u001b[A\n",
      " 84%|████████▎ | 41/49 [05:30<01:21, 10.18s/it]\u001b[A\n",
      " 86%|████████▌ | 42/49 [05:39<01:08,  9.77s/it]\u001b[A\n",
      " 88%|████████▊ | 43/49 [05:45<00:51,  8.59s/it]\u001b[A\n",
      " 90%|████████▉ | 44/49 [05:54<00:43,  8.64s/it]\u001b[A\n",
      " 92%|█████████▏| 45/49 [06:06<00:38,  9.64s/it]\u001b[A\n",
      " 94%|█████████▍| 46/49 [06:18<00:31, 10.54s/it]\u001b[A\n",
      " 96%|█████████▌| 47/49 [06:31<00:22, 11.23s/it]\u001b[A\n",
      " 98%|█████████▊| 48/49 [06:43<00:11, 11.40s/it]\u001b[A\n",
      "100%|██████████| 49/49 [06:55<00:00,  8.48s/it]\u001b[A\n",
      "\n",
      "100%|██████████| 49/49 [00:00<00:00, 235689.10it/s]\n",
      " 70%|███████   | 7/10 [49:02<20:53, 417.78s/it]\n",
      "  0%|          | 0/49 [00:00<?, ?it/s]\u001b[A\n",
      "  2%|▏         | 1/49 [00:06<05:34,  6.97s/it]\u001b[A\n",
      "  4%|▍         | 2/49 [00:14<05:53,  7.51s/it]\u001b[A\n",
      "  6%|▌         | 3/49 [00:21<05:34,  7.28s/it]\u001b[A\n",
      "  8%|▊         | 4/49 [00:28<05:11,  6.92s/it]\u001b[A\n",
      " 10%|█         | 5/49 [00:35<05:09,  7.02s/it]\u001b[A\n",
      " 12%|█▏        | 6/49 [00:42<04:57,  6.92s/it]\u001b[A\n",
      " 14%|█▍        | 7/49 [00:48<04:47,  6.85s/it]\u001b[A\n",
      " 16%|█▋        | 8/49 [00:55<04:37,  6.77s/it]\u001b[A\n",
      " 18%|█▊        | 9/49 [01:02<04:28,  6.72s/it]\u001b[A\n",
      " 20%|██        | 10/49 [01:09<04:24,  6.79s/it]\u001b[A\n",
      " 22%|██▏       | 11/49 [01:16<04:28,  7.07s/it]\u001b[A\n",
      " 24%|██▍       | 12/49 [01:23<04:19,  7.03s/it]\u001b[A\n",
      " 27%|██▋       | 13/49 [01:30<04:09,  6.94s/it]\u001b[A\n",
      " 29%|██▊       | 14/49 [01:37<04:01,  6.91s/it]\u001b[A\n",
      " 31%|███       | 15/49 [01:44<03:57,  6.99s/it]\u001b[A\n",
      " 33%|███▎      | 16/49 [01:51<03:55,  7.15s/it]\u001b[A\n",
      " 35%|███▍      | 17/49 [01:59<03:56,  7.38s/it]\u001b[A\n",
      " 37%|███▋      | 18/49 [02:08<03:56,  7.64s/it]\u001b[A\n",
      " 39%|███▉      | 19/49 [02:16<03:56,  7.89s/it]\u001b[A\n",
      " 41%|████      | 20/49 [02:24<03:48,  7.87s/it]\u001b[A\n",
      " 43%|████▎     | 21/49 [02:33<03:49,  8.19s/it]\u001b[A\n",
      " 45%|████▍     | 22/49 [02:42<03:52,  8.63s/it]\u001b[A\n",
      " 47%|████▋     | 23/49 [02:51<03:47,  8.75s/it]\u001b[A\n",
      " 49%|████▉     | 24/49 [03:01<03:43,  8.95s/it]\u001b[A\n",
      " 51%|█████     | 25/49 [03:10<03:37,  9.06s/it]\u001b[A\n",
      " 53%|█████▎    | 26/49 [03:19<03:26,  8.96s/it]\u001b[A\n",
      " 55%|█████▌    | 27/49 [03:28<03:16,  8.92s/it]\u001b[A\n",
      " 57%|█████▋    | 28/49 [03:37<03:08,  8.99s/it]\u001b[A\n",
      " 59%|█████▉    | 29/49 [03:46<03:02,  9.14s/it]\u001b[A\n",
      " 61%|██████    | 30/49 [03:57<03:01,  9.54s/it]\u001b[A\n",
      " 63%|██████▎   | 31/49 [04:07<02:52,  9.59s/it]\u001b[A\n",
      " 65%|██████▌   | 32/49 [04:16<02:44,  9.67s/it]\u001b[A\n",
      " 67%|██████▋   | 33/49 [04:27<02:37,  9.85s/it]\u001b[A\n",
      " 69%|██████▉   | 34/49 [04:36<02:27,  9.82s/it]\u001b[A\n",
      " 71%|███████▏  | 35/49 [04:47<02:18,  9.92s/it]\u001b[A\n",
      " 73%|███████▎  | 36/49 [04:57<02:09,  9.98s/it]\u001b[A\n",
      " 76%|███████▌  | 37/49 [05:06<01:58,  9.85s/it]\u001b[A\n",
      " 78%|███████▊  | 38/49 [05:17<01:50, 10.08s/it]\u001b[A\n",
      " 80%|███████▉  | 39/49 [05:27<01:41, 10.16s/it]\u001b[A\n",
      " 82%|████████▏ | 40/49 [05:38<01:32, 10.29s/it]\u001b[A\n",
      " 84%|████████▎ | 41/49 [05:49<01:23, 10.41s/it]\u001b[A\n",
      " 86%|████████▌ | 42/49 [05:57<01:08,  9.72s/it]\u001b[A\n",
      " 88%|████████▊ | 43/49 [06:03<00:51,  8.59s/it]\u001b[A\n",
      " 90%|████████▉ | 44/49 [06:10<00:41,  8.35s/it]\u001b[A\n",
      " 92%|█████████▏| 45/49 [06:22<00:37,  9.25s/it]\u001b[A\n",
      " 94%|█████████▍| 46/49 [06:35<00:30, 10.32s/it]\u001b[A\n",
      " 96%|█████████▌| 47/49 [06:47<00:21, 10.94s/it]\u001b[A\n",
      " 98%|█████████▊| 48/49 [07:01<00:11, 11.78s/it]\u001b[A\n",
      "100%|██████████| 49/49 [07:13<00:00,  8.85s/it]\u001b[A\n",
      "\n",
      "100%|██████████| 49/49 [00:00<00:00, 164416.72it/s]\n",
      " 80%|████████  | 8/10 [56:15<14:05, 422.85s/it]\n",
      "  0%|          | 0/49 [00:00<?, ?it/s]\u001b[A\n",
      "  2%|▏         | 1/49 [00:07<05:50,  7.30s/it]\u001b[A\n",
      "  4%|▍         | 2/49 [00:13<05:21,  6.84s/it]\u001b[A\n",
      "  6%|▌         | 3/49 [00:20<05:04,  6.62s/it]\u001b[A\n",
      "  8%|▊         | 4/49 [00:26<04:56,  6.58s/it]\u001b[A\n",
      " 10%|█         | 5/49 [00:33<04:57,  6.76s/it]\u001b[A\n",
      " 12%|█▏        | 6/49 [00:40<04:48,  6.72s/it]\u001b[A\n",
      " 14%|█▍        | 7/49 [00:53<06:08,  8.78s/it]\u001b[A\n",
      " 16%|█▋        | 8/49 [01:00<05:31,  8.09s/it]\u001b[A\n",
      " 18%|█▊        | 9/49 [01:06<05:06,  7.66s/it]\u001b[A\n",
      " 20%|██        | 10/49 [01:13<04:49,  7.42s/it]\u001b[A\n",
      " 22%|██▏       | 11/49 [01:20<04:37,  7.30s/it]\u001b[A\n",
      " 24%|██▍       | 12/49 [01:27<04:29,  7.28s/it]\u001b[A\n",
      " 27%|██▋       | 13/49 [01:34<04:17,  7.15s/it]\u001b[A\n",
      " 29%|██▊       | 14/49 [01:41<04:07,  7.07s/it]\u001b[A\n",
      " 31%|███       | 15/49 [01:48<04:02,  7.14s/it]\u001b[A\n",
      " 33%|███▎      | 16/49 [01:56<03:59,  7.26s/it]\u001b[A\n",
      " 35%|███▍      | 17/49 [02:05<04:07,  7.72s/it]\u001b[A\n",
      " 37%|███▋      | 18/49 [02:13<03:59,  7.72s/it]\u001b[A\n",
      " 39%|███▉      | 19/49 [02:21<04:01,  8.04s/it]\u001b[A\n",
      " 41%|████      | 20/49 [02:30<03:56,  8.17s/it]\u001b[A\n",
      " 43%|████▎     | 21/49 [02:39<03:53,  8.35s/it]\u001b[A\n",
      " 45%|████▍     | 22/49 [02:47<03:46,  8.39s/it]\u001b[A\n",
      " 47%|████▋     | 23/49 [02:56<03:39,  8.45s/it]\u001b[A\n",
      " 49%|████▉     | 24/49 [03:04<03:33,  8.53s/it]\u001b[A\n",
      " 51%|█████     | 25/49 [03:14<03:30,  8.75s/it]\u001b[A\n",
      " 53%|█████▎    | 26/49 [03:22<03:20,  8.70s/it]\u001b[A\n",
      " 55%|█████▌    | 27/49 [03:31<03:11,  8.69s/it]\u001b[A\n",
      " 57%|█████▋    | 28/49 [03:40<03:07,  8.91s/it]\u001b[A\n",
      " 59%|█████▉    | 29/49 [03:49<02:58,  8.94s/it]\u001b[A\n",
      " 61%|██████    | 30/49 [03:59<02:52,  9.08s/it]\u001b[A\n",
      " 63%|██████▎   | 31/49 [04:08<02:43,  9.07s/it]\u001b[A\n",
      " 65%|██████▌   | 32/49 [04:17<02:36,  9.20s/it]\u001b[A\n",
      " 67%|██████▋   | 33/49 [04:27<02:27,  9.24s/it]\u001b[A\n",
      " 69%|██████▉   | 34/49 [04:36<02:20,  9.36s/it]\u001b[A\n",
      " 71%|███████▏  | 35/49 [04:47<02:16,  9.78s/it]\u001b[A\n",
      " 73%|███████▎  | 36/49 [04:57<02:08,  9.89s/it]\u001b[A\n",
      " 76%|███████▌  | 37/49 [05:07<01:59,  9.94s/it]\u001b[A\n",
      " 78%|███████▊  | 38/49 [05:17<01:49,  9.93s/it]\u001b[A\n",
      " 80%|███████▉  | 39/49 [05:27<01:40, 10.02s/it]\u001b[A\n",
      " 82%|████████▏ | 40/49 [05:38<01:31, 10.11s/it]\u001b[A\n",
      " 84%|████████▎ | 41/49 [05:49<01:24, 10.56s/it]\u001b[A\n",
      " 86%|████████▌ | 42/49 [05:58<01:09,  9.89s/it]\u001b[A\n",
      " 88%|████████▊ | 43/49 [06:03<00:51,  8.57s/it]\u001b[A\n",
      " 90%|████████▉ | 44/49 [06:11<00:41,  8.40s/it]\u001b[A\n",
      " 92%|█████████▏| 45/49 [06:22<00:37,  9.27s/it]\u001b[A\n",
      " 94%|█████████▍| 46/49 [06:33<00:29,  9.73s/it]\u001b[A\n",
      " 96%|█████████▌| 47/49 [06:46<00:21, 10.78s/it]\u001b[A\n",
      " 98%|█████████▊| 48/49 [07:00<00:11, 11.60s/it]\u001b[A\n",
      "100%|██████████| 49/49 [07:12<00:00,  8.82s/it]\u001b[A\n",
      "\n",
      "100%|██████████| 49/49 [00:00<00:00, 90061.74it/s]\n",
      " 90%|█████████ | 9/10 [1:03:28<07:05, 425.84s/it]\n",
      "  0%|          | 0/49 [00:00<?, ?it/s]\u001b[A\n",
      "  2%|▏         | 1/49 [00:05<04:39,  5.82s/it]\u001b[A\n",
      "  4%|▍         | 2/49 [00:11<04:42,  6.01s/it]\u001b[A\n",
      "  6%|▌         | 3/49 [00:18<04:38,  6.06s/it]\u001b[A\n",
      "  8%|▊         | 4/49 [00:24<04:30,  6.02s/it]\u001b[A\n",
      " 10%|█         | 5/49 [00:30<04:25,  6.03s/it]\u001b[A\n",
      " 12%|█▏        | 6/49 [00:36<04:24,  6.14s/it]\u001b[A\n",
      " 14%|█▍        | 7/49 [00:42<04:22,  6.25s/it]\u001b[A\n",
      " 16%|█▋        | 8/49 [00:49<04:18,  6.31s/it]\u001b[A\n",
      " 18%|█▊        | 9/49 [00:55<04:14,  6.35s/it]\u001b[A\n",
      " 20%|██        | 10/49 [01:02<04:14,  6.53s/it]\u001b[A\n",
      " 22%|██▏       | 11/49 [01:09<04:08,  6.53s/it]\u001b[A\n",
      " 24%|██▍       | 12/49 [01:15<04:01,  6.53s/it]\u001b[A\n",
      " 27%|██▋       | 13/49 [01:22<03:55,  6.55s/it]\u001b[A\n",
      " 29%|██▊       | 14/49 [01:29<03:50,  6.58s/it]\u001b[A\n",
      " 31%|███       | 15/49 [01:36<03:48,  6.72s/it]\u001b[A\n",
      " 33%|███▎      | 16/49 [01:43<03:49,  6.97s/it]\u001b[A\n",
      " 35%|███▍      | 17/49 [01:51<03:52,  7.25s/it]\u001b[A\n",
      " 37%|███▋      | 18/49 [01:59<03:49,  7.40s/it]\u001b[A\n",
      " 39%|███▉      | 19/49 [02:06<03:44,  7.49s/it]\u001b[A\n",
      " 41%|████      | 20/49 [02:14<03:39,  7.58s/it]\u001b[A\n",
      " 43%|████▎     | 21/49 [02:22<03:36,  7.75s/it]\u001b[A\n",
      " 45%|████▍     | 22/49 [02:31<03:34,  7.95s/it]\u001b[A\n",
      " 47%|████▋     | 23/49 [02:39<03:31,  8.13s/it]\u001b[A\n",
      " 49%|████▉     | 24/49 [02:48<03:28,  8.35s/it]\u001b[A\n",
      " 51%|█████     | 25/49 [02:57<03:21,  8.41s/it]\u001b[A\n",
      " 53%|█████▎    | 26/49 [03:05<03:12,  8.35s/it]\u001b[A\n",
      " 55%|█████▌    | 27/49 [03:13<03:03,  8.32s/it]\u001b[A\n",
      " 57%|█████▋    | 28/49 [03:22<02:54,  8.33s/it]\u001b[A\n",
      " 59%|█████▉    | 29/49 [03:30<02:46,  8.32s/it]\u001b[A\n",
      " 61%|██████    | 30/49 [03:38<02:38,  8.36s/it]\u001b[A\n",
      " 63%|██████▎   | 31/49 [03:47<02:32,  8.45s/it]\u001b[A\n",
      " 65%|██████▌   | 32/49 [03:56<02:25,  8.53s/it]\u001b[A\n",
      " 67%|██████▋   | 33/49 [04:05<02:17,  8.61s/it]\u001b[A\n",
      " 69%|██████▉   | 34/49 [04:14<02:11,  8.77s/it]\u001b[A\n",
      " 71%|███████▏  | 35/49 [04:23<02:04,  8.88s/it]\u001b[A\n",
      " 73%|███████▎  | 36/49 [04:32<01:56,  8.93s/it]\u001b[A\n",
      " 76%|███████▌  | 37/49 [04:41<01:48,  9.08s/it]\u001b[A\n",
      " 78%|███████▊  | 38/49 [04:51<01:42,  9.32s/it]\u001b[A\n",
      " 80%|███████▉  | 39/49 [05:01<01:34,  9.45s/it]\u001b[A\n",
      " 82%|████████▏ | 40/49 [05:10<01:25,  9.48s/it]\u001b[A\n",
      " 84%|████████▎ | 41/49 [05:20<01:15,  9.48s/it]\u001b[A\n",
      " 86%|████████▌ | 42/49 [05:28<01:02,  8.93s/it]\u001b[A\n",
      " 88%|████████▊ | 43/49 [05:33<00:47,  7.84s/it]\u001b[A\n",
      " 90%|████████▉ | 44/49 [05:41<00:38,  7.79s/it]\u001b[A\n",
      " 92%|█████████▏| 45/49 [05:51<00:34,  8.67s/it]\u001b[A\n",
      " 94%|█████████▍| 46/49 [06:02<00:27,  9.29s/it]\u001b[A\n",
      " 96%|█████████▌| 47/49 [06:13<00:19,  9.93s/it]\u001b[A\n",
      " 98%|█████████▊| 48/49 [06:25<00:10, 10.31s/it]\u001b[A\n",
      "100%|██████████| 49/49 [06:37<00:00,  8.11s/it]\u001b[A\n",
      "\n",
      "100%|██████████| 49/49 [00:00<00:00, 606256.33it/s]\n",
      "100%|██████████| 10/10 [1:10:07<00:00, 420.71s/it]\n"
     ]
    }
   ],
   "source": [
    "no_overall_correct_all = []\n",
    "no_drift_correct_all = []\n",
    "no_non_drift_correct_all = []\n",
    "random_seed_all = []\n",
    "\n",
    "for i in tqdm(range(1, 11)):\n",
    "    df_concept_drift = pd.read_csv(data_path_drift_localization + str(i) + '.csv')\n",
    "    df_concept_drift = df_concept_drift.loc[:, ~df_concept_drift.columns.str.contains('^Unnamed')]\n",
    "    drifts_true_disk = []\n",
    "    for k in range(0, len(df_concept_drift.Sig.values)):\n",
    "        if(df_concept_drift.Sig.values[k]==True):\n",
    "            drifts_true_disk.append(1)\n",
    "        else:\n",
    "            drifts_true_disk.append(0)\n",
    "\n",
    "    scaler = StandardScaler()\n",
    "    stat_test = stats.kstest\n",
    "\n",
    "    ede_ks_results_important_features = []\n",
    "\n",
    "    for period in tqdm(range(0, len(feature_list)-1)):\n",
    "    #for period in tqdm(range(1,2)):\n",
    "\n",
    "\n",
    "        #print('Before Scale Train', feature_list[period])\n",
    "        #print('Before Scale Test', feature_list[period+1])\n",
    "\n",
    "        # extract features train and test\n",
    "        training_features = scaler.fit_transform(feature_list[period])\n",
    "        testing_features = scaler.transform(feature_list[period+1])\n",
    "\n",
    "        # convert numpy array to Pandas Dataframe\n",
    "        df_train_features = pd.DataFrame(training_features, columns = features_disk_failure)\n",
    "        df_test_features = pd.DataFrame(testing_features, columns = features_disk_failure)\n",
    "\n",
    "        # Sort by Feature Importance\n",
    "\n",
    "        # Extract Ranks\n",
    "        feature_imp_array_string = np.array(((df_concept_drift.FI[period].replace('[','')).replace(']','')).replace('\\n', '').split(' '))\n",
    "        #print('feature_imp_array_string', feature_imp_array_string)\n",
    "\n",
    "        # convert to float\n",
    "        feature_imp_array = [float(i) for i in feature_imp_array_string if i != '' ]\n",
    "\n",
    "        # consider only the most important features (importance > mean(feature_importances))\n",
    "        # extract mean of feature importance\n",
    "        mean = np.mean(feature_imp_array)\n",
    "\n",
    "        zipped_features = list(zip(feature_imp_array, features_disk_failure))\n",
    "\n",
    "\n",
    "        sorted_features_zip = sorted(zipped_features, key = lambda x: x[0], reverse = True)\n",
    "        \n",
    "        \n",
    "        sorted_features = [i[1] for i in sorted_features_zip]\n",
    "        \n",
    "        df_train_features_sorted = df_train_features[sorted_features]\n",
    "        df_test_features_sorted = df_test_features[sorted_features]\n",
    "                \n",
    "        \n",
    "        distribution_training = sns.distplot(np.array(df_train_features_sorted)).get_lines()[0].get_data()[1]\n",
    "        plt.close()\n",
    "        distribution_test = sns.distplot(np.array(df_test_features_sorted)).get_lines()[0].get_data()[1]\n",
    "        plt.close()\n",
    "\n",
    "        v, p = stat_test(distribution_training, distribution_test)\n",
    "        if(p<0.05):\n",
    "            ede_ks_results_important_features.append(1)\n",
    "        else:\n",
    "            ede_ks_results_important_features.append(0)\n",
    "    \n",
    "    \n",
    "    no_overall_correct = 0\n",
    "    no_drift_correct = 0\n",
    "    no_non_drift_correct = 0\n",
    "\n",
    "    for j in tqdm(range(0, len(ede_ks_results_important_features))):\n",
    "\n",
    "        if(ede_ks_results_important_features[j]==drifts_true_disk[j]):\n",
    "            no_overall_correct = no_overall_correct + 1\n",
    "\n",
    "        if(drifts_true_disk[j]==1):\n",
    "            if(ede_ks_results_important_features[j]==drifts_true_disk[j]):\n",
    "                no_drift_correct = no_drift_correct + 1\n",
    "\n",
    "        if(drifts_true_disk[j]==0):\n",
    "            if(ede_ks_results_important_features[j]==drifts_true_disk[j]):\n",
    "                no_non_drift_correct = no_non_drift_correct + 1\n",
    "\n",
    "    # Compute Metrics for all Random Seeds         \n",
    "    overall_correct_prediction_score = no_overall_correct/len(drifts_true_disk)\n",
    "    no_overall_correct_all.append(overall_correct_prediction_score)\n",
    "    \n",
    "    drift_correct_prediction_score = no_drift_correct/len(np.nonzero(drifts_true_disk)[0])\n",
    "    no_drift_correct_all.append(drift_correct_prediction_score)\n",
    "    \n",
    "    non_drift_correct_prediction_score = no_non_drift_correct/(len(drifts_true_disk) - len(np.nonzero(drifts_true_disk)[0]))\n",
    "    no_non_drift_correct_all.append(non_drift_correct_prediction_score)\n",
    "    \n",
    "    random_seed_all.append([random_seeds[i-1]]*len(feature_list))\n",
    "        "
   ]
  },
  {
   "cell_type": "markdown",
   "id": "6160a84c",
   "metadata": {},
   "source": [
    "Avg accuracy of overall correct detected batches"
   ]
  },
  {
   "cell_type": "code",
   "execution_count": 21,
   "id": "2f260e8a",
   "metadata": {},
   "outputs": [
    {
     "data": {
      "text/plain": [
       "0.5714285714285714"
      ]
     },
     "execution_count": 21,
     "metadata": {},
     "output_type": "execute_result"
    }
   ],
   "source": [
    "np.mean(overall_correct_prediction_score)"
   ]
  },
  {
   "cell_type": "markdown",
   "id": "34bbbe02",
   "metadata": {},
   "source": [
    "Avg accuracy of correct detected drifts"
   ]
  },
  {
   "cell_type": "code",
   "execution_count": 22,
   "id": "78f106a2",
   "metadata": {},
   "outputs": [
    {
     "data": {
      "text/plain": [
       "0.7150090245982414"
      ]
     },
     "execution_count": 22,
     "metadata": {},
     "output_type": "execute_result"
    }
   ],
   "source": [
    "np.mean(no_drift_correct_all)"
   ]
  },
  {
   "cell_type": "markdown",
   "id": "24935a0a",
   "metadata": {},
   "source": [
    "Avg accuracy of corrected detected non-drifts"
   ]
  },
  {
   "cell_type": "code",
   "execution_count": 23,
   "id": "03541b53",
   "metadata": {},
   "outputs": [
    {
     "data": {
      "text/plain": [
       "0.08892968142968144"
      ]
     },
     "execution_count": 23,
     "metadata": {},
     "output_type": "execute_result"
    }
   ],
   "source": [
    "np.mean(no_non_drift_correct_all)"
   ]
  },
  {
   "cell_type": "code",
   "execution_count": null,
   "id": "a19ecfab",
   "metadata": {},
   "outputs": [],
   "source": []
  }
 ],
 "metadata": {
  "kernelspec": {
   "display_name": "Python 3 (ipykernel)",
   "language": "python",
   "name": "python3"
  },
  "language_info": {
   "codemirror_mode": {
    "name": "ipython",
    "version": 3
   },
   "file_extension": ".py",
   "mimetype": "text/x-python",
   "name": "python",
   "nbconvert_exporter": "python",
   "pygments_lexer": "ipython3",
   "version": "3.11.1"
  }
 },
 "nbformat": 4,
 "nbformat_minor": 5
}
