{
 "cells": [
  {
   "cell_type": "code",
   "execution_count": 1,
   "id": "d7740061",
   "metadata": {},
   "outputs": [],
   "source": [
    "import pandas as pd\n",
    "from sklearn import metrics, preprocessing\n",
    "import numpy as np\n",
    "from sklearn.preprocessing import StandardScaler\n",
    "from scipy import stats\n",
    "from tqdm import tqdm\n",
    "from utilities import obtain_period_data, obtain_metrics\n"
   ]
  },
  {
   "cell_type": "code",
   "execution_count": 2,
   "id": "280f7187",
   "metadata": {},
   "outputs": [],
   "source": [
    "def obtain_intervals(dataset):\n",
    "    '''\n",
    "    Generate interval terminals, so that samples in each interval have:\n",
    "        interval_i = (timestamp >= terminal_i) and (timestamp < terminal_{i+1})\n",
    "\n",
    "    Args:\n",
    "        dataset (chr): Assuming only Backblaze (b) and Google (g) datasets exists\n",
    "    '''\n",
    "    if dataset == 'g':\n",
    "        # time unit in Google: millisecond, tracing time: 29 days\n",
    "        start_time = 604046279\n",
    "        unit_period = 24 * 60 * 60 * 1000 * 1000  # unit period: one day\n",
    "        end_time = start_time + 28*unit_period\n",
    "    elif dataset == 'b':\n",
    "        # time unit in Backblaze: month, tracing time: one year (12 months)\n",
    "        start_time = 1\n",
    "        unit_period = 1  # unit period: one month\n",
    "        end_time = start_time + 12*unit_period\n",
    "\n",
    "    # add one unit for the open-end of range function\n",
    "    terminals = [i for i in range(start_time, end_time+unit_period, unit_period)]\n",
    "\n",
    "    return terminals"
   ]
  },
  {
   "cell_type": "code",
   "execution_count": 3,
   "id": "585e19b3",
   "metadata": {},
   "outputs": [],
   "source": [
    "def obtain_natural_chunks(features, labels, terminals):\n",
    "    feature_list = []\n",
    "    label_list = []\n",
    "    for i in range(len(terminals) - 1):\n",
    "        idx = np.logical_and(features[:, 0] >= terminals[i], features[:, 0] < terminals[i + 1])\n",
    "        feature_list.append(features[idx][:, 1:])\n",
    "        label_list.append(labels[idx])\n",
    "    return feature_list, label_list\n"
   ]
  },
  {
   "cell_type": "code",
   "execution_count": 4,
   "id": "4ff69510",
   "metadata": {},
   "outputs": [],
   "source": [
    "DATASET_PATH = '../../../Documents/phd_related/data_sets_concept_drift/AIOps_failure_prediction/alibaba_job_data.csv'\n",
    "interval = 'd'"
   ]
  },
  {
   "cell_type": "code",
   "execution_count": 5,
   "id": "38129cfc",
   "metadata": {},
   "outputs": [
    {
     "data": {
      "text/html": [
       "<div>\n",
       "<style scoped>\n",
       "    .dataframe tbody tr th:only-of-type {\n",
       "        vertical-align: middle;\n",
       "    }\n",
       "\n",
       "    .dataframe tbody tr th {\n",
       "        vertical-align: top;\n",
       "    }\n",
       "\n",
       "    .dataframe thead th {\n",
       "        text-align: right;\n",
       "    }\n",
       "</style>\n",
       "<table border=\"1\" class=\"dataframe\">\n",
       "  <thead>\n",
       "    <tr style=\"text-align: right;\">\n",
       "      <th></th>\n",
       "      <th>job_name</th>\n",
       "      <th>start_time</th>\n",
       "      <th>end_time</th>\n",
       "      <th>status</th>\n",
       "      <th>user</th>\n",
       "      <th>task_name</th>\n",
       "      <th>inst_num</th>\n",
       "      <th>plan_cpu</th>\n",
       "      <th>plan_mem</th>\n",
       "      <th>plan_gpu</th>\n",
       "      <th>cpu_usage</th>\n",
       "      <th>gpu_wrk_util</th>\n",
       "      <th>avg_mem</th>\n",
       "      <th>max_mem</th>\n",
       "      <th>avg_gpu_wrk_mem</th>\n",
       "      <th>max_gpu_wrk_mem</th>\n",
       "    </tr>\n",
       "  </thead>\n",
       "  <tbody>\n",
       "    <tr>\n",
       "      <th>0</th>\n",
       "      <td>31fe7a4e1565891f332f2b33</td>\n",
       "      <td>494319.0</td>\n",
       "      <td>NaN</td>\n",
       "      <td>Failed</td>\n",
       "      <td>74238accb90b</td>\n",
       "      <td>1</td>\n",
       "      <td>1.0</td>\n",
       "      <td>600.0</td>\n",
       "      <td>29.296875</td>\n",
       "      <td>25.0</td>\n",
       "      <td>0.000000</td>\n",
       "      <td>0.000000</td>\n",
       "      <td>0.000000</td>\n",
       "      <td>0.000000</td>\n",
       "      <td>0.000000</td>\n",
       "      <td>0.000000</td>\n",
       "    </tr>\n",
       "    <tr>\n",
       "      <th>1</th>\n",
       "      <td>6be512ebc1890951ef8fe9a3</td>\n",
       "      <td>494326.0</td>\n",
       "      <td>NaN</td>\n",
       "      <td>Failed</td>\n",
       "      <td>74238accb90b</td>\n",
       "      <td>1</td>\n",
       "      <td>1.0</td>\n",
       "      <td>600.0</td>\n",
       "      <td>29.296875</td>\n",
       "      <td>25.0</td>\n",
       "      <td>0.000000</td>\n",
       "      <td>0.000000</td>\n",
       "      <td>0.000000</td>\n",
       "      <td>0.000000</td>\n",
       "      <td>0.000000</td>\n",
       "      <td>0.000000</td>\n",
       "    </tr>\n",
       "    <tr>\n",
       "      <th>2</th>\n",
       "      <td>418cf3def0eaa3389c8c743f</td>\n",
       "      <td>516002.0</td>\n",
       "      <td>NaN</td>\n",
       "      <td>Failed</td>\n",
       "      <td>74238accb90b</td>\n",
       "      <td>1</td>\n",
       "      <td>1.0</td>\n",
       "      <td>600.0</td>\n",
       "      <td>29.296875</td>\n",
       "      <td>25.0</td>\n",
       "      <td>0.000000</td>\n",
       "      <td>0.000000</td>\n",
       "      <td>0.000000</td>\n",
       "      <td>0.000000</td>\n",
       "      <td>0.000000</td>\n",
       "      <td>0.000000</td>\n",
       "    </tr>\n",
       "    <tr>\n",
       "      <th>3</th>\n",
       "      <td>6ad04e6d3dd2c35e3a0c3e5f</td>\n",
       "      <td>516023.0</td>\n",
       "      <td>NaN</td>\n",
       "      <td>Failed</td>\n",
       "      <td>74238accb90b</td>\n",
       "      <td>1</td>\n",
       "      <td>1.0</td>\n",
       "      <td>600.0</td>\n",
       "      <td>29.296875</td>\n",
       "      <td>25.0</td>\n",
       "      <td>0.000000</td>\n",
       "      <td>0.000000</td>\n",
       "      <td>0.000000</td>\n",
       "      <td>0.000000</td>\n",
       "      <td>0.000000</td>\n",
       "      <td>0.000000</td>\n",
       "    </tr>\n",
       "    <tr>\n",
       "      <th>4</th>\n",
       "      <td>193e6fdd5cb271f54d85f739</td>\n",
       "      <td>531744.0</td>\n",
       "      <td>1136554.0</td>\n",
       "      <td>Failed</td>\n",
       "      <td>74238accb90b</td>\n",
       "      <td>2</td>\n",
       "      <td>2.0</td>\n",
       "      <td>1200.0</td>\n",
       "      <td>58.593750</td>\n",
       "      <td>5.0</td>\n",
       "      <td>0.000000</td>\n",
       "      <td>0.000000</td>\n",
       "      <td>0.000000</td>\n",
       "      <td>0.000000</td>\n",
       "      <td>0.000000</td>\n",
       "      <td>0.000000</td>\n",
       "    </tr>\n",
       "    <tr>\n",
       "      <th>...</th>\n",
       "      <td>...</td>\n",
       "      <td>...</td>\n",
       "      <td>...</td>\n",
       "      <td>...</td>\n",
       "      <td>...</td>\n",
       "      <td>...</td>\n",
       "      <td>...</td>\n",
       "      <td>...</td>\n",
       "      <td>...</td>\n",
       "      <td>...</td>\n",
       "      <td>...</td>\n",
       "      <td>...</td>\n",
       "      <td>...</td>\n",
       "      <td>...</td>\n",
       "      <td>...</td>\n",
       "      <td>...</td>\n",
       "    </tr>\n",
       "    <tr>\n",
       "      <th>701367</th>\n",
       "      <td>ee183237255c4377b9637594</td>\n",
       "      <td>6450685.0</td>\n",
       "      <td>NaN</td>\n",
       "      <td>Failed</td>\n",
       "      <td>d4d51aca8806</td>\n",
       "      <td>1</td>\n",
       "      <td>10.0</td>\n",
       "      <td>50.0</td>\n",
       "      <td>29.296875</td>\n",
       "      <td>100.0</td>\n",
       "      <td>19.241379</td>\n",
       "      <td>5.166667</td>\n",
       "      <td>0.553563</td>\n",
       "      <td>1.958984</td>\n",
       "      <td>0.232641</td>\n",
       "      <td>0.768555</td>\n",
       "    </tr>\n",
       "    <tr>\n",
       "      <th>701368</th>\n",
       "      <td>1df4ef827ff8fb19211ad760</td>\n",
       "      <td>6450729.0</td>\n",
       "      <td>6451098.0</td>\n",
       "      <td>Terminated</td>\n",
       "      <td>c4cbaac9966d</td>\n",
       "      <td>1</td>\n",
       "      <td>1.0</td>\n",
       "      <td>1000.0</td>\n",
       "      <td>19.550781</td>\n",
       "      <td>50.0</td>\n",
       "      <td>0.000000</td>\n",
       "      <td>0.000000</td>\n",
       "      <td>0.000000</td>\n",
       "      <td>0.000000</td>\n",
       "      <td>0.000000</td>\n",
       "      <td>0.000000</td>\n",
       "    </tr>\n",
       "    <tr>\n",
       "      <th>701369</th>\n",
       "      <td>4113ec499c025e364a97b440</td>\n",
       "      <td>6450736.0</td>\n",
       "      <td>NaN</td>\n",
       "      <td>Failed</td>\n",
       "      <td>d4d51aca8806</td>\n",
       "      <td>1</td>\n",
       "      <td>10.0</td>\n",
       "      <td>50.0</td>\n",
       "      <td>29.296875</td>\n",
       "      <td>100.0</td>\n",
       "      <td>18.534050</td>\n",
       "      <td>3.215488</td>\n",
       "      <td>0.597005</td>\n",
       "      <td>2.086914</td>\n",
       "      <td>0.304398</td>\n",
       "      <td>1.254883</td>\n",
       "    </tr>\n",
       "    <tr>\n",
       "      <th>701370</th>\n",
       "      <td>c1577ac376105aabc2390246</td>\n",
       "      <td>6450758.0</td>\n",
       "      <td>NaN</td>\n",
       "      <td>Failed</td>\n",
       "      <td>d4d51aca8806</td>\n",
       "      <td>1</td>\n",
       "      <td>10.0</td>\n",
       "      <td>50.0</td>\n",
       "      <td>29.296875</td>\n",
       "      <td>100.0</td>\n",
       "      <td>0.000000</td>\n",
       "      <td>0.000000</td>\n",
       "      <td>0.000000</td>\n",
       "      <td>0.000000</td>\n",
       "      <td>0.000000</td>\n",
       "      <td>0.000000</td>\n",
       "    </tr>\n",
       "    <tr>\n",
       "      <th>701371</th>\n",
       "      <td>4f5f75a5431def4520a0110c</td>\n",
       "      <td>6450789.0</td>\n",
       "      <td>NaN</td>\n",
       "      <td>Failed</td>\n",
       "      <td>d4d51aca8806</td>\n",
       "      <td>1</td>\n",
       "      <td>10.0</td>\n",
       "      <td>50.0</td>\n",
       "      <td>29.296875</td>\n",
       "      <td>100.0</td>\n",
       "      <td>21.029234</td>\n",
       "      <td>5.423822</td>\n",
       "      <td>0.626482</td>\n",
       "      <td>2.058594</td>\n",
       "      <td>0.266893</td>\n",
       "      <td>1.252930</td>\n",
       "    </tr>\n",
       "  </tbody>\n",
       "</table>\n",
       "<p>701372 rows × 16 columns</p>\n",
       "</div>"
      ],
      "text/plain": [
       "                        job_name  start_time   end_time      status  \\\n",
       "0       31fe7a4e1565891f332f2b33    494319.0        NaN      Failed   \n",
       "1       6be512ebc1890951ef8fe9a3    494326.0        NaN      Failed   \n",
       "2       418cf3def0eaa3389c8c743f    516002.0        NaN      Failed   \n",
       "3       6ad04e6d3dd2c35e3a0c3e5f    516023.0        NaN      Failed   \n",
       "4       193e6fdd5cb271f54d85f739    531744.0  1136554.0      Failed   \n",
       "...                          ...         ...        ...         ...   \n",
       "701367  ee183237255c4377b9637594   6450685.0        NaN      Failed   \n",
       "701368  1df4ef827ff8fb19211ad760   6450729.0  6451098.0  Terminated   \n",
       "701369  4113ec499c025e364a97b440   6450736.0        NaN      Failed   \n",
       "701370  c1577ac376105aabc2390246   6450758.0        NaN      Failed   \n",
       "701371  4f5f75a5431def4520a0110c   6450789.0        NaN      Failed   \n",
       "\n",
       "                user  task_name  inst_num  plan_cpu   plan_mem  plan_gpu  \\\n",
       "0       74238accb90b          1       1.0     600.0  29.296875      25.0   \n",
       "1       74238accb90b          1       1.0     600.0  29.296875      25.0   \n",
       "2       74238accb90b          1       1.0     600.0  29.296875      25.0   \n",
       "3       74238accb90b          1       1.0     600.0  29.296875      25.0   \n",
       "4       74238accb90b          2       2.0    1200.0  58.593750       5.0   \n",
       "...              ...        ...       ...       ...        ...       ...   \n",
       "701367  d4d51aca8806          1      10.0      50.0  29.296875     100.0   \n",
       "701368  c4cbaac9966d          1       1.0    1000.0  19.550781      50.0   \n",
       "701369  d4d51aca8806          1      10.0      50.0  29.296875     100.0   \n",
       "701370  d4d51aca8806          1      10.0      50.0  29.296875     100.0   \n",
       "701371  d4d51aca8806          1      10.0      50.0  29.296875     100.0   \n",
       "\n",
       "        cpu_usage  gpu_wrk_util   avg_mem   max_mem  avg_gpu_wrk_mem  \\\n",
       "0        0.000000      0.000000  0.000000  0.000000         0.000000   \n",
       "1        0.000000      0.000000  0.000000  0.000000         0.000000   \n",
       "2        0.000000      0.000000  0.000000  0.000000         0.000000   \n",
       "3        0.000000      0.000000  0.000000  0.000000         0.000000   \n",
       "4        0.000000      0.000000  0.000000  0.000000         0.000000   \n",
       "...           ...           ...       ...       ...              ...   \n",
       "701367  19.241379      5.166667  0.553563  1.958984         0.232641   \n",
       "701368   0.000000      0.000000  0.000000  0.000000         0.000000   \n",
       "701369  18.534050      3.215488  0.597005  2.086914         0.304398   \n",
       "701370   0.000000      0.000000  0.000000  0.000000         0.000000   \n",
       "701371  21.029234      5.423822  0.626482  2.058594         0.266893   \n",
       "\n",
       "        max_gpu_wrk_mem  \n",
       "0              0.000000  \n",
       "1              0.000000  \n",
       "2              0.000000  \n",
       "3              0.000000  \n",
       "4              0.000000  \n",
       "...                 ...  \n",
       "701367         0.768555  \n",
       "701368         0.000000  \n",
       "701369         1.254883  \n",
       "701370         0.000000  \n",
       "701371         1.252930  \n",
       "\n",
       "[701372 rows x 16 columns]"
      ]
     },
     "execution_count": 5,
     "metadata": {},
     "output_type": "execute_result"
    }
   ],
   "source": [
    "alibaba_data = pd.read_csv(DATASET_PATH)\n",
    "alibaba_data = alibaba_data.loc[:, ~alibaba_data.columns.str.contains('^Unnamed')]\n",
    "alibaba_data"
   ]
  },
  {
   "cell_type": "code",
   "execution_count": 6,
   "id": "1a24032c",
   "metadata": {},
   "outputs": [
    {
     "name": "stdout",
     "output_type": "stream",
     "text": [
      "Loading data from ./../../../Documents/phd_related/data_sets_concept_drift/AIOps_failure_prediction/alibaba_job_data.csv\n",
      "Load complete\n",
      "Preprocessing features\n",
      "Preprocessing complete\n",
      "\n"
     ]
    }
   ],
   "source": [
    "feature_list, label_list = obtain_period_data('a')"
   ]
  },
  {
   "cell_type": "code",
   "execution_count": 7,
   "id": "758e5430",
   "metadata": {},
   "outputs": [],
   "source": [
    "features_names = ['user', 'task_name', 'inst_num', 'plan_cpu', 'plan_mem', 'plan_gpu', \n",
    "        'cpu_usage', 'gpu_wrk_util', 'avg_mem', 'max_mem', 'avg_gpu_wrk_mem', 'max_gpu_wrk_mem']"
   ]
  },
  {
   "cell_type": "code",
   "execution_count": 8,
   "id": "24ea0d90",
   "metadata": {},
   "outputs": [
    {
     "data": {
      "text/plain": [
       "12"
      ]
     },
     "execution_count": 8,
     "metadata": {},
     "output_type": "execute_result"
    }
   ],
   "source": [
    "len(features_names)"
   ]
  },
  {
   "cell_type": "code",
   "execution_count": 9,
   "id": "9a2c98b0",
   "metadata": {},
   "outputs": [
    {
     "data": {
      "text/plain": [
       "12"
      ]
     },
     "execution_count": 9,
     "metadata": {},
     "output_type": "execute_result"
    }
   ],
   "source": [
    "len(feature_list[0][0])"
   ]
  },
  {
   "cell_type": "markdown",
   "id": "70ca33f6",
   "metadata": {},
   "source": [
    "# Data Preprocessing"
   ]
  },
  {
   "cell_type": "code",
   "execution_count": 10,
   "id": "1d12e59b",
   "metadata": {},
   "outputs": [
    {
     "data": {
      "text/html": [
       "<div>\n",
       "<style scoped>\n",
       "    .dataframe tbody tr th:only-of-type {\n",
       "        vertical-align: middle;\n",
       "    }\n",
       "\n",
       "    .dataframe tbody tr th {\n",
       "        vertical-align: top;\n",
       "    }\n",
       "\n",
       "    .dataframe thead th {\n",
       "        text-align: right;\n",
       "    }\n",
       "</style>\n",
       "<table border=\"1\" class=\"dataframe\">\n",
       "  <thead>\n",
       "    <tr style=\"text-align: right;\">\n",
       "      <th></th>\n",
       "      <th>X</th>\n",
       "      <th>Sig</th>\n",
       "      <th>Y</th>\n",
       "      <th>W</th>\n",
       "      <th>Dataset</th>\n",
       "      <th>Model</th>\n",
       "    </tr>\n",
       "  </thead>\n",
       "  <tbody>\n",
       "    <tr>\n",
       "      <th>0</th>\n",
       "      <td>2</td>\n",
       "      <td>Non-Drift</td>\n",
       "      <td>0.016279</td>\n",
       "      <td>W1_2</td>\n",
       "      <td>Alibaba</td>\n",
       "      <td>Random Forests Alibaba Job Data</td>\n",
       "    </tr>\n",
       "    <tr>\n",
       "      <th>1</th>\n",
       "      <td>3</td>\n",
       "      <td>Drift</td>\n",
       "      <td>0.177957</td>\n",
       "      <td>W2_3</td>\n",
       "      <td>Alibaba</td>\n",
       "      <td>Random Forests Alibaba Job Data</td>\n",
       "    </tr>\n",
       "    <tr>\n",
       "      <th>2</th>\n",
       "      <td>4</td>\n",
       "      <td>Drift</td>\n",
       "      <td>0.152879</td>\n",
       "      <td>W3_4</td>\n",
       "      <td>Alibaba</td>\n",
       "      <td>Random Forests Alibaba Job Data</td>\n",
       "    </tr>\n",
       "    <tr>\n",
       "      <th>3</th>\n",
       "      <td>5</td>\n",
       "      <td>Drift</td>\n",
       "      <td>1.584986</td>\n",
       "      <td>W4_5</td>\n",
       "      <td>Alibaba</td>\n",
       "      <td>Random Forests Alibaba Job Data</td>\n",
       "    </tr>\n",
       "    <tr>\n",
       "      <th>4</th>\n",
       "      <td>6</td>\n",
       "      <td>Drift</td>\n",
       "      <td>0.054189</td>\n",
       "      <td>W5_6</td>\n",
       "      <td>Alibaba</td>\n",
       "      <td>Random Forests Alibaba Job Data</td>\n",
       "    </tr>\n",
       "    <tr>\n",
       "      <th>5</th>\n",
       "      <td>7</td>\n",
       "      <td>Drift</td>\n",
       "      <td>0.491319</td>\n",
       "      <td>W6_7</td>\n",
       "      <td>Alibaba</td>\n",
       "      <td>Random Forests Alibaba Job Data</td>\n",
       "    </tr>\n",
       "    <tr>\n",
       "      <th>6</th>\n",
       "      <td>8</td>\n",
       "      <td>Drift</td>\n",
       "      <td>0.160296</td>\n",
       "      <td>W7_8</td>\n",
       "      <td>Alibaba</td>\n",
       "      <td>Random Forests Alibaba Job Data</td>\n",
       "    </tr>\n",
       "  </tbody>\n",
       "</table>\n",
       "</div>"
      ],
      "text/plain": [
       "   X        Sig         Y     W  Dataset                            Model\n",
       "0  2  Non-Drift  0.016279  W1_2  Alibaba  Random Forests Alibaba Job Data\n",
       "1  3      Drift  0.177957  W2_3  Alibaba  Random Forests Alibaba Job Data\n",
       "2  4      Drift  0.152879  W3_4  Alibaba  Random Forests Alibaba Job Data\n",
       "3  5      Drift  1.584986  W4_5  Alibaba  Random Forests Alibaba Job Data\n",
       "4  6      Drift  0.054189  W5_6  Alibaba  Random Forests Alibaba Job Data\n",
       "5  7      Drift  0.491319  W6_7  Alibaba  Random Forests Alibaba Job Data\n",
       "6  8      Drift  0.160296  W7_8  Alibaba  Random Forests Alibaba Job Data"
      ]
     },
     "execution_count": 10,
     "metadata": {},
     "output_type": "execute_result"
    }
   ],
   "source": [
    "df_concept_drift = pd.read_csv('../../../Documents/phd_related/alibaba/results/results_r/rf_concept_drift_localization_job_alibaba_r_avg_plot.csv')\n",
    "df_concept_drift = df_concept_drift.loc[:, ~df_concept_drift.columns.str.contains('^Unnamed')]\n",
    "df_concept_drift"
   ]
  },
  {
   "cell_type": "code",
   "execution_count": 11,
   "id": "61bd88e2",
   "metadata": {},
   "outputs": [
    {
     "data": {
      "text/html": [
       "<div>\n",
       "<style scoped>\n",
       "    .dataframe tbody tr th:only-of-type {\n",
       "        vertical-align: middle;\n",
       "    }\n",
       "\n",
       "    .dataframe tbody tr th {\n",
       "        vertical-align: top;\n",
       "    }\n",
       "\n",
       "    .dataframe thead th {\n",
       "        text-align: right;\n",
       "    }\n",
       "</style>\n",
       "<table border=\"1\" class=\"dataframe\">\n",
       "  <thead>\n",
       "    <tr style=\"text-align: right;\">\n",
       "      <th></th>\n",
       "      <th>X</th>\n",
       "      <th>Sig</th>\n",
       "      <th>Y</th>\n",
       "      <th>W</th>\n",
       "      <th>Dataset</th>\n",
       "      <th>Model</th>\n",
       "    </tr>\n",
       "  </thead>\n",
       "  <tbody>\n",
       "    <tr>\n",
       "      <th>0</th>\n",
       "      <td>2</td>\n",
       "      <td>Non-Drift</td>\n",
       "      <td>0.016279</td>\n",
       "      <td>W1_2</td>\n",
       "      <td>Alibaba</td>\n",
       "      <td>Random Forests Alibaba Job Data</td>\n",
       "    </tr>\n",
       "    <tr>\n",
       "      <th>1</th>\n",
       "      <td>3</td>\n",
       "      <td>Drift</td>\n",
       "      <td>0.177957</td>\n",
       "      <td>W2_3</td>\n",
       "      <td>Alibaba</td>\n",
       "      <td>Random Forests Alibaba Job Data</td>\n",
       "    </tr>\n",
       "    <tr>\n",
       "      <th>2</th>\n",
       "      <td>4</td>\n",
       "      <td>Drift</td>\n",
       "      <td>0.152879</td>\n",
       "      <td>W3_4</td>\n",
       "      <td>Alibaba</td>\n",
       "      <td>Random Forests Alibaba Job Data</td>\n",
       "    </tr>\n",
       "    <tr>\n",
       "      <th>3</th>\n",
       "      <td>5</td>\n",
       "      <td>Drift</td>\n",
       "      <td>1.584986</td>\n",
       "      <td>W4_5</td>\n",
       "      <td>Alibaba</td>\n",
       "      <td>Random Forests Alibaba Job Data</td>\n",
       "    </tr>\n",
       "    <tr>\n",
       "      <th>4</th>\n",
       "      <td>6</td>\n",
       "      <td>Drift</td>\n",
       "      <td>0.054189</td>\n",
       "      <td>W5_6</td>\n",
       "      <td>Alibaba</td>\n",
       "      <td>Random Forests Alibaba Job Data</td>\n",
       "    </tr>\n",
       "    <tr>\n",
       "      <th>5</th>\n",
       "      <td>7</td>\n",
       "      <td>Drift</td>\n",
       "      <td>0.491319</td>\n",
       "      <td>W6_7</td>\n",
       "      <td>Alibaba</td>\n",
       "      <td>Random Forests Alibaba Job Data</td>\n",
       "    </tr>\n",
       "    <tr>\n",
       "      <th>6</th>\n",
       "      <td>8</td>\n",
       "      <td>Drift</td>\n",
       "      <td>0.160296</td>\n",
       "      <td>W7_8</td>\n",
       "      <td>Alibaba</td>\n",
       "      <td>Random Forests Alibaba Job Data</td>\n",
       "    </tr>\n",
       "  </tbody>\n",
       "</table>\n",
       "</div>"
      ],
      "text/plain": [
       "   X        Sig         Y     W  Dataset                            Model\n",
       "0  2  Non-Drift  0.016279  W1_2  Alibaba  Random Forests Alibaba Job Data\n",
       "1  3      Drift  0.177957  W2_3  Alibaba  Random Forests Alibaba Job Data\n",
       "2  4      Drift  0.152879  W3_4  Alibaba  Random Forests Alibaba Job Data\n",
       "3  5      Drift  1.584986  W4_5  Alibaba  Random Forests Alibaba Job Data\n",
       "4  6      Drift  0.054189  W5_6  Alibaba  Random Forests Alibaba Job Data\n",
       "5  7      Drift  0.491319  W6_7  Alibaba  Random Forests Alibaba Job Data\n",
       "6  8      Drift  0.160296  W7_8  Alibaba  Random Forests Alibaba Job Data"
      ]
     },
     "execution_count": 11,
     "metadata": {},
     "output_type": "execute_result"
    }
   ],
   "source": [
    "df_concept_drift[0:7]"
   ]
  },
  {
   "cell_type": "code",
   "execution_count": null,
   "id": "f8cc85fe",
   "metadata": {},
   "outputs": [],
   "source": []
  },
  {
   "cell_type": "code",
   "execution_count": null,
   "id": "ef3bc9ab",
   "metadata": {},
   "outputs": [],
   "source": []
  },
  {
   "cell_type": "code",
   "execution_count": 12,
   "id": "c08c7694",
   "metadata": {},
   "outputs": [],
   "source": [
    "scaler = StandardScaler()\n",
    "stat_test = stats.kstest"
   ]
  },
  {
   "cell_type": "markdown",
   "id": "29ad33ca",
   "metadata": {},
   "source": [
    "# Monitoring the No of Features that Change in Each Period"
   ]
  },
  {
   "cell_type": "code",
   "execution_count": 13,
   "id": "74e1c622",
   "metadata": {},
   "outputs": [
    {
     "name": "stderr",
     "output_type": "stream",
     "text": [
      "100%|██████████| 7/7 [00:04<00:00,  1.75it/s]\n"
     ]
    }
   ],
   "source": [
    "perc_changed_features_per_period = []\n",
    "no_changed_features_per_period = []\n",
    "\n",
    "for period in tqdm(range(0, len(feature_list)-1)):\n",
    "\n",
    "    # extract features train and test\n",
    "    training_features = scaler.fit_transform(feature_list[period])\n",
    "    testing_features = scaler.transform(feature_list[period+1])\n",
    "    \n",
    "    # convert numpy array to Pandas Dataframe\n",
    "    df_train_features = pd.DataFrame(training_features, columns = features_names)\n",
    "    df_test_features = pd.DataFrame(testing_features, columns = features_names)\n",
    "    \n",
    "    no_changed_features = 0\n",
    "    for feature in features_names:\n",
    "        #print(feature)\n",
    "        #print(df_train_features[feature])\n",
    "        #print(df_test_features[feature])\n",
    "        v, p = stat_test(df_train_features[feature], df_test_features[feature])\n",
    "        if(p<0.05):\n",
    "            no_changed_features = no_changed_features + 1\n",
    "    \n",
    "    no_changed_features_per_period.append(no_changed_features)\n",
    "    perc_changed_features_per_period.append(no_changed_features/len(features_names))"
   ]
  },
  {
   "cell_type": "code",
   "execution_count": 14,
   "id": "d1dcb5e8",
   "metadata": {},
   "outputs": [
    {
     "data": {
      "text/plain": [
       "7"
      ]
     },
     "execution_count": 14,
     "metadata": {},
     "output_type": "execute_result"
    }
   ],
   "source": [
    "len(perc_changed_features_per_period)"
   ]
  },
  {
   "cell_type": "code",
   "execution_count": 15,
   "id": "e88336f0",
   "metadata": {},
   "outputs": [],
   "source": [
    "weeks = ['W1_2', 'W2_3', 'W3_4', 'W4_5', 'W5_6', 'W6_7', 'W7_8']"
   ]
  },
  {
   "cell_type": "code",
   "execution_count": 16,
   "id": "014eafe0",
   "metadata": {},
   "outputs": [
    {
     "data": {
      "text/plain": [
       "7"
      ]
     },
     "execution_count": 16,
     "metadata": {},
     "output_type": "execute_result"
    }
   ],
   "source": [
    "drift_grount_truth = list(df_concept_drift.Sig)\n",
    "len(drift_grount_truth)"
   ]
  },
  {
   "cell_type": "code",
   "execution_count": 17,
   "id": "37cff78b",
   "metadata": {},
   "outputs": [
    {
     "data": {
      "text/html": [
       "<div>\n",
       "<style scoped>\n",
       "    .dataframe tbody tr th:only-of-type {\n",
       "        vertical-align: middle;\n",
       "    }\n",
       "\n",
       "    .dataframe tbody tr th {\n",
       "        vertical-align: top;\n",
       "    }\n",
       "\n",
       "    .dataframe thead th {\n",
       "        text-align: right;\n",
       "    }\n",
       "</style>\n",
       "<table border=\"1\" class=\"dataframe\">\n",
       "  <thead>\n",
       "    <tr style=\"text-align: right;\">\n",
       "      <th></th>\n",
       "      <th>Period</th>\n",
       "      <th>Drift Ground Truth</th>\n",
       "      <th>No Changed Features Per Period</th>\n",
       "      <th>Percentage Changed Features Per Period</th>\n",
       "    </tr>\n",
       "  </thead>\n",
       "  <tbody>\n",
       "    <tr>\n",
       "      <th>0</th>\n",
       "      <td>W1_2</td>\n",
       "      <td>Non-Drift</td>\n",
       "      <td>6</td>\n",
       "      <td>0.500000</td>\n",
       "    </tr>\n",
       "    <tr>\n",
       "      <th>1</th>\n",
       "      <td>W2_3</td>\n",
       "      <td>Drift</td>\n",
       "      <td>12</td>\n",
       "      <td>1.000000</td>\n",
       "    </tr>\n",
       "    <tr>\n",
       "      <th>2</th>\n",
       "      <td>W3_4</td>\n",
       "      <td>Drift</td>\n",
       "      <td>4</td>\n",
       "      <td>0.333333</td>\n",
       "    </tr>\n",
       "    <tr>\n",
       "      <th>3</th>\n",
       "      <td>W4_5</td>\n",
       "      <td>Drift</td>\n",
       "      <td>6</td>\n",
       "      <td>0.500000</td>\n",
       "    </tr>\n",
       "    <tr>\n",
       "      <th>4</th>\n",
       "      <td>W5_6</td>\n",
       "      <td>Drift</td>\n",
       "      <td>9</td>\n",
       "      <td>0.750000</td>\n",
       "    </tr>\n",
       "    <tr>\n",
       "      <th>5</th>\n",
       "      <td>W6_7</td>\n",
       "      <td>Drift</td>\n",
       "      <td>6</td>\n",
       "      <td>0.500000</td>\n",
       "    </tr>\n",
       "    <tr>\n",
       "      <th>6</th>\n",
       "      <td>W7_8</td>\n",
       "      <td>Drift</td>\n",
       "      <td>6</td>\n",
       "      <td>0.500000</td>\n",
       "    </tr>\n",
       "  </tbody>\n",
       "</table>\n",
       "</div>"
      ],
      "text/plain": [
       "  Period Drift Ground Truth  No Changed Features Per Period  \\\n",
       "0   W1_2          Non-Drift                               6   \n",
       "1   W2_3              Drift                              12   \n",
       "2   W3_4              Drift                               4   \n",
       "3   W4_5              Drift                               6   \n",
       "4   W5_6              Drift                               9   \n",
       "5   W6_7              Drift                               6   \n",
       "6   W7_8              Drift                               6   \n",
       "\n",
       "   Percentage Changed Features Per Period  \n",
       "0                                0.500000  \n",
       "1                                1.000000  \n",
       "2                                0.333333  \n",
       "3                                0.500000  \n",
       "4                                0.750000  \n",
       "5                                0.500000  \n",
       "6                                0.500000  "
      ]
     },
     "execution_count": 17,
     "metadata": {},
     "output_type": "execute_result"
    }
   ],
   "source": [
    "df_results_monitoring_all_individual_features = pd.DataFrame()\n",
    "df_results_monitoring_all_individual_features['Period'] = weeks\n",
    "df_results_monitoring_all_individual_features['Drift Ground Truth'] = drift_grount_truth[0:7]\n",
    "df_results_monitoring_all_individual_features['No Changed Features Per Period'] = no_changed_features_per_period\n",
    "df_results_monitoring_all_individual_features['Percentage Changed Features Per Period'] = perc_changed_features_per_period\n",
    "df_results_monitoring_all_individual_features"
   ]
  },
  {
   "cell_type": "code",
   "execution_count": null,
   "id": "435ced9c",
   "metadata": {},
   "outputs": [],
   "source": []
  },
  {
   "cell_type": "markdown",
   "id": "ea58d91f",
   "metadata": {},
   "source": [
    "## Correlation Coefficient Percentage Features that Change and Drift Ground Truth"
   ]
  },
  {
   "cell_type": "code",
   "execution_count": 18,
   "id": "996f60d4",
   "metadata": {},
   "outputs": [],
   "source": [
    "from sklearn.preprocessing import LabelEncoder\n",
    "from scipy import stats"
   ]
  },
  {
   "cell_type": "code",
   "execution_count": 19,
   "id": "00eae150",
   "metadata": {},
   "outputs": [],
   "source": [
    "le = LabelEncoder()"
   ]
  },
  {
   "cell_type": "code",
   "execution_count": 20,
   "id": "7dfd0f8f",
   "metadata": {},
   "outputs": [
    {
     "data": {
      "text/plain": [
       "array([1, 0, 0, 0, 0, 0, 0])"
      ]
     },
     "execution_count": 20,
     "metadata": {},
     "output_type": "execute_result"
    }
   ],
   "source": [
    "drift_ground_truth = le.fit_transform(df_results_monitoring_all_individual_features['Drift Ground Truth'])\n",
    "drift_ground_truth"
   ]
  },
  {
   "cell_type": "code",
   "execution_count": 21,
   "id": "e5627280",
   "metadata": {},
   "outputs": [
    {
     "data": {
      "text/plain": [
       "SignificanceResult(statistic=-0.1126106541153627, pvalue=0.8100360594259686)"
      ]
     },
     "execution_count": 21,
     "metadata": {},
     "output_type": "execute_result"
    }
   ],
   "source": [
    "res = stats.spearmanr(df_results_monitoring_all_individual_features['Percentage Changed Features Per Period'], drift_ground_truth)\n",
    "res"
   ]
  },
  {
   "cell_type": "code",
   "execution_count": 22,
   "id": "8c7e26b3",
   "metadata": {},
   "outputs": [],
   "source": [
    "df_results_monitoring_all_individual_features['Drift_Non_Drift_Label'] = drift_ground_truth"
   ]
  },
  {
   "cell_type": "code",
   "execution_count": 23,
   "id": "b1584e79",
   "metadata": {},
   "outputs": [
    {
     "data": {
      "text/plain": [
       "-0.16666666666666669"
      ]
     },
     "execution_count": 23,
     "metadata": {},
     "output_type": "execute_result"
    }
   ],
   "source": [
    "df_results_monitoring_all_individual_features['Percentage Changed Features Per Period'].corr(df_results_monitoring_all_individual_features['Drift_Non_Drift_Label'])"
   ]
  },
  {
   "cell_type": "code",
   "execution_count": null,
   "id": "047a0a05",
   "metadata": {},
   "outputs": [],
   "source": []
  },
  {
   "cell_type": "code",
   "execution_count": null,
   "id": "0e7f4fc1",
   "metadata": {},
   "outputs": [],
   "source": []
  },
  {
   "cell_type": "code",
   "execution_count": 18,
   "id": "557f553f",
   "metadata": {},
   "outputs": [],
   "source": [
    "df_results_monitoring_all_individual_features.to_csv('df_percentage_of_changed_features_job_alibaba.csv')"
   ]
  },
  {
   "cell_type": "code",
   "execution_count": null,
   "id": "9ce3ef2d",
   "metadata": {},
   "outputs": [],
   "source": []
  },
  {
   "cell_type": "code",
   "execution_count": null,
   "id": "33abb18a",
   "metadata": {},
   "outputs": [],
   "source": []
  },
  {
   "cell_type": "code",
   "execution_count": null,
   "id": "45faeb2d",
   "metadata": {},
   "outputs": [],
   "source": []
  }
 ],
 "metadata": {
  "kernelspec": {
   "display_name": "Python 3 (ipykernel)",
   "language": "python",
   "name": "python3"
  },
  "language_info": {
   "codemirror_mode": {
    "name": "ipython",
    "version": 3
   },
   "file_extension": ".py",
   "mimetype": "text/x-python",
   "name": "python",
   "nbconvert_exporter": "python",
   "pygments_lexer": "ipython3",
   "version": "3.11.1"
  }
 },
 "nbformat": 4,
 "nbformat_minor": 5
}
