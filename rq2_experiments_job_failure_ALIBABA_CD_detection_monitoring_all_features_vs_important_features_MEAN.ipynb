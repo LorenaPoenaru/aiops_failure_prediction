{
 "cells": [
  {
   "cell_type": "code",
   "execution_count": 1,
   "id": "64c8c084",
   "metadata": {},
   "outputs": [],
   "source": [
    "from datetime import date, datetime, timedelta\n",
    "import pandas as pd\n",
    "from utilities import obtain_period_data, obtain_metrics\n",
    "\n",
    "import numpy as np\n",
    "import math\n",
    "from sklearn.preprocessing import StandardScaler\n",
    "from sklearn.utils import resample\n",
    "from sklearn import metrics, preprocessing\n",
    "from sklearn.model_selection import KFold\n",
    "\n",
    "from sklearn.decomposition import PCA\n",
    "from scipy import stats\n",
    "import seaborn as sns\n",
    "\n",
    "import os\n",
    "from tqdm import tqdm\n",
    "\n",
    "import matplotlib.pyplot as plt\n",
    "\n",
    "from sklearn.metrics import roc_auc_score"
   ]
  },
  {
   "cell_type": "code",
   "execution_count": 2,
   "id": "4d6bd9b0",
   "metadata": {},
   "outputs": [],
   "source": [
    "import warnings\n",
    "warnings.filterwarnings('ignore')"
   ]
  },
  {
   "cell_type": "code",
   "execution_count": 3,
   "id": "b2751f65",
   "metadata": {},
   "outputs": [],
   "source": [
    "def obtain_intervals(dataset):\n",
    "    '''\n",
    "    Generate interval terminals, so that samples in each interval have:\n",
    "        interval_i = (timestamp >= terminal_i) and (timestamp < terminal_{i+1})\n",
    "\n",
    "    Args:\n",
    "        dataset (chr): Assuming only Backblaze (b) and Google (g) datasets exists\n",
    "    '''\n",
    "    if dataset == 'g':\n",
    "        # time unit in Google: millisecond, tracing time: 29 days\n",
    "        start_time = 604046279\n",
    "        unit_period = 24 * 60 * 60 * 1000 * 1000  # unit period: one day\n",
    "        end_time = start_time + 28*unit_period\n",
    "    elif dataset == 'b':\n",
    "        # time unit in Backblaze: month, tracing time: one year (12 months)\n",
    "        start_time = 1\n",
    "        unit_period = 1  # unit period: one month\n",
    "        end_time = start_time + 12*unit_period\n",
    "    \n",
    "    elif dataset == 'a':\n",
    "        # time unit in Alibaba: second, tracing time: \n",
    "        start_time = 494319\n",
    "        unit_period = 7 * 24 * 60 * 60  # unit period: one week\n",
    "        start_time += 3 * 24 * 60 * 60  # the first week contains only 1642 samples\n",
    "        end_time = start_time + 8*unit_period\n",
    "\n",
    "    # add one unit for the open-end of range function\n",
    "    terminals = [i for i in range(start_time, end_time+unit_period, unit_period)]\n",
    "\n",
    "    return terminals"
   ]
  },
  {
   "cell_type": "code",
   "execution_count": 4,
   "id": "bc4808e2",
   "metadata": {},
   "outputs": [],
   "source": [
    "def obtain_natural_chunks(features, labels, terminals):\n",
    "    feature_list = []\n",
    "    label_list = []\n",
    "    for i in range(len(terminals) - 1):\n",
    "        idx = np.logical_and(features[:, 0] >= terminals[i], features[:, 0] < terminals[i + 1])\n",
    "        feature_list.append(features[idx][:, 1:])\n",
    "        label_list.append(labels[idx])\n",
    "    return feature_list, label_list\n"
   ]
  },
  {
   "cell_type": "code",
   "execution_count": 5,
   "id": "1e4987ba",
   "metadata": {},
   "outputs": [],
   "source": [
    "def sorting_features_by_importance(df_feature_importance, features_name):\n",
    "    # Extract Ranks\n",
    "    feature_imp_array_string = np.array(((df_feature_importance.FI[period].replace('[','')).replace(']','')).replace('\\n', '').split(' '))\n",
    "    #print('feature_imp_array_string', feature_imp_array_string)\n",
    "\n",
    "    # convert to float\n",
    "    feature_imp_array = [float(i) for i in feature_imp_array_string if i != '' ]\n",
    "\n",
    "    # consider only the most important features (importance > mean(feature_importances))\n",
    "    # extract mean?? of feature importance\n",
    "    mean_importance = np.mean(feature_imp_array)\n",
    "\n",
    "    zipped_features = list(zip(feature_imp_array, features_name))\n",
    "\n",
    "\n",
    "    sorted_features_zip = sorted(zipped_features, key = lambda x: x[0], reverse = True)\n",
    "\n",
    "   \n",
    "    return sorted_features_zip, mean_importance"
   ]
  },
  {
   "cell_type": "code",
   "execution_count": null,
   "id": "1bcecbfd",
   "metadata": {},
   "outputs": [],
   "source": []
  },
  {
   "cell_type": "code",
   "execution_count": 6,
   "id": "741c26da",
   "metadata": {},
   "outputs": [],
   "source": [
    "def KS_on_features(df_train, df_test):\n",
    "    stat_test = stats.kstest\n",
    "    distribution_training = sns.distplot(np.array(df_train)).get_lines()[0].get_data()[1]\n",
    "    plt.close()\n",
    "    distribution_test = sns.distplot(np.array(df_test)).get_lines()[0].get_data()[1]\n",
    "    plt.close()\n",
    "    v, p = stat_test(distribution_training, distribution_test)\n",
    "    if(p<0.05):\n",
    "        return 1\n",
    "    else:\n",
    "        return 0"
   ]
  },
  {
   "cell_type": "code",
   "execution_count": null,
   "id": "6df31d46",
   "metadata": {},
   "outputs": [],
   "source": []
  },
  {
   "cell_type": "code",
   "execution_count": null,
   "id": "728ed3b4",
   "metadata": {},
   "outputs": [],
   "source": []
  },
  {
   "cell_type": "code",
   "execution_count": null,
   "id": "5b8ab2a8",
   "metadata": {},
   "outputs": [],
   "source": []
  },
  {
   "cell_type": "code",
   "execution_count": 7,
   "id": "60cd22b6",
   "metadata": {},
   "outputs": [],
   "source": [
    "DATASET_PATH = '../../../Documents/phd_related/data_sets_concept_drift/AIOps_failure_prediction/alibaba_job_data.csv'\n",
    "interval = 'd'"
   ]
  },
  {
   "cell_type": "code",
   "execution_count": null,
   "id": "d443bd93",
   "metadata": {},
   "outputs": [],
   "source": []
  },
  {
   "cell_type": "code",
   "execution_count": 8,
   "id": "685802e5",
   "metadata": {},
   "outputs": [],
   "source": [
    "columns = ['start_time', \n",
    "        'user', 'task_name', 'inst_num', 'plan_cpu', 'plan_mem', 'plan_gpu', \n",
    "        'cpu_usage', 'gpu_wrk_util', 'avg_mem', 'max_mem', 'avg_gpu_wrk_mem', 'max_gpu_wrk_mem']"
   ]
  },
  {
   "cell_type": "code",
   "execution_count": 9,
   "id": "0c388a26",
   "metadata": {},
   "outputs": [
    {
     "data": {
      "text/plain": [
       "13"
      ]
     },
     "execution_count": 9,
     "metadata": {},
     "output_type": "execute_result"
    }
   ],
   "source": [
    "len(columns)"
   ]
  },
  {
   "cell_type": "code",
   "execution_count": 10,
   "id": "515a6ebc",
   "metadata": {},
   "outputs": [
    {
     "data": {
      "text/html": [
       "<div>\n",
       "<style scoped>\n",
       "    .dataframe tbody tr th:only-of-type {\n",
       "        vertical-align: middle;\n",
       "    }\n",
       "\n",
       "    .dataframe tbody tr th {\n",
       "        vertical-align: top;\n",
       "    }\n",
       "\n",
       "    .dataframe thead th {\n",
       "        text-align: right;\n",
       "    }\n",
       "</style>\n",
       "<table border=\"1\" class=\"dataframe\">\n",
       "  <thead>\n",
       "    <tr style=\"text-align: right;\">\n",
       "      <th></th>\n",
       "      <th>job_name</th>\n",
       "      <th>start_time</th>\n",
       "      <th>end_time</th>\n",
       "      <th>status</th>\n",
       "      <th>user</th>\n",
       "      <th>task_name</th>\n",
       "      <th>inst_num</th>\n",
       "      <th>plan_cpu</th>\n",
       "      <th>plan_mem</th>\n",
       "      <th>plan_gpu</th>\n",
       "      <th>cpu_usage</th>\n",
       "      <th>gpu_wrk_util</th>\n",
       "      <th>avg_mem</th>\n",
       "      <th>max_mem</th>\n",
       "      <th>avg_gpu_wrk_mem</th>\n",
       "      <th>max_gpu_wrk_mem</th>\n",
       "    </tr>\n",
       "  </thead>\n",
       "  <tbody>\n",
       "    <tr>\n",
       "      <th>0</th>\n",
       "      <td>31fe7a4e1565891f332f2b33</td>\n",
       "      <td>494319.0</td>\n",
       "      <td>NaN</td>\n",
       "      <td>Failed</td>\n",
       "      <td>74238accb90b</td>\n",
       "      <td>1</td>\n",
       "      <td>1.0</td>\n",
       "      <td>600.0</td>\n",
       "      <td>29.296875</td>\n",
       "      <td>25.0</td>\n",
       "      <td>0.000000</td>\n",
       "      <td>0.000000</td>\n",
       "      <td>0.000000</td>\n",
       "      <td>0.000000</td>\n",
       "      <td>0.000000</td>\n",
       "      <td>0.000000</td>\n",
       "    </tr>\n",
       "    <tr>\n",
       "      <th>1</th>\n",
       "      <td>6be512ebc1890951ef8fe9a3</td>\n",
       "      <td>494326.0</td>\n",
       "      <td>NaN</td>\n",
       "      <td>Failed</td>\n",
       "      <td>74238accb90b</td>\n",
       "      <td>1</td>\n",
       "      <td>1.0</td>\n",
       "      <td>600.0</td>\n",
       "      <td>29.296875</td>\n",
       "      <td>25.0</td>\n",
       "      <td>0.000000</td>\n",
       "      <td>0.000000</td>\n",
       "      <td>0.000000</td>\n",
       "      <td>0.000000</td>\n",
       "      <td>0.000000</td>\n",
       "      <td>0.000000</td>\n",
       "    </tr>\n",
       "    <tr>\n",
       "      <th>2</th>\n",
       "      <td>418cf3def0eaa3389c8c743f</td>\n",
       "      <td>516002.0</td>\n",
       "      <td>NaN</td>\n",
       "      <td>Failed</td>\n",
       "      <td>74238accb90b</td>\n",
       "      <td>1</td>\n",
       "      <td>1.0</td>\n",
       "      <td>600.0</td>\n",
       "      <td>29.296875</td>\n",
       "      <td>25.0</td>\n",
       "      <td>0.000000</td>\n",
       "      <td>0.000000</td>\n",
       "      <td>0.000000</td>\n",
       "      <td>0.000000</td>\n",
       "      <td>0.000000</td>\n",
       "      <td>0.000000</td>\n",
       "    </tr>\n",
       "    <tr>\n",
       "      <th>3</th>\n",
       "      <td>6ad04e6d3dd2c35e3a0c3e5f</td>\n",
       "      <td>516023.0</td>\n",
       "      <td>NaN</td>\n",
       "      <td>Failed</td>\n",
       "      <td>74238accb90b</td>\n",
       "      <td>1</td>\n",
       "      <td>1.0</td>\n",
       "      <td>600.0</td>\n",
       "      <td>29.296875</td>\n",
       "      <td>25.0</td>\n",
       "      <td>0.000000</td>\n",
       "      <td>0.000000</td>\n",
       "      <td>0.000000</td>\n",
       "      <td>0.000000</td>\n",
       "      <td>0.000000</td>\n",
       "      <td>0.000000</td>\n",
       "    </tr>\n",
       "    <tr>\n",
       "      <th>4</th>\n",
       "      <td>193e6fdd5cb271f54d85f739</td>\n",
       "      <td>531744.0</td>\n",
       "      <td>1136554.0</td>\n",
       "      <td>Failed</td>\n",
       "      <td>74238accb90b</td>\n",
       "      <td>2</td>\n",
       "      <td>2.0</td>\n",
       "      <td>1200.0</td>\n",
       "      <td>58.593750</td>\n",
       "      <td>5.0</td>\n",
       "      <td>0.000000</td>\n",
       "      <td>0.000000</td>\n",
       "      <td>0.000000</td>\n",
       "      <td>0.000000</td>\n",
       "      <td>0.000000</td>\n",
       "      <td>0.000000</td>\n",
       "    </tr>\n",
       "    <tr>\n",
       "      <th>...</th>\n",
       "      <td>...</td>\n",
       "      <td>...</td>\n",
       "      <td>...</td>\n",
       "      <td>...</td>\n",
       "      <td>...</td>\n",
       "      <td>...</td>\n",
       "      <td>...</td>\n",
       "      <td>...</td>\n",
       "      <td>...</td>\n",
       "      <td>...</td>\n",
       "      <td>...</td>\n",
       "      <td>...</td>\n",
       "      <td>...</td>\n",
       "      <td>...</td>\n",
       "      <td>...</td>\n",
       "      <td>...</td>\n",
       "    </tr>\n",
       "    <tr>\n",
       "      <th>701367</th>\n",
       "      <td>ee183237255c4377b9637594</td>\n",
       "      <td>6450685.0</td>\n",
       "      <td>NaN</td>\n",
       "      <td>Failed</td>\n",
       "      <td>d4d51aca8806</td>\n",
       "      <td>1</td>\n",
       "      <td>10.0</td>\n",
       "      <td>50.0</td>\n",
       "      <td>29.296875</td>\n",
       "      <td>100.0</td>\n",
       "      <td>19.241379</td>\n",
       "      <td>5.166667</td>\n",
       "      <td>0.553563</td>\n",
       "      <td>1.958984</td>\n",
       "      <td>0.232641</td>\n",
       "      <td>0.768555</td>\n",
       "    </tr>\n",
       "    <tr>\n",
       "      <th>701368</th>\n",
       "      <td>1df4ef827ff8fb19211ad760</td>\n",
       "      <td>6450729.0</td>\n",
       "      <td>6451098.0</td>\n",
       "      <td>Terminated</td>\n",
       "      <td>c4cbaac9966d</td>\n",
       "      <td>1</td>\n",
       "      <td>1.0</td>\n",
       "      <td>1000.0</td>\n",
       "      <td>19.550781</td>\n",
       "      <td>50.0</td>\n",
       "      <td>0.000000</td>\n",
       "      <td>0.000000</td>\n",
       "      <td>0.000000</td>\n",
       "      <td>0.000000</td>\n",
       "      <td>0.000000</td>\n",
       "      <td>0.000000</td>\n",
       "    </tr>\n",
       "    <tr>\n",
       "      <th>701369</th>\n",
       "      <td>4113ec499c025e364a97b440</td>\n",
       "      <td>6450736.0</td>\n",
       "      <td>NaN</td>\n",
       "      <td>Failed</td>\n",
       "      <td>d4d51aca8806</td>\n",
       "      <td>1</td>\n",
       "      <td>10.0</td>\n",
       "      <td>50.0</td>\n",
       "      <td>29.296875</td>\n",
       "      <td>100.0</td>\n",
       "      <td>18.534050</td>\n",
       "      <td>3.215488</td>\n",
       "      <td>0.597005</td>\n",
       "      <td>2.086914</td>\n",
       "      <td>0.304398</td>\n",
       "      <td>1.254883</td>\n",
       "    </tr>\n",
       "    <tr>\n",
       "      <th>701370</th>\n",
       "      <td>c1577ac376105aabc2390246</td>\n",
       "      <td>6450758.0</td>\n",
       "      <td>NaN</td>\n",
       "      <td>Failed</td>\n",
       "      <td>d4d51aca8806</td>\n",
       "      <td>1</td>\n",
       "      <td>10.0</td>\n",
       "      <td>50.0</td>\n",
       "      <td>29.296875</td>\n",
       "      <td>100.0</td>\n",
       "      <td>0.000000</td>\n",
       "      <td>0.000000</td>\n",
       "      <td>0.000000</td>\n",
       "      <td>0.000000</td>\n",
       "      <td>0.000000</td>\n",
       "      <td>0.000000</td>\n",
       "    </tr>\n",
       "    <tr>\n",
       "      <th>701371</th>\n",
       "      <td>4f5f75a5431def4520a0110c</td>\n",
       "      <td>6450789.0</td>\n",
       "      <td>NaN</td>\n",
       "      <td>Failed</td>\n",
       "      <td>d4d51aca8806</td>\n",
       "      <td>1</td>\n",
       "      <td>10.0</td>\n",
       "      <td>50.0</td>\n",
       "      <td>29.296875</td>\n",
       "      <td>100.0</td>\n",
       "      <td>21.029234</td>\n",
       "      <td>5.423822</td>\n",
       "      <td>0.626482</td>\n",
       "      <td>2.058594</td>\n",
       "      <td>0.266893</td>\n",
       "      <td>1.252930</td>\n",
       "    </tr>\n",
       "  </tbody>\n",
       "</table>\n",
       "<p>701372 rows × 16 columns</p>\n",
       "</div>"
      ],
      "text/plain": [
       "                        job_name  start_time   end_time      status  \\\n",
       "0       31fe7a4e1565891f332f2b33    494319.0        NaN      Failed   \n",
       "1       6be512ebc1890951ef8fe9a3    494326.0        NaN      Failed   \n",
       "2       418cf3def0eaa3389c8c743f    516002.0        NaN      Failed   \n",
       "3       6ad04e6d3dd2c35e3a0c3e5f    516023.0        NaN      Failed   \n",
       "4       193e6fdd5cb271f54d85f739    531744.0  1136554.0      Failed   \n",
       "...                          ...         ...        ...         ...   \n",
       "701367  ee183237255c4377b9637594   6450685.0        NaN      Failed   \n",
       "701368  1df4ef827ff8fb19211ad760   6450729.0  6451098.0  Terminated   \n",
       "701369  4113ec499c025e364a97b440   6450736.0        NaN      Failed   \n",
       "701370  c1577ac376105aabc2390246   6450758.0        NaN      Failed   \n",
       "701371  4f5f75a5431def4520a0110c   6450789.0        NaN      Failed   \n",
       "\n",
       "                user  task_name  inst_num  plan_cpu   plan_mem  plan_gpu  \\\n",
       "0       74238accb90b          1       1.0     600.0  29.296875      25.0   \n",
       "1       74238accb90b          1       1.0     600.0  29.296875      25.0   \n",
       "2       74238accb90b          1       1.0     600.0  29.296875      25.0   \n",
       "3       74238accb90b          1       1.0     600.0  29.296875      25.0   \n",
       "4       74238accb90b          2       2.0    1200.0  58.593750       5.0   \n",
       "...              ...        ...       ...       ...        ...       ...   \n",
       "701367  d4d51aca8806          1      10.0      50.0  29.296875     100.0   \n",
       "701368  c4cbaac9966d          1       1.0    1000.0  19.550781      50.0   \n",
       "701369  d4d51aca8806          1      10.0      50.0  29.296875     100.0   \n",
       "701370  d4d51aca8806          1      10.0      50.0  29.296875     100.0   \n",
       "701371  d4d51aca8806          1      10.0      50.0  29.296875     100.0   \n",
       "\n",
       "        cpu_usage  gpu_wrk_util   avg_mem   max_mem  avg_gpu_wrk_mem  \\\n",
       "0        0.000000      0.000000  0.000000  0.000000         0.000000   \n",
       "1        0.000000      0.000000  0.000000  0.000000         0.000000   \n",
       "2        0.000000      0.000000  0.000000  0.000000         0.000000   \n",
       "3        0.000000      0.000000  0.000000  0.000000         0.000000   \n",
       "4        0.000000      0.000000  0.000000  0.000000         0.000000   \n",
       "...           ...           ...       ...       ...              ...   \n",
       "701367  19.241379      5.166667  0.553563  1.958984         0.232641   \n",
       "701368   0.000000      0.000000  0.000000  0.000000         0.000000   \n",
       "701369  18.534050      3.215488  0.597005  2.086914         0.304398   \n",
       "701370   0.000000      0.000000  0.000000  0.000000         0.000000   \n",
       "701371  21.029234      5.423822  0.626482  2.058594         0.266893   \n",
       "\n",
       "        max_gpu_wrk_mem  \n",
       "0              0.000000  \n",
       "1              0.000000  \n",
       "2              0.000000  \n",
       "3              0.000000  \n",
       "4              0.000000  \n",
       "...                 ...  \n",
       "701367         0.768555  \n",
       "701368         0.000000  \n",
       "701369         1.254883  \n",
       "701370         0.000000  \n",
       "701371         1.252930  \n",
       "\n",
       "[701372 rows x 16 columns]"
      ]
     },
     "execution_count": 10,
     "metadata": {},
     "output_type": "execute_result"
    }
   ],
   "source": [
    "df = pd.read_csv(DATASET_PATH, index_col=0)\n",
    "df"
   ]
  },
  {
   "cell_type": "code",
   "execution_count": 11,
   "id": "c29db72b",
   "metadata": {},
   "outputs": [
    {
     "data": {
      "text/plain": [
       "16"
      ]
     },
     "execution_count": 11,
     "metadata": {},
     "output_type": "execute_result"
    }
   ],
   "source": [
    "len(df.columns)"
   ]
  },
  {
   "cell_type": "code",
   "execution_count": 12,
   "id": "2a5c744b",
   "metadata": {},
   "outputs": [
    {
     "data": {
      "text/plain": [
       "12"
      ]
     },
     "execution_count": 12,
     "metadata": {},
     "output_type": "execute_result"
    }
   ],
   "source": [
    "features_job_failure = columns[1:]\n",
    "len(features_job_failure)"
   ]
  },
  {
   "cell_type": "code",
   "execution_count": null,
   "id": "7f2d61c4",
   "metadata": {},
   "outputs": [],
   "source": []
  },
  {
   "cell_type": "code",
   "execution_count": null,
   "id": "7ed1b013",
   "metadata": {},
   "outputs": [],
   "source": []
  },
  {
   "cell_type": "markdown",
   "id": "8899b63b",
   "metadata": {},
   "source": [
    "# Data Preprocessing"
   ]
  },
  {
   "cell_type": "code",
   "execution_count": 13,
   "id": "8d8863c2",
   "metadata": {},
   "outputs": [
    {
     "name": "stdout",
     "output_type": "stream",
     "text": [
      "Loading data from ./../../../Documents/phd_related/data_sets_concept_drift/AIOps_failure_prediction/alibaba_job_data.csv\n",
      "Load complete\n",
      "Preprocessing features\n",
      "Preprocessing complete\n",
      "\n"
     ]
    }
   ],
   "source": [
    "feature_list, label_list = obtain_period_data('a')"
   ]
  },
  {
   "cell_type": "code",
   "execution_count": null,
   "id": "8e3a8859",
   "metadata": {},
   "outputs": [],
   "source": []
  },
  {
   "cell_type": "code",
   "execution_count": null,
   "id": "6f2273ee",
   "metadata": {},
   "outputs": [],
   "source": []
  },
  {
   "cell_type": "code",
   "execution_count": null,
   "id": "44021b6e",
   "metadata": {},
   "outputs": [],
   "source": []
  },
  {
   "cell_type": "code",
   "execution_count": 14,
   "id": "8da07134",
   "metadata": {},
   "outputs": [],
   "source": [
    "data_path_drift_localization = '../../../Documents/phd_related/alibaba/results/results_r/rf_concept_drift_localization_job_alibaba_r_avg.csv'\n",
    "random_seeds = ['1234', '4887', '597', '1959', '413', '44', '2969', '4971', '4913', '9591']"
   ]
  },
  {
   "cell_type": "code",
   "execution_count": null,
   "id": "950c1944",
   "metadata": {},
   "outputs": [],
   "source": []
  },
  {
   "cell_type": "code",
   "execution_count": 15,
   "id": "0fe596d5",
   "metadata": {},
   "outputs": [
    {
     "data": {
      "text/html": [
       "<div>\n",
       "<style scoped>\n",
       "    .dataframe tbody tr th:only-of-type {\n",
       "        vertical-align: middle;\n",
       "    }\n",
       "\n",
       "    .dataframe tbody tr th {\n",
       "        vertical-align: top;\n",
       "    }\n",
       "\n",
       "    .dataframe thead th {\n",
       "        text-align: right;\n",
       "    }\n",
       "</style>\n",
       "<table border=\"1\" class=\"dataframe\">\n",
       "  <thead>\n",
       "    <tr style=\"text-align: right;\">\n",
       "      <th></th>\n",
       "      <th>X</th>\n",
       "      <th>Sig</th>\n",
       "      <th>Y</th>\n",
       "      <th>P</th>\n",
       "      <th>FI</th>\n",
       "      <th>Dataset</th>\n",
       "      <th>Model</th>\n",
       "    </tr>\n",
       "  </thead>\n",
       "  <tbody>\n",
       "    <tr>\n",
       "      <th>0</th>\n",
       "      <td>2</td>\n",
       "      <td>False</td>\n",
       "      <td>0.067012</td>\n",
       "      <td>W1_2</td>\n",
       "      <td>[0.50017907 0.03178638 0.08468882 0.12511323 0...</td>\n",
       "      <td>Alibaba</td>\n",
       "      <td>Random Forests</td>\n",
       "    </tr>\n",
       "    <tr>\n",
       "      <th>1</th>\n",
       "      <td>3</td>\n",
       "      <td>True</td>\n",
       "      <td>0.177129</td>\n",
       "      <td>W2_3</td>\n",
       "      <td>[0.5076077  0.02704315 0.11099802 0.10480298 0...</td>\n",
       "      <td>Alibaba</td>\n",
       "      <td>Random Forests</td>\n",
       "    </tr>\n",
       "    <tr>\n",
       "      <th>2</th>\n",
       "      <td>4</td>\n",
       "      <td>True</td>\n",
       "      <td>0.126323</td>\n",
       "      <td>W3_4</td>\n",
       "      <td>[0.52997286 0.03372237 0.09005644 0.0925118  0...</td>\n",
       "      <td>Alibaba</td>\n",
       "      <td>Random Forests</td>\n",
       "    </tr>\n",
       "    <tr>\n",
       "      <th>3</th>\n",
       "      <td>5</td>\n",
       "      <td>True</td>\n",
       "      <td>1.590020</td>\n",
       "      <td>W4_5</td>\n",
       "      <td>[0.53187617 0.02120032 0.08967998 0.11200477 0...</td>\n",
       "      <td>Alibaba</td>\n",
       "      <td>Random Forests</td>\n",
       "    </tr>\n",
       "    <tr>\n",
       "      <th>4</th>\n",
       "      <td>6</td>\n",
       "      <td>True</td>\n",
       "      <td>0.087596</td>\n",
       "      <td>W5_6</td>\n",
       "      <td>[0.50906009 0.01642509 0.04265409 0.22677249 0...</td>\n",
       "      <td>Alibaba</td>\n",
       "      <td>Random Forests</td>\n",
       "    </tr>\n",
       "    <tr>\n",
       "      <th>...</th>\n",
       "      <td>...</td>\n",
       "      <td>...</td>\n",
       "      <td>...</td>\n",
       "      <td>...</td>\n",
       "      <td>...</td>\n",
       "      <td>...</td>\n",
       "      <td>...</td>\n",
       "    </tr>\n",
       "    <tr>\n",
       "      <th>65</th>\n",
       "      <td>67</td>\n",
       "      <td>True</td>\n",
       "      <td>0.115250</td>\n",
       "      <td>W3_4</td>\n",
       "      <td>[0.54680288 0.03169961 0.08175573 0.09081205 0...</td>\n",
       "      <td>Alibaba</td>\n",
       "      <td>Random Forests</td>\n",
       "    </tr>\n",
       "    <tr>\n",
       "      <th>66</th>\n",
       "      <td>68</td>\n",
       "      <td>True</td>\n",
       "      <td>1.598895</td>\n",
       "      <td>W4_5</td>\n",
       "      <td>[0.55059148 0.01965702 0.08594441 0.10424598 0...</td>\n",
       "      <td>Alibaba</td>\n",
       "      <td>Random Forests</td>\n",
       "    </tr>\n",
       "    <tr>\n",
       "      <th>67</th>\n",
       "      <td>69</td>\n",
       "      <td>True</td>\n",
       "      <td>0.054217</td>\n",
       "      <td>W5_6</td>\n",
       "      <td>[0.5894447  0.02380166 0.04022902 0.18274514 0...</td>\n",
       "      <td>Alibaba</td>\n",
       "      <td>Random Forests</td>\n",
       "    </tr>\n",
       "    <tr>\n",
       "      <th>68</th>\n",
       "      <td>70</td>\n",
       "      <td>True</td>\n",
       "      <td>0.495258</td>\n",
       "      <td>W6_7</td>\n",
       "      <td>[0.51463558 0.02823887 0.08189004 0.09881903 0...</td>\n",
       "      <td>Alibaba</td>\n",
       "      <td>Random Forests</td>\n",
       "    </tr>\n",
       "    <tr>\n",
       "      <th>69</th>\n",
       "      <td>71</td>\n",
       "      <td>True</td>\n",
       "      <td>0.216956</td>\n",
       "      <td>W7_8</td>\n",
       "      <td>[0.46663227 0.03081106 0.07116948 0.15343554 0...</td>\n",
       "      <td>Alibaba</td>\n",
       "      <td>Random Forests</td>\n",
       "    </tr>\n",
       "  </tbody>\n",
       "</table>\n",
       "<p>70 rows × 7 columns</p>\n",
       "</div>"
      ],
      "text/plain": [
       "     X    Sig         Y     P  \\\n",
       "0    2  False  0.067012  W1_2   \n",
       "1    3   True  0.177129  W2_3   \n",
       "2    4   True  0.126323  W3_4   \n",
       "3    5   True  1.590020  W4_5   \n",
       "4    6   True  0.087596  W5_6   \n",
       "..  ..    ...       ...   ...   \n",
       "65  67   True  0.115250  W3_4   \n",
       "66  68   True  1.598895  W4_5   \n",
       "67  69   True  0.054217  W5_6   \n",
       "68  70   True  0.495258  W6_7   \n",
       "69  71   True  0.216956  W7_8   \n",
       "\n",
       "                                                   FI  Dataset           Model  \n",
       "0   [0.50017907 0.03178638 0.08468882 0.12511323 0...  Alibaba  Random Forests  \n",
       "1   [0.5076077  0.02704315 0.11099802 0.10480298 0...  Alibaba  Random Forests  \n",
       "2   [0.52997286 0.03372237 0.09005644 0.0925118  0...  Alibaba  Random Forests  \n",
       "3   [0.53187617 0.02120032 0.08967998 0.11200477 0...  Alibaba  Random Forests  \n",
       "4   [0.50906009 0.01642509 0.04265409 0.22677249 0...  Alibaba  Random Forests  \n",
       "..                                                ...      ...             ...  \n",
       "65  [0.54680288 0.03169961 0.08175573 0.09081205 0...  Alibaba  Random Forests  \n",
       "66  [0.55059148 0.01965702 0.08594441 0.10424598 0...  Alibaba  Random Forests  \n",
       "67  [0.5894447  0.02380166 0.04022902 0.18274514 0...  Alibaba  Random Forests  \n",
       "68  [0.51463558 0.02823887 0.08189004 0.09881903 0...  Alibaba  Random Forests  \n",
       "69  [0.46663227 0.03081106 0.07116948 0.15343554 0...  Alibaba  Random Forests  \n",
       "\n",
       "[70 rows x 7 columns]"
      ]
     },
     "execution_count": 15,
     "metadata": {},
     "output_type": "execute_result"
    }
   ],
   "source": [
    "df_concept_drift = pd.read_csv(data_path_drift_localization)\n",
    "df_concept_drift = df_concept_drift.loc[:, ~df_concept_drift.columns.str.contains('^Unnamed')]\n",
    "df_concept_drift"
   ]
  },
  {
   "cell_type": "code",
   "execution_count": null,
   "id": "f9cc0ec9",
   "metadata": {},
   "outputs": [],
   "source": []
  },
  {
   "cell_type": "code",
   "execution_count": 16,
   "id": "ce7d7af5",
   "metadata": {
    "scrolled": true
   },
   "outputs": [
    {
     "name": "stderr",
     "output_type": "stream",
     "text": [
      "100%|██████████| 7/7 [00:44<00:00,  6.35s/it]"
     ]
    },
    {
     "name": "stdout",
     "output_type": "stream",
     "text": [
      "Results All Features [1, 1, 1, 0, 0, 1, 1]\n",
      "Results Important Features [1, 1, 0, 1, 0, 0, 0]\n",
      "Results PCA Features [1, 1, 0, 0, 1, 0, 0]\n"
     ]
    },
    {
     "name": "stderr",
     "output_type": "stream",
     "text": [
      "\n"
     ]
    }
   ],
   "source": [
    "no_overall_correct_all_total = []\n",
    "no_overall_correct_important_total = []\n",
    "no_overall_correct_pca_total = []\n",
    "\n",
    "no_drift_correct_all_total = []\n",
    "no_drift_correct_important_total = []\n",
    "no_drift_correct_pca_total = []\n",
    "\n",
    "no_non_drift_correct_all_total = []\n",
    "no_non_drift_correct_important_total = []\n",
    "no_non_drift_correct_pca_total = []\n",
    "\n",
    "\n",
    "random_seed_all = []\n",
    "\n",
    "\n",
    "\n",
    "drifts_true_job = []\n",
    "for k in range(0, len(df_concept_drift.Sig.values)):\n",
    "    if(df_concept_drift.Sig.values[k]==True):\n",
    "        drifts_true_job.append(1)\n",
    "    else:\n",
    "        drifts_true_job.append(0)\n",
    "\n",
    "scaler = StandardScaler()\n",
    "\n",
    "\n",
    "ks_results_all_features = []\n",
    "ks_results_important_features = []\n",
    "ks_results_pca_features = []\n",
    "\n",
    "\n",
    "for period in tqdm(range(0, len(feature_list)-1)):\n",
    "#for period in tqdm(range(1,2)):\n",
    "\n",
    "\n",
    "    #print('Before Scale Train', feature_list[period])\n",
    "    #print('Before Scale Test', feature_list[period+1])\n",
    "\n",
    "    # extract features train and test\n",
    "    training_features = scaler.fit_transform(feature_list[period])\n",
    "    testing_features = scaler.transform(feature_list[period+1])\n",
    "\n",
    "    # convert numpy array to Pandas Dataframe\n",
    "    df_train_features = pd.DataFrame(training_features, columns = features_job_failure)\n",
    "    df_test_features = pd.DataFrame(testing_features, columns = features_job_failure)\n",
    "\n",
    "    # Sort by Feature Importance to avoid         \n",
    "    sorted_features_zip, mean_importance = sorting_features_by_importance(df_concept_drift, features_job_failure)\n",
    "\n",
    "\n",
    "\n",
    "    # Using All Features\n",
    "    sorted_features_all = [i[1] for i in sorted_features_zip]\n",
    "    #print('length sorted_features All', len(sorted_features_all))\n",
    "    df_train_features_sorted_all = df_train_features[sorted_features_all]\n",
    "    df_test_features_sorted_all = df_test_features[sorted_features_all]\n",
    "\n",
    "    # Using Most Important Features\n",
    "\n",
    "    sorted_important_features_filter = [x for x in sorted_features_zip if x[0]>=mean_importance]\n",
    "    sorted_features_important = [i[1] for i in sorted_important_features_filter]\n",
    "    #print('length sorted_features Important', len(sorted_features_important))\n",
    "\n",
    "    df_train_features_sorted_important = df_train_features[sorted_features_important]\n",
    "    df_test_features_sorted_important = df_test_features[sorted_features_important]\n",
    "\n",
    "    # Using PCA on Features\n",
    "    # reduce features dimensionality using PCA\n",
    "    pca = PCA(n_components = 0.95)\n",
    "    pca.fit(df_train_features_sorted_all)\n",
    "\n",
    "    df_train_features_sorted_pca = pca.transform(df_train_features_sorted_all)\n",
    "    df_test_features_sorted_pca = pca.transform(df_test_features_sorted_all)\n",
    "\n",
    "\n",
    "    ks_results_all_features.append(KS_on_features(df_train_features_sorted_all, df_test_features_sorted_all))\n",
    "    ks_results_important_features.append(KS_on_features(df_train_features_sorted_important, df_test_features_sorted_important))\n",
    "    ks_results_pca_features.append(KS_on_features(df_train_features_sorted_pca, df_test_features_sorted_pca))\n",
    "\n",
    "\n",
    "print('Results All Features', ks_results_all_features)\n",
    "print('Results Important Features', ks_results_important_features)\n",
    "print('Results PCA Features', ks_results_pca_features)\n"
   ]
  },
  {
   "cell_type": "code",
   "execution_count": null,
   "id": "e5da7a61",
   "metadata": {},
   "outputs": [],
   "source": []
  },
  {
   "cell_type": "code",
   "execution_count": 17,
   "id": "4db90c70",
   "metadata": {},
   "outputs": [
    {
     "data": {
      "text/plain": [
       "[1, 1, 1, 0, 0, 1, 1]"
      ]
     },
     "execution_count": 17,
     "metadata": {},
     "output_type": "execute_result"
    }
   ],
   "source": [
    "ks_results_all_features"
   ]
  },
  {
   "cell_type": "code",
   "execution_count": 18,
   "id": "c9625e58",
   "metadata": {},
   "outputs": [
    {
     "data": {
      "text/plain": [
       "[1, 1, 0, 1, 0, 0, 0]"
      ]
     },
     "execution_count": 18,
     "metadata": {},
     "output_type": "execute_result"
    }
   ],
   "source": [
    "ks_results_important_features"
   ]
  },
  {
   "cell_type": "code",
   "execution_count": 19,
   "id": "75e8842e",
   "metadata": {},
   "outputs": [
    {
     "data": {
      "text/plain": [
       "[1, 1, 0, 0, 1, 0, 0]"
      ]
     },
     "execution_count": 19,
     "metadata": {},
     "output_type": "execute_result"
    }
   ],
   "source": [
    "ks_results_pca_features"
   ]
  },
  {
   "cell_type": "code",
   "execution_count": null,
   "id": "f9797f9a",
   "metadata": {},
   "outputs": [],
   "source": []
  },
  {
   "cell_type": "code",
   "execution_count": null,
   "id": "8cb4f6c7",
   "metadata": {},
   "outputs": [],
   "source": []
  },
  {
   "cell_type": "code",
   "execution_count": 20,
   "id": "22285f2c",
   "metadata": {},
   "outputs": [
    {
     "data": {
      "text/plain": [
       "7"
      ]
     },
     "execution_count": 20,
     "metadata": {},
     "output_type": "execute_result"
    }
   ],
   "source": [
    "len(ks_results_all_features)"
   ]
  },
  {
   "cell_type": "code",
   "execution_count": 21,
   "id": "f2c16a8c",
   "metadata": {},
   "outputs": [
    {
     "data": {
      "text/plain": [
       "7"
      ]
     },
     "execution_count": 21,
     "metadata": {},
     "output_type": "execute_result"
    }
   ],
   "source": [
    "len(ks_results_important_features)"
   ]
  },
  {
   "cell_type": "code",
   "execution_count": 22,
   "id": "aa5d703b",
   "metadata": {},
   "outputs": [
    {
     "data": {
      "text/plain": [
       "7"
      ]
     },
     "execution_count": 22,
     "metadata": {},
     "output_type": "execute_result"
    }
   ],
   "source": [
    "len(ks_results_pca_features)"
   ]
  },
  {
   "cell_type": "code",
   "execution_count": 23,
   "id": "2971481a",
   "metadata": {},
   "outputs": [
    {
     "data": {
      "text/plain": [
       "70"
      ]
     },
     "execution_count": 23,
     "metadata": {},
     "output_type": "execute_result"
    }
   ],
   "source": [
    "len(ks_results_all_features * 10)"
   ]
  },
  {
   "cell_type": "code",
   "execution_count": 24,
   "id": "3507efe2",
   "metadata": {},
   "outputs": [],
   "source": [
    "ks_results_all_features_all_rs = ks_results_all_features * 10\n",
    "ks_results_important_features_all_rs = ks_results_important_features * 10\n",
    "ks_results_pca_features_all_rs = ks_results_pca_features * 10"
   ]
  },
  {
   "cell_type": "code",
   "execution_count": 25,
   "id": "65ff70a0",
   "metadata": {},
   "outputs": [
    {
     "name": "stderr",
     "output_type": "stream",
     "text": [
      "100%|██████████| 70/70 [00:00<00:00, 255527.66it/s]\n"
     ]
    }
   ],
   "source": [
    "\n",
    "\n",
    "no_overall_correct_all = 0\n",
    "no_drift_correct_all = 0\n",
    "no_non_drift_correct_all = 0\n",
    "\n",
    "\n",
    "no_overall_correct_important = 0\n",
    "no_drift_correct_important = 0\n",
    "no_non_drift_correct_important = 0\n",
    "\n",
    "no_overall_correct_pca = 0\n",
    "no_drift_correct_pca = 0\n",
    "no_non_drift_correct_pca = 0\n",
    "\n",
    "for j in tqdm(range(0, len(ks_results_all_features_all_rs))):\n",
    "\n",
    "    # Overall correct all 3 cases\n",
    "    if(ks_results_all_features_all_rs[j]==drifts_true_job[j]):\n",
    "        no_overall_correct_all = no_overall_correct_all + 1\n",
    "\n",
    "    if(ks_results_important_features_all_rs[j]==drifts_true_job[j]):\n",
    "        no_overall_correct_important = no_overall_correct_important + 1\n",
    "\n",
    "    if(ks_results_pca_features_all_rs[j]==drifts_true_job[j]):\n",
    "        no_overall_correct_pca = no_overall_correct_pca + 1\n",
    "\n",
    "    # Correctly Identified Drifts all 3 cases\n",
    "\n",
    "    # All Features\n",
    "    if(drifts_true_job[j]==1):\n",
    "        if(ks_results_all_features_all_rs[j]==drifts_true_job[j]):\n",
    "            no_drift_correct_all = no_drift_correct_all + 1\n",
    "\n",
    "    # Most Important Features\n",
    "    if(drifts_true_job[j]==1):\n",
    "        if(ks_results_important_features_all_rs[j]==drifts_true_job[j]):\n",
    "            no_drift_correct_important = no_drift_correct_important + 1\n",
    "\n",
    "    # PCA on Features\n",
    "    if(drifts_true_job[j]==1):\n",
    "        if(ks_results_pca_features_all_rs[j]==drifts_true_job[j]):\n",
    "            no_drift_correct_pca = no_drift_correct_pca + 1\n",
    "\n",
    "     # Correctly Identified Non-Drift all 3 cases\n",
    "\n",
    "    # All Features\n",
    "    if(drifts_true_job[j]==0):\n",
    "        if(ks_results_all_features_all_rs[j]==drifts_true_job[j]):\n",
    "            no_non_drift_correct_all = no_non_drift_correct_all + 1\n",
    "\n",
    "    # Most Important Features\n",
    "    if(drifts_true_job[j]==0):\n",
    "        if(ks_results_important_features_all_rs[j]==drifts_true_job[j]):\n",
    "            no_non_drift_correct_important = no_non_drift_correct_important + 1\n",
    "\n",
    "    # PCA on Features\n",
    "    if(drifts_true_job[j]==0):\n",
    "        if(ks_results_pca_features_all_rs[j]==drifts_true_job[j]):\n",
    "            no_non_drift_correct_pca = no_non_drift_correct_pca + 1\n",
    "\n",
    "# Compute Metrics for all Random Seeds\n",
    "\n",
    "# Overall Correct Predictions\n",
    "overall_correct_prediction_score_all = no_overall_correct_all/len(drifts_true_job)\n",
    "overall_correct_prediction_score_important = no_drift_correct_important/len(drifts_true_job)\n",
    "overall_correct_prediction_score_pca = no_overall_correct_pca/len(drifts_true_job)\n",
    "\n",
    "no_overall_correct_all_total.append(overall_correct_prediction_score_all)\n",
    "no_overall_correct_important_total.append(overall_correct_prediction_score_important)\n",
    "no_overall_correct_pca_total.append(overall_correct_prediction_score_pca)\n",
    "\n",
    "# Correctly Identified Drifts\n",
    "\n",
    "drift_correct_prediction_score_all = no_drift_correct_all/len(np.nonzero(drifts_true_job)[0])\n",
    "drift_correct_prediction_score_important = no_drift_correct_important/len(np.nonzero(drifts_true_job)[0])\n",
    "drift_correct_prediction_score_pca = no_drift_correct_pca/len(np.nonzero(drifts_true_job)[0])\n",
    "\n",
    "no_drift_correct_all_total.append(drift_correct_prediction_score_all)\n",
    "no_drift_correct_important_total.append(drift_correct_prediction_score_important)\n",
    "no_drift_correct_pca_total.append(drift_correct_prediction_score_pca)\n",
    "\n",
    "\n",
    "# Correctly Identified Non-Drifts\n",
    "\n",
    "non_drift_correct_prediction_score_all = no_non_drift_correct_all/(len(drifts_true_job) - len(np.nonzero(drifts_true_job)[0]))\n",
    "non_drift_correct_prediction_score_important = no_non_drift_correct_important/(len(drifts_true_job) - len(np.nonzero(drifts_true_job)[0]))\n",
    "non_drift_correct_prediction_score_pca = no_non_drift_correct_pca/(len(drifts_true_job) - len(np.nonzero(drifts_true_job)[0]))\n",
    "\n",
    "\n",
    "no_non_drift_correct_all_total.append(non_drift_correct_prediction_score_all)\n",
    "no_non_drift_correct_important_total.append(non_drift_correct_prediction_score_important)\n",
    "no_non_drift_correct_pca_total.append(non_drift_correct_prediction_score_pca)\n",
    "\n",
    "#random_seed_all.append([random_seeds[i-1]]*len(feature_list))\n"
   ]
  },
  {
   "cell_type": "code",
   "execution_count": null,
   "id": "a0951781",
   "metadata": {},
   "outputs": [],
   "source": []
  },
  {
   "cell_type": "code",
   "execution_count": null,
   "id": "09369583",
   "metadata": {},
   "outputs": [],
   "source": []
  },
  {
   "cell_type": "code",
   "execution_count": null,
   "id": "cc4f4374",
   "metadata": {},
   "outputs": [],
   "source": []
  },
  {
   "cell_type": "markdown",
   "id": "d496fed7",
   "metadata": {},
   "source": [
    "### Results All Features"
   ]
  },
  {
   "cell_type": "code",
   "execution_count": 26,
   "id": "f1a0c005",
   "metadata": {},
   "outputs": [
    {
     "data": {
      "text/plain": [
       "0.5714285714285714"
      ]
     },
     "execution_count": 26,
     "metadata": {},
     "output_type": "execute_result"
    }
   ],
   "source": [
    "np.mean(no_overall_correct_all_total)"
   ]
  },
  {
   "cell_type": "code",
   "execution_count": 27,
   "id": "16e0ae96",
   "metadata": {},
   "outputs": [
    {
     "data": {
      "text/plain": [
       "0.6666666666666666"
      ]
     },
     "execution_count": 27,
     "metadata": {},
     "output_type": "execute_result"
    }
   ],
   "source": [
    "np.mean(no_drift_correct_all_total)"
   ]
  },
  {
   "cell_type": "code",
   "execution_count": 28,
   "id": "c1829864",
   "metadata": {},
   "outputs": [
    {
     "data": {
      "text/plain": [
       "0.0"
      ]
     },
     "execution_count": 28,
     "metadata": {},
     "output_type": "execute_result"
    }
   ],
   "source": [
    "np.mean(no_non_drift_correct_all_total)"
   ]
  },
  {
   "cell_type": "markdown",
   "id": "ae222af6",
   "metadata": {},
   "source": [
    "### Results Important Features"
   ]
  },
  {
   "cell_type": "code",
   "execution_count": 29,
   "id": "200594ec",
   "metadata": {},
   "outputs": [
    {
     "data": {
      "text/plain": [
       "0.2857142857142857"
      ]
     },
     "execution_count": 29,
     "metadata": {},
     "output_type": "execute_result"
    }
   ],
   "source": [
    "np.mean(no_overall_correct_important_total)"
   ]
  },
  {
   "cell_type": "code",
   "execution_count": 30,
   "id": "35007aa3",
   "metadata": {},
   "outputs": [
    {
     "data": {
      "text/plain": [
       "0.3333333333333333"
      ]
     },
     "execution_count": 30,
     "metadata": {},
     "output_type": "execute_result"
    }
   ],
   "source": [
    "np.mean(no_drift_correct_important_total)"
   ]
  },
  {
   "cell_type": "code",
   "execution_count": 31,
   "id": "8cf18a8b",
   "metadata": {},
   "outputs": [
    {
     "data": {
      "text/plain": [
       "0.0"
      ]
     },
     "execution_count": 31,
     "metadata": {},
     "output_type": "execute_result"
    }
   ],
   "source": [
    "np.mean(no_non_drift_correct_important_total)"
   ]
  },
  {
   "cell_type": "markdown",
   "id": "4195e1d5",
   "metadata": {},
   "source": [
    "### Results PCA Features"
   ]
  },
  {
   "cell_type": "code",
   "execution_count": 32,
   "id": "85329bf8",
   "metadata": {},
   "outputs": [
    {
     "data": {
      "text/plain": [
       "0.2857142857142857"
      ]
     },
     "execution_count": 32,
     "metadata": {},
     "output_type": "execute_result"
    }
   ],
   "source": [
    "np.mean(no_overall_correct_pca_total)"
   ]
  },
  {
   "cell_type": "code",
   "execution_count": 33,
   "id": "8bd242c8",
   "metadata": {},
   "outputs": [
    {
     "data": {
      "text/plain": [
       "0.3333333333333333"
      ]
     },
     "execution_count": 33,
     "metadata": {},
     "output_type": "execute_result"
    }
   ],
   "source": [
    "np.mean(no_drift_correct_pca_total)"
   ]
  },
  {
   "cell_type": "code",
   "execution_count": 34,
   "id": "f060ef2a",
   "metadata": {},
   "outputs": [
    {
     "data": {
      "text/plain": [
       "0.0"
      ]
     },
     "execution_count": 34,
     "metadata": {},
     "output_type": "execute_result"
    }
   ],
   "source": [
    "np.mean(no_non_drift_correct_pca_total)"
   ]
  },
  {
   "cell_type": "code",
   "execution_count": null,
   "id": "8c9caa25",
   "metadata": {},
   "outputs": [],
   "source": []
  },
  {
   "cell_type": "code",
   "execution_count": null,
   "id": "92d1bd81",
   "metadata": {},
   "outputs": [],
   "source": []
  },
  {
   "cell_type": "code",
   "execution_count": null,
   "id": "580c9518",
   "metadata": {},
   "outputs": [],
   "source": []
  }
 ],
 "metadata": {
  "kernelspec": {
   "display_name": "Python 3 (ipykernel)",
   "language": "python",
   "name": "python3"
  },
  "language_info": {
   "codemirror_mode": {
    "name": "ipython",
    "version": 3
   },
   "file_extension": ".py",
   "mimetype": "text/x-python",
   "name": "python",
   "nbconvert_exporter": "python",
   "pygments_lexer": "ipython3",
   "version": "3.11.1"
  }
 },
 "nbformat": 4,
 "nbformat_minor": 5
}
