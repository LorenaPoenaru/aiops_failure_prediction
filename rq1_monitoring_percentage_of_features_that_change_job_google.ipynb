{
 "cells": [
  {
   "cell_type": "code",
   "execution_count": 1,
   "id": "d7740061",
   "metadata": {},
   "outputs": [],
   "source": [
    "import pandas as pd\n",
    "from sklearn import metrics, preprocessing\n",
    "import numpy as np\n",
    "from sklearn.preprocessing import StandardScaler\n",
    "from scipy import stats\n",
    "from tqdm import tqdm\n"
   ]
  },
  {
   "cell_type": "code",
   "execution_count": 2,
   "id": "280f7187",
   "metadata": {},
   "outputs": [],
   "source": [
    "def obtain_intervals(dataset):\n",
    "    '''\n",
    "    Generate interval terminals, so that samples in each interval have:\n",
    "        interval_i = (timestamp >= terminal_i) and (timestamp < terminal_{i+1})\n",
    "\n",
    "    Args:\n",
    "        dataset (chr): Assuming only Backblaze (b) and Google (g) datasets exists\n",
    "    '''\n",
    "    if dataset == 'g':\n",
    "        # time unit in Google: millisecond, tracing time: 29 days\n",
    "        start_time = 604046279\n",
    "        unit_period = 24 * 60 * 60 * 1000 * 1000  # unit period: one day\n",
    "        end_time = start_time + 28*unit_period\n",
    "    elif dataset == 'b':\n",
    "        # time unit in Backblaze: month, tracing time: one year (12 months)\n",
    "        start_time = 1\n",
    "        unit_period = 1  # unit period: one month\n",
    "        end_time = start_time + 12*unit_period\n",
    "\n",
    "    # add one unit for the open-end of range function\n",
    "    terminals = [i for i in range(start_time, end_time+unit_period, unit_period)]\n",
    "    return terminals"
   ]
  },
  {
   "cell_type": "code",
   "execution_count": 3,
   "id": "585e19b3",
   "metadata": {},
   "outputs": [],
   "source": [
    "def obtain_natural_chunks(features, labels, terminals):\n",
    "    feature_list = []\n",
    "    label_list = []\n",
    "    for i in range(len(terminals) - 1):\n",
    "        idx = np.logical_and(features[:, 0] >= terminals[i], features[:, 0] < terminals[i + 1])\n",
    "        feature_list.append(features[idx][:, 1:])\n",
    "        label_list.append(labels[idx])\n",
    "    return feature_list, label_list\n"
   ]
  },
  {
   "cell_type": "code",
   "execution_count": 4,
   "id": "fc052646",
   "metadata": {},
   "outputs": [],
   "source": [
    "def features_labels_preprocessing(DATASET_PATH, dataset):\n",
    "    \n",
    "    if(dataset=='b'):\n",
    "        \n",
    "        print('Data Reading and Preprocessing')\n",
    "        \n",
    "        # set data paths and columns names\n",
    "        features_disk_failure = ['smart_1_raw', 'smart_4_raw', 'smart_5_raw', 'smart_7_raw', 'smart_9_raw', 'smart_12_raw', 'smart_187_raw', 'smart_193_raw', 'smart_194_raw', 'smart_197_raw', 'smart_199_raw', \n",
    "                         'smart_4_raw_diff', 'smart_5_raw_diff', 'smart_9_raw_diff', 'smart_12_raw_diff', 'smart_187_raw_diff', 'smart_193_raw_diff', 'smart_197_raw_diff', 'smart_199_raw_diff']\n",
    "        columns = ['serial_number', 'date'] + features_disk_failure + ['label']\n",
    "        \n",
    "        # read dataset\n",
    "        df = pd.read_csv(DATASET_PATH, header=None, dtype = 'str').iloc[1:,1:]\n",
    "        df.columns = columns\n",
    "        \n",
    "        # ignore serial number\n",
    "        df = df[df.columns[1:]]\n",
    "        \n",
    "        for feature in features_disk_failure:\n",
    "            df[feature] = df[feature].astype(float)\n",
    "\n",
    "\n",
    "        d = {'True': True, 'False': False}\n",
    "        df['label'] = df['label'].map(d)\n",
    "\n",
    "        df['label'].unique()\n",
    "\n",
    "        # transform date to date time\n",
    "        df['date'] = pd.to_datetime(df['date'], format='%Y-%m-%d')\n",
    "        # divide on weeks\n",
    "        df['date'] = pd.Series(pd.DatetimeIndex(df['date']).day_of_year)\n",
    "        \n",
    "        print('Features and Labels Computing')\n",
    "        \n",
    "        # features and labels extraction and computation\n",
    "        features = df[df.columns[:-1]].to_numpy()\n",
    "        labels = df[df.columns[-1]].to_numpy()\n",
    "        feature_list, label_list = obtain_natural_chunks(features, labels, obtain_intervals('b'))\n",
    "        \n",
    "    elif(dataset=='g'):\n",
    "        \n",
    "        print('Data Reading and Preprocessing')\n",
    "        \n",
    "        # set data paths and columns names\n",
    "        features_job_failure = ['User ID', 'Job Name', 'Scheduling Class',\n",
    "                   'Num Tasks', 'Priority', 'Diff Machine', 'CPU Requested', 'Mem Requested', 'Disk Requested',\n",
    "                   'Avg CPU', 'Avg Mem', 'Avg Disk', 'Std CPU', 'Std Mem', 'Std Disk']\n",
    "        columns_initial = ['Job ID', 'Status', 'Start Time', 'End Time'] + features_job_failure\n",
    "        \n",
    "        # read dataset\n",
    "        df = pd.read_csv(DATASET_PATH, header=None)\n",
    "        df.columns = columns_initial\n",
    "        df = df.tail(-1)\n",
    "        # ignore Job ID\n",
    "        df = df.drop(['Job ID'], axis = 1)\n",
    "        columns = features_job_failure\n",
    "\n",
    "        include_end_time = False\n",
    "        \n",
    "        print('Features and Labels Preprocessing')\n",
    "        \n",
    "        # features and labels preprocessing\n",
    "        features = df[(['Start Time']+ features_job_failure)].to_numpy()\n",
    "        labels = (df['Status']==3).to_numpy()\n",
    "\n",
    "        # FEATURES PREPROCESSING\n",
    "        offset = (1 if include_end_time else 0)\n",
    "\n",
    "        # ENCODE USER ID\n",
    "        le = preprocessing.LabelEncoder()\n",
    "        features[:, 1+offset] = le.fit_transform(features[:, 1+offset])\n",
    "\n",
    "        # ENCODE JOB NAME\n",
    "        le = preprocessing.LabelEncoder()\n",
    "        features[:, 2+offset] = le.fit_transform(features[:, 2+offset])\n",
    "\n",
    "        features = features.astype(float)\n",
    "        \n",
    "        print('Features and Labels Computing')\n",
    "        \n",
    "        # features and labels extraction and computation\n",
    "        feature_list, label_list = obtain_natural_chunks(features, labels, obtain_intervals('g'))\n",
    "        \n",
    "    else:\n",
    "        print('Incorrect Dataset')\n",
    "    \n",
    "    return df, feature_list, label_list"
   ]
  },
  {
   "cell_type": "code",
   "execution_count": null,
   "id": "e561e2f4",
   "metadata": {},
   "outputs": [],
   "source": []
  },
  {
   "cell_type": "code",
   "execution_count": 6,
   "id": "4ff69510",
   "metadata": {},
   "outputs": [],
   "source": [
    "DATASET_PATH = '../../../Documents/phd_related/data_sets_concept_drift/AIOps_failure_prediction/google_job_failure.csv'\n",
    "interval = 'd'\n"
   ]
  },
  {
   "cell_type": "code",
   "execution_count": null,
   "id": "e5bec4ed",
   "metadata": {},
   "outputs": [],
   "source": []
  },
  {
   "cell_type": "code",
   "execution_count": null,
   "id": "96720e7f",
   "metadata": {},
   "outputs": [],
   "source": []
  },
  {
   "cell_type": "code",
   "execution_count": 7,
   "id": "89ff832e",
   "metadata": {},
   "outputs": [
    {
     "name": "stdout",
     "output_type": "stream",
     "text": [
      "Data Reading and Preprocessing\n"
     ]
    },
    {
     "name": "stderr",
     "output_type": "stream",
     "text": [
      "/var/folders/t8/w1wlk2791sx5h_whj5xs647m0000gn/T/ipykernel_6121/1468510114.py:51: DtypeWarning: Columns (0,1,2,3,6,7,8,9,10,11,12,13,14,15,16,17,18) have mixed types. Specify dtype option on import or set low_memory=False.\n",
      "  df = pd.read_csv(DATASET_PATH, header=None)\n"
     ]
    },
    {
     "name": "stdout",
     "output_type": "stream",
     "text": [
      "Features and Labels Preprocessing\n",
      "Features and Labels Computing\n"
     ]
    }
   ],
   "source": [
    "df, feature_list, label_list = features_labels_preprocessing(DATASET_PATH, 'g')"
   ]
  },
  {
   "cell_type": "code",
   "execution_count": null,
   "id": "07193937",
   "metadata": {},
   "outputs": [],
   "source": []
  },
  {
   "cell_type": "code",
   "execution_count": 21,
   "id": "45ce5a8c",
   "metadata": {},
   "outputs": [
    {
     "data": {
      "text/plain": [
       "Diff Machine\n",
       "0.0    586396\n",
       "0.0     32226\n",
       "1.0      7946\n",
       "1.0       541\n",
       "Name: count, dtype: int64"
      ]
     },
     "execution_count": 21,
     "metadata": {},
     "output_type": "execute_result"
    }
   ],
   "source": [
    "df['Diff Machine'].value_counts()"
   ]
  },
  {
   "cell_type": "code",
   "execution_count": null,
   "id": "162e8e11",
   "metadata": {},
   "outputs": [],
   "source": []
  },
  {
   "cell_type": "code",
   "execution_count": 7,
   "id": "fa856319",
   "metadata": {},
   "outputs": [
    {
     "data": {
      "text/plain": [
       "28"
      ]
     },
     "execution_count": 7,
     "metadata": {},
     "output_type": "execute_result"
    }
   ],
   "source": [
    "len(feature_list)"
   ]
  },
  {
   "cell_type": "markdown",
   "id": "70ca33f6",
   "metadata": {},
   "source": [
    "# Data Preprocessing"
   ]
  },
  {
   "cell_type": "code",
   "execution_count": 8,
   "id": "1d12e59b",
   "metadata": {},
   "outputs": [],
   "source": [
    "data_path_drift_localization = '../../../Documents/phd_related/alibaba/results/results_r/rf_concept_drift_localization_job_google_r_avg_plot.csv'\n",
    "random_seeds = ['1234', '4887', '597', '1959', '413', '44', '2969', '4971', '4913', '9591']"
   ]
  },
  {
   "cell_type": "code",
   "execution_count": 9,
   "id": "b6d25917",
   "metadata": {},
   "outputs": [
    {
     "data": {
      "text/html": [
       "<div>\n",
       "<style scoped>\n",
       "    .dataframe tbody tr th:only-of-type {\n",
       "        vertical-align: middle;\n",
       "    }\n",
       "\n",
       "    .dataframe tbody tr th {\n",
       "        vertical-align: top;\n",
       "    }\n",
       "\n",
       "    .dataframe thead th {\n",
       "        text-align: right;\n",
       "    }\n",
       "</style>\n",
       "<table border=\"1\" class=\"dataframe\">\n",
       "  <thead>\n",
       "    <tr style=\"text-align: right;\">\n",
       "      <th></th>\n",
       "      <th>X</th>\n",
       "      <th>Sig</th>\n",
       "      <th>Y</th>\n",
       "      <th>W</th>\n",
       "      <th>Dataset</th>\n",
       "      <th>Model</th>\n",
       "    </tr>\n",
       "  </thead>\n",
       "  <tbody>\n",
       "    <tr>\n",
       "      <th>0</th>\n",
       "      <td>3</td>\n",
       "      <td>Drift</td>\n",
       "      <td>2.207221</td>\n",
       "      <td>D2_3</td>\n",
       "      <td>Google</td>\n",
       "      <td>Random Forests Google Job Data</td>\n",
       "    </tr>\n",
       "    <tr>\n",
       "      <th>1</th>\n",
       "      <td>4</td>\n",
       "      <td>Non-Drift</td>\n",
       "      <td>0.158528</td>\n",
       "      <td>D3_4</td>\n",
       "      <td>Google</td>\n",
       "      <td>Random Forests Google Job Data</td>\n",
       "    </tr>\n",
       "    <tr>\n",
       "      <th>2</th>\n",
       "      <td>5</td>\n",
       "      <td>Non-Drift</td>\n",
       "      <td>0.132760</td>\n",
       "      <td>D4_5</td>\n",
       "      <td>Google</td>\n",
       "      <td>Random Forests Google Job Data</td>\n",
       "    </tr>\n",
       "    <tr>\n",
       "      <th>3</th>\n",
       "      <td>6</td>\n",
       "      <td>Drift</td>\n",
       "      <td>0.242976</td>\n",
       "      <td>D5_6</td>\n",
       "      <td>Google</td>\n",
       "      <td>Random Forests Google Job Data</td>\n",
       "    </tr>\n",
       "    <tr>\n",
       "      <th>4</th>\n",
       "      <td>7</td>\n",
       "      <td>Drift</td>\n",
       "      <td>0.305662</td>\n",
       "      <td>D6_7</td>\n",
       "      <td>Google</td>\n",
       "      <td>Random Forests Google Job Data</td>\n",
       "    </tr>\n",
       "    <tr>\n",
       "      <th>5</th>\n",
       "      <td>8</td>\n",
       "      <td>Drift</td>\n",
       "      <td>1.010056</td>\n",
       "      <td>D7_8</td>\n",
       "      <td>Google</td>\n",
       "      <td>Random Forests Google Job Data</td>\n",
       "    </tr>\n",
       "    <tr>\n",
       "      <th>6</th>\n",
       "      <td>9</td>\n",
       "      <td>Drift</td>\n",
       "      <td>0.464647</td>\n",
       "      <td>D8_9</td>\n",
       "      <td>Google</td>\n",
       "      <td>Random Forests Google Job Data</td>\n",
       "    </tr>\n",
       "    <tr>\n",
       "      <th>7</th>\n",
       "      <td>10</td>\n",
       "      <td>Drift</td>\n",
       "      <td>1.437104</td>\n",
       "      <td>D9_10</td>\n",
       "      <td>Google</td>\n",
       "      <td>Random Forests Google Job Data</td>\n",
       "    </tr>\n",
       "    <tr>\n",
       "      <th>8</th>\n",
       "      <td>11</td>\n",
       "      <td>Drift</td>\n",
       "      <td>0.545631</td>\n",
       "      <td>D10_11</td>\n",
       "      <td>Google</td>\n",
       "      <td>Random Forests Google Job Data</td>\n",
       "    </tr>\n",
       "    <tr>\n",
       "      <th>9</th>\n",
       "      <td>12</td>\n",
       "      <td>Non-Drift</td>\n",
       "      <td>0.155750</td>\n",
       "      <td>D11_12</td>\n",
       "      <td>Google</td>\n",
       "      <td>Random Forests Google Job Data</td>\n",
       "    </tr>\n",
       "    <tr>\n",
       "      <th>10</th>\n",
       "      <td>13</td>\n",
       "      <td>Drift</td>\n",
       "      <td>0.286659</td>\n",
       "      <td>D12_13</td>\n",
       "      <td>Google</td>\n",
       "      <td>Random Forests Google Job Data</td>\n",
       "    </tr>\n",
       "    <tr>\n",
       "      <th>11</th>\n",
       "      <td>14</td>\n",
       "      <td>Non-Drift</td>\n",
       "      <td>0.249757</td>\n",
       "      <td>D13_14</td>\n",
       "      <td>Google</td>\n",
       "      <td>Random Forests Google Job Data</td>\n",
       "    </tr>\n",
       "    <tr>\n",
       "      <th>12</th>\n",
       "      <td>15</td>\n",
       "      <td>Drift</td>\n",
       "      <td>2.039933</td>\n",
       "      <td>D14_15</td>\n",
       "      <td>Google</td>\n",
       "      <td>Random Forests Google Job Data</td>\n",
       "    </tr>\n",
       "    <tr>\n",
       "      <th>13</th>\n",
       "      <td>16</td>\n",
       "      <td>Non-Drift</td>\n",
       "      <td>0.104787</td>\n",
       "      <td>D15_16</td>\n",
       "      <td>Google</td>\n",
       "      <td>Random Forests Google Job Data</td>\n",
       "    </tr>\n",
       "    <tr>\n",
       "      <th>14</th>\n",
       "      <td>17</td>\n",
       "      <td>Drift</td>\n",
       "      <td>0.252529</td>\n",
       "      <td>D16_17</td>\n",
       "      <td>Google</td>\n",
       "      <td>Random Forests Google Job Data</td>\n",
       "    </tr>\n",
       "    <tr>\n",
       "      <th>15</th>\n",
       "      <td>18</td>\n",
       "      <td>Drift</td>\n",
       "      <td>0.520573</td>\n",
       "      <td>D17_18</td>\n",
       "      <td>Google</td>\n",
       "      <td>Random Forests Google Job Data</td>\n",
       "    </tr>\n",
       "    <tr>\n",
       "      <th>16</th>\n",
       "      <td>19</td>\n",
       "      <td>Drift</td>\n",
       "      <td>3.385244</td>\n",
       "      <td>D18_19</td>\n",
       "      <td>Google</td>\n",
       "      <td>Random Forests Google Job Data</td>\n",
       "    </tr>\n",
       "    <tr>\n",
       "      <th>17</th>\n",
       "      <td>20</td>\n",
       "      <td>Drift</td>\n",
       "      <td>0.516329</td>\n",
       "      <td>D20_21</td>\n",
       "      <td>Google</td>\n",
       "      <td>Random Forests Google Job Data</td>\n",
       "    </tr>\n",
       "    <tr>\n",
       "      <th>18</th>\n",
       "      <td>21</td>\n",
       "      <td>Drift</td>\n",
       "      <td>0.711221</td>\n",
       "      <td>D22_23</td>\n",
       "      <td>Google</td>\n",
       "      <td>Random Forests Google Job Data</td>\n",
       "    </tr>\n",
       "    <tr>\n",
       "      <th>19</th>\n",
       "      <td>22</td>\n",
       "      <td>Drift</td>\n",
       "      <td>0.877119</td>\n",
       "      <td>D23_24</td>\n",
       "      <td>Google</td>\n",
       "      <td>Random Forests Google Job Data</td>\n",
       "    </tr>\n",
       "    <tr>\n",
       "      <th>20</th>\n",
       "      <td>23</td>\n",
       "      <td>Non-Drift</td>\n",
       "      <td>0.104001</td>\n",
       "      <td>D24_25</td>\n",
       "      <td>Google</td>\n",
       "      <td>Random Forests Google Job Data</td>\n",
       "    </tr>\n",
       "    <tr>\n",
       "      <th>21</th>\n",
       "      <td>24</td>\n",
       "      <td>Non-Drift</td>\n",
       "      <td>0.123940</td>\n",
       "      <td>D25_26</td>\n",
       "      <td>Google</td>\n",
       "      <td>Random Forests Google Job Data</td>\n",
       "    </tr>\n",
       "    <tr>\n",
       "      <th>22</th>\n",
       "      <td>25</td>\n",
       "      <td>Non-Drift</td>\n",
       "      <td>0.192580</td>\n",
       "      <td>D26_27</td>\n",
       "      <td>Google</td>\n",
       "      <td>Random Forests Google Job Data</td>\n",
       "    </tr>\n",
       "    <tr>\n",
       "      <th>23</th>\n",
       "      <td>26</td>\n",
       "      <td>Non-Drift</td>\n",
       "      <td>0.043647</td>\n",
       "      <td>D27_28</td>\n",
       "      <td>Google</td>\n",
       "      <td>Random Forests Google Job Data</td>\n",
       "    </tr>\n",
       "    <tr>\n",
       "      <th>24</th>\n",
       "      <td>27</td>\n",
       "      <td>Drift</td>\n",
       "      <td>0.376124</td>\n",
       "      <td>D28_29</td>\n",
       "      <td>Google</td>\n",
       "      <td>Random Forests Google Job Data</td>\n",
       "    </tr>\n",
       "    <tr>\n",
       "      <th>25</th>\n",
       "      <td>28</td>\n",
       "      <td>Non-Drift</td>\n",
       "      <td>0.102344</td>\n",
       "      <td>D29_30</td>\n",
       "      <td>Google</td>\n",
       "      <td>Random Forests Google Job Data</td>\n",
       "    </tr>\n",
       "  </tbody>\n",
       "</table>\n",
       "</div>"
      ],
      "text/plain": [
       "     X        Sig         Y       W Dataset                           Model\n",
       "0    3      Drift  2.207221    D2_3  Google  Random Forests Google Job Data\n",
       "1    4  Non-Drift  0.158528    D3_4  Google  Random Forests Google Job Data\n",
       "2    5  Non-Drift  0.132760    D4_5  Google  Random Forests Google Job Data\n",
       "3    6      Drift  0.242976    D5_6  Google  Random Forests Google Job Data\n",
       "4    7      Drift  0.305662    D6_7  Google  Random Forests Google Job Data\n",
       "5    8      Drift  1.010056    D7_8  Google  Random Forests Google Job Data\n",
       "6    9      Drift  0.464647    D8_9  Google  Random Forests Google Job Data\n",
       "7   10      Drift  1.437104   D9_10  Google  Random Forests Google Job Data\n",
       "8   11      Drift  0.545631  D10_11  Google  Random Forests Google Job Data\n",
       "9   12  Non-Drift  0.155750  D11_12  Google  Random Forests Google Job Data\n",
       "10  13      Drift  0.286659  D12_13  Google  Random Forests Google Job Data\n",
       "11  14  Non-Drift  0.249757  D13_14  Google  Random Forests Google Job Data\n",
       "12  15      Drift  2.039933  D14_15  Google  Random Forests Google Job Data\n",
       "13  16  Non-Drift  0.104787  D15_16  Google  Random Forests Google Job Data\n",
       "14  17      Drift  0.252529  D16_17  Google  Random Forests Google Job Data\n",
       "15  18      Drift  0.520573  D17_18  Google  Random Forests Google Job Data\n",
       "16  19      Drift  3.385244  D18_19  Google  Random Forests Google Job Data\n",
       "17  20      Drift  0.516329  D20_21  Google  Random Forests Google Job Data\n",
       "18  21      Drift  0.711221  D22_23  Google  Random Forests Google Job Data\n",
       "19  22      Drift  0.877119  D23_24  Google  Random Forests Google Job Data\n",
       "20  23  Non-Drift  0.104001  D24_25  Google  Random Forests Google Job Data\n",
       "21  24  Non-Drift  0.123940  D25_26  Google  Random Forests Google Job Data\n",
       "22  25  Non-Drift  0.192580  D26_27  Google  Random Forests Google Job Data\n",
       "23  26  Non-Drift  0.043647  D27_28  Google  Random Forests Google Job Data\n",
       "24  27      Drift  0.376124  D28_29  Google  Random Forests Google Job Data\n",
       "25  28  Non-Drift  0.102344  D29_30  Google  Random Forests Google Job Data"
      ]
     },
     "execution_count": 9,
     "metadata": {},
     "output_type": "execute_result"
    }
   ],
   "source": [
    "df_concept_drift = pd.read_csv(data_path_drift_localization)\n",
    "df_concept_drift = df_concept_drift.loc[:, ~df_concept_drift.columns.str.contains('^Unnamed')]\n",
    "df_concept_drift"
   ]
  },
  {
   "cell_type": "code",
   "execution_count": 10,
   "id": "4a59bbbe",
   "metadata": {},
   "outputs": [
    {
     "data": {
      "text/plain": [
       "26"
      ]
     },
     "execution_count": 10,
     "metadata": {},
     "output_type": "execute_result"
    }
   ],
   "source": [
    "len(df_concept_drift)"
   ]
  },
  {
   "cell_type": "code",
   "execution_count": 11,
   "id": "c08c7694",
   "metadata": {},
   "outputs": [],
   "source": [
    "scaler = StandardScaler()\n",
    "stat_test = stats.kstest"
   ]
  },
  {
   "cell_type": "markdown",
   "id": "29ad33ca",
   "metadata": {},
   "source": [
    "# Monitoring Changes in Each Feature"
   ]
  },
  {
   "cell_type": "code",
   "execution_count": 12,
   "id": "4a7e4adc",
   "metadata": {},
   "outputs": [],
   "source": [
    "features_job_failure = ['User ID', 'Job Name', 'Scheduling Class',\n",
    "                   'Num Tasks', 'Priority', 'Diff Machine', 'CPU Requested', 'Mem Requested', 'Disk Requested',\n",
    "                   'Avg CPU', 'Avg Mem', 'Avg Disk', 'Std CPU', 'Std Mem', 'Std Disk']"
   ]
  },
  {
   "cell_type": "code",
   "execution_count": 13,
   "id": "183b5392",
   "metadata": {
    "scrolled": true
   },
   "outputs": [
    {
     "name": "stderr",
     "output_type": "stream",
     "text": [
      "  0%|          | 0/15 [00:00<?, ?it/s]\n",
      "  0%|          | 0/26 [00:00<?, ?it/s]\u001b[A\n",
      " 12%|█▏        | 3/26 [00:00<00:00, 29.68it/s]\u001b[A\n",
      " 27%|██▋       | 7/26 [00:00<00:00, 33.31it/s]\u001b[A\n",
      " 42%|████▏     | 11/26 [00:00<00:00, 32.55it/s]\u001b[A\n",
      " 62%|██████▏   | 16/26 [00:00<00:00, 36.23it/s]\u001b[A\n",
      " 77%|███████▋  | 20/26 [00:00<00:00, 35.72it/s]\u001b[A\n",
      "100%|██████████| 26/26 [00:00<00:00, 35.22it/s]\u001b[A\n",
      "  7%|▋         | 1/15 [00:00<00:10,  1.35it/s]\n",
      "  0%|          | 0/26 [00:00<?, ?it/s]\u001b[A\n",
      " 15%|█▌        | 4/26 [00:00<00:00, 31.77it/s]\u001b[A\n",
      " 31%|███       | 8/26 [00:00<00:00, 33.99it/s]\u001b[A\n",
      " 46%|████▌     | 12/26 [00:00<00:00, 34.45it/s]\u001b[A\n",
      " 62%|██████▏   | 16/26 [00:00<00:00, 33.17it/s]\u001b[A\n",
      " 77%|███████▋  | 20/26 [00:00<00:00, 31.37it/s]\u001b[A\n",
      "100%|██████████| 26/26 [00:00<00:00, 32.80it/s]\u001b[A\n",
      " 13%|█▎        | 2/15 [00:01<00:10,  1.29it/s]\n",
      "  0%|          | 0/26 [00:00<?, ?it/s]\u001b[A\n",
      " 19%|█▉        | 5/26 [00:00<00:00, 42.66it/s]\u001b[A\n",
      " 38%|███▊      | 10/26 [00:00<00:00, 40.09it/s]\u001b[A\n",
      " 58%|█████▊    | 15/26 [00:00<00:00, 40.71it/s]\u001b[A\n",
      " 77%|███████▋  | 20/26 [00:00<00:00, 37.07it/s]\u001b[A\n",
      "100%|██████████| 26/26 [00:00<00:00, 38.40it/s]\u001b[A\n",
      " 20%|██        | 3/15 [00:02<00:08,  1.37it/s]\n",
      "  0%|          | 0/26 [00:00<?, ?it/s]\u001b[A\n",
      " 19%|█▉        | 5/26 [00:00<00:00, 45.52it/s]\u001b[A\n",
      " 38%|███▊      | 10/26 [00:00<00:00, 45.79it/s]\u001b[A\n",
      " 58%|█████▊    | 15/26 [00:00<00:00, 42.93it/s]\u001b[A\n",
      " 77%|███████▋  | 20/26 [00:00<00:00, 40.28it/s]\u001b[A\n",
      "100%|██████████| 26/26 [00:00<00:00, 42.52it/s]\u001b[A\n",
      " 27%|██▋       | 4/15 [00:02<00:07,  1.46it/s]\n",
      "  0%|          | 0/26 [00:00<?, ?it/s]\u001b[A\n",
      " 19%|█▉        | 5/26 [00:00<00:00, 45.29it/s]\u001b[A\n",
      " 38%|███▊      | 10/26 [00:00<00:00, 44.66it/s]\u001b[A\n",
      " 58%|█████▊    | 15/26 [00:00<00:00, 46.45it/s]\u001b[A\n",
      " 77%|███████▋  | 20/26 [00:00<00:00, 40.03it/s]\u001b[A\n",
      "100%|██████████| 26/26 [00:00<00:00, 40.38it/s]\u001b[A\n",
      " 33%|███▎      | 5/15 [00:03<00:06,  1.49it/s]\n",
      "  0%|          | 0/26 [00:00<?, ?it/s]\u001b[A\n",
      " 23%|██▎       | 6/26 [00:00<00:00, 54.99it/s]\u001b[A\n",
      " 46%|████▌     | 12/26 [00:00<00:00, 47.15it/s]\u001b[A\n",
      " 65%|██████▌   | 17/26 [00:00<00:00, 46.17it/s]\u001b[A\n",
      "100%|██████████| 26/26 [00:00<00:00, 51.09it/s]\u001b[A\n",
      " 40%|████      | 6/15 [00:03<00:05,  1.62it/s]\n",
      "  0%|          | 0/26 [00:00<?, ?it/s]\u001b[A\n",
      " 15%|█▌        | 4/26 [00:00<00:00, 35.55it/s]\u001b[A\n",
      " 31%|███       | 8/26 [00:00<00:00, 37.37it/s]\u001b[A\n",
      " 46%|████▌     | 12/26 [00:00<00:00, 37.53it/s]\u001b[A\n",
      " 62%|██████▏   | 16/26 [00:00<00:00, 37.97it/s]\u001b[A\n",
      " 77%|███████▋  | 20/26 [00:00<00:00, 35.94it/s]\u001b[A\n",
      "100%|██████████| 26/26 [00:00<00:00, 36.13it/s]\u001b[A\n",
      " 47%|████▋     | 7/15 [00:04<00:05,  1.53it/s]\n",
      "  0%|          | 0/26 [00:00<?, ?it/s]\u001b[A\n",
      " 15%|█▌        | 4/26 [00:00<00:00, 36.96it/s]\u001b[A\n",
      " 35%|███▍      | 9/26 [00:00<00:00, 38.31it/s]\u001b[A\n",
      " 54%|█████▍    | 14/26 [00:00<00:00, 40.59it/s]\u001b[A\n",
      " 73%|███████▎  | 19/26 [00:00<00:00, 38.66it/s]\u001b[A\n",
      "100%|██████████| 26/26 [00:00<00:00, 38.13it/s]\u001b[A\n",
      " 53%|█████▎    | 8/15 [00:05<00:04,  1.51it/s]\n",
      "  0%|          | 0/26 [00:00<?, ?it/s]\u001b[A\n",
      " 19%|█▉        | 5/26 [00:00<00:00, 42.43it/s]\u001b[A\n",
      " 38%|███▊      | 10/26 [00:00<00:00, 39.42it/s]\u001b[A\n",
      " 58%|█████▊    | 15/26 [00:00<00:00, 39.52it/s]\u001b[A\n",
      " 73%|███████▎  | 19/26 [00:00<00:00, 35.51it/s]\u001b[A\n",
      "100%|██████████| 26/26 [00:00<00:00, 36.38it/s]\u001b[A\n",
      " 60%|██████    | 9/15 [00:06<00:04,  1.47it/s]\n",
      "  0%|          | 0/26 [00:00<?, ?it/s]\u001b[A\n",
      " 15%|█▌        | 4/26 [00:00<00:00, 33.64it/s]\u001b[A\n",
      " 31%|███       | 8/26 [00:00<00:00, 34.69it/s]\u001b[A\n",
      " 46%|████▌     | 12/26 [00:00<00:00, 35.06it/s]\u001b[A\n",
      " 62%|██████▏   | 16/26 [00:00<00:00, 34.53it/s]\u001b[A\n",
      " 77%|███████▋  | 20/26 [00:00<00:00, 32.26it/s]\u001b[A\n",
      "100%|██████████| 26/26 [00:00<00:00, 33.12it/s]\u001b[A\n",
      " 67%|██████▋   | 10/15 [00:06<00:03,  1.40it/s]\n",
      "  0%|          | 0/26 [00:00<?, ?it/s]\u001b[A\n",
      " 15%|█▌        | 4/26 [00:00<00:00, 34.36it/s]\u001b[A\n",
      " 31%|███       | 8/26 [00:00<00:00, 36.15it/s]\u001b[A\n",
      " 46%|████▌     | 12/26 [00:00<00:00, 35.68it/s]\u001b[A\n",
      " 62%|██████▏   | 16/26 [00:00<00:00, 36.14it/s]\u001b[A\n",
      " 77%|███████▋  | 20/26 [00:00<00:00, 33.21it/s]\u001b[A\n",
      "100%|██████████| 26/26 [00:00<00:00, 34.26it/s]\u001b[A\n",
      " 73%|███████▎  | 11/15 [00:07<00:02,  1.37it/s]\n",
      "  0%|          | 0/26 [00:00<?, ?it/s]\u001b[A\n",
      " 19%|█▉        | 5/26 [00:00<00:00, 41.22it/s]\u001b[A\n",
      " 42%|████▏     | 11/26 [00:00<00:00, 45.82it/s]\u001b[A\n",
      " 62%|██████▏   | 16/26 [00:00<00:00, 42.10it/s]\u001b[A\n",
      " 81%|████████  | 21/26 [00:00<00:00, 38.35it/s]\u001b[A\n",
      "100%|██████████| 26/26 [00:00<00:00, 38.67it/s]\u001b[A\n",
      " 80%|████████  | 12/15 [00:08<00:02,  1.40it/s]\n",
      "  0%|          | 0/26 [00:00<?, ?it/s]\u001b[A\n",
      " 15%|█▌        | 4/26 [00:00<00:00, 34.04it/s]\u001b[A\n",
      " 31%|███       | 8/26 [00:00<00:00, 34.95it/s]\u001b[A\n",
      " 46%|████▌     | 12/26 [00:00<00:00, 33.90it/s]\u001b[A\n",
      " 62%|██████▏   | 16/26 [00:00<00:00, 33.54it/s]\u001b[A\n",
      " 77%|███████▋  | 20/26 [00:00<00:00, 31.06it/s]\u001b[A\n",
      "100%|██████████| 26/26 [00:00<00:00, 32.43it/s]\u001b[A\n",
      " 87%|████████▋ | 13/15 [00:09<00:01,  1.35it/s]\n",
      "  0%|          | 0/26 [00:00<?, ?it/s]\u001b[A\n",
      " 15%|█▌        | 4/26 [00:00<00:00, 35.69it/s]\u001b[A\n",
      " 31%|███       | 8/26 [00:00<00:00, 35.49it/s]\u001b[A\n",
      " 46%|████▌     | 12/26 [00:00<00:00, 35.58it/s]\u001b[A\n",
      " 62%|██████▏   | 16/26 [00:00<00:00, 35.18it/s]\u001b[A\n",
      " 77%|███████▋  | 20/26 [00:00<00:00, 32.79it/s]\u001b[A\n",
      "100%|██████████| 26/26 [00:00<00:00, 33.45it/s]\u001b[A\n",
      " 93%|█████████▎| 14/15 [00:09<00:00,  1.33it/s]\n",
      "  0%|          | 0/26 [00:00<?, ?it/s]\u001b[A\n",
      " 15%|█▌        | 4/26 [00:00<00:00, 39.92it/s]\u001b[A\n",
      " 38%|███▊      | 10/26 [00:00<00:00, 48.20it/s]\u001b[A\n",
      " 58%|█████▊    | 15/26 [00:00<00:00, 46.63it/s]\u001b[A\n",
      " 77%|███████▋  | 20/26 [00:00<00:00, 40.37it/s]\u001b[A\n",
      "100%|██████████| 26/26 [00:00<00:00, 40.66it/s]\u001b[A\n",
      "100%|██████████| 15/15 [00:10<00:00,  1.42it/s]\n"
     ]
    }
   ],
   "source": [
    "no_times_changes_in_each_feature = []\n",
    "\n",
    "drift_times_changes_in_each_feature = []\n",
    "\n",
    "non_drift_times_changes_in_each_feature = []\n",
    "\n",
    "for feature in tqdm(features_job_failure):\n",
    "    \n",
    "    no_times_changes = 0\n",
    "    \n",
    "    no_times_drift_changes = 0\n",
    "    \n",
    "    no_times_non_drift_changes = 0\n",
    "    \n",
    "    for period in tqdm(range(1, len(feature_list)-1)):\n",
    "        \n",
    "        # extract features train and test\n",
    "        training_features = scaler.fit_transform(feature_list[period])\n",
    "        testing_features = scaler.transform(feature_list[period+1])\n",
    "        \n",
    "        # convert numpy array to Pandas Dataframe\n",
    "        df_train_features = pd.DataFrame(training_features, columns = features_job_failure)\n",
    "        df_test_features = pd.DataFrame(testing_features, columns = features_job_failure)\n",
    "        \n",
    "        v, p = stat_test(df_train_features[feature], df_test_features[feature])\n",
    "        if(p<0.05):\n",
    "            no_times_changes = no_times_changes + 1\n",
    "            \n",
    "            if(df_concept_drift['Sig'][period-1]=='Drift'):\n",
    "                no_times_drift_changes = no_times_drift_changes + 1\n",
    "            \n",
    "            if(df_concept_drift['Sig'][period-1]=='Non-Drift'):\n",
    "                no_times_non_drift_changes = no_times_non_drift_changes + 1\n",
    "            \n",
    "    no_times_changes_in_each_feature.append(no_times_changes)\n",
    "    \n",
    "    drift_times_changes_in_each_feature.append(no_times_drift_changes)\n",
    "    \n",
    "    non_drift_times_changes_in_each_feature.append(no_times_non_drift_changes)"
   ]
  },
  {
   "cell_type": "code",
   "execution_count": 14,
   "id": "1f3ceb3b",
   "metadata": {},
   "outputs": [
    {
     "data": {
      "text/plain": [
       "26"
      ]
     },
     "execution_count": 14,
     "metadata": {},
     "output_type": "execute_result"
    }
   ],
   "source": [
    "period"
   ]
  },
  {
   "cell_type": "code",
   "execution_count": null,
   "id": "dd9ae10c",
   "metadata": {},
   "outputs": [],
   "source": []
  },
  {
   "cell_type": "code",
   "execution_count": 15,
   "id": "85939eeb",
   "metadata": {},
   "outputs": [
    {
     "data": {
      "text/plain": [
       "15"
      ]
     },
     "execution_count": 15,
     "metadata": {},
     "output_type": "execute_result"
    }
   ],
   "source": [
    "len(no_times_changes_in_each_feature)"
   ]
  },
  {
   "cell_type": "code",
   "execution_count": 16,
   "id": "3c0718ff",
   "metadata": {},
   "outputs": [
    {
     "data": {
      "text/plain": [
       "[26, 25, 23, 23, 24, 1, 26, 26, 25, 26, 26, 21, 26, 26, 17]"
      ]
     },
     "execution_count": 16,
     "metadata": {},
     "output_type": "execute_result"
    }
   ],
   "source": [
    "no_times_changes_in_each_feature"
   ]
  },
  {
   "cell_type": "code",
   "execution_count": 17,
   "id": "5b66ba1f",
   "metadata": {},
   "outputs": [
    {
     "name": "stdout",
     "output_type": "stream",
     "text": [
      "[1.0, 0.9615384615384616, 0.8846153846153846, 0.8846153846153846, 0.9230769230769231, 0.038461538461538464, 1.0, 1.0, 0.9615384615384616, 1.0, 1.0, 0.8076923076923077, 1.0, 1.0, 0.6538461538461539]\n"
     ]
    }
   ],
   "source": [
    "print([i/len(df_concept_drift) for i in no_times_changes_in_each_feature])"
   ]
  },
  {
   "cell_type": "code",
   "execution_count": 18,
   "id": "f50d1cf7",
   "metadata": {},
   "outputs": [
    {
     "data": {
      "text/plain": [
       "[16, 16, 15, 14, 15, 1, 16, 16, 15, 16, 16, 14, 16, 16, 10]"
      ]
     },
     "execution_count": 18,
     "metadata": {},
     "output_type": "execute_result"
    }
   ],
   "source": [
    "drift_times_changes_in_each_feature"
   ]
  },
  {
   "cell_type": "code",
   "execution_count": 19,
   "id": "4ae04f2d",
   "metadata": {},
   "outputs": [
    {
     "name": "stdout",
     "output_type": "stream",
     "text": [
      "[1.0, 1.0, 0.9375, 0.875, 0.9375, 0.0625, 1.0, 1.0, 0.9375, 1.0, 1.0, 0.875, 1.0, 1.0, 0.625]\n"
     ]
    }
   ],
   "source": [
    "print([i/len(df_concept_drift[df_concept_drift.Sig == 'Drift']) for i in drift_times_changes_in_each_feature])"
   ]
  },
  {
   "cell_type": "code",
   "execution_count": 20,
   "id": "7e615bdc",
   "metadata": {},
   "outputs": [
    {
     "data": {
      "text/plain": [
       "[10, 9, 8, 9, 9, 0, 10, 10, 10, 10, 10, 7, 10, 10, 7]"
      ]
     },
     "execution_count": 20,
     "metadata": {},
     "output_type": "execute_result"
    }
   ],
   "source": [
    "non_drift_times_changes_in_each_feature"
   ]
  },
  {
   "cell_type": "code",
   "execution_count": 21,
   "id": "620d1e6f",
   "metadata": {},
   "outputs": [
    {
     "name": "stdout",
     "output_type": "stream",
     "text": [
      "[1.0, 0.9, 0.8, 0.9, 0.9, 0.0, 1.0, 1.0, 1.0, 1.0, 1.0, 0.7, 1.0, 1.0, 0.7]\n"
     ]
    }
   ],
   "source": [
    "print([i/len(df_concept_drift[df_concept_drift.Sig == 'Non-Drift']) for i in non_drift_times_changes_in_each_feature])"
   ]
  },
  {
   "cell_type": "code",
   "execution_count": 22,
   "id": "a8a81ae3",
   "metadata": {},
   "outputs": [
    {
     "data": {
      "text/plain": [
       "['User ID',\n",
       " 'Job Name',\n",
       " 'Scheduling Class',\n",
       " 'Num Tasks',\n",
       " 'Priority',\n",
       " 'Diff Machine',\n",
       " 'CPU Requested',\n",
       " 'Mem Requested',\n",
       " 'Disk Requested',\n",
       " 'Avg CPU',\n",
       " 'Avg Mem',\n",
       " 'Avg Disk',\n",
       " 'Std CPU',\n",
       " 'Std Mem',\n",
       " 'Std Disk']"
      ]
     },
     "execution_count": 22,
     "metadata": {},
     "output_type": "execute_result"
    }
   ],
   "source": [
    "features_job_failure"
   ]
  },
  {
   "cell_type": "code",
   "execution_count": null,
   "id": "5c895f67",
   "metadata": {},
   "outputs": [],
   "source": []
  },
  {
   "cell_type": "code",
   "execution_count": null,
   "id": "cc91c4a5",
   "metadata": {},
   "outputs": [],
   "source": []
  },
  {
   "cell_type": "code",
   "execution_count": 68,
   "id": "9a42bf4f",
   "metadata": {},
   "outputs": [
    {
     "data": {
      "text/plain": [
       "'Std Disk'"
      ]
     },
     "execution_count": 68,
     "metadata": {},
     "output_type": "execute_result"
    }
   ],
   "source": [
    "features_job_failure[14]"
   ]
  },
  {
   "cell_type": "code",
   "execution_count": 69,
   "id": "f3425a8a",
   "metadata": {},
   "outputs": [
    {
     "name": "stdout",
     "output_type": "stream",
     "text": [
      "0.625\n"
     ]
    }
   ],
   "source": [
    "print([i/len(df_concept_drift[df_concept_drift.Sig == 'Drift']) for i in drift_times_changes_in_each_feature][14])"
   ]
  },
  {
   "cell_type": "code",
   "execution_count": 70,
   "id": "99a5e993",
   "metadata": {},
   "outputs": [
    {
     "name": "stdout",
     "output_type": "stream",
     "text": [
      "0.7\n"
     ]
    }
   ],
   "source": [
    "print([i/len(df_concept_drift[df_concept_drift.Sig == 'Non-Drift']) for i in non_drift_times_changes_in_each_feature][14])"
   ]
  },
  {
   "cell_type": "code",
   "execution_count": null,
   "id": "03013d12",
   "metadata": {},
   "outputs": [],
   "source": []
  },
  {
   "cell_type": "code",
   "execution_count": null,
   "id": "59791e8b",
   "metadata": {},
   "outputs": [],
   "source": []
  },
  {
   "cell_type": "code",
   "execution_count": null,
   "id": "3e14459c",
   "metadata": {},
   "outputs": [],
   "source": []
  },
  {
   "cell_type": "code",
   "execution_count": 14,
   "id": "ec8b62e3",
   "metadata": {},
   "outputs": [
    {
     "data": {
      "text/plain": [
       "11"
      ]
     },
     "execution_count": 14,
     "metadata": {},
     "output_type": "execute_result"
    }
   ],
   "source": [
    "len(months)"
   ]
  },
  {
   "cell_type": "code",
   "execution_count": 15,
   "id": "014eafe0",
   "metadata": {},
   "outputs": [],
   "source": [
    "drift_grount_truth = list(df_concept_drift.Sig)"
   ]
  },
  {
   "cell_type": "code",
   "execution_count": 16,
   "id": "37cff78b",
   "metadata": {
    "scrolled": true
   },
   "outputs": [
    {
     "data": {
      "text/html": [
       "<div>\n",
       "<style scoped>\n",
       "    .dataframe tbody tr th:only-of-type {\n",
       "        vertical-align: middle;\n",
       "    }\n",
       "\n",
       "    .dataframe tbody tr th {\n",
       "        vertical-align: top;\n",
       "    }\n",
       "\n",
       "    .dataframe thead th {\n",
       "        text-align: right;\n",
       "    }\n",
       "</style>\n",
       "<table border=\"1\" class=\"dataframe\">\n",
       "  <thead>\n",
       "    <tr style=\"text-align: right;\">\n",
       "      <th></th>\n",
       "      <th>Period</th>\n",
       "      <th>Drift Ground Truth</th>\n",
       "      <th>No Changed Features Per Period</th>\n",
       "      <th>Percentage Changed Features Per Period</th>\n",
       "    </tr>\n",
       "  </thead>\n",
       "  <tbody>\n",
       "    <tr>\n",
       "      <th>0</th>\n",
       "      <td>M1_2</td>\n",
       "      <td>Drift</td>\n",
       "      <td>2</td>\n",
       "      <td>0.105263</td>\n",
       "    </tr>\n",
       "    <tr>\n",
       "      <th>1</th>\n",
       "      <td>M2_3</td>\n",
       "      <td>Drift</td>\n",
       "      <td>1</td>\n",
       "      <td>0.052632</td>\n",
       "    </tr>\n",
       "    <tr>\n",
       "      <th>2</th>\n",
       "      <td>M3_4</td>\n",
       "      <td>Non-Drift</td>\n",
       "      <td>2</td>\n",
       "      <td>0.105263</td>\n",
       "    </tr>\n",
       "    <tr>\n",
       "      <th>3</th>\n",
       "      <td>M4_5</td>\n",
       "      <td>Non-Drift</td>\n",
       "      <td>2</td>\n",
       "      <td>0.105263</td>\n",
       "    </tr>\n",
       "    <tr>\n",
       "      <th>4</th>\n",
       "      <td>M5_6</td>\n",
       "      <td>Non-Drift</td>\n",
       "      <td>2</td>\n",
       "      <td>0.105263</td>\n",
       "    </tr>\n",
       "    <tr>\n",
       "      <th>5</th>\n",
       "      <td>M6_7</td>\n",
       "      <td>Non-Drift</td>\n",
       "      <td>2</td>\n",
       "      <td>0.105263</td>\n",
       "    </tr>\n",
       "    <tr>\n",
       "      <th>6</th>\n",
       "      <td>M7_8</td>\n",
       "      <td>Drift</td>\n",
       "      <td>2</td>\n",
       "      <td>0.105263</td>\n",
       "    </tr>\n",
       "    <tr>\n",
       "      <th>7</th>\n",
       "      <td>M8_9</td>\n",
       "      <td>Drift</td>\n",
       "      <td>2</td>\n",
       "      <td>0.105263</td>\n",
       "    </tr>\n",
       "    <tr>\n",
       "      <th>8</th>\n",
       "      <td>M9_10</td>\n",
       "      <td>Non-Drift</td>\n",
       "      <td>2</td>\n",
       "      <td>0.105263</td>\n",
       "    </tr>\n",
       "    <tr>\n",
       "      <th>9</th>\n",
       "      <td>M10_11</td>\n",
       "      <td>Non-Drift</td>\n",
       "      <td>2</td>\n",
       "      <td>0.105263</td>\n",
       "    </tr>\n",
       "    <tr>\n",
       "      <th>10</th>\n",
       "      <td>M11_12</td>\n",
       "      <td>Non-Drift</td>\n",
       "      <td>3</td>\n",
       "      <td>0.157895</td>\n",
       "    </tr>\n",
       "  </tbody>\n",
       "</table>\n",
       "</div>"
      ],
      "text/plain": [
       "    Period Drift Ground Truth  No Changed Features Per Period  \\\n",
       "0     M1_2              Drift                               2   \n",
       "1     M2_3              Drift                               1   \n",
       "2     M3_4          Non-Drift                               2   \n",
       "3     M4_5          Non-Drift                               2   \n",
       "4     M5_6          Non-Drift                               2   \n",
       "5     M6_7          Non-Drift                               2   \n",
       "6     M7_8              Drift                               2   \n",
       "7     M8_9              Drift                               2   \n",
       "8    M9_10          Non-Drift                               2   \n",
       "9   M10_11          Non-Drift                               2   \n",
       "10  M11_12          Non-Drift                               3   \n",
       "\n",
       "    Percentage Changed Features Per Period  \n",
       "0                                 0.105263  \n",
       "1                                 0.052632  \n",
       "2                                 0.105263  \n",
       "3                                 0.105263  \n",
       "4                                 0.105263  \n",
       "5                                 0.105263  \n",
       "6                                 0.105263  \n",
       "7                                 0.105263  \n",
       "8                                 0.105263  \n",
       "9                                 0.105263  \n",
       "10                                0.157895  "
      ]
     },
     "execution_count": 16,
     "metadata": {},
     "output_type": "execute_result"
    }
   ],
   "source": [
    "df_results_monitoring_all_individual_features = pd.DataFrame()\n",
    "df_results_monitoring_all_individual_features['Period'] = months\n",
    "df_results_monitoring_all_individual_features['Drift Ground Truth'] = drift_grount_truth\n",
    "df_results_monitoring_all_individual_features['No Changed Features Per Period'] = no_changed_features_per_period\n",
    "df_results_monitoring_all_individual_features['Percentage Changed Features Per Period'] = perc_changed_features_per_period\n",
    "df_results_monitoring_all_individual_features"
   ]
  },
  {
   "cell_type": "code",
   "execution_count": 17,
   "id": "557f553f",
   "metadata": {},
   "outputs": [],
   "source": [
    "df_results_monitoring_all_individual_features.to_csv('df_percentage_of_changed_features_disk_backblaze.csv')"
   ]
  },
  {
   "cell_type": "code",
   "execution_count": null,
   "id": "9ce3ef2d",
   "metadata": {},
   "outputs": [],
   "source": []
  },
  {
   "cell_type": "markdown",
   "id": "0d727dd6",
   "metadata": {},
   "source": [
    "Correlation Calculation"
   ]
  },
  {
   "cell_type": "markdown",
   "id": "f9a620d9",
   "metadata": {},
   "source": [
    "TODO!!!!"
   ]
  },
  {
   "cell_type": "code",
   "execution_count": null,
   "id": "bc14450a",
   "metadata": {},
   "outputs": [],
   "source": []
  },
  {
   "cell_type": "code",
   "execution_count": null,
   "id": "9842c1c9",
   "metadata": {},
   "outputs": [],
   "source": []
  }
 ],
 "metadata": {
  "kernelspec": {
   "display_name": "Python 3 (ipykernel)",
   "language": "python",
   "name": "python3"
  },
  "language_info": {
   "codemirror_mode": {
    "name": "ipython",
    "version": 3
   },
   "file_extension": ".py",
   "mimetype": "text/x-python",
   "name": "python",
   "nbconvert_exporter": "python",
   "pygments_lexer": "ipython3",
   "version": "3.11.1"
  }
 },
 "nbformat": 4,
 "nbformat_minor": 5
}
