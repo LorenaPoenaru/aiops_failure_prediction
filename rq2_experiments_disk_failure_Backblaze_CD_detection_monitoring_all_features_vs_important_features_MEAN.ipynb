{
 "cells": [
  {
   "cell_type": "code",
   "execution_count": 1,
   "id": "64c8c084",
   "metadata": {},
   "outputs": [],
   "source": [
    "from datetime import date, datetime, timedelta\n",
    "import pandas as pd\n",
    "\n",
    "import numpy as np\n",
    "import math\n",
    "from sklearn.preprocessing import StandardScaler\n",
    "from sklearn.utils import resample\n",
    "from sklearn import metrics, preprocessing\n",
    "from sklearn.model_selection import KFold\n",
    "\n",
    "from sklearn.decomposition import PCA\n",
    "from scipy import stats\n",
    "import seaborn as sns\n",
    "\n",
    "import os\n",
    "from tqdm import tqdm\n",
    "\n",
    "import matplotlib.pyplot as plt\n",
    "\n",
    "from sklearn.metrics import roc_auc_score"
   ]
  },
  {
   "cell_type": "code",
   "execution_count": 2,
   "id": "4d6bd9b0",
   "metadata": {},
   "outputs": [],
   "source": [
    "import warnings\n",
    "warnings.filterwarnings('ignore')"
   ]
  },
  {
   "cell_type": "code",
   "execution_count": 3,
   "id": "b2751f65",
   "metadata": {},
   "outputs": [],
   "source": [
    "def obtain_intervals(dataset):\n",
    "    '''\n",
    "    Generate interval terminals, so that samples in each interval have:\n",
    "        interval_i = (timestamp >= terminal_i) and (timestamp < terminal_{i+1})\n",
    "\n",
    "    Args:\n",
    "        dataset (chr): Assuming only Backblaze (b) and Google (g) datasets exists\n",
    "    '''\n",
    "    if dataset == 'g':\n",
    "        # time unit in Google: millisecond, tracing time: 29 days\n",
    "        start_time = 604046279\n",
    "        unit_period = 24 * 60 * 60 * 1000 * 1000  # unit period: one day\n",
    "        end_time = start_time + 28*unit_period\n",
    "    elif dataset == 'b':\n",
    "        # time unit in Backblaze: month, tracing time: one year (12 months)\n",
    "        start_time = 1\n",
    "        unit_period = 1  # unit period: one month\n",
    "        end_time = start_time + 12*unit_period\n",
    "\n",
    "    # add one unit for the open-end of range function\n",
    "    terminals = [i for i in range(start_time, end_time+unit_period, unit_period)]\n",
    "\n",
    "    return terminals"
   ]
  },
  {
   "cell_type": "code",
   "execution_count": 4,
   "id": "bc4808e2",
   "metadata": {},
   "outputs": [],
   "source": [
    "def obtain_natural_chunks(features, labels, terminals):\n",
    "    feature_list = []\n",
    "    label_list = []\n",
    "    for i in range(len(terminals) - 1):\n",
    "        idx = np.logical_and(features[:, 0] >= terminals[i], features[:, 0] < terminals[i + 1])\n",
    "        feature_list.append(features[idx][:, 1:])\n",
    "        label_list.append(labels[idx])\n",
    "    return feature_list, label_list\n"
   ]
  },
  {
   "cell_type": "code",
   "execution_count": 5,
   "id": "1e4987ba",
   "metadata": {},
   "outputs": [],
   "source": [
    "def sorting_features_by_importance(df_feature_importance, features_name):\n",
    "    # Extract Ranks\n",
    "    feature_imp_array_string = np.array(((df_feature_importance.FI[period].replace('[','')).replace(']','')).replace('\\n', '').split(' '))\n",
    "    #print('feature_imp_array_string', feature_imp_array_string)\n",
    "\n",
    "    # convert to float\n",
    "    feature_imp_array = [float(i) for i in feature_imp_array_string if i != '' ]\n",
    "\n",
    "    # consider only the most important features (importance > mean(feature_importances))\n",
    "    # extract mean?? of feature importance\n",
    "    mean_importance = np.mean(feature_imp_array)\n",
    "\n",
    "    zipped_features = list(zip(feature_imp_array, features_name))\n",
    "\n",
    "\n",
    "    sorted_features_zip = sorted(zipped_features, key = lambda x: x[0], reverse = True)\n",
    "\n",
    "   \n",
    "    return sorted_features_zip, mean_importance"
   ]
  },
  {
   "cell_type": "code",
   "execution_count": null,
   "id": "1bcecbfd",
   "metadata": {},
   "outputs": [],
   "source": []
  },
  {
   "cell_type": "code",
   "execution_count": 6,
   "id": "741c26da",
   "metadata": {},
   "outputs": [],
   "source": [
    "def KS_on_features(df_train, df_test):\n",
    "    stat_test = stats.kstest\n",
    "    distribution_training = sns.distplot(np.array(df_train)).get_lines()[0].get_data()[1]\n",
    "    plt.close()\n",
    "    distribution_test = sns.distplot(np.array(df_test)).get_lines()[0].get_data()[1]\n",
    "    plt.close()\n",
    "    v, p = stat_test(distribution_training, distribution_test)\n",
    "    if(p<0.05):\n",
    "        return 1\n",
    "    else:\n",
    "        return 0"
   ]
  },
  {
   "cell_type": "code",
   "execution_count": 10,
   "id": "6df31d46",
   "metadata": {},
   "outputs": [],
   "source": [
    "def features_labels_preprocessing(DATASET_PATH, dataset):\n",
    "    \n",
    "    if(dataset=='b'):\n",
    "        \n",
    "        print('Data Reading and Preprocessing')\n",
    "        \n",
    "        # set data paths and columns names\n",
    "        features_disk_failure = ['smart_1_raw', 'smart_4_raw', 'smart_5_raw', 'smart_7_raw', 'smart_9_raw', 'smart_12_raw', 'smart_187_raw', 'smart_193_raw', 'smart_194_raw', 'smart_197_raw', 'smart_199_raw', \n",
    "                         'smart_4_raw_diff', 'smart_5_raw_diff', 'smart_9_raw_diff', 'smart_12_raw_diff', 'smart_187_raw_diff', 'smart_193_raw_diff', 'smart_197_raw_diff', 'smart_199_raw_diff']\n",
    "        columns = ['serial_number', 'date'] + features_disk_failure + ['label']\n",
    "        \n",
    "        # read dataset\n",
    "        df = pd.read_csv(DATASET_PATH, header=None, dtype = 'str').iloc[1:,1:]\n",
    "        df.columns = columns\n",
    "        \n",
    "        # ignore serial number\n",
    "        df = df[df.columns[1:]]\n",
    "        \n",
    "        for feature in features_disk_failure:\n",
    "            df[feature] = df[feature].astype(float)\n",
    "\n",
    "\n",
    "        d = {'True': True, 'False': False}\n",
    "        df['label'] = df['label'].map(d)\n",
    "\n",
    "        df['label'].unique()\n",
    "\n",
    "        # transform date to date time\n",
    "        df['date'] = pd.to_datetime(df['date'], format='%Y-%m-%d')\n",
    "        # divide on weeks\n",
    "        df['date'] = pd.Series(pd.DatetimeIndex(df['date']).day_of_year)\n",
    "        \n",
    "        print('Features and Labels Computing')\n",
    "        \n",
    "        # features and labels extraction and computation\n",
    "        features = df[df.columns[:-1]].to_numpy()\n",
    "        labels = df[df.columns[-1]].to_numpy()\n",
    "        feature_list, label_list = obtain_natural_chunks(features, labels, obtain_intervals('b'))\n",
    "        \n",
    "    elif(dataset=='g'):\n",
    "        \n",
    "        print('Data Reading and Preprocessing')\n",
    "        \n",
    "        # set data paths and columns names\n",
    "        features_job_failure = ['User ID', 'Job Name', 'Scheduling Class',\n",
    "                   'Num Tasks', 'Priority', 'Diff Machine', 'CPU Requested', 'Mem Requested', 'Disk Requested',\n",
    "                   'Avg CPU', 'Avg Mem', 'Avg Disk', 'Std CPU', 'Std Mem', 'Std Disk']\n",
    "        columns_initial = ['Job ID', 'Status', 'Start Time', 'End Time'] + features_job_failure\n",
    "        \n",
    "        # read dataset\n",
    "        df = pd.read_csv(DATASET_PATH, header=None)\n",
    "        df.columns = columns_initial\n",
    "        df = df.tail(-1)\n",
    "        # ignore Job ID\n",
    "        df = df.drop(['Job ID'], axis = 1)\n",
    "        columns = features_job_failure\n",
    "\n",
    "        include_end_time = False\n",
    "        \n",
    "        print('Features and Labels Preprocessing')\n",
    "        \n",
    "        # features and labels preprocessing\n",
    "        features = df[(['Start Time']+ features_job_failure)].to_numpy()\n",
    "        labels = (df['Status']==3).to_numpy()\n",
    "\n",
    "        # FEATURES PREPROCESSING\n",
    "        offset = (1 if include_end_time else 0)\n",
    "\n",
    "        # ENCODE USER ID\n",
    "        le = preprocessing.LabelEncoder()\n",
    "        features[:, 1+offset] = le.fit_transform(features[:, 1+offset])\n",
    "\n",
    "        # ENCODE JOB NAME\n",
    "        le = preprocessing.LabelEncoder()\n",
    "        features[:, 2+offset] = le.fit_transform(features[:, 2+offset])\n",
    "\n",
    "        features = features.astype(float)\n",
    "        \n",
    "        print('Features and Labels Computing')\n",
    "        \n",
    "        # features and labels extraction and computation\n",
    "        feature_list, label_list = obtain_natural_chunks(features, labels, obtain_intervals('g'))\n",
    "        \n",
    "    else:\n",
    "        print('Incorrect Dataset')\n",
    "    \n",
    "    return feature_list, label_list"
   ]
  },
  {
   "cell_type": "code",
   "execution_count": null,
   "id": "728ed3b4",
   "metadata": {},
   "outputs": [],
   "source": []
  },
  {
   "cell_type": "code",
   "execution_count": null,
   "id": "5b8ab2a8",
   "metadata": {},
   "outputs": [],
   "source": []
  },
  {
   "cell_type": "code",
   "execution_count": 11,
   "id": "60cd22b6",
   "metadata": {},
   "outputs": [],
   "source": [
    "DATASET_PATH = '../../../Documents/phd_related/AIOps_disk_failure_prediction/raw_data_2015_2017/disk_2015_complete.csv'\n",
    "interval = 'm'"
   ]
  },
  {
   "cell_type": "code",
   "execution_count": 12,
   "id": "2197e084",
   "metadata": {},
   "outputs": [
    {
     "name": "stdout",
     "output_type": "stream",
     "text": [
      "Data Reading and Preprocessing\n",
      "Features and Labels Computing\n"
     ]
    }
   ],
   "source": [
    "feature_list, label_list = features_labels_preprocessing(DATASET_PATH, 'b')"
   ]
  },
  {
   "cell_type": "code",
   "execution_count": null,
   "id": "8e3a8859",
   "metadata": {},
   "outputs": [],
   "source": []
  },
  {
   "cell_type": "code",
   "execution_count": null,
   "id": "6f2273ee",
   "metadata": {},
   "outputs": [],
   "source": []
  },
  {
   "cell_type": "code",
   "execution_count": null,
   "id": "44021b6e",
   "metadata": {},
   "outputs": [],
   "source": []
  },
  {
   "cell_type": "code",
   "execution_count": 16,
   "id": "8da07134",
   "metadata": {},
   "outputs": [],
   "source": [
    "data_path_drift_localization = '../../../Documents/phd_related/alibaba/results/results_r/rf_concept_drift_localization_disk_r_2015.csv'\n",
    "random_seeds = ['1234', '4887', '597', '1959', '413', '44', '2969', '4971', '4913', '9591']"
   ]
  },
  {
   "cell_type": "code",
   "execution_count": null,
   "id": "950c1944",
   "metadata": {},
   "outputs": [],
   "source": []
  },
  {
   "cell_type": "code",
   "execution_count": 17,
   "id": "0fe596d5",
   "metadata": {},
   "outputs": [
    {
     "data": {
      "text/html": [
       "<div>\n",
       "<style scoped>\n",
       "    .dataframe tbody tr th:only-of-type {\n",
       "        vertical-align: middle;\n",
       "    }\n",
       "\n",
       "    .dataframe tbody tr th {\n",
       "        vertical-align: top;\n",
       "    }\n",
       "\n",
       "    .dataframe thead th {\n",
       "        text-align: right;\n",
       "    }\n",
       "</style>\n",
       "<table border=\"1\" class=\"dataframe\">\n",
       "  <thead>\n",
       "    <tr style=\"text-align: right;\">\n",
       "      <th></th>\n",
       "      <th>X</th>\n",
       "      <th>Sig</th>\n",
       "      <th>Y</th>\n",
       "      <th>P</th>\n",
       "      <th>FI</th>\n",
       "      <th>Dataset</th>\n",
       "      <th>Model</th>\n",
       "    </tr>\n",
       "  </thead>\n",
       "  <tbody>\n",
       "    <tr>\n",
       "      <th>0</th>\n",
       "      <td>2</td>\n",
       "      <td>True</td>\n",
       "      <td>0.684234</td>\n",
       "      <td>M1_2</td>\n",
       "      <td>[2.87743809e-02 6.64635439e-02 3.27660839e-01 ...</td>\n",
       "      <td>Backblaze</td>\n",
       "      <td>Random Forests</td>\n",
       "    </tr>\n",
       "    <tr>\n",
       "      <th>1</th>\n",
       "      <td>3</td>\n",
       "      <td>False</td>\n",
       "      <td>0.545522</td>\n",
       "      <td>M2_3</td>\n",
       "      <td>[1.84850482e-02 3.55154174e-02 4.27410848e-01 ...</td>\n",
       "      <td>Backblaze</td>\n",
       "      <td>Random Forests</td>\n",
       "    </tr>\n",
       "    <tr>\n",
       "      <th>2</th>\n",
       "      <td>4</td>\n",
       "      <td>False</td>\n",
       "      <td>0.578978</td>\n",
       "      <td>M3_4</td>\n",
       "      <td>[0.04567131 0.03080426 0.2707051  0.05105274 0...</td>\n",
       "      <td>Backblaze</td>\n",
       "      <td>Random Forests</td>\n",
       "    </tr>\n",
       "    <tr>\n",
       "      <th>3</th>\n",
       "      <td>5</td>\n",
       "      <td>False</td>\n",
       "      <td>0.347826</td>\n",
       "      <td>M4_5</td>\n",
       "      <td>[0.06618511 0.01426565 0.29028097 0.07428556 0...</td>\n",
       "      <td>Backblaze</td>\n",
       "      <td>Random Forests</td>\n",
       "    </tr>\n",
       "    <tr>\n",
       "      <th>4</th>\n",
       "      <td>6</td>\n",
       "      <td>False</td>\n",
       "      <td>0.145008</td>\n",
       "      <td>M5_6</td>\n",
       "      <td>[0.06813396 0.06776009 0.28317387 0.04438929 0...</td>\n",
       "      <td>Backblaze</td>\n",
       "      <td>Random Forests</td>\n",
       "    </tr>\n",
       "    <tr>\n",
       "      <th>...</th>\n",
       "      <td>...</td>\n",
       "      <td>...</td>\n",
       "      <td>...</td>\n",
       "      <td>...</td>\n",
       "      <td>...</td>\n",
       "      <td>...</td>\n",
       "      <td>...</td>\n",
       "    </tr>\n",
       "    <tr>\n",
       "      <th>105</th>\n",
       "      <td>107</td>\n",
       "      <td>True</td>\n",
       "      <td>0.540541</td>\n",
       "      <td>M7_8</td>\n",
       "      <td>[4.09005123e-02 6.43137864e-02 3.10339821e-01 ...</td>\n",
       "      <td>Backblaze</td>\n",
       "      <td>Random Forests</td>\n",
       "    </tr>\n",
       "    <tr>\n",
       "      <th>106</th>\n",
       "      <td>108</td>\n",
       "      <td>False</td>\n",
       "      <td>0.333333</td>\n",
       "      <td>M8_9</td>\n",
       "      <td>[4.31084346e-02 3.64856431e-02 3.74805455e-01 ...</td>\n",
       "      <td>Backblaze</td>\n",
       "      <td>Random Forests</td>\n",
       "    </tr>\n",
       "    <tr>\n",
       "      <th>107</th>\n",
       "      <td>109</td>\n",
       "      <td>False</td>\n",
       "      <td>0.374386</td>\n",
       "      <td>M9_10</td>\n",
       "      <td>[8.35422822e-02 4.73650430e-02 2.76309777e-01 ...</td>\n",
       "      <td>Backblaze</td>\n",
       "      <td>Random Forests</td>\n",
       "    </tr>\n",
       "    <tr>\n",
       "      <th>108</th>\n",
       "      <td>110</td>\n",
       "      <td>False</td>\n",
       "      <td>0.206840</td>\n",
       "      <td>M10_11</td>\n",
       "      <td>[2.04560417e-02 3.25895462e-02 3.75140082e-01 ...</td>\n",
       "      <td>Backblaze</td>\n",
       "      <td>Random Forests</td>\n",
       "    </tr>\n",
       "    <tr>\n",
       "      <th>109</th>\n",
       "      <td>111</td>\n",
       "      <td>True</td>\n",
       "      <td>0.538428</td>\n",
       "      <td>M11_12</td>\n",
       "      <td>[2.45800552e-02 4.09516664e-02 3.52155274e-01 ...</td>\n",
       "      <td>Backblaze</td>\n",
       "      <td>Random Forests</td>\n",
       "    </tr>\n",
       "  </tbody>\n",
       "</table>\n",
       "<p>110 rows × 7 columns</p>\n",
       "</div>"
      ],
      "text/plain": [
       "       X    Sig         Y       P  \\\n",
       "0      2   True  0.684234    M1_2   \n",
       "1      3  False  0.545522    M2_3   \n",
       "2      4  False  0.578978    M3_4   \n",
       "3      5  False  0.347826    M4_5   \n",
       "4      6  False  0.145008    M5_6   \n",
       "..   ...    ...       ...     ...   \n",
       "105  107   True  0.540541    M7_8   \n",
       "106  108  False  0.333333    M8_9   \n",
       "107  109  False  0.374386   M9_10   \n",
       "108  110  False  0.206840  M10_11   \n",
       "109  111   True  0.538428  M11_12   \n",
       "\n",
       "                                                    FI    Dataset  \\\n",
       "0    [2.87743809e-02 6.64635439e-02 3.27660839e-01 ...  Backblaze   \n",
       "1    [1.84850482e-02 3.55154174e-02 4.27410848e-01 ...  Backblaze   \n",
       "2    [0.04567131 0.03080426 0.2707051  0.05105274 0...  Backblaze   \n",
       "3    [0.06618511 0.01426565 0.29028097 0.07428556 0...  Backblaze   \n",
       "4    [0.06813396 0.06776009 0.28317387 0.04438929 0...  Backblaze   \n",
       "..                                                 ...        ...   \n",
       "105  [4.09005123e-02 6.43137864e-02 3.10339821e-01 ...  Backblaze   \n",
       "106  [4.31084346e-02 3.64856431e-02 3.74805455e-01 ...  Backblaze   \n",
       "107  [8.35422822e-02 4.73650430e-02 2.76309777e-01 ...  Backblaze   \n",
       "108  [2.04560417e-02 3.25895462e-02 3.75140082e-01 ...  Backblaze   \n",
       "109  [2.45800552e-02 4.09516664e-02 3.52155274e-01 ...  Backblaze   \n",
       "\n",
       "              Model  \n",
       "0    Random Forests  \n",
       "1    Random Forests  \n",
       "2    Random Forests  \n",
       "3    Random Forests  \n",
       "4    Random Forests  \n",
       "..              ...  \n",
       "105  Random Forests  \n",
       "106  Random Forests  \n",
       "107  Random Forests  \n",
       "108  Random Forests  \n",
       "109  Random Forests  \n",
       "\n",
       "[110 rows x 7 columns]"
      ]
     },
     "execution_count": 17,
     "metadata": {},
     "output_type": "execute_result"
    }
   ],
   "source": [
    "df_concept_drift = pd.read_csv(data_path_drift_localization)\n",
    "df_concept_drift = df_concept_drift.loc[:, ~df_concept_drift.columns.str.contains('^Unnamed')]\n",
    "df_concept_drift"
   ]
  },
  {
   "cell_type": "code",
   "execution_count": null,
   "id": "c81bd1bf",
   "metadata": {},
   "outputs": [],
   "source": []
  },
  {
   "cell_type": "code",
   "execution_count": 19,
   "id": "4fc90d68",
   "metadata": {},
   "outputs": [
    {
     "data": {
      "text/html": [
       "<div>\n",
       "<style scoped>\n",
       "    .dataframe tbody tr th:only-of-type {\n",
       "        vertical-align: middle;\n",
       "    }\n",
       "\n",
       "    .dataframe tbody tr th {\n",
       "        vertical-align: top;\n",
       "    }\n",
       "\n",
       "    .dataframe thead th {\n",
       "        text-align: right;\n",
       "    }\n",
       "</style>\n",
       "<table border=\"1\" class=\"dataframe\">\n",
       "  <thead>\n",
       "    <tr style=\"text-align: right;\">\n",
       "      <th></th>\n",
       "      <th>X</th>\n",
       "      <th>Sig</th>\n",
       "      <th>Y</th>\n",
       "      <th>P</th>\n",
       "      <th>FI</th>\n",
       "      <th>Dataset</th>\n",
       "      <th>Model</th>\n",
       "    </tr>\n",
       "  </thead>\n",
       "  <tbody>\n",
       "    <tr>\n",
       "      <th>0</th>\n",
       "      <td>2</td>\n",
       "      <td>True</td>\n",
       "      <td>0.684234</td>\n",
       "      <td>M1_2</td>\n",
       "      <td>[2.87743809e-02 6.64635439e-02 3.27660839e-01 ...</td>\n",
       "      <td>Backblaze</td>\n",
       "      <td>Random Forests</td>\n",
       "    </tr>\n",
       "    <tr>\n",
       "      <th>11</th>\n",
       "      <td>13</td>\n",
       "      <td>True</td>\n",
       "      <td>0.666691</td>\n",
       "      <td>M1_2</td>\n",
       "      <td>[0.03542423 0.03311551 0.20080723 0.04755055 0...</td>\n",
       "      <td>Backblaze</td>\n",
       "      <td>Random Forests</td>\n",
       "    </tr>\n",
       "    <tr>\n",
       "      <th>22</th>\n",
       "      <td>24</td>\n",
       "      <td>False</td>\n",
       "      <td>0.473723</td>\n",
       "      <td>M1_2</td>\n",
       "      <td>[2.35320422e-02 7.51096731e-02 3.07647903e-01 ...</td>\n",
       "      <td>Backblaze</td>\n",
       "      <td>Random Forests</td>\n",
       "    </tr>\n",
       "    <tr>\n",
       "      <th>33</th>\n",
       "      <td>35</td>\n",
       "      <td>False</td>\n",
       "      <td>0.190536</td>\n",
       "      <td>M1_2</td>\n",
       "      <td>[2.78214643e-02 4.32873798e-02 2.50674294e-01 ...</td>\n",
       "      <td>Backblaze</td>\n",
       "      <td>Random Forests</td>\n",
       "    </tr>\n",
       "    <tr>\n",
       "      <th>44</th>\n",
       "      <td>46</td>\n",
       "      <td>False</td>\n",
       "      <td>0.166728</td>\n",
       "      <td>M1_2</td>\n",
       "      <td>[0.03056104 0.03631676 0.33774967 0.0203512  0...</td>\n",
       "      <td>Backblaze</td>\n",
       "      <td>Random Forests</td>\n",
       "    </tr>\n",
       "    <tr>\n",
       "      <th>55</th>\n",
       "      <td>57</td>\n",
       "      <td>False</td>\n",
       "      <td>0.500037</td>\n",
       "      <td>M1_2</td>\n",
       "      <td>[1.97284161e-02 4.51047141e-02 3.14581126e-01 ...</td>\n",
       "      <td>Backblaze</td>\n",
       "      <td>Random Forests</td>\n",
       "    </tr>\n",
       "    <tr>\n",
       "      <th>66</th>\n",
       "      <td>68</td>\n",
       "      <td>False</td>\n",
       "      <td>0.450041</td>\n",
       "      <td>M1_2</td>\n",
       "      <td>[2.79540220e-02 6.39735788e-02 3.80769634e-01 ...</td>\n",
       "      <td>Backblaze</td>\n",
       "      <td>Random Forests</td>\n",
       "    </tr>\n",
       "    <tr>\n",
       "      <th>77</th>\n",
       "      <td>79</td>\n",
       "      <td>False</td>\n",
       "      <td>0.500037</td>\n",
       "      <td>M1_2</td>\n",
       "      <td>[1.03765207e-02 4.25848171e-02 2.81302782e-01 ...</td>\n",
       "      <td>Backblaze</td>\n",
       "      <td>Random Forests</td>\n",
       "    </tr>\n",
       "    <tr>\n",
       "      <th>88</th>\n",
       "      <td>90</td>\n",
       "      <td>False</td>\n",
       "      <td>0.421095</td>\n",
       "      <td>M1_2</td>\n",
       "      <td>[2.78912653e-02 6.92914835e-02 3.44057436e-01 ...</td>\n",
       "      <td>Backblaze</td>\n",
       "      <td>Random Forests</td>\n",
       "    </tr>\n",
       "    <tr>\n",
       "      <th>99</th>\n",
       "      <td>101</td>\n",
       "      <td>False</td>\n",
       "      <td>0.380998</td>\n",
       "      <td>M1_2</td>\n",
       "      <td>[2.01282349e-02 7.04049712e-02 3.92014386e-01 ...</td>\n",
       "      <td>Backblaze</td>\n",
       "      <td>Random Forests</td>\n",
       "    </tr>\n",
       "  </tbody>\n",
       "</table>\n",
       "</div>"
      ],
      "text/plain": [
       "      X    Sig         Y     P  \\\n",
       "0     2   True  0.684234  M1_2   \n",
       "11   13   True  0.666691  M1_2   \n",
       "22   24  False  0.473723  M1_2   \n",
       "33   35  False  0.190536  M1_2   \n",
       "44   46  False  0.166728  M1_2   \n",
       "55   57  False  0.500037  M1_2   \n",
       "66   68  False  0.450041  M1_2   \n",
       "77   79  False  0.500037  M1_2   \n",
       "88   90  False  0.421095  M1_2   \n",
       "99  101  False  0.380998  M1_2   \n",
       "\n",
       "                                                   FI    Dataset  \\\n",
       "0   [2.87743809e-02 6.64635439e-02 3.27660839e-01 ...  Backblaze   \n",
       "11  [0.03542423 0.03311551 0.20080723 0.04755055 0...  Backblaze   \n",
       "22  [2.35320422e-02 7.51096731e-02 3.07647903e-01 ...  Backblaze   \n",
       "33  [2.78214643e-02 4.32873798e-02 2.50674294e-01 ...  Backblaze   \n",
       "44  [0.03056104 0.03631676 0.33774967 0.0203512  0...  Backblaze   \n",
       "55  [1.97284161e-02 4.51047141e-02 3.14581126e-01 ...  Backblaze   \n",
       "66  [2.79540220e-02 6.39735788e-02 3.80769634e-01 ...  Backblaze   \n",
       "77  [1.03765207e-02 4.25848171e-02 2.81302782e-01 ...  Backblaze   \n",
       "88  [2.78912653e-02 6.92914835e-02 3.44057436e-01 ...  Backblaze   \n",
       "99  [2.01282349e-02 7.04049712e-02 3.92014386e-01 ...  Backblaze   \n",
       "\n",
       "             Model  \n",
       "0   Random Forests  \n",
       "11  Random Forests  \n",
       "22  Random Forests  \n",
       "33  Random Forests  \n",
       "44  Random Forests  \n",
       "55  Random Forests  \n",
       "66  Random Forests  \n",
       "77  Random Forests  \n",
       "88  Random Forests  \n",
       "99  Random Forests  "
      ]
     },
     "execution_count": 19,
     "metadata": {},
     "output_type": "execute_result"
    }
   ],
   "source": [
    "df_concept_drift[df_concept_drift.P == 'M1_2']"
   ]
  },
  {
   "cell_type": "code",
   "execution_count": 22,
   "id": "6dda1596",
   "metadata": {},
   "outputs": [],
   "source": [
    "features_disk_failure = ['smart_1_raw', 'smart_4_raw', 'smart_5_raw', 'smart_7_raw', 'smart_9_raw', 'smart_12_raw', 'smart_187_raw', 'smart_193_raw', 'smart_194_raw', 'smart_197_raw', 'smart_199_raw', \n",
    "                     'smart_4_raw_diff', 'smart_5_raw_diff', 'smart_9_raw_diff', 'smart_12_raw_diff', 'smart_187_raw_diff', 'smart_193_raw_diff', 'smart_197_raw_diff', 'smart_199_raw_diff']\n"
   ]
  },
  {
   "cell_type": "code",
   "execution_count": null,
   "id": "f9cc0ec9",
   "metadata": {},
   "outputs": [],
   "source": []
  },
  {
   "cell_type": "code",
   "execution_count": 24,
   "id": "ce7d7af5",
   "metadata": {
    "scrolled": true
   },
   "outputs": [
    {
     "name": "stderr",
     "output_type": "stream",
     "text": [
      "100%|██████████| 11/11 [00:26<00:00,  2.43s/it]"
     ]
    },
    {
     "name": "stdout",
     "output_type": "stream",
     "text": [
      "Results All Features [0, 0, 0, 0, 1, 0, 0, 0, 1, 0, 0]\n",
      "Results Important Features [0, 0, 0, 1, 1, 0, 0, 0, 0, 0, 0]\n",
      "Results PCA Features [0, 0, 0, 0, 1, 0, 0, 0, 0, 0, 0]\n"
     ]
    },
    {
     "name": "stderr",
     "output_type": "stream",
     "text": [
      "\n"
     ]
    }
   ],
   "source": [
    "no_overall_correct_all_total = []\n",
    "no_overall_correct_important_total = []\n",
    "no_overall_correct_pca_total = []\n",
    "\n",
    "no_drift_correct_all_total = []\n",
    "no_drift_correct_important_total = []\n",
    "no_drift_correct_pca_total = []\n",
    "\n",
    "no_non_drift_correct_all_total = []\n",
    "no_non_drift_correct_important_total = []\n",
    "no_non_drift_correct_pca_total = []\n",
    "\n",
    "\n",
    "random_seed_all = []\n",
    "\n",
    "\n",
    "\n",
    "drifts_true_job = []\n",
    "for k in range(0, len(df_concept_drift.Sig.values)):\n",
    "    if(df_concept_drift.Sig.values[k]==True):\n",
    "        drifts_true_job.append(1)\n",
    "    else:\n",
    "        drifts_true_job.append(0)\n",
    "\n",
    "scaler = StandardScaler()\n",
    "\n",
    "\n",
    "ks_results_all_features = []\n",
    "ks_results_important_features = []\n",
    "ks_results_pca_features = []\n",
    "\n",
    "\n",
    "for period in tqdm(range(0, len(feature_list)-1)):\n",
    "#for period in tqdm(range(1,2)):\n",
    "\n",
    "\n",
    "    #print('Before Scale Train', feature_list[period])\n",
    "    #print('Before Scale Test', feature_list[period+1])\n",
    "\n",
    "    # extract features train and test\n",
    "    training_features = scaler.fit_transform(feature_list[period])\n",
    "    testing_features = scaler.transform(feature_list[period+1])\n",
    "\n",
    "    # convert numpy array to Pandas Dataframe\n",
    "    df_train_features = pd.DataFrame(training_features, columns = features_disk_failure)\n",
    "    df_test_features = pd.DataFrame(testing_features, columns = features_disk_failure)\n",
    "\n",
    "    # Sort by Feature Importance to avoid         \n",
    "    sorted_features_zip, mean_importance = sorting_features_by_importance(df_concept_drift, features_disk_failure)\n",
    "\n",
    "\n",
    "\n",
    "    # Using All Features\n",
    "    sorted_features_all = [i[1] for i in sorted_features_zip]\n",
    "    #print('length sorted_features All', len(sorted_features_all))\n",
    "    df_train_features_sorted_all = df_train_features[sorted_features_all]\n",
    "    df_test_features_sorted_all = df_test_features[sorted_features_all]\n",
    "\n",
    "    # Using Most Important Features\n",
    "\n",
    "    sorted_important_features_filter = [x for x in sorted_features_zip if x[0]>=mean_importance]\n",
    "    sorted_features_important = [i[1] for i in sorted_important_features_filter]\n",
    "    #print('length sorted_features Important', len(sorted_features_important))\n",
    "\n",
    "    df_train_features_sorted_important = df_train_features[sorted_features_important]\n",
    "    df_test_features_sorted_important = df_test_features[sorted_features_important]\n",
    "\n",
    "    # Using PCA on Features\n",
    "    # reduce features dimensionality using PCA\n",
    "    pca = PCA(n_components = 0.95)\n",
    "    pca.fit(df_train_features_sorted_all)\n",
    "\n",
    "    df_train_features_sorted_pca = pca.transform(df_train_features_sorted_all)\n",
    "    df_test_features_sorted_pca = pca.transform(df_test_features_sorted_all)\n",
    "\n",
    "\n",
    "    ks_results_all_features.append(KS_on_features(df_train_features_sorted_all, df_test_features_sorted_all))\n",
    "    ks_results_important_features.append(KS_on_features(df_train_features_sorted_important, df_test_features_sorted_important))\n",
    "    ks_results_pca_features.append(KS_on_features(df_train_features_sorted_pca, df_test_features_sorted_pca))\n",
    "\n",
    "\n",
    "print('Results All Features', ks_results_all_features)\n",
    "print('Results Important Features', ks_results_important_features)\n",
    "print('Results PCA Features', ks_results_pca_features)\n"
   ]
  },
  {
   "cell_type": "code",
   "execution_count": 25,
   "id": "22285f2c",
   "metadata": {},
   "outputs": [
    {
     "data": {
      "text/plain": [
       "11"
      ]
     },
     "execution_count": 25,
     "metadata": {},
     "output_type": "execute_result"
    }
   ],
   "source": [
    "len(ks_results_all_features)"
   ]
  },
  {
   "cell_type": "code",
   "execution_count": 26,
   "id": "f2c16a8c",
   "metadata": {},
   "outputs": [
    {
     "data": {
      "text/plain": [
       "11"
      ]
     },
     "execution_count": 26,
     "metadata": {},
     "output_type": "execute_result"
    }
   ],
   "source": [
    "len(ks_results_important_features)"
   ]
  },
  {
   "cell_type": "code",
   "execution_count": 27,
   "id": "aa5d703b",
   "metadata": {},
   "outputs": [
    {
     "data": {
      "text/plain": [
       "11"
      ]
     },
     "execution_count": 27,
     "metadata": {},
     "output_type": "execute_result"
    }
   ],
   "source": [
    "len(ks_results_pca_features)"
   ]
  },
  {
   "cell_type": "code",
   "execution_count": 28,
   "id": "2971481a",
   "metadata": {},
   "outputs": [
    {
     "data": {
      "text/plain": [
       "110"
      ]
     },
     "execution_count": 28,
     "metadata": {},
     "output_type": "execute_result"
    }
   ],
   "source": [
    "len(ks_results_all_features * 10)"
   ]
  },
  {
   "cell_type": "code",
   "execution_count": null,
   "id": "9a5d35ae",
   "metadata": {},
   "outputs": [],
   "source": []
  },
  {
   "cell_type": "code",
   "execution_count": 40,
   "id": "4e708128",
   "metadata": {},
   "outputs": [
    {
     "data": {
      "text/plain": [
       "[0, 0, 0, 0, 1, 0, 0, 0, 1, 0, 0]"
      ]
     },
     "execution_count": 40,
     "metadata": {},
     "output_type": "execute_result"
    }
   ],
   "source": [
    "ks_results_all_features"
   ]
  },
  {
   "cell_type": "code",
   "execution_count": 41,
   "id": "01f00117",
   "metadata": {},
   "outputs": [
    {
     "data": {
      "text/plain": [
       "[0, 0, 0, 1, 1, 0, 0, 0, 0, 0, 0]"
      ]
     },
     "execution_count": 41,
     "metadata": {},
     "output_type": "execute_result"
    }
   ],
   "source": [
    "ks_results_important_features"
   ]
  },
  {
   "cell_type": "code",
   "execution_count": 42,
   "id": "3fa6e586",
   "metadata": {},
   "outputs": [
    {
     "data": {
      "text/plain": [
       "[0, 0, 0, 0, 1, 0, 0, 0, 0, 0, 0]"
      ]
     },
     "execution_count": 42,
     "metadata": {},
     "output_type": "execute_result"
    }
   ],
   "source": [
    "ks_results_pca_features"
   ]
  },
  {
   "cell_type": "code",
   "execution_count": null,
   "id": "057aea66",
   "metadata": {},
   "outputs": [],
   "source": []
  },
  {
   "cell_type": "code",
   "execution_count": 29,
   "id": "3507efe2",
   "metadata": {},
   "outputs": [],
   "source": [
    "ks_results_all_features_all_rs = ks_results_all_features * 10\n",
    "ks_results_important_features_all_rs = ks_results_important_features * 10\n",
    "ks_results_pca_features_all_rs = ks_results_pca_features * 10"
   ]
  },
  {
   "cell_type": "code",
   "execution_count": 30,
   "id": "65ff70a0",
   "metadata": {},
   "outputs": [
    {
     "name": "stderr",
     "output_type": "stream",
     "text": [
      "100%|██████████| 110/110 [00:00<00:00, 183667.77it/s]\n"
     ]
    }
   ],
   "source": [
    "\n",
    "\n",
    "no_overall_correct_all = 0\n",
    "no_drift_correct_all = 0\n",
    "no_non_drift_correct_all = 0\n",
    "\n",
    "\n",
    "no_overall_correct_important = 0\n",
    "no_drift_correct_important = 0\n",
    "no_non_drift_correct_important = 0\n",
    "\n",
    "no_overall_correct_pca = 0\n",
    "no_drift_correct_pca = 0\n",
    "no_non_drift_correct_pca = 0\n",
    "\n",
    "for j in tqdm(range(0, len(ks_results_all_features_all_rs))):\n",
    "\n",
    "    # Overall correct all 3 cases\n",
    "    if(ks_results_all_features_all_rs[j]==drifts_true_job[j]):\n",
    "        no_overall_correct_all = no_overall_correct_all + 1\n",
    "\n",
    "    if(ks_results_important_features_all_rs[j]==drifts_true_job[j]):\n",
    "        no_overall_correct_important = no_overall_correct_important + 1\n",
    "\n",
    "    if(ks_results_pca_features_all_rs[j]==drifts_true_job[j]):\n",
    "        no_overall_correct_pca = no_overall_correct_pca + 1\n",
    "\n",
    "    # Correctly Identified Drifts all 3 cases\n",
    "\n",
    "    # All Features\n",
    "    if(drifts_true_job[j]==1):\n",
    "        if(ks_results_all_features_all_rs[j]==drifts_true_job[j]):\n",
    "            no_drift_correct_all = no_drift_correct_all + 1\n",
    "\n",
    "    # Most Important Features\n",
    "    if(drifts_true_job[j]==1):\n",
    "        if(ks_results_important_features_all_rs[j]==drifts_true_job[j]):\n",
    "            no_drift_correct_important = no_drift_correct_important + 1\n",
    "\n",
    "    # PCA on Features\n",
    "    if(drifts_true_job[j]==1):\n",
    "        if(ks_results_pca_features_all_rs[j]==drifts_true_job[j]):\n",
    "            no_drift_correct_pca = no_drift_correct_pca + 1\n",
    "\n",
    "     # Correctly Identified Non-Drift all 3 cases\n",
    "\n",
    "    # All Features\n",
    "    if(drifts_true_job[j]==0):\n",
    "        if(ks_results_all_features_all_rs[j]==drifts_true_job[j]):\n",
    "            no_non_drift_correct_all = no_non_drift_correct_all + 1\n",
    "\n",
    "    # Most Important Features\n",
    "    if(drifts_true_job[j]==0):\n",
    "        if(ks_results_important_features_all_rs[j]==drifts_true_job[j]):\n",
    "            no_non_drift_correct_important = no_non_drift_correct_important + 1\n",
    "\n",
    "    # PCA on Features\n",
    "    if(drifts_true_job[j]==0):\n",
    "        if(ks_results_pca_features_all_rs[j]==drifts_true_job[j]):\n",
    "            no_non_drift_correct_pca = no_non_drift_correct_pca + 1\n",
    "\n",
    "# Compute Metrics for all Random Seeds\n",
    "\n",
    "# Overall Correct Predictions\n",
    "overall_correct_prediction_score_all = no_overall_correct_all/len(drifts_true_job)\n",
    "overall_correct_prediction_score_important = no_drift_correct_important/len(drifts_true_job)\n",
    "overall_correct_prediction_score_pca = no_overall_correct_pca/len(drifts_true_job)\n",
    "\n",
    "no_overall_correct_all_total.append(overall_correct_prediction_score_all)\n",
    "no_overall_correct_important_total.append(overall_correct_prediction_score_important)\n",
    "no_overall_correct_pca_total.append(overall_correct_prediction_score_pca)\n",
    "\n",
    "# Correctly Identified Drifts\n",
    "\n",
    "drift_correct_prediction_score_all = no_drift_correct_all/len(np.nonzero(drifts_true_job)[0])\n",
    "drift_correct_prediction_score_important = no_drift_correct_important/len(np.nonzero(drifts_true_job)[0])\n",
    "drift_correct_prediction_score_pca = no_drift_correct_pca/len(np.nonzero(drifts_true_job)[0])\n",
    "\n",
    "no_drift_correct_all_total.append(drift_correct_prediction_score_all)\n",
    "no_drift_correct_important_total.append(drift_correct_prediction_score_important)\n",
    "no_drift_correct_pca_total.append(drift_correct_prediction_score_pca)\n",
    "\n",
    "\n",
    "# Correctly Identified Non-Drifts\n",
    "\n",
    "non_drift_correct_prediction_score_all = no_non_drift_correct_all/(len(drifts_true_job) - len(np.nonzero(drifts_true_job)[0]))\n",
    "non_drift_correct_prediction_score_important = no_non_drift_correct_important/(len(drifts_true_job) - len(np.nonzero(drifts_true_job)[0]))\n",
    "non_drift_correct_prediction_score_pca = no_non_drift_correct_pca/(len(drifts_true_job) - len(np.nonzero(drifts_true_job)[0]))\n",
    "\n",
    "\n",
    "no_non_drift_correct_all_total.append(non_drift_correct_prediction_score_all)\n",
    "no_non_drift_correct_important_total.append(non_drift_correct_prediction_score_important)\n",
    "no_non_drift_correct_pca_total.append(non_drift_correct_prediction_score_pca)\n",
    "\n",
    "#random_seed_all.append([random_seeds[i-1]]*len(feature_list))\n"
   ]
  },
  {
   "cell_type": "code",
   "execution_count": null,
   "id": "a0951781",
   "metadata": {},
   "outputs": [],
   "source": []
  },
  {
   "cell_type": "code",
   "execution_count": null,
   "id": "09369583",
   "metadata": {},
   "outputs": [],
   "source": []
  },
  {
   "cell_type": "code",
   "execution_count": null,
   "id": "cc4f4374",
   "metadata": {},
   "outputs": [],
   "source": []
  },
  {
   "cell_type": "markdown",
   "id": "d496fed7",
   "metadata": {},
   "source": [
    "### Results All Features"
   ]
  },
  {
   "cell_type": "code",
   "execution_count": 31,
   "id": "f1a0c005",
   "metadata": {},
   "outputs": [
    {
     "data": {
      "text/plain": [
       "0.6545454545454545"
      ]
     },
     "execution_count": 31,
     "metadata": {},
     "output_type": "execute_result"
    }
   ],
   "source": [
    "np.mean(no_overall_correct_all_total)"
   ]
  },
  {
   "cell_type": "code",
   "execution_count": 32,
   "id": "16e0ae96",
   "metadata": {},
   "outputs": [
    {
     "data": {
      "text/plain": [
       "0.09090909090909091"
      ]
     },
     "execution_count": 32,
     "metadata": {},
     "output_type": "execute_result"
    }
   ],
   "source": [
    "np.mean(no_drift_correct_all_total)"
   ]
  },
  {
   "cell_type": "code",
   "execution_count": 33,
   "id": "c1829864",
   "metadata": {},
   "outputs": [
    {
     "data": {
      "text/plain": [
       "0.7954545454545454"
      ]
     },
     "execution_count": 33,
     "metadata": {},
     "output_type": "execute_result"
    }
   ],
   "source": [
    "np.mean(no_non_drift_correct_all_total)"
   ]
  },
  {
   "cell_type": "markdown",
   "id": "ae222af6",
   "metadata": {},
   "source": [
    "### Results Important Features"
   ]
  },
  {
   "cell_type": "code",
   "execution_count": 34,
   "id": "200594ec",
   "metadata": {},
   "outputs": [
    {
     "data": {
      "text/plain": [
       "0.00909090909090909"
      ]
     },
     "execution_count": 34,
     "metadata": {},
     "output_type": "execute_result"
    }
   ],
   "source": [
    "np.mean(no_overall_correct_important_total)"
   ]
  },
  {
   "cell_type": "code",
   "execution_count": 35,
   "id": "35007aa3",
   "metadata": {},
   "outputs": [
    {
     "data": {
      "text/plain": [
       "0.045454545454545456"
      ]
     },
     "execution_count": 35,
     "metadata": {},
     "output_type": "execute_result"
    }
   ],
   "source": [
    "np.mean(no_drift_correct_important_total)"
   ]
  },
  {
   "cell_type": "code",
   "execution_count": 36,
   "id": "8cf18a8b",
   "metadata": {},
   "outputs": [
    {
     "data": {
      "text/plain": [
       "0.7840909090909091"
      ]
     },
     "execution_count": 36,
     "metadata": {},
     "output_type": "execute_result"
    }
   ],
   "source": [
    "np.mean(no_non_drift_correct_important_total)"
   ]
  },
  {
   "cell_type": "markdown",
   "id": "4195e1d5",
   "metadata": {},
   "source": [
    "### Results PCA Features"
   ]
  },
  {
   "cell_type": "code",
   "execution_count": 37,
   "id": "85329bf8",
   "metadata": {},
   "outputs": [
    {
     "data": {
      "text/plain": [
       "0.7272727272727273"
      ]
     },
     "execution_count": 37,
     "metadata": {},
     "output_type": "execute_result"
    }
   ],
   "source": [
    "np.mean(no_overall_correct_pca_total)"
   ]
  },
  {
   "cell_type": "code",
   "execution_count": 38,
   "id": "8bd242c8",
   "metadata": {},
   "outputs": [
    {
     "data": {
      "text/plain": [
       "0.045454545454545456"
      ]
     },
     "execution_count": 38,
     "metadata": {},
     "output_type": "execute_result"
    }
   ],
   "source": [
    "np.mean(no_drift_correct_pca_total)"
   ]
  },
  {
   "cell_type": "code",
   "execution_count": 39,
   "id": "f060ef2a",
   "metadata": {},
   "outputs": [
    {
     "data": {
      "text/plain": [
       "0.8977272727272727"
      ]
     },
     "execution_count": 39,
     "metadata": {},
     "output_type": "execute_result"
    }
   ],
   "source": [
    "np.mean(no_non_drift_correct_pca_total)"
   ]
  },
  {
   "cell_type": "code",
   "execution_count": null,
   "id": "8c9caa25",
   "metadata": {},
   "outputs": [],
   "source": []
  },
  {
   "cell_type": "code",
   "execution_count": null,
   "id": "92d1bd81",
   "metadata": {},
   "outputs": [],
   "source": []
  },
  {
   "cell_type": "code",
   "execution_count": null,
   "id": "580c9518",
   "metadata": {},
   "outputs": [],
   "source": []
  }
 ],
 "metadata": {
  "kernelspec": {
   "display_name": "Python 3 (ipykernel)",
   "language": "python",
   "name": "python3"
  },
  "language_info": {
   "codemirror_mode": {
    "name": "ipython",
    "version": 3
   },
   "file_extension": ".py",
   "mimetype": "text/x-python",
   "name": "python",
   "nbconvert_exporter": "python",
   "pygments_lexer": "ipython3",
   "version": "3.11.1"
  }
 },
 "nbformat": 4,
 "nbformat_minor": 5
}
