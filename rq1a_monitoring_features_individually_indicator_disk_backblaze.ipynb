{
 "cells": [
  {
   "cell_type": "code",
   "execution_count": 1,
   "id": "d7740061",
   "metadata": {},
   "outputs": [],
   "source": [
    "import pandas as pd\n",
    "from sklearn import metrics, preprocessing\n",
    "import numpy as np\n",
    "from sklearn.preprocessing import StandardScaler\n",
    "from scipy import stats\n",
    "from tqdm import tqdm\n"
   ]
  },
  {
   "cell_type": "code",
   "execution_count": 2,
   "id": "280f7187",
   "metadata": {},
   "outputs": [],
   "source": [
    "def obtain_intervals(dataset):\n",
    "    '''\n",
    "    Generate interval terminals, so that samples in each interval have:\n",
    "        interval_i = (timestamp >= terminal_i) and (timestamp < terminal_{i+1})\n",
    "\n",
    "    Args:\n",
    "        dataset (chr): Assuming only Backblaze (b) and Google (g) datasets exists\n",
    "    '''\n",
    "    if dataset == 'g':\n",
    "        # time unit in Google: millisecond, tracing time: 29 days\n",
    "        start_time = 604046279\n",
    "        unit_period = 24 * 60 * 60 * 1000 * 1000  # unit period: one day\n",
    "        end_time = start_time + 28*unit_period\n",
    "    elif dataset == 'b':\n",
    "        # time unit in Backblaze: month, tracing time: one year (12 months)\n",
    "        start_time = 1\n",
    "        unit_period = 1  # unit period: one month\n",
    "        end_time = start_time + 12*unit_period\n",
    "\n",
    "    # add one unit for the open-end of range function\n",
    "    terminals = [i for i in range(start_time, end_time+unit_period, unit_period)]\n",
    "    return terminals"
   ]
  },
  {
   "cell_type": "code",
   "execution_count": 3,
   "id": "585e19b3",
   "metadata": {},
   "outputs": [],
   "source": [
    "def obtain_natural_chunks(features, labels, terminals):\n",
    "    feature_list = []\n",
    "    label_list = []\n",
    "    for i in range(len(terminals) - 1):\n",
    "        idx = np.logical_and(features[:, 0] >= terminals[i], features[:, 0] < terminals[i + 1])\n",
    "        feature_list.append(features[idx][:, 1:])\n",
    "        label_list.append(labels[idx])\n",
    "    return feature_list, label_list\n"
   ]
  },
  {
   "cell_type": "code",
   "execution_count": 4,
   "id": "4ff69510",
   "metadata": {},
   "outputs": [],
   "source": [
    "DATASET_PATH = '../../../Documents/phd_related/AIOps_disk_failure_prediction/raw_data_2015_2017/disk_2015_complete.csv'\n",
    "interval = 'd'"
   ]
  },
  {
   "cell_type": "code",
   "execution_count": 5,
   "id": "e16e0d9b",
   "metadata": {
    "scrolled": true
   },
   "outputs": [],
   "source": [
    "features_disk_failure = ['smart_1_raw', 'smart_4_raw', 'smart_5_raw', 'smart_7_raw', 'smart_9_raw', 'smart_12_raw', 'smart_187_raw', 'smart_193_raw', 'smart_194_raw', 'smart_197_raw', 'smart_199_raw', \n",
    "                         'smart_4_raw_diff', 'smart_5_raw_diff', 'smart_9_raw_diff', 'smart_12_raw_diff', 'smart_187_raw_diff', 'smart_193_raw_diff', 'smart_197_raw_diff', 'smart_199_raw_diff']\n",
    "# uncomment for 2015, 2016 \n",
    "columns = ['serial_number', 'date'] + features_disk_failure + ['label']\n",
    "# uncomment for 2017 (missing serial number for some reason)\n",
    "#columns = ['date'] + features_disk_failure + ['label']\n",
    "\n",
    "# READ DATA\n",
    "df = pd.read_csv(DATASET_PATH, header=None, dtype = 'str').iloc[1:,1:]\n",
    "\n",
    "# put columns names\n",
    "df.columns = columns\n",
    "# ignore serial number\n",
    "df = df[df.columns[1:]]\n",
    "\n",
    "for feature in features_disk_failure:\n",
    "    df[feature] = df[feature].astype(float)\n",
    "    \n",
    "df['label'].unique()\n",
    "\n",
    "d = {'True': True, 'False': False}\n",
    "df['label'] = df['label'].map(d)\n",
    "\n",
    "df['label'].unique()\n",
    "\n",
    "# transform date to date time\n",
    "df['date'] = pd.to_datetime(df['date'], format='%Y-%m-%d')\n",
    "\n",
    "# divide on days of year\n",
    "\n",
    "# original implementation\n",
    "#df['date'] = pd.Series(pd.DatetimeIndex(df['date']).month)\n",
    "\n",
    "# divide on weeks\n",
    "df['date'] = pd.Series(pd.DatetimeIndex(df['date']).day_of_year)\n",
    "\n",
    "features = df[df.columns[:-1]].to_numpy()\n",
    "labels = df[df.columns[-1]].to_numpy()\n"
   ]
  },
  {
   "cell_type": "code",
   "execution_count": null,
   "id": "d487d033",
   "metadata": {},
   "outputs": [],
   "source": []
  },
  {
   "cell_type": "code",
   "execution_count": null,
   "id": "0bbf7196",
   "metadata": {},
   "outputs": [],
   "source": []
  },
  {
   "cell_type": "code",
   "execution_count": 6,
   "id": "e7781fbf",
   "metadata": {},
   "outputs": [],
   "source": [
    "# DIVIDE FEATURES INTO DAYS \n",
    "\n",
    "feature_list, label_list = obtain_natural_chunks(features, labels, obtain_intervals('b'))"
   ]
  },
  {
   "cell_type": "code",
   "execution_count": 7,
   "id": "fa856319",
   "metadata": {},
   "outputs": [
    {
     "data": {
      "text/plain": [
       "12"
      ]
     },
     "execution_count": 7,
     "metadata": {},
     "output_type": "execute_result"
    }
   ],
   "source": [
    "len(feature_list)"
   ]
  },
  {
   "cell_type": "markdown",
   "id": "70ca33f6",
   "metadata": {},
   "source": [
    "# Data Preprocessing"
   ]
  },
  {
   "cell_type": "code",
   "execution_count": 8,
   "id": "1d12e59b",
   "metadata": {},
   "outputs": [
    {
     "data": {
      "text/html": [
       "<div>\n",
       "<style scoped>\n",
       "    .dataframe tbody tr th:only-of-type {\n",
       "        vertical-align: middle;\n",
       "    }\n",
       "\n",
       "    .dataframe tbody tr th {\n",
       "        vertical-align: top;\n",
       "    }\n",
       "\n",
       "    .dataframe thead th {\n",
       "        text-align: right;\n",
       "    }\n",
       "</style>\n",
       "<table border=\"1\" class=\"dataframe\">\n",
       "  <thead>\n",
       "    <tr style=\"text-align: right;\">\n",
       "      <th></th>\n",
       "      <th>X</th>\n",
       "      <th>Sig</th>\n",
       "      <th>Y</th>\n",
       "      <th>M</th>\n",
       "      <th>Dataset</th>\n",
       "      <th>Model</th>\n",
       "    </tr>\n",
       "  </thead>\n",
       "  <tbody>\n",
       "    <tr>\n",
       "      <th>0</th>\n",
       "      <td>2</td>\n",
       "      <td>Drift</td>\n",
       "      <td>0.443412</td>\n",
       "      <td>M1_2</td>\n",
       "      <td>Backblaze Disk Data</td>\n",
       "      <td>Random Forests Backblaze Disk Data</td>\n",
       "    </tr>\n",
       "    <tr>\n",
       "      <th>1</th>\n",
       "      <td>3</td>\n",
       "      <td>Drift</td>\n",
       "      <td>0.512604</td>\n",
       "      <td>M2_3</td>\n",
       "      <td>Backblaze Disk Data</td>\n",
       "      <td>Random Forests Backblaze Disk Data</td>\n",
       "    </tr>\n",
       "    <tr>\n",
       "      <th>2</th>\n",
       "      <td>4</td>\n",
       "      <td>Non-Drift</td>\n",
       "      <td>0.396403</td>\n",
       "      <td>M3_4</td>\n",
       "      <td>Backblaze Disk Data</td>\n",
       "      <td>Random Forests Backblaze Disk Data</td>\n",
       "    </tr>\n",
       "    <tr>\n",
       "      <th>3</th>\n",
       "      <td>5</td>\n",
       "      <td>Non-Drift</td>\n",
       "      <td>0.280091</td>\n",
       "      <td>M4_5</td>\n",
       "      <td>Backblaze Disk Data</td>\n",
       "      <td>Random Forests Backblaze Disk Data</td>\n",
       "    </tr>\n",
       "    <tr>\n",
       "      <th>4</th>\n",
       "      <td>6</td>\n",
       "      <td>Non-Drift</td>\n",
       "      <td>0.191991</td>\n",
       "      <td>M5_6</td>\n",
       "      <td>Backblaze Disk Data</td>\n",
       "      <td>Random Forests Backblaze Disk Data</td>\n",
       "    </tr>\n",
       "    <tr>\n",
       "      <th>5</th>\n",
       "      <td>7</td>\n",
       "      <td>Non-Drift</td>\n",
       "      <td>0.219476</td>\n",
       "      <td>M6_7</td>\n",
       "      <td>Backblaze Disk Data</td>\n",
       "      <td>Random Forests Backblaze Disk Data</td>\n",
       "    </tr>\n",
       "    <tr>\n",
       "      <th>6</th>\n",
       "      <td>8</td>\n",
       "      <td>Drift</td>\n",
       "      <td>0.536009</td>\n",
       "      <td>M7_8</td>\n",
       "      <td>Backblaze Disk Data</td>\n",
       "      <td>Random Forests Backblaze Disk Data</td>\n",
       "    </tr>\n",
       "    <tr>\n",
       "      <th>7</th>\n",
       "      <td>9</td>\n",
       "      <td>Drift</td>\n",
       "      <td>0.460164</td>\n",
       "      <td>M8_9</td>\n",
       "      <td>Backblaze Disk Data</td>\n",
       "      <td>Random Forests Backblaze Disk Data</td>\n",
       "    </tr>\n",
       "    <tr>\n",
       "      <th>8</th>\n",
       "      <td>10</td>\n",
       "      <td>Non-Drift</td>\n",
       "      <td>0.314639</td>\n",
       "      <td>M9_10</td>\n",
       "      <td>Backblaze Disk Data</td>\n",
       "      <td>Random Forests Backblaze Disk Data</td>\n",
       "    </tr>\n",
       "    <tr>\n",
       "      <th>9</th>\n",
       "      <td>11</td>\n",
       "      <td>Non-Drift</td>\n",
       "      <td>0.212075</td>\n",
       "      <td>M10_11</td>\n",
       "      <td>Backblaze Disk Data</td>\n",
       "      <td>Random Forests Backblaze Disk Data</td>\n",
       "    </tr>\n",
       "    <tr>\n",
       "      <th>10</th>\n",
       "      <td>12</td>\n",
       "      <td>Non-Drift</td>\n",
       "      <td>0.336761</td>\n",
       "      <td>M11_12</td>\n",
       "      <td>Backblaze Disk Data</td>\n",
       "      <td>Random Forests Backblaze Disk Data</td>\n",
       "    </tr>\n",
       "  </tbody>\n",
       "</table>\n",
       "</div>"
      ],
      "text/plain": [
       "     X        Sig         Y       M              Dataset  \\\n",
       "0    2      Drift  0.443412    M1_2  Backblaze Disk Data   \n",
       "1    3      Drift  0.512604    M2_3  Backblaze Disk Data   \n",
       "2    4  Non-Drift  0.396403    M3_4  Backblaze Disk Data   \n",
       "3    5  Non-Drift  0.280091    M4_5  Backblaze Disk Data   \n",
       "4    6  Non-Drift  0.191991    M5_6  Backblaze Disk Data   \n",
       "5    7  Non-Drift  0.219476    M6_7  Backblaze Disk Data   \n",
       "6    8      Drift  0.536009    M7_8  Backblaze Disk Data   \n",
       "7    9      Drift  0.460164    M8_9  Backblaze Disk Data   \n",
       "8   10  Non-Drift  0.314639   M9_10  Backblaze Disk Data   \n",
       "9   11  Non-Drift  0.212075  M10_11  Backblaze Disk Data   \n",
       "10  12  Non-Drift  0.336761  M11_12  Backblaze Disk Data   \n",
       "\n",
       "                                 Model  \n",
       "0   Random Forests Backblaze Disk Data  \n",
       "1   Random Forests Backblaze Disk Data  \n",
       "2   Random Forests Backblaze Disk Data  \n",
       "3   Random Forests Backblaze Disk Data  \n",
       "4   Random Forests Backblaze Disk Data  \n",
       "5   Random Forests Backblaze Disk Data  \n",
       "6   Random Forests Backblaze Disk Data  \n",
       "7   Random Forests Backblaze Disk Data  \n",
       "8   Random Forests Backblaze Disk Data  \n",
       "9   Random Forests Backblaze Disk Data  \n",
       "10  Random Forests Backblaze Disk Data  "
      ]
     },
     "execution_count": 8,
     "metadata": {},
     "output_type": "execute_result"
    }
   ],
   "source": [
    "df_concept_drift = pd.read_csv('../../../Documents/phd_related/alibaba/results/results_r/rf_concept_drift_localization_backblaze_2015_r_avg_plot.csv')\n",
    "df_concept_drift = df_concept_drift.loc[:, ~df_concept_drift.columns.str.contains('^Unnamed')]\n",
    "df_concept_drift"
   ]
  },
  {
   "cell_type": "code",
   "execution_count": 9,
   "id": "4a59bbbe",
   "metadata": {},
   "outputs": [
    {
     "data": {
      "text/plain": [
       "11"
      ]
     },
     "execution_count": 9,
     "metadata": {},
     "output_type": "execute_result"
    }
   ],
   "source": [
    "len(df_concept_drift)"
   ]
  },
  {
   "cell_type": "code",
   "execution_count": 10,
   "id": "c08c7694",
   "metadata": {},
   "outputs": [],
   "source": [
    "scaler = StandardScaler()\n",
    "stat_test = stats.kstest"
   ]
  },
  {
   "cell_type": "markdown",
   "id": "29ad33ca",
   "metadata": {},
   "source": [
    "# Monitoring the No of Features that Change in Each Period"
   ]
  },
  {
   "cell_type": "code",
   "execution_count": 11,
   "id": "74e1c622",
   "metadata": {},
   "outputs": [
    {
     "name": "stderr",
     "output_type": "stream",
     "text": [
      "100%|██████████| 11/11 [00:01<00:00,  6.91it/s]\n"
     ]
    }
   ],
   "source": [
    "perc_changed_features_per_period = []\n",
    "no_changed_features_per_period = []\n",
    "\n",
    "for period in tqdm(range(0, len(feature_list)-1)):\n",
    "\n",
    "    # extract features train and test\n",
    "    training_features = scaler.fit_transform(feature_list[period])\n",
    "    testing_features = scaler.transform(feature_list[period+1])\n",
    "    \n",
    "    # convert numpy array to Pandas Dataframe\n",
    "    df_train_features = pd.DataFrame(training_features, columns = features_disk_failure)\n",
    "    df_test_features = pd.DataFrame(testing_features, columns = features_disk_failure)\n",
    "    \n",
    "    no_changed_features = 0\n",
    "    for feature in features_disk_failure:\n",
    "        #print(feature)\n",
    "        #print(df_train_features[feature])\n",
    "        #print(df_test_features[feature])\n",
    "        v, p = stat_test(df_train_features[feature], df_test_features[feature])\n",
    "        if(p<0.05):\n",
    "            no_changed_features = no_changed_features + 1\n",
    "    \n",
    "    no_changed_features_per_period.append(no_changed_features)\n",
    "    perc_changed_features_per_period.append(no_changed_features/len(features_disk_failure))"
   ]
  },
  {
   "cell_type": "code",
   "execution_count": 12,
   "id": "d1dcb5e8",
   "metadata": {},
   "outputs": [
    {
     "data": {
      "text/plain": [
       "11"
      ]
     },
     "execution_count": 12,
     "metadata": {},
     "output_type": "execute_result"
    }
   ],
   "source": [
    "len(perc_changed_features_per_period)"
   ]
  },
  {
   "cell_type": "code",
   "execution_count": 13,
   "id": "377cad37",
   "metadata": {},
   "outputs": [],
   "source": [
    "months = ['M1_2', 'M2_3', 'M3_4', 'M4_5', 'M5_6', 'M6_7', 'M7_8', 'M8_9', 'M9_10', 'M10_11', 'M11_12']\n"
   ]
  },
  {
   "cell_type": "code",
   "execution_count": 14,
   "id": "ec8b62e3",
   "metadata": {},
   "outputs": [
    {
     "data": {
      "text/plain": [
       "11"
      ]
     },
     "execution_count": 14,
     "metadata": {},
     "output_type": "execute_result"
    }
   ],
   "source": [
    "len(months)"
   ]
  },
  {
   "cell_type": "code",
   "execution_count": 15,
   "id": "014eafe0",
   "metadata": {},
   "outputs": [],
   "source": [
    "drift_grount_truth = list(df_concept_drift.Sig)"
   ]
  },
  {
   "cell_type": "code",
   "execution_count": 16,
   "id": "37cff78b",
   "metadata": {
    "scrolled": true
   },
   "outputs": [
    {
     "data": {
      "text/html": [
       "<div>\n",
       "<style scoped>\n",
       "    .dataframe tbody tr th:only-of-type {\n",
       "        vertical-align: middle;\n",
       "    }\n",
       "\n",
       "    .dataframe tbody tr th {\n",
       "        vertical-align: top;\n",
       "    }\n",
       "\n",
       "    .dataframe thead th {\n",
       "        text-align: right;\n",
       "    }\n",
       "</style>\n",
       "<table border=\"1\" class=\"dataframe\">\n",
       "  <thead>\n",
       "    <tr style=\"text-align: right;\">\n",
       "      <th></th>\n",
       "      <th>Period</th>\n",
       "      <th>Drift Ground Truth</th>\n",
       "      <th>No Changed Features Per Period</th>\n",
       "      <th>Percentage Changed Features Per Period</th>\n",
       "    </tr>\n",
       "  </thead>\n",
       "  <tbody>\n",
       "    <tr>\n",
       "      <th>0</th>\n",
       "      <td>M1_2</td>\n",
       "      <td>Drift</td>\n",
       "      <td>2</td>\n",
       "      <td>0.105263</td>\n",
       "    </tr>\n",
       "    <tr>\n",
       "      <th>1</th>\n",
       "      <td>M2_3</td>\n",
       "      <td>Drift</td>\n",
       "      <td>1</td>\n",
       "      <td>0.052632</td>\n",
       "    </tr>\n",
       "    <tr>\n",
       "      <th>2</th>\n",
       "      <td>M3_4</td>\n",
       "      <td>Non-Drift</td>\n",
       "      <td>2</td>\n",
       "      <td>0.105263</td>\n",
       "    </tr>\n",
       "    <tr>\n",
       "      <th>3</th>\n",
       "      <td>M4_5</td>\n",
       "      <td>Non-Drift</td>\n",
       "      <td>2</td>\n",
       "      <td>0.105263</td>\n",
       "    </tr>\n",
       "    <tr>\n",
       "      <th>4</th>\n",
       "      <td>M5_6</td>\n",
       "      <td>Non-Drift</td>\n",
       "      <td>2</td>\n",
       "      <td>0.105263</td>\n",
       "    </tr>\n",
       "    <tr>\n",
       "      <th>5</th>\n",
       "      <td>M6_7</td>\n",
       "      <td>Non-Drift</td>\n",
       "      <td>2</td>\n",
       "      <td>0.105263</td>\n",
       "    </tr>\n",
       "    <tr>\n",
       "      <th>6</th>\n",
       "      <td>M7_8</td>\n",
       "      <td>Drift</td>\n",
       "      <td>2</td>\n",
       "      <td>0.105263</td>\n",
       "    </tr>\n",
       "    <tr>\n",
       "      <th>7</th>\n",
       "      <td>M8_9</td>\n",
       "      <td>Drift</td>\n",
       "      <td>2</td>\n",
       "      <td>0.105263</td>\n",
       "    </tr>\n",
       "    <tr>\n",
       "      <th>8</th>\n",
       "      <td>M9_10</td>\n",
       "      <td>Non-Drift</td>\n",
       "      <td>2</td>\n",
       "      <td>0.105263</td>\n",
       "    </tr>\n",
       "    <tr>\n",
       "      <th>9</th>\n",
       "      <td>M10_11</td>\n",
       "      <td>Non-Drift</td>\n",
       "      <td>2</td>\n",
       "      <td>0.105263</td>\n",
       "    </tr>\n",
       "    <tr>\n",
       "      <th>10</th>\n",
       "      <td>M11_12</td>\n",
       "      <td>Non-Drift</td>\n",
       "      <td>3</td>\n",
       "      <td>0.157895</td>\n",
       "    </tr>\n",
       "  </tbody>\n",
       "</table>\n",
       "</div>"
      ],
      "text/plain": [
       "    Period Drift Ground Truth  No Changed Features Per Period  \\\n",
       "0     M1_2              Drift                               2   \n",
       "1     M2_3              Drift                               1   \n",
       "2     M3_4          Non-Drift                               2   \n",
       "3     M4_5          Non-Drift                               2   \n",
       "4     M5_6          Non-Drift                               2   \n",
       "5     M6_7          Non-Drift                               2   \n",
       "6     M7_8              Drift                               2   \n",
       "7     M8_9              Drift                               2   \n",
       "8    M9_10          Non-Drift                               2   \n",
       "9   M10_11          Non-Drift                               2   \n",
       "10  M11_12          Non-Drift                               3   \n",
       "\n",
       "    Percentage Changed Features Per Period  \n",
       "0                                 0.105263  \n",
       "1                                 0.052632  \n",
       "2                                 0.105263  \n",
       "3                                 0.105263  \n",
       "4                                 0.105263  \n",
       "5                                 0.105263  \n",
       "6                                 0.105263  \n",
       "7                                 0.105263  \n",
       "8                                 0.105263  \n",
       "9                                 0.105263  \n",
       "10                                0.157895  "
      ]
     },
     "execution_count": 16,
     "metadata": {},
     "output_type": "execute_result"
    }
   ],
   "source": [
    "df_results_monitoring_all_individual_features = pd.DataFrame()\n",
    "df_results_monitoring_all_individual_features['Period'] = months\n",
    "df_results_monitoring_all_individual_features['Drift Ground Truth'] = drift_grount_truth\n",
    "df_results_monitoring_all_individual_features['No Changed Features Per Period'] = no_changed_features_per_period\n",
    "df_results_monitoring_all_individual_features['Percentage Changed Features Per Period'] = perc_changed_features_per_period\n",
    "df_results_monitoring_all_individual_features"
   ]
  },
  {
   "cell_type": "markdown",
   "id": "5629da86",
   "metadata": {},
   "source": [
    "## Determine correlation Perc Features vs Drift Ground Truth"
   ]
  },
  {
   "cell_type": "code",
   "execution_count": 23,
   "id": "720fd0f1",
   "metadata": {},
   "outputs": [],
   "source": [
    "from sklearn.preprocessing import LabelEncoder\n",
    "from scipy import stats"
   ]
  },
  {
   "cell_type": "code",
   "execution_count": 21,
   "id": "632db196",
   "metadata": {},
   "outputs": [],
   "source": [
    "le = LabelEncoder()"
   ]
  },
  {
   "cell_type": "code",
   "execution_count": 22,
   "id": "a732f8d1",
   "metadata": {},
   "outputs": [
    {
     "data": {
      "text/plain": [
       "array([0, 0, 1, 1, 1, 1, 0, 0, 1, 1, 1])"
      ]
     },
     "execution_count": 22,
     "metadata": {},
     "output_type": "execute_result"
    }
   ],
   "source": [
    "drift_ground_truth = le.fit_transform(df_results_monitoring_all_individual_features['Drift Ground Truth'])\n",
    "drift_ground_truth"
   ]
  },
  {
   "cell_type": "code",
   "execution_count": 25,
   "id": "e63592b3",
   "metadata": {},
   "outputs": [
    {
     "data": {
      "text/plain": [
       "SignificanceResult(statistic=0.4432026302139591, pvalue=0.1721607156534795)"
      ]
     },
     "execution_count": 25,
     "metadata": {},
     "output_type": "execute_result"
    }
   ],
   "source": [
    "res = stats.spearmanr(df_results_monitoring_all_individual_features['Percentage Changed Features Per Period'], drift_ground_truth)\n",
    "res"
   ]
  },
  {
   "cell_type": "code",
   "execution_count": 28,
   "id": "2e04c7c1",
   "metadata": {},
   "outputs": [],
   "source": [
    "df_results_monitoring_all_individual_features['Drift_Non_Drift_Label'] = drift_ground_truth"
   ]
  },
  {
   "cell_type": "code",
   "execution_count": 29,
   "id": "217b0915",
   "metadata": {},
   "outputs": [
    {
     "data": {
      "text/plain": [
       "0.4432026302139591"
      ]
     },
     "execution_count": 29,
     "metadata": {},
     "output_type": "execute_result"
    }
   ],
   "source": [
    "df_results_monitoring_all_individual_features['Percentage Changed Features Per Period'].corr(df_results_monitoring_all_individual_features['Drift_Non_Drift_Label'])"
   ]
  },
  {
   "cell_type": "code",
   "execution_count": null,
   "id": "4a761bc5",
   "metadata": {},
   "outputs": [],
   "source": []
  },
  {
   "cell_type": "code",
   "execution_count": null,
   "id": "923a0386",
   "metadata": {},
   "outputs": [],
   "source": []
  },
  {
   "cell_type": "code",
   "execution_count": null,
   "id": "1a506628",
   "metadata": {},
   "outputs": [],
   "source": []
  },
  {
   "cell_type": "code",
   "execution_count": null,
   "id": "aa2484d4",
   "metadata": {},
   "outputs": [],
   "source": []
  },
  {
   "cell_type": "code",
   "execution_count": null,
   "id": "e8321a0e",
   "metadata": {},
   "outputs": [],
   "source": []
  },
  {
   "cell_type": "code",
   "execution_count": null,
   "id": "c0314329",
   "metadata": {},
   "outputs": [],
   "source": []
  },
  {
   "cell_type": "code",
   "execution_count": 17,
   "id": "557f553f",
   "metadata": {},
   "outputs": [],
   "source": [
    "df_results_monitoring_all_individual_features.to_csv('df_percentage_of_changed_features_disk_backblaze.csv')"
   ]
  },
  {
   "cell_type": "code",
   "execution_count": null,
   "id": "9ce3ef2d",
   "metadata": {},
   "outputs": [],
   "source": []
  },
  {
   "cell_type": "markdown",
   "id": "0d727dd6",
   "metadata": {},
   "source": [
    "Correlation Calculation"
   ]
  },
  {
   "cell_type": "markdown",
   "id": "f9a620d9",
   "metadata": {},
   "source": [
    "TODO!!!!"
   ]
  },
  {
   "cell_type": "code",
   "execution_count": null,
   "id": "bc14450a",
   "metadata": {},
   "outputs": [],
   "source": []
  },
  {
   "cell_type": "code",
   "execution_count": null,
   "id": "9842c1c9",
   "metadata": {},
   "outputs": [],
   "source": []
  }
 ],
 "metadata": {
  "kernelspec": {
   "display_name": "Python 3 (ipykernel)",
   "language": "python",
   "name": "python3"
  },
  "language_info": {
   "codemirror_mode": {
    "name": "ipython",
    "version": 3
   },
   "file_extension": ".py",
   "mimetype": "text/x-python",
   "name": "python",
   "nbconvert_exporter": "python",
   "pygments_lexer": "ipython3",
   "version": "3.11.1"
  }
 },
 "nbformat": 4,
 "nbformat_minor": 5
}
